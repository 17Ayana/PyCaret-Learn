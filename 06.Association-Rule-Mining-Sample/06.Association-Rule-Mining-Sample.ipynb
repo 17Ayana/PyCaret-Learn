{
 "cells": [
  {
   "cell_type": "markdown",
   "metadata": {},
   "source": [
    "# データセット取得（Online Retail Dataset）\n",
    "Online Retail Dataset：英国を拠点とする登録オンライン小売業者の2010年12月1日から2011年9月12日の間に発生するレコードを含むトランザクションデータセット。\n",
    "\n",
    "以下のようなデータが含まれます。\n",
    "\n",
    "* InvoiceNo：請求書番号。各トランザクションに一意に割り当てられる6桁の整数。<br>　このコードが文字「c」で始まる場合、キャンセルを示す。\n",
    "* StockCode：製品コード。各製品に一意に割り当てられる5桁の整数。\n",
    "* Description：製品名。\n",
    "* Quantity：トランザクションごとの各製品の数量。\n",
    "* InvoiceData：請求書の日付と時刻。各トランザクションが生成された日時。\n",
    "* UnitPrice：単価。\n",
    "* CustomerID：顧客番号。各顧客に一意に割り当てられる5桁の整数。\n",
    "* Country：各顧客が居住する国の名前。"
   ]
  },
  {
   "cell_type": "code",
   "execution_count": 1,
   "metadata": {
    "scrolled": true
   },
   "outputs": [
    {
     "data": {
      "text/html": [
       "<div>\n",
       "<style scoped>\n",
       "    .dataframe tbody tr th:only-of-type {\n",
       "        vertical-align: middle;\n",
       "    }\n",
       "\n",
       "    .dataframe tbody tr th {\n",
       "        vertical-align: top;\n",
       "    }\n",
       "\n",
       "    .dataframe thead th {\n",
       "        text-align: right;\n",
       "    }\n",
       "</style>\n",
       "<table border=\"1\" class=\"dataframe\">\n",
       "  <thead>\n",
       "    <tr style=\"text-align: right;\">\n",
       "      <th></th>\n",
       "      <th>InvoiceNo</th>\n",
       "      <th>StockCode</th>\n",
       "      <th>Description</th>\n",
       "      <th>Quantity</th>\n",
       "      <th>InvoiceDate</th>\n",
       "      <th>UnitPrice</th>\n",
       "      <th>CustomerID</th>\n",
       "      <th>Country</th>\n",
       "    </tr>\n",
       "  </thead>\n",
       "  <tbody>\n",
       "    <tr>\n",
       "      <th>0</th>\n",
       "      <td>536370</td>\n",
       "      <td>22728</td>\n",
       "      <td>ALARM CLOCK BAKELIKE PINK</td>\n",
       "      <td>24</td>\n",
       "      <td>12/1/2010 8:45</td>\n",
       "      <td>3.75</td>\n",
       "      <td>12583.0</td>\n",
       "      <td>France</td>\n",
       "    </tr>\n",
       "    <tr>\n",
       "      <th>1</th>\n",
       "      <td>536370</td>\n",
       "      <td>22727</td>\n",
       "      <td>ALARM CLOCK BAKELIKE RED</td>\n",
       "      <td>24</td>\n",
       "      <td>12/1/2010 8:45</td>\n",
       "      <td>3.75</td>\n",
       "      <td>12583.0</td>\n",
       "      <td>France</td>\n",
       "    </tr>\n",
       "    <tr>\n",
       "      <th>2</th>\n",
       "      <td>536370</td>\n",
       "      <td>22726</td>\n",
       "      <td>ALARM CLOCK BAKELIKE GREEN</td>\n",
       "      <td>12</td>\n",
       "      <td>12/1/2010 8:45</td>\n",
       "      <td>3.75</td>\n",
       "      <td>12583.0</td>\n",
       "      <td>France</td>\n",
       "    </tr>\n",
       "    <tr>\n",
       "      <th>3</th>\n",
       "      <td>536370</td>\n",
       "      <td>21724</td>\n",
       "      <td>PANDA AND BUNNIES STICKER SHEET</td>\n",
       "      <td>12</td>\n",
       "      <td>12/1/2010 8:45</td>\n",
       "      <td>0.85</td>\n",
       "      <td>12583.0</td>\n",
       "      <td>France</td>\n",
       "    </tr>\n",
       "    <tr>\n",
       "      <th>4</th>\n",
       "      <td>536370</td>\n",
       "      <td>21883</td>\n",
       "      <td>STARS GIFT TAPE</td>\n",
       "      <td>24</td>\n",
       "      <td>12/1/2010 8:45</td>\n",
       "      <td>0.65</td>\n",
       "      <td>12583.0</td>\n",
       "      <td>France</td>\n",
       "    </tr>\n",
       "  </tbody>\n",
       "</table>\n",
       "</div>"
      ],
      "text/plain": [
       "  InvoiceNo StockCode                      Description  Quantity  \\\n",
       "0    536370     22728        ALARM CLOCK BAKELIKE PINK        24   \n",
       "1    536370     22727        ALARM CLOCK BAKELIKE RED         24   \n",
       "2    536370     22726       ALARM CLOCK BAKELIKE GREEN        12   \n",
       "3    536370     21724  PANDA AND BUNNIES STICKER SHEET        12   \n",
       "4    536370     21883                 STARS GIFT TAPE         24   \n",
       "\n",
       "      InvoiceDate  UnitPrice  CustomerID Country  \n",
       "0  12/1/2010 8:45       3.75     12583.0  France  \n",
       "1  12/1/2010 8:45       3.75     12583.0  France  \n",
       "2  12/1/2010 8:45       3.75     12583.0  France  \n",
       "3  12/1/2010 8:45       0.85     12583.0  France  \n",
       "4  12/1/2010 8:45       0.65     12583.0  France  "
      ]
     },
     "metadata": {},
     "output_type": "display_data"
    }
   ],
   "source": [
    "# PyCaretチュートリアル用データセット取得\n",
    "# 詳細は<https://pycaret.org/get-data/>を参照\n",
    "from pycaret.datasets import get_data\n",
    "\n",
    "dataset = get_data('france')\n",
    "dataset.to_csv('./dataset.csv')"
   ]
  },
  {
   "cell_type": "code",
   "execution_count": 2,
   "metadata": {},
   "outputs": [
    {
     "name": "stdout",
     "output_type": "stream",
     "text": [
      "<class 'pandas.core.frame.DataFrame'>\n",
      "RangeIndex: 8557 entries, 0 to 8556\n",
      "Data columns (total 8 columns):\n",
      " #   Column       Non-Null Count  Dtype  \n",
      "---  ------       --------------  -----  \n",
      " 0   InvoiceNo    8557 non-null   object \n",
      " 1   StockCode    8557 non-null   object \n",
      " 2   Description  8557 non-null   object \n",
      " 3   Quantity     8557 non-null   int64  \n",
      " 4   InvoiceDate  8557 non-null   object \n",
      " 5   UnitPrice    8557 non-null   float64\n",
      " 6   CustomerID   8491 non-null   float64\n",
      " 7   Country      8557 non-null   object \n",
      "dtypes: float64(2), int64(1), object(5)\n",
      "memory usage: 534.9+ KB\n"
     ]
    }
   ],
   "source": [
    "dataset.info()"
   ]
  },
  {
   "cell_type": "code",
   "execution_count": 3,
   "metadata": {},
   "outputs": [
    {
     "name": "stdout",
     "output_type": "stream",
     "text": [
      "データ      ：(8557, 8) RangeIndex(start=0, stop=8557, step=1)\n"
     ]
    }
   ],
   "source": [
    "print('データ      ：' + str(dataset.shape) + ' ' + str(dataset.index))"
   ]
  },
  {
   "cell_type": "markdown",
   "metadata": {},
   "source": [
    "# PyCaretでのデータセットアップ"
   ]
  },
  {
   "cell_type": "code",
   "execution_count": 4,
   "metadata": {},
   "outputs": [],
   "source": [
    "# 相関ルールマイニング用インポート\n",
    "from pycaret.arules import *"
   ]
  },
  {
   "cell_type": "code",
   "execution_count": 5,
   "metadata": {},
   "outputs": [
    {
     "data": {
      "text/html": [
       "<style  type=\"text/css\" >\n",
       "</style><table id=\"T_349b0086_864b_11ea_ab70_207918276112\" ><thead>    <tr>        <th class=\"col_heading level0 col0\" >Description</th>        <th class=\"col_heading level0 col1\" >Value</th>    </tr></thead><tbody>\n",
       "                <tr>\n",
       "                                <td id=\"T_349b0086_864b_11ea_ab70_207918276112row0_col0\" class=\"data row0 col0\" >session_id</td>\n",
       "                        <td id=\"T_349b0086_864b_11ea_ab70_207918276112row0_col1\" class=\"data row0 col1\" >42</td>\n",
       "            </tr>\n",
       "            <tr>\n",
       "                                <td id=\"T_349b0086_864b_11ea_ab70_207918276112row1_col0\" class=\"data row1 col0\" ># Transactions</td>\n",
       "                        <td id=\"T_349b0086_864b_11ea_ab70_207918276112row1_col1\" class=\"data row1 col1\" >461</td>\n",
       "            </tr>\n",
       "            <tr>\n",
       "                                <td id=\"T_349b0086_864b_11ea_ab70_207918276112row2_col0\" class=\"data row2 col0\" ># Items</td>\n",
       "                        <td id=\"T_349b0086_864b_11ea_ab70_207918276112row2_col1\" class=\"data row2 col1\" >1565</td>\n",
       "            </tr>\n",
       "            <tr>\n",
       "                                <td id=\"T_349b0086_864b_11ea_ab70_207918276112row3_col0\" class=\"data row3 col0\" >Ignore Items</td>\n",
       "                        <td id=\"T_349b0086_864b_11ea_ab70_207918276112row3_col1\" class=\"data row3 col1\" >None</td>\n",
       "            </tr>\n",
       "    </tbody></table>"
      ],
      "text/plain": [
       "<pandas.io.formats.style.Styler at 0x1c9d7f5a988>"
      ]
     },
     "metadata": {},
     "output_type": "display_data"
    }
   ],
   "source": [
    "# session_idを指定することで欄数シードを固定\n",
    "# セットアップが完了するとデータの情報や前処理のパイプラインの情報が表示される\n",
    "# 詳細は<https://pycaret.org/setup/>を参照\n",
    "exp = setup(data=dataset, transaction_id='InvoiceNo', item_id='Description', session_id=42)"
   ]
  },
  {
   "cell_type": "code",
   "execution_count": 6,
   "metadata": {},
   "outputs": [
    {
     "name": "stdout",
     "output_type": "stream",
     "text": [
      "(     InvoiceNo StockCode                      Description  Quantity  \\\n",
      "0       536370     22728        ALARM CLOCK BAKELIKE PINK        24   \n",
      "1       536370     22727        ALARM CLOCK BAKELIKE RED         24   \n",
      "2       536370     22726       ALARM CLOCK BAKELIKE GREEN        12   \n",
      "3       536370     21724  PANDA AND BUNNIES STICKER SHEET        12   \n",
      "4       536370     21883                 STARS GIFT TAPE         24   \n",
      "...        ...       ...                              ...       ...   \n",
      "8552    581587     22613      PACK OF 20 SPACEBOY NAPKINS        12   \n",
      "8553    581587     22899     CHILDREN'S APRON DOLLY GIRL          6   \n",
      "8554    581587     23254    CHILDRENS CUTLERY DOLLY GIRL          4   \n",
      "8555    581587     23255  CHILDRENS CUTLERY CIRCUS PARADE         4   \n",
      "8556    581587     22138    BAKING SET 9 PIECE RETROSPOT          3   \n",
      "\n",
      "          InvoiceDate  UnitPrice  CustomerID Country  \n",
      "0      12/1/2010 8:45       3.75     12583.0  France  \n",
      "1      12/1/2010 8:45       3.75     12583.0  France  \n",
      "2      12/1/2010 8:45       3.75     12583.0  France  \n",
      "3      12/1/2010 8:45       0.85     12583.0  France  \n",
      "4      12/1/2010 8:45       0.65     12583.0  France  \n",
      "...               ...        ...         ...     ...  \n",
      "8552  12/9/2011 12:50       0.85     12680.0  France  \n",
      "8553  12/9/2011 12:50       2.10     12680.0  France  \n",
      "8554  12/9/2011 12:50       4.15     12680.0  France  \n",
      "8555  12/9/2011 12:50       4.15     12680.0  France  \n",
      "8556  12/9/2011 12:50       4.95     12680.0  France  \n",
      "\n",
      "[8557 rows x 8 columns], 'InvoiceNo', 'Description', None, 42, [])\n"
     ]
    }
   ],
   "source": [
    "print(exp)"
   ]
  },
  {
   "cell_type": "markdown",
   "metadata": {},
   "source": [
    "# モデル生成\n",
    "相関ルールマイニングのcreate_model()では必須パラメーターは無く、以下の4つのオプションある。\n",
    "\n",
    "<b>metric</b>：ルールが重要かどうかを評価するためのメトリック。<br>　デフォルト設定は'confidence'<br>　その他の指定可能なオプションは、'support', 'lift', 'leverage', 'conviction'があります。\n",
    "\n",
    "<b>threshold</b>：metric候補ルールが対象かどうかを決定するための最小しきい値。デフォルトは0.5\n",
    "\n",
    "<b>min_support</b>：返されるアイテムセットの最小サポートの値(0.0 ～ 0.1)<br>　transactions_where_item(s)_occur / total_transactionsで計算されデフォルト設定は0.05\n",
    "\n",
    "<b>round</b>：スコアグリッドの小数点以下の指定桁数を四捨五入"
   ]
  },
  {
   "cell_type": "code",
   "execution_count": 7,
   "metadata": {},
   "outputs": [],
   "source": [
    "# 引数で作成するモデルを指定\n",
    "arule_model = create_model()"
   ]
  },
  {
   "cell_type": "code",
   "execution_count": 8,
   "metadata": {},
   "outputs": [
    {
     "name": "stdout",
     "output_type": "stream",
     "text": [
      "                                           antecedents  \\\n",
      "0                         (JUMBO BAG WOODLAND ANIMALS)   \n",
      "1    (SET/6 RED SPOTTY PAPER PLATES, SET/20 RED RET...   \n",
      "2    (SET/6 RED SPOTTY PAPER CUPS, SET/20 RED RETRO...   \n",
      "3    (SET/6 RED SPOTTY PAPER PLATES, SET/20 RED RET...   \n",
      "4    (SET/6 RED SPOTTY PAPER CUPS, SET/20 RED RETRO...   \n",
      "..                                                 ...   \n",
      "136                (STRAWBERRY LUNCH BOX WITH CUTLERY)   \n",
      "137                           (LUNCH BAG APPLE DESIGN)   \n",
      "138                           (LUNCH BAG APPLE DESIGN)   \n",
      "139          (PLASTERS IN TIN CIRCUS PARADE , POSTAGE)   \n",
      "140                 (LUNCH BAG RED RETROSPOT, POSTAGE)   \n",
      "\n",
      "                             consequents  antecedent support  \\\n",
      "0                              (POSTAGE)              0.0651   \n",
      "1          (SET/6 RED SPOTTY PAPER CUPS)              0.0868   \n",
      "2        (SET/6 RED SPOTTY PAPER PLATES)              0.0868   \n",
      "3          (SET/6 RED SPOTTY PAPER CUPS)              0.0716   \n",
      "4        (SET/6 RED SPOTTY PAPER PLATES)              0.0716   \n",
      "..                                   ...                 ...   \n",
      "136  (LUNCH BOX WITH CUTLERY RETROSPOT )              0.1041   \n",
      "137         (LUNCH BAG SPACEBOY DESIGN )              0.1085   \n",
      "138            (LUNCH BAG RED RETROSPOT)              0.1085   \n",
      "139           (PLASTERS IN TIN SPACEBOY)              0.1258   \n",
      "140             (LUNCH BAG APPLE DESIGN)              0.1041   \n",
      "\n",
      "     consequent support  support  confidence    lift  leverage  conviction  \n",
      "0                0.6746   0.0651      1.0000  1.4823    0.0212         inf  \n",
      "1                0.1171   0.0846      0.9750  8.3236    0.0744     35.3145  \n",
      "2                0.1085   0.0846      0.9750  8.9895    0.0752     35.6616  \n",
      "3                0.1171   0.0694      0.9697  8.2783    0.0610     29.1345  \n",
      "4                0.1085   0.0694      0.9697  8.9406    0.0617     29.4208  \n",
      "..                  ...      ...         ...     ...       ...         ...  \n",
      "136              0.1236   0.0542      0.5208  4.2124    0.0414      1.8289  \n",
      "137              0.1041   0.0564      0.5200  4.9942    0.0451      1.8664  \n",
      "138              0.1323   0.0564      0.5200  3.9298    0.0420      1.8077  \n",
      "139              0.1193   0.0629      0.5000  4.1909    0.0479      1.7614  \n",
      "140              0.1085   0.0521      0.5000  4.6100    0.0408      1.7831  \n",
      "\n",
      "[141 rows x 9 columns]\n"
     ]
    }
   ],
   "source": [
    "print(arule_model)"
   ]
  },
  {
   "cell_type": "code",
   "execution_count": 9,
   "metadata": {},
   "outputs": [
    {
     "data": {
      "text/html": [
       "<div>\n",
       "<style scoped>\n",
       "    .dataframe tbody tr th:only-of-type {\n",
       "        vertical-align: middle;\n",
       "    }\n",
       "\n",
       "    .dataframe tbody tr th {\n",
       "        vertical-align: top;\n",
       "    }\n",
       "\n",
       "    .dataframe thead th {\n",
       "        text-align: right;\n",
       "    }\n",
       "</style>\n",
       "<table border=\"1\" class=\"dataframe\">\n",
       "  <thead>\n",
       "    <tr style=\"text-align: right;\">\n",
       "      <th></th>\n",
       "      <th>antecedents</th>\n",
       "      <th>consequents</th>\n",
       "      <th>antecedent support</th>\n",
       "      <th>consequent support</th>\n",
       "      <th>support</th>\n",
       "      <th>confidence</th>\n",
       "      <th>lift</th>\n",
       "      <th>leverage</th>\n",
       "      <th>conviction</th>\n",
       "    </tr>\n",
       "  </thead>\n",
       "  <tbody>\n",
       "    <tr>\n",
       "      <th>0</th>\n",
       "      <td>(JUMBO BAG WOODLAND ANIMALS)</td>\n",
       "      <td>(POSTAGE)</td>\n",
       "      <td>0.0651</td>\n",
       "      <td>0.6746</td>\n",
       "      <td>0.0651</td>\n",
       "      <td>1.0000</td>\n",
       "      <td>1.4823</td>\n",
       "      <td>0.0212</td>\n",
       "      <td>inf</td>\n",
       "    </tr>\n",
       "    <tr>\n",
       "      <th>1</th>\n",
       "      <td>(SET/6 RED SPOTTY PAPER PLATES, SET/20 RED RET...</td>\n",
       "      <td>(SET/6 RED SPOTTY PAPER CUPS)</td>\n",
       "      <td>0.0868</td>\n",
       "      <td>0.1171</td>\n",
       "      <td>0.0846</td>\n",
       "      <td>0.9750</td>\n",
       "      <td>8.3236</td>\n",
       "      <td>0.0744</td>\n",
       "      <td>35.3145</td>\n",
       "    </tr>\n",
       "    <tr>\n",
       "      <th>2</th>\n",
       "      <td>(SET/6 RED SPOTTY PAPER CUPS, SET/20 RED RETRO...</td>\n",
       "      <td>(SET/6 RED SPOTTY PAPER PLATES)</td>\n",
       "      <td>0.0868</td>\n",
       "      <td>0.1085</td>\n",
       "      <td>0.0846</td>\n",
       "      <td>0.9750</td>\n",
       "      <td>8.9895</td>\n",
       "      <td>0.0752</td>\n",
       "      <td>35.6616</td>\n",
       "    </tr>\n",
       "    <tr>\n",
       "      <th>3</th>\n",
       "      <td>(SET/6 RED SPOTTY PAPER PLATES, SET/20 RED RET...</td>\n",
       "      <td>(SET/6 RED SPOTTY PAPER CUPS)</td>\n",
       "      <td>0.0716</td>\n",
       "      <td>0.1171</td>\n",
       "      <td>0.0694</td>\n",
       "      <td>0.9697</td>\n",
       "      <td>8.2783</td>\n",
       "      <td>0.0610</td>\n",
       "      <td>29.1345</td>\n",
       "    </tr>\n",
       "    <tr>\n",
       "      <th>4</th>\n",
       "      <td>(SET/6 RED SPOTTY PAPER CUPS, SET/20 RED RETRO...</td>\n",
       "      <td>(SET/6 RED SPOTTY PAPER PLATES)</td>\n",
       "      <td>0.0716</td>\n",
       "      <td>0.1085</td>\n",
       "      <td>0.0694</td>\n",
       "      <td>0.9697</td>\n",
       "      <td>8.9406</td>\n",
       "      <td>0.0617</td>\n",
       "      <td>29.4208</td>\n",
       "    </tr>\n",
       "  </tbody>\n",
       "</table>\n",
       "</div>"
      ],
      "text/plain": [
       "                                         antecedents  \\\n",
       "0                       (JUMBO BAG WOODLAND ANIMALS)   \n",
       "1  (SET/6 RED SPOTTY PAPER PLATES, SET/20 RED RET...   \n",
       "2  (SET/6 RED SPOTTY PAPER CUPS, SET/20 RED RETRO...   \n",
       "3  (SET/6 RED SPOTTY PAPER PLATES, SET/20 RED RET...   \n",
       "4  (SET/6 RED SPOTTY PAPER CUPS, SET/20 RED RETRO...   \n",
       "\n",
       "                       consequents  antecedent support  consequent support  \\\n",
       "0                        (POSTAGE)              0.0651              0.6746   \n",
       "1    (SET/6 RED SPOTTY PAPER CUPS)              0.0868              0.1171   \n",
       "2  (SET/6 RED SPOTTY PAPER PLATES)              0.0868              0.1085   \n",
       "3    (SET/6 RED SPOTTY PAPER CUPS)              0.0716              0.1171   \n",
       "4  (SET/6 RED SPOTTY PAPER PLATES)              0.0716              0.1085   \n",
       "\n",
       "   support  confidence    lift  leverage  conviction  \n",
       "0   0.0651      1.0000  1.4823    0.0212         inf  \n",
       "1   0.0846      0.9750  8.3236    0.0744     35.3145  \n",
       "2   0.0846      0.9750  8.9895    0.0752     35.6616  \n",
       "3   0.0694      0.9697  8.2783    0.0610     29.1345  \n",
       "4   0.0694      0.9697  8.9406    0.0617     29.4208  "
      ]
     },
     "execution_count": 9,
     "metadata": {},
     "output_type": "execute_result"
    }
   ],
   "source": [
    "arule_model.head()"
   ]
  },
  {
   "cell_type": "markdown",
   "metadata": {},
   "source": [
    "# セットアップ(ignore_items指定)\n",
    "先の実施例のPOSTAGE(送料)が第1位の相関であることは明白なため、以下の例ではPOSTAGEを無視してセットアップを行う。"
   ]
  },
  {
   "cell_type": "code",
   "execution_count": 10,
   "metadata": {},
   "outputs": [
    {
     "data": {
      "text/html": [
       "<style  type=\"text/css\" >\n",
       "</style><table id=\"T_34f800ec_864b_11ea_8f58_207918276112\" ><thead>    <tr>        <th class=\"col_heading level0 col0\" >Description</th>        <th class=\"col_heading level0 col1\" >Value</th>    </tr></thead><tbody>\n",
       "                <tr>\n",
       "                                <td id=\"T_34f800ec_864b_11ea_8f58_207918276112row0_col0\" class=\"data row0 col0\" >session_id</td>\n",
       "                        <td id=\"T_34f800ec_864b_11ea_8f58_207918276112row0_col1\" class=\"data row0 col1\" >42</td>\n",
       "            </tr>\n",
       "            <tr>\n",
       "                                <td id=\"T_34f800ec_864b_11ea_8f58_207918276112row1_col0\" class=\"data row1 col0\" ># Transactions</td>\n",
       "                        <td id=\"T_34f800ec_864b_11ea_8f58_207918276112row1_col1\" class=\"data row1 col1\" >461</td>\n",
       "            </tr>\n",
       "            <tr>\n",
       "                                <td id=\"T_34f800ec_864b_11ea_8f58_207918276112row2_col0\" class=\"data row2 col0\" ># Items</td>\n",
       "                        <td id=\"T_34f800ec_864b_11ea_8f58_207918276112row2_col1\" class=\"data row2 col1\" >1565</td>\n",
       "            </tr>\n",
       "            <tr>\n",
       "                                <td id=\"T_34f800ec_864b_11ea_8f58_207918276112row3_col0\" class=\"data row3 col0\" >Ignore Items</td>\n",
       "                        <td id=\"T_34f800ec_864b_11ea_8f58_207918276112row3_col1\" class=\"data row3 col1\" >['POSTAGE']</td>\n",
       "            </tr>\n",
       "    </tbody></table>"
      ],
      "text/plain": [
       "<pandas.io.formats.style.Styler at 0x1c9d999bb08>"
      ]
     },
     "metadata": {},
     "output_type": "display_data"
    }
   ],
   "source": [
    "exp_arul101 = setup(data=dataset, transaction_id='InvoiceNo', item_id='Description', ignore_items=['POSTAGE'],session_id=42) "
   ]
  },
  {
   "cell_type": "code",
   "execution_count": 11,
   "metadata": {},
   "outputs": [],
   "source": [
    "arule_model2 = create_model()"
   ]
  },
  {
   "cell_type": "code",
   "execution_count": 12,
   "metadata": {},
   "outputs": [
    {
     "name": "stdout",
     "output_type": "stream",
     "text": [
      "                                          antecedents  \\\n",
      "0   (SET/6 RED SPOTTY PAPER CUPS, SET/20 RED RETRO...   \n",
      "1   (SET/6 RED SPOTTY PAPER PLATES, SET/20 RED RET...   \n",
      "2                     (SET/6 RED SPOTTY PAPER PLATES)   \n",
      "3                       (CHILDRENS CUTLERY SPACEBOY )   \n",
      "4                       (SET/6 RED SPOTTY PAPER CUPS)   \n",
      "5                     (CHILDRENS CUTLERY DOLLY GIRL )   \n",
      "6   (ALARM CLOCK BAKELIKE PINK, ALARM CLOCK BAKELI...   \n",
      "7   (ALARM CLOCK BAKELIKE GREEN, ALARM CLOCK BAKEL...   \n",
      "8                         (ALARM CLOCK BAKELIKE RED )   \n",
      "9   (SET/6 RED SPOTTY PAPER PLATES, SET/6 RED SPOT...   \n",
      "10  (ALARM CLOCK BAKELIKE GREEN, ALARM CLOCK BAKEL...   \n",
      "11                    (SET/6 RED SPOTTY PAPER PLATES)   \n",
      "12                       (ALARM CLOCK BAKELIKE GREEN)   \n",
      "13                        (ALARM CLOCK BAKELIKE RED )   \n",
      "14                    (SET/6 RED SPOTTY PAPER PLATES)   \n",
      "15              (SET/20 RED RETROSPOT PAPER NAPKINS )   \n",
      "16              (SET/20 RED RETROSPOT PAPER NAPKINS )   \n",
      "17  (PLASTERS IN TIN SPACEBOY, PLASTERS IN TIN CIR...   \n",
      "18              (SET/20 RED RETROSPOT PAPER NAPKINS )   \n",
      "19                         (PLASTERS IN TIN SPACEBOY)   \n",
      "20                       (ALARM CLOCK BAKELIKE GREEN)   \n",
      "21                      (SET/6 RED SPOTTY PAPER CUPS)   \n",
      "22                        (ALARM CLOCK BAKELIKE PINK)   \n",
      "23                        (ALARM CLOCK BAKELIKE PINK)   \n",
      "24                      (SET/6 RED SPOTTY PAPER CUPS)   \n",
      "25                             (DOLLY GIRL LUNCH BOX)   \n",
      "26                        (ALARM CLOCK BAKELIKE RED )   \n",
      "27  (PLASTERS IN TIN WOODLAND ANIMALS, PLASTERS IN...   \n",
      "28  (PLASTERS IN TIN SPACEBOY, PLASTERS IN TIN WOO...   \n",
      "29                         (PLASTERS IN TIN SPACEBOY)   \n",
      "30                       (ALARM CLOCK BAKELIKE GREEN)   \n",
      "31                        (ALARM CLOCK BAKELIKE PINK)   \n",
      "32                 (PLASTERS IN TIN WOODLAND ANIMALS)   \n",
      "33                 (PLASTERS IN TIN WOODLAND ANIMALS)   \n",
      "34                   (PLASTERS IN TIN CIRCUS PARADE )   \n",
      "35               (ROUND SNACK BOXES SET OF 4 FRUITS )   \n",
      "36                              (SPACEBOY LUNCH BOX )   \n",
      "37                               (LUNCH BAG WOODLAND)   \n",
      "38                       (LUNCH BAG SPACEBOY DESIGN )   \n",
      "39                       (LUNCH BAG SPACEBOY DESIGN )   \n",
      "40                       (LUNCH BAG SPACEBOY DESIGN )   \n",
      "41                   (PLASTERS IN TIN CIRCUS PARADE )   \n",
      "42                (STRAWBERRY LUNCH BOX WITH CUTLERY)   \n",
      "43                           (LUNCH BAG APPLE DESIGN)   \n",
      "44                           (LUNCH BAG APPLE DESIGN)   \n",
      "\n",
      "                                          consequents  antecedent support  \\\n",
      "0                     (SET/6 RED SPOTTY PAPER PLATES)              0.0868   \n",
      "1                       (SET/6 RED SPOTTY PAPER CUPS)              0.0868   \n",
      "2                       (SET/6 RED SPOTTY PAPER CUPS)              0.1085   \n",
      "3                     (CHILDRENS CUTLERY DOLLY GIRL )              0.0586   \n",
      "4                     (SET/6 RED SPOTTY PAPER PLATES)              0.1171   \n",
      "5                       (CHILDRENS CUTLERY SPACEBOY )              0.0629   \n",
      "6                        (ALARM CLOCK BAKELIKE GREEN)              0.0629   \n",
      "7                         (ALARM CLOCK BAKELIKE RED )              0.0629   \n",
      "8                        (ALARM CLOCK BAKELIKE GREEN)              0.0803   \n",
      "9               (SET/20 RED RETROSPOT PAPER NAPKINS )              0.1041   \n",
      "10                        (ALARM CLOCK BAKELIKE PINK)              0.0672   \n",
      "11              (SET/20 RED RETROSPOT PAPER NAPKINS )              0.1085   \n",
      "12                        (ALARM CLOCK BAKELIKE RED )              0.0846   \n",
      "13                        (ALARM CLOCK BAKELIKE PINK)              0.0803   \n",
      "14  (SET/6 RED SPOTTY PAPER CUPS, SET/20 RED RETRO...              0.1085   \n",
      "15                    (SET/6 RED SPOTTY PAPER PLATES)              0.1128   \n",
      "16                      (SET/6 RED SPOTTY PAPER CUPS)              0.1128   \n",
      "17                 (PLASTERS IN TIN WOODLAND ANIMALS)              0.0781   \n",
      "18  (SET/6 RED SPOTTY PAPER PLATES, SET/6 RED SPOT...              0.1128   \n",
      "19                 (PLASTERS IN TIN WOODLAND ANIMALS)              0.1193   \n",
      "20                        (ALARM CLOCK BAKELIKE PINK)              0.0846   \n",
      "21              (SET/20 RED RETROSPOT PAPER NAPKINS )              0.1171   \n",
      "22                       (ALARM CLOCK BAKELIKE GREEN)              0.0868   \n",
      "23                        (ALARM CLOCK BAKELIKE RED )              0.0868   \n",
      "24  (SET/6 RED SPOTTY PAPER PLATES, SET/20 RED RET...              0.1171   \n",
      "25                              (SPACEBOY LUNCH BOX )              0.0868   \n",
      "26  (ALARM CLOCK BAKELIKE GREEN, ALARM CLOCK BAKEL...              0.0803   \n",
      "27                         (PLASTERS IN TIN SPACEBOY)              0.0868   \n",
      "28                   (PLASTERS IN TIN CIRCUS PARADE )              0.0889   \n",
      "29                   (PLASTERS IN TIN CIRCUS PARADE )              0.1193   \n",
      "30  (ALARM CLOCK BAKELIKE PINK, ALARM CLOCK BAKELI...              0.0846   \n",
      "31  (ALARM CLOCK BAKELIKE GREEN, ALARM CLOCK BAKEL...              0.0868   \n",
      "32                         (PLASTERS IN TIN SPACEBOY)              0.1453   \n",
      "33                   (PLASTERS IN TIN CIRCUS PARADE )              0.1453   \n",
      "34                 (PLASTERS IN TIN WOODLAND ANIMALS)              0.1475   \n",
      "35              (ROUND SNACK BOXES SET OF4 WOODLAND )              0.0933   \n",
      "36                             (DOLLY GIRL LUNCH BOX)              0.1063   \n",
      "37                       (LUNCH BAG SPACEBOY DESIGN )              0.1020   \n",
      "38                          (LUNCH BAG RED RETROSPOT)              0.1041   \n",
      "39                               (LUNCH BAG WOODLAND)              0.1041   \n",
      "40                           (LUNCH BAG APPLE DESIGN)              0.1041   \n",
      "41                         (PLASTERS IN TIN SPACEBOY)              0.1475   \n",
      "42                (LUNCH BOX WITH CUTLERY RETROSPOT )              0.1041   \n",
      "43                       (LUNCH BAG SPACEBOY DESIGN )              0.1085   \n",
      "44                          (LUNCH BAG RED RETROSPOT)              0.1085   \n",
      "\n",
      "    consequent support  support  confidence     lift  leverage  conviction  \n",
      "0               0.1085   0.0846      0.9750   8.9895    0.0752     35.6616  \n",
      "1               0.1171   0.0846      0.9750   8.3236    0.0744     35.3145  \n",
      "2               0.1171   0.1041      0.9600   8.1956    0.0914     22.0716  \n",
      "3               0.0629   0.0542      0.9259  14.7190    0.0505     12.6508  \n",
      "4               0.1085   0.1041      0.8889   8.1956    0.0914      8.0239  \n",
      "5               0.0586   0.0542      0.8621  14.7190    0.0505      6.8254  \n",
      "6               0.0846   0.0542      0.8621  10.1901    0.0489      6.6367  \n",
      "7               0.0803   0.0542      0.8621  10.7409    0.0492      6.6681  \n",
      "8               0.0846   0.0672      0.8378   9.9037    0.0605      5.6450  \n",
      "9               0.1128   0.0846      0.8125   7.2031    0.0729      4.7317  \n",
      "10              0.0868   0.0542      0.8065   9.2944    0.0484      4.7184  \n",
      "11              0.1128   0.0868      0.8000   7.0923    0.0745      4.4360  \n",
      "12              0.0803   0.0672      0.7949   9.9037    0.0605      4.4837  \n",
      "13              0.0868   0.0629      0.7838   9.0331    0.0559      4.2237  \n",
      "14              0.0868   0.0846      0.7800   8.9895    0.0752      4.1511  \n",
      "15              0.1085   0.0868      0.7692   7.0923    0.0745      3.8633  \n",
      "16              0.1171   0.0868      0.7692   6.5670    0.0736      3.8257  \n",
      "17              0.1453   0.0586      0.7500   5.1604    0.0472      3.4187  \n",
      "18              0.1041   0.0846      0.7500   7.2031    0.0729      3.5835  \n",
      "19              0.1453   0.0889      0.7455   5.1292    0.0716      3.3576  \n",
      "20              0.0868   0.0629      0.7436   8.5699    0.0556      3.5616  \n",
      "21              0.1128   0.0868      0.7407   6.5670    0.0736      3.4221  \n",
      "22              0.0846   0.0629      0.7250   8.5699    0.0556      3.3287  \n",
      "23              0.0803   0.0629      0.7250   9.0331    0.0559      3.3445  \n",
      "24              0.0868   0.0846      0.7222   8.3236    0.0744      3.2876  \n",
      "25              0.1063   0.0607      0.7000   6.5857    0.0515      2.9790  \n",
      "26              0.0629   0.0542      0.6757  10.7409    0.0492      2.8894  \n",
      "27              0.1193   0.0586      0.6750   5.6577    0.0482      2.7098  \n",
      "28              0.1475   0.0586      0.6585   4.4645    0.0454      2.4966  \n",
      "29              0.1475   0.0781      0.6545   4.4374    0.0605      2.4677  \n",
      "30              0.0629   0.0542      0.6410  10.1901    0.0489      2.6105  \n",
      "31              0.0672   0.0542      0.6250   9.2944    0.0484      2.4873  \n",
      "32              0.1193   0.0889      0.6119   5.1292    0.0716      2.2695  \n",
      "33              0.1475   0.0868      0.5970   4.0474    0.0653      2.1154  \n",
      "34              0.1453   0.0868      0.5882   4.0474    0.0653      2.0756  \n",
      "35              0.1388   0.0542      0.5814   4.1879    0.0413      2.0572  \n",
      "36              0.0868   0.0607      0.5714   6.5857    0.0515      2.1309  \n",
      "37              0.1041   0.0564      0.5532   5.3129    0.0458      2.0051  \n",
      "38              0.1323   0.0564      0.5417   4.0936    0.0426      1.8931  \n",
      "39              0.1020   0.0564      0.5417   5.3129    0.0458      1.9594  \n",
      "40              0.1085   0.0564      0.5417   4.9942    0.0451      1.9452  \n",
      "41              0.1193   0.0781      0.5294   4.4374    0.0605      1.8715  \n",
      "42              0.1236   0.0542      0.5208   4.2124    0.0414      1.8289  \n",
      "43              0.1041   0.0564      0.5200   4.9942    0.0451      1.8664  \n",
      "44              0.1323   0.0564      0.5200   3.9298    0.0420      1.8077  \n"
     ]
    }
   ],
   "source": [
    "print(arule_model2)"
   ]
  },
  {
   "cell_type": "code",
   "execution_count": 13,
   "metadata": {},
   "outputs": [
    {
     "data": {
      "text/html": [
       "<div>\n",
       "<style scoped>\n",
       "    .dataframe tbody tr th:only-of-type {\n",
       "        vertical-align: middle;\n",
       "    }\n",
       "\n",
       "    .dataframe tbody tr th {\n",
       "        vertical-align: top;\n",
       "    }\n",
       "\n",
       "    .dataframe thead th {\n",
       "        text-align: right;\n",
       "    }\n",
       "</style>\n",
       "<table border=\"1\" class=\"dataframe\">\n",
       "  <thead>\n",
       "    <tr style=\"text-align: right;\">\n",
       "      <th></th>\n",
       "      <th>antecedents</th>\n",
       "      <th>consequents</th>\n",
       "      <th>antecedent support</th>\n",
       "      <th>consequent support</th>\n",
       "      <th>support</th>\n",
       "      <th>confidence</th>\n",
       "      <th>lift</th>\n",
       "      <th>leverage</th>\n",
       "      <th>conviction</th>\n",
       "    </tr>\n",
       "  </thead>\n",
       "  <tbody>\n",
       "    <tr>\n",
       "      <th>0</th>\n",
       "      <td>(SET/6 RED SPOTTY PAPER CUPS, SET/20 RED RETRO...</td>\n",
       "      <td>(SET/6 RED SPOTTY PAPER PLATES)</td>\n",
       "      <td>0.0868</td>\n",
       "      <td>0.1085</td>\n",
       "      <td>0.0846</td>\n",
       "      <td>0.9750</td>\n",
       "      <td>8.9895</td>\n",
       "      <td>0.0752</td>\n",
       "      <td>35.6616</td>\n",
       "    </tr>\n",
       "    <tr>\n",
       "      <th>1</th>\n",
       "      <td>(SET/6 RED SPOTTY PAPER PLATES, SET/20 RED RET...</td>\n",
       "      <td>(SET/6 RED SPOTTY PAPER CUPS)</td>\n",
       "      <td>0.0868</td>\n",
       "      <td>0.1171</td>\n",
       "      <td>0.0846</td>\n",
       "      <td>0.9750</td>\n",
       "      <td>8.3236</td>\n",
       "      <td>0.0744</td>\n",
       "      <td>35.3145</td>\n",
       "    </tr>\n",
       "    <tr>\n",
       "      <th>2</th>\n",
       "      <td>(SET/6 RED SPOTTY PAPER PLATES)</td>\n",
       "      <td>(SET/6 RED SPOTTY PAPER CUPS)</td>\n",
       "      <td>0.1085</td>\n",
       "      <td>0.1171</td>\n",
       "      <td>0.1041</td>\n",
       "      <td>0.9600</td>\n",
       "      <td>8.1956</td>\n",
       "      <td>0.0914</td>\n",
       "      <td>22.0716</td>\n",
       "    </tr>\n",
       "    <tr>\n",
       "      <th>3</th>\n",
       "      <td>(CHILDRENS CUTLERY SPACEBOY )</td>\n",
       "      <td>(CHILDRENS CUTLERY DOLLY GIRL )</td>\n",
       "      <td>0.0586</td>\n",
       "      <td>0.0629</td>\n",
       "      <td>0.0542</td>\n",
       "      <td>0.9259</td>\n",
       "      <td>14.7190</td>\n",
       "      <td>0.0505</td>\n",
       "      <td>12.6508</td>\n",
       "    </tr>\n",
       "    <tr>\n",
       "      <th>4</th>\n",
       "      <td>(SET/6 RED SPOTTY PAPER CUPS)</td>\n",
       "      <td>(SET/6 RED SPOTTY PAPER PLATES)</td>\n",
       "      <td>0.1171</td>\n",
       "      <td>0.1085</td>\n",
       "      <td>0.1041</td>\n",
       "      <td>0.8889</td>\n",
       "      <td>8.1956</td>\n",
       "      <td>0.0914</td>\n",
       "      <td>8.0239</td>\n",
       "    </tr>\n",
       "  </tbody>\n",
       "</table>\n",
       "</div>"
      ],
      "text/plain": [
       "                                         antecedents  \\\n",
       "0  (SET/6 RED SPOTTY PAPER CUPS, SET/20 RED RETRO...   \n",
       "1  (SET/6 RED SPOTTY PAPER PLATES, SET/20 RED RET...   \n",
       "2                    (SET/6 RED SPOTTY PAPER PLATES)   \n",
       "3                      (CHILDRENS CUTLERY SPACEBOY )   \n",
       "4                      (SET/6 RED SPOTTY PAPER CUPS)   \n",
       "\n",
       "                       consequents  antecedent support  consequent support  \\\n",
       "0  (SET/6 RED SPOTTY PAPER PLATES)              0.0868              0.1085   \n",
       "1    (SET/6 RED SPOTTY PAPER CUPS)              0.0868              0.1171   \n",
       "2    (SET/6 RED SPOTTY PAPER CUPS)              0.1085              0.1171   \n",
       "3  (CHILDRENS CUTLERY DOLLY GIRL )              0.0586              0.0629   \n",
       "4  (SET/6 RED SPOTTY PAPER PLATES)              0.1171              0.1085   \n",
       "\n",
       "   support  confidence     lift  leverage  conviction  \n",
       "0   0.0846      0.9750   8.9895    0.0752     35.6616  \n",
       "1   0.0846      0.9750   8.3236    0.0744     35.3145  \n",
       "2   0.1041      0.9600   8.1956    0.0914     22.0716  \n",
       "3   0.0542      0.9259  14.7190    0.0505     12.6508  \n",
       "4   0.1041      0.8889   8.1956    0.0914      8.0239  "
      ]
     },
     "execution_count": 13,
     "metadata": {},
     "output_type": "execute_result"
    }
   ],
   "source": [
    "arule_model2.head()"
   ]
  },
  {
   "cell_type": "markdown",
   "metadata": {},
   "source": [
    "# プロットモデル"
   ]
  },
  {
   "cell_type": "code",
   "execution_count": 14,
   "metadata": {},
   "outputs": [
    {
     "data": {
      "text/html": [
       "        <script type=\"text/javascript\">\n",
       "        window.PlotlyConfig = {MathJaxConfig: 'local'};\n",
       "        if (window.MathJax) {MathJax.Hub.Config({SVG: {font: \"STIX-Web\"}});}\n",
       "        if (typeof require !== 'undefined') {\n",
       "        require.undef(\"plotly\");\n",
       "        requirejs.config({\n",
       "            paths: {\n",
       "                'plotly': ['https://cdn.plot.ly/plotly-latest.min']\n",
       "            }\n",
       "        });\n",
       "        require(['plotly'], function(Plotly) {\n",
       "            window._Plotly = Plotly;\n",
       "        });\n",
       "        }\n",
       "        </script>\n",
       "        "
      ]
     },
     "metadata": {},
     "output_type": "display_data"
    },
    {
     "data": {
      "application/vnd.plotly.v1+json": {
       "config": {
        "plotlyServerURL": "https://plot.ly"
       },
       "data": [
        {
         "customdata": [
          [
           "SET/6 RED SPOTTY PAPER CUPS",
           "SET/6 RED SPOTTY PAPER PLATES"
          ],
          [
           "SET/6 RED SPOTTY PAPER PLATES",
           "SET/6 RED SPOTTY PAPER CUPS"
          ],
          [
           "SET/6 RED SPOTTY PAPER PLATES",
           "SET/6 RED SPOTTY PAPER CUPS"
          ],
          [
           "CHILDRENS CUTLERY SPACEBOY ",
           "CHILDRENS CUTLERY DOLLY GIRL "
          ],
          [
           "SET/6 RED SPOTTY PAPER CUPS",
           "SET/6 RED SPOTTY PAPER PLATES"
          ],
          [
           "CHILDRENS CUTLERY DOLLY GIRL ",
           "CHILDRENS CUTLERY SPACEBOY "
          ],
          [
           "ALARM CLOCK BAKELIKE PINK",
           "ALARM CLOCK BAKELIKE GREEN"
          ],
          [
           "ALARM CLOCK BAKELIKE GREEN",
           "ALARM CLOCK BAKELIKE RED "
          ],
          [
           "ALARM CLOCK BAKELIKE RED ",
           "ALARM CLOCK BAKELIKE GREEN"
          ],
          [
           "SET/6 RED SPOTTY PAPER PLATES",
           "SET/20 RED RETROSPOT PAPER NAPKINS "
          ],
          [
           "ALARM CLOCK BAKELIKE GREEN",
           "ALARM CLOCK BAKELIKE PINK"
          ],
          [
           "SET/6 RED SPOTTY PAPER PLATES",
           "SET/20 RED RETROSPOT PAPER NAPKINS "
          ],
          [
           "ALARM CLOCK BAKELIKE GREEN",
           "ALARM CLOCK BAKELIKE RED "
          ],
          [
           "ALARM CLOCK BAKELIKE RED ",
           "ALARM CLOCK BAKELIKE PINK"
          ],
          [
           "SET/6 RED SPOTTY PAPER PLATES",
           "SET/6 RED SPOTTY PAPER CUPS"
          ],
          [
           "SET/20 RED RETROSPOT PAPER NAPKINS ",
           "SET/6 RED SPOTTY PAPER PLATES"
          ],
          [
           "SET/20 RED RETROSPOT PAPER NAPKINS ",
           "SET/6 RED SPOTTY PAPER CUPS"
          ],
          [
           "PLASTERS IN TIN SPACEBOY",
           "PLASTERS IN TIN WOODLAND ANIMALS"
          ],
          [
           "SET/20 RED RETROSPOT PAPER NAPKINS ",
           "SET/6 RED SPOTTY PAPER PLATES"
          ],
          [
           "PLASTERS IN TIN SPACEBOY",
           "PLASTERS IN TIN WOODLAND ANIMALS"
          ],
          [
           "ALARM CLOCK BAKELIKE GREEN",
           "ALARM CLOCK BAKELIKE PINK"
          ],
          [
           "SET/6 RED SPOTTY PAPER CUPS",
           "SET/20 RED RETROSPOT PAPER NAPKINS "
          ],
          [
           "ALARM CLOCK BAKELIKE PINK",
           "ALARM CLOCK BAKELIKE GREEN"
          ],
          [
           "ALARM CLOCK BAKELIKE PINK",
           "ALARM CLOCK BAKELIKE RED "
          ],
          [
           "SET/6 RED SPOTTY PAPER CUPS",
           "SET/6 RED SPOTTY PAPER PLATES"
          ],
          [
           "DOLLY GIRL LUNCH BOX",
           "SPACEBOY LUNCH BOX "
          ],
          [
           "ALARM CLOCK BAKELIKE RED ",
           "ALARM CLOCK BAKELIKE GREEN"
          ],
          [
           "PLASTERS IN TIN WOODLAND ANIMALS",
           "PLASTERS IN TIN SPACEBOY"
          ],
          [
           "PLASTERS IN TIN SPACEBOY",
           "PLASTERS IN TIN CIRCUS PARADE "
          ],
          [
           "PLASTERS IN TIN SPACEBOY",
           "PLASTERS IN TIN CIRCUS PARADE "
          ],
          [
           "ALARM CLOCK BAKELIKE GREEN",
           "ALARM CLOCK BAKELIKE PINK"
          ],
          [
           "ALARM CLOCK BAKELIKE PINK",
           "ALARM CLOCK BAKELIKE GREEN"
          ],
          [
           "PLASTERS IN TIN WOODLAND ANIMALS",
           "PLASTERS IN TIN SPACEBOY"
          ],
          [
           "PLASTERS IN TIN WOODLAND ANIMALS",
           "PLASTERS IN TIN CIRCUS PARADE "
          ],
          [
           "PLASTERS IN TIN CIRCUS PARADE ",
           "PLASTERS IN TIN WOODLAND ANIMALS"
          ],
          [
           "ROUND SNACK BOXES SET OF 4 FRUITS ",
           "ROUND SNACK BOXES SET OF4 WOODLAND "
          ],
          [
           "SPACEBOY LUNCH BOX ",
           "DOLLY GIRL LUNCH BOX"
          ],
          [
           "LUNCH BAG WOODLAND",
           "LUNCH BAG SPACEBOY DESIGN "
          ],
          [
           "LUNCH BAG SPACEBOY DESIGN ",
           "LUNCH BAG RED RETROSPOT"
          ],
          [
           "LUNCH BAG SPACEBOY DESIGN ",
           "LUNCH BAG WOODLAND"
          ],
          [
           "LUNCH BAG SPACEBOY DESIGN ",
           "LUNCH BAG APPLE DESIGN"
          ],
          [
           "PLASTERS IN TIN CIRCUS PARADE ",
           "PLASTERS IN TIN SPACEBOY"
          ],
          [
           "STRAWBERRY LUNCH BOX WITH CUTLERY",
           "LUNCH BOX WITH CUTLERY RETROSPOT "
          ],
          [
           "LUNCH BAG APPLE DESIGN",
           "LUNCH BAG SPACEBOY DESIGN "
          ],
          [
           "LUNCH BAG APPLE DESIGN",
           "LUNCH BAG RED RETROSPOT"
          ]
         ],
         "hoverlabel": {
          "namelength": 0
         },
         "hovertemplate": "support=%{x}<br>confidence=%{y}<br>antecedents=%{customdata[0]}<br>consequents=%{customdata[1]}<br>antecedents_short=%{text}<br>lift=%{marker.color}",
         "legendgroup": "",
         "marker": {
          "color": [
           8.9895,
           8.3236,
           8.1956,
           14.719,
           8.1956,
           14.719,
           10.1901,
           10.7409,
           9.9037,
           7.2031,
           9.2944,
           7.0923,
           9.9037,
           9.0331,
           8.9895,
           7.0923,
           6.567,
           5.1604,
           7.2031,
           5.1292,
           8.5699,
           6.567,
           8.5699,
           9.0331,
           8.3236,
           6.5857,
           10.7409,
           5.6577,
           4.4645,
           4.4374,
           10.1901,
           9.2944,
           5.1292,
           4.0474,
           4.0474,
           4.1879,
           6.5857,
           5.3129,
           4.0936,
           5.3129,
           4.9942,
           4.4374,
           4.2124,
           4.9942,
           3.9298
          ],
          "coloraxis": "coloraxis",
          "opacity": 0.5,
          "symbol": "circle"
         },
         "mode": "markers+text",
         "name": "",
         "showlegend": false,
         "text": [
          "SET/6 RED ",
          "SET/6 RED ",
          "SET/6 RED ",
          "CHILDRENS ",
          "SET/6 RED ",
          "CHILDRENS ",
          "ALARM CLOC",
          "ALARM CLOC",
          "ALARM CLOC",
          "SET/6 RED ",
          "ALARM CLOC",
          "SET/6 RED ",
          "ALARM CLOC",
          "ALARM CLOC",
          "SET/6 RED ",
          "SET/20 RED",
          "SET/20 RED",
          "PLASTERS I",
          "SET/20 RED",
          "PLASTERS I",
          "ALARM CLOC",
          "SET/6 RED ",
          "ALARM CLOC",
          "ALARM CLOC",
          "SET/6 RED ",
          "DOLLY GIRL",
          "ALARM CLOC",
          "PLASTERS I",
          "PLASTERS I",
          "PLASTERS I",
          "ALARM CLOC",
          "ALARM CLOC",
          "PLASTERS I",
          "PLASTERS I",
          "PLASTERS I",
          "ROUND SNAC",
          "SPACEBOY L",
          "LUNCH BAG ",
          "LUNCH BAG ",
          "LUNCH BAG ",
          "LUNCH BAG ",
          "PLASTERS I",
          "STRAWBERRY",
          "LUNCH BAG ",
          "LUNCH BAG "
         ],
         "textposition": "top center",
         "type": "scatter",
         "x": [
          0.0846,
          0.0846,
          0.1041,
          0.0542,
          0.1041,
          0.0542,
          0.0542,
          0.0542,
          0.0672,
          0.0846,
          0.0542,
          0.0868,
          0.0672,
          0.0629,
          0.0846,
          0.0868,
          0.0868,
          0.0586,
          0.0846,
          0.0889,
          0.0629,
          0.0868,
          0.0629,
          0.0629,
          0.0846,
          0.0607,
          0.0542,
          0.0586,
          0.0586,
          0.0781,
          0.0542,
          0.0542,
          0.0889,
          0.0868,
          0.0868,
          0.0542,
          0.0607,
          0.0564,
          0.0564,
          0.0564,
          0.0564,
          0.0781,
          0.0542,
          0.0564,
          0.0564
         ],
         "xaxis": "x",
         "y": [
          0.975,
          0.975,
          0.96,
          0.9259,
          0.8889,
          0.8621,
          0.8621,
          0.8621,
          0.8378,
          0.8125,
          0.8065,
          0.8,
          0.7949,
          0.7838,
          0.78,
          0.7692,
          0.7692,
          0.75,
          0.75,
          0.7455,
          0.7436,
          0.7407,
          0.725,
          0.725,
          0.7222,
          0.7,
          0.6757,
          0.675,
          0.6585,
          0.6545,
          0.641,
          0.625,
          0.6119,
          0.597,
          0.5882,
          0.5814,
          0.5714,
          0.5532,
          0.5417,
          0.5417,
          0.5417,
          0.5294,
          0.5208,
          0.52,
          0.52
         ],
         "yaxis": "y"
        }
       ],
       "layout": {
        "coloraxis": {
         "colorbar": {
          "title": {
           "text": "lift"
          }
         },
         "colorscale": [
          [
           0,
           "#0d0887"
          ],
          [
           0.1111111111111111,
           "#46039f"
          ],
          [
           0.2222222222222222,
           "#7201a8"
          ],
          [
           0.3333333333333333,
           "#9c179e"
          ],
          [
           0.4444444444444444,
           "#bd3786"
          ],
          [
           0.5555555555555556,
           "#d8576b"
          ],
          [
           0.6666666666666666,
           "#ed7953"
          ],
          [
           0.7777777777777778,
           "#fb9f3a"
          ],
          [
           0.8888888888888888,
           "#fdca26"
          ],
          [
           1,
           "#f0f921"
          ]
         ]
        },
        "height": 800,
        "legend": {
         "tracegroupgap": 0
        },
        "margin": {
         "t": 60
        },
        "plot_bgcolor": "rgb(240,240,240)",
        "template": {
         "data": {
          "bar": [
           {
            "error_x": {
             "color": "#2a3f5f"
            },
            "error_y": {
             "color": "#2a3f5f"
            },
            "marker": {
             "line": {
              "color": "#E5ECF6",
              "width": 0.5
             }
            },
            "type": "bar"
           }
          ],
          "barpolar": [
           {
            "marker": {
             "line": {
              "color": "#E5ECF6",
              "width": 0.5
             }
            },
            "type": "barpolar"
           }
          ],
          "carpet": [
           {
            "aaxis": {
             "endlinecolor": "#2a3f5f",
             "gridcolor": "white",
             "linecolor": "white",
             "minorgridcolor": "white",
             "startlinecolor": "#2a3f5f"
            },
            "baxis": {
             "endlinecolor": "#2a3f5f",
             "gridcolor": "white",
             "linecolor": "white",
             "minorgridcolor": "white",
             "startlinecolor": "#2a3f5f"
            },
            "type": "carpet"
           }
          ],
          "choropleth": [
           {
            "colorbar": {
             "outlinewidth": 0,
             "ticks": ""
            },
            "type": "choropleth"
           }
          ],
          "contour": [
           {
            "colorbar": {
             "outlinewidth": 0,
             "ticks": ""
            },
            "colorscale": [
             [
              0,
              "#0d0887"
             ],
             [
              0.1111111111111111,
              "#46039f"
             ],
             [
              0.2222222222222222,
              "#7201a8"
             ],
             [
              0.3333333333333333,
              "#9c179e"
             ],
             [
              0.4444444444444444,
              "#bd3786"
             ],
             [
              0.5555555555555556,
              "#d8576b"
             ],
             [
              0.6666666666666666,
              "#ed7953"
             ],
             [
              0.7777777777777778,
              "#fb9f3a"
             ],
             [
              0.8888888888888888,
              "#fdca26"
             ],
             [
              1,
              "#f0f921"
             ]
            ],
            "type": "contour"
           }
          ],
          "contourcarpet": [
           {
            "colorbar": {
             "outlinewidth": 0,
             "ticks": ""
            },
            "type": "contourcarpet"
           }
          ],
          "heatmap": [
           {
            "colorbar": {
             "outlinewidth": 0,
             "ticks": ""
            },
            "colorscale": [
             [
              0,
              "#0d0887"
             ],
             [
              0.1111111111111111,
              "#46039f"
             ],
             [
              0.2222222222222222,
              "#7201a8"
             ],
             [
              0.3333333333333333,
              "#9c179e"
             ],
             [
              0.4444444444444444,
              "#bd3786"
             ],
             [
              0.5555555555555556,
              "#d8576b"
             ],
             [
              0.6666666666666666,
              "#ed7953"
             ],
             [
              0.7777777777777778,
              "#fb9f3a"
             ],
             [
              0.8888888888888888,
              "#fdca26"
             ],
             [
              1,
              "#f0f921"
             ]
            ],
            "type": "heatmap"
           }
          ],
          "heatmapgl": [
           {
            "colorbar": {
             "outlinewidth": 0,
             "ticks": ""
            },
            "colorscale": [
             [
              0,
              "#0d0887"
             ],
             [
              0.1111111111111111,
              "#46039f"
             ],
             [
              0.2222222222222222,
              "#7201a8"
             ],
             [
              0.3333333333333333,
              "#9c179e"
             ],
             [
              0.4444444444444444,
              "#bd3786"
             ],
             [
              0.5555555555555556,
              "#d8576b"
             ],
             [
              0.6666666666666666,
              "#ed7953"
             ],
             [
              0.7777777777777778,
              "#fb9f3a"
             ],
             [
              0.8888888888888888,
              "#fdca26"
             ],
             [
              1,
              "#f0f921"
             ]
            ],
            "type": "heatmapgl"
           }
          ],
          "histogram": [
           {
            "marker": {
             "colorbar": {
              "outlinewidth": 0,
              "ticks": ""
             }
            },
            "type": "histogram"
           }
          ],
          "histogram2d": [
           {
            "colorbar": {
             "outlinewidth": 0,
             "ticks": ""
            },
            "colorscale": [
             [
              0,
              "#0d0887"
             ],
             [
              0.1111111111111111,
              "#46039f"
             ],
             [
              0.2222222222222222,
              "#7201a8"
             ],
             [
              0.3333333333333333,
              "#9c179e"
             ],
             [
              0.4444444444444444,
              "#bd3786"
             ],
             [
              0.5555555555555556,
              "#d8576b"
             ],
             [
              0.6666666666666666,
              "#ed7953"
             ],
             [
              0.7777777777777778,
              "#fb9f3a"
             ],
             [
              0.8888888888888888,
              "#fdca26"
             ],
             [
              1,
              "#f0f921"
             ]
            ],
            "type": "histogram2d"
           }
          ],
          "histogram2dcontour": [
           {
            "colorbar": {
             "outlinewidth": 0,
             "ticks": ""
            },
            "colorscale": [
             [
              0,
              "#0d0887"
             ],
             [
              0.1111111111111111,
              "#46039f"
             ],
             [
              0.2222222222222222,
              "#7201a8"
             ],
             [
              0.3333333333333333,
              "#9c179e"
             ],
             [
              0.4444444444444444,
              "#bd3786"
             ],
             [
              0.5555555555555556,
              "#d8576b"
             ],
             [
              0.6666666666666666,
              "#ed7953"
             ],
             [
              0.7777777777777778,
              "#fb9f3a"
             ],
             [
              0.8888888888888888,
              "#fdca26"
             ],
             [
              1,
              "#f0f921"
             ]
            ],
            "type": "histogram2dcontour"
           }
          ],
          "mesh3d": [
           {
            "colorbar": {
             "outlinewidth": 0,
             "ticks": ""
            },
            "type": "mesh3d"
           }
          ],
          "parcoords": [
           {
            "line": {
             "colorbar": {
              "outlinewidth": 0,
              "ticks": ""
             }
            },
            "type": "parcoords"
           }
          ],
          "pie": [
           {
            "automargin": true,
            "type": "pie"
           }
          ],
          "scatter": [
           {
            "marker": {
             "colorbar": {
              "outlinewidth": 0,
              "ticks": ""
             }
            },
            "type": "scatter"
           }
          ],
          "scatter3d": [
           {
            "line": {
             "colorbar": {
              "outlinewidth": 0,
              "ticks": ""
             }
            },
            "marker": {
             "colorbar": {
              "outlinewidth": 0,
              "ticks": ""
             }
            },
            "type": "scatter3d"
           }
          ],
          "scattercarpet": [
           {
            "marker": {
             "colorbar": {
              "outlinewidth": 0,
              "ticks": ""
             }
            },
            "type": "scattercarpet"
           }
          ],
          "scattergeo": [
           {
            "marker": {
             "colorbar": {
              "outlinewidth": 0,
              "ticks": ""
             }
            },
            "type": "scattergeo"
           }
          ],
          "scattergl": [
           {
            "marker": {
             "colorbar": {
              "outlinewidth": 0,
              "ticks": ""
             }
            },
            "type": "scattergl"
           }
          ],
          "scattermapbox": [
           {
            "marker": {
             "colorbar": {
              "outlinewidth": 0,
              "ticks": ""
             }
            },
            "type": "scattermapbox"
           }
          ],
          "scatterpolar": [
           {
            "marker": {
             "colorbar": {
              "outlinewidth": 0,
              "ticks": ""
             }
            },
            "type": "scatterpolar"
           }
          ],
          "scatterpolargl": [
           {
            "marker": {
             "colorbar": {
              "outlinewidth": 0,
              "ticks": ""
             }
            },
            "type": "scatterpolargl"
           }
          ],
          "scatterternary": [
           {
            "marker": {
             "colorbar": {
              "outlinewidth": 0,
              "ticks": ""
             }
            },
            "type": "scatterternary"
           }
          ],
          "surface": [
           {
            "colorbar": {
             "outlinewidth": 0,
             "ticks": ""
            },
            "colorscale": [
             [
              0,
              "#0d0887"
             ],
             [
              0.1111111111111111,
              "#46039f"
             ],
             [
              0.2222222222222222,
              "#7201a8"
             ],
             [
              0.3333333333333333,
              "#9c179e"
             ],
             [
              0.4444444444444444,
              "#bd3786"
             ],
             [
              0.5555555555555556,
              "#d8576b"
             ],
             [
              0.6666666666666666,
              "#ed7953"
             ],
             [
              0.7777777777777778,
              "#fb9f3a"
             ],
             [
              0.8888888888888888,
              "#fdca26"
             ],
             [
              1,
              "#f0f921"
             ]
            ],
            "type": "surface"
           }
          ],
          "table": [
           {
            "cells": {
             "fill": {
              "color": "#EBF0F8"
             },
             "line": {
              "color": "white"
             }
            },
            "header": {
             "fill": {
              "color": "#C8D4E3"
             },
             "line": {
              "color": "white"
             }
            },
            "type": "table"
           }
          ]
         },
         "layout": {
          "annotationdefaults": {
           "arrowcolor": "#2a3f5f",
           "arrowhead": 0,
           "arrowwidth": 1
          },
          "coloraxis": {
           "colorbar": {
            "outlinewidth": 0,
            "ticks": ""
           }
          },
          "colorscale": {
           "diverging": [
            [
             0,
             "#8e0152"
            ],
            [
             0.1,
             "#c51b7d"
            ],
            [
             0.2,
             "#de77ae"
            ],
            [
             0.3,
             "#f1b6da"
            ],
            [
             0.4,
             "#fde0ef"
            ],
            [
             0.5,
             "#f7f7f7"
            ],
            [
             0.6,
             "#e6f5d0"
            ],
            [
             0.7,
             "#b8e186"
            ],
            [
             0.8,
             "#7fbc41"
            ],
            [
             0.9,
             "#4d9221"
            ],
            [
             1,
             "#276419"
            ]
           ],
           "sequential": [
            [
             0,
             "#0d0887"
            ],
            [
             0.1111111111111111,
             "#46039f"
            ],
            [
             0.2222222222222222,
             "#7201a8"
            ],
            [
             0.3333333333333333,
             "#9c179e"
            ],
            [
             0.4444444444444444,
             "#bd3786"
            ],
            [
             0.5555555555555556,
             "#d8576b"
            ],
            [
             0.6666666666666666,
             "#ed7953"
            ],
            [
             0.7777777777777778,
             "#fb9f3a"
            ],
            [
             0.8888888888888888,
             "#fdca26"
            ],
            [
             1,
             "#f0f921"
            ]
           ],
           "sequentialminus": [
            [
             0,
             "#0d0887"
            ],
            [
             0.1111111111111111,
             "#46039f"
            ],
            [
             0.2222222222222222,
             "#7201a8"
            ],
            [
             0.3333333333333333,
             "#9c179e"
            ],
            [
             0.4444444444444444,
             "#bd3786"
            ],
            [
             0.5555555555555556,
             "#d8576b"
            ],
            [
             0.6666666666666666,
             "#ed7953"
            ],
            [
             0.7777777777777778,
             "#fb9f3a"
            ],
            [
             0.8888888888888888,
             "#fdca26"
            ],
            [
             1,
             "#f0f921"
            ]
           ]
          },
          "colorway": [
           "#636efa",
           "#EF553B",
           "#00cc96",
           "#ab63fa",
           "#FFA15A",
           "#19d3f3",
           "#FF6692",
           "#B6E880",
           "#FF97FF",
           "#FECB52"
          ],
          "font": {
           "color": "#2a3f5f"
          },
          "geo": {
           "bgcolor": "white",
           "lakecolor": "white",
           "landcolor": "#E5ECF6",
           "showlakes": true,
           "showland": true,
           "subunitcolor": "white"
          },
          "hoverlabel": {
           "align": "left"
          },
          "hovermode": "closest",
          "mapbox": {
           "style": "light"
          },
          "paper_bgcolor": "white",
          "plot_bgcolor": "#E5ECF6",
          "polar": {
           "angularaxis": {
            "gridcolor": "white",
            "linecolor": "white",
            "ticks": ""
           },
           "bgcolor": "#E5ECF6",
           "radialaxis": {
            "gridcolor": "white",
            "linecolor": "white",
            "ticks": ""
           }
          },
          "scene": {
           "xaxis": {
            "backgroundcolor": "#E5ECF6",
            "gridcolor": "white",
            "gridwidth": 2,
            "linecolor": "white",
            "showbackground": true,
            "ticks": "",
            "zerolinecolor": "white"
           },
           "yaxis": {
            "backgroundcolor": "#E5ECF6",
            "gridcolor": "white",
            "gridwidth": 2,
            "linecolor": "white",
            "showbackground": true,
            "ticks": "",
            "zerolinecolor": "white"
           },
           "zaxis": {
            "backgroundcolor": "#E5ECF6",
            "gridcolor": "white",
            "gridwidth": 2,
            "linecolor": "white",
            "showbackground": true,
            "ticks": "",
            "zerolinecolor": "white"
           }
          },
          "shapedefaults": {
           "line": {
            "color": "#2a3f5f"
           }
          },
          "ternary": {
           "aaxis": {
            "gridcolor": "white",
            "linecolor": "white",
            "ticks": ""
           },
           "baxis": {
            "gridcolor": "white",
            "linecolor": "white",
            "ticks": ""
           },
           "bgcolor": "#E5ECF6",
           "caxis": {
            "gridcolor": "white",
            "linecolor": "white",
            "ticks": ""
           }
          },
          "title": {
           "x": 0.05
          },
          "xaxis": {
           "automargin": true,
           "gridcolor": "white",
           "linecolor": "white",
           "ticks": "",
           "title": {
            "standoff": 15
           },
           "zerolinecolor": "white",
           "zerolinewidth": 2
          },
          "yaxis": {
           "automargin": true,
           "gridcolor": "white",
           "linecolor": "white",
           "ticks": "",
           "title": {
            "standoff": 15
           },
           "zerolinecolor": "white",
           "zerolinewidth": 2
          }
         }
        },
        "title": {
         "text": "2D Plot of Support, Confidence and Lift"
        },
        "xaxis": {
         "anchor": "y",
         "domain": [
          0,
          1
         ],
         "title": {
          "text": "support"
         },
         "type": "log"
        },
        "yaxis": {
         "anchor": "x",
         "domain": [
          0,
          1
         ],
         "title": {
          "text": "confidence"
         }
        }
       }
      },
      "text/html": [
       "<div>\n",
       "        \n",
       "        \n",
       "            <div id=\"b0b35fd3-436a-43f3-8fcd-7e71f06c99a4\" class=\"plotly-graph-div\" style=\"height:800px; width:100%;\"></div>\n",
       "            <script type=\"text/javascript\">\n",
       "                require([\"plotly\"], function(Plotly) {\n",
       "                    window.PLOTLYENV=window.PLOTLYENV || {};\n",
       "                    \n",
       "                if (document.getElementById(\"b0b35fd3-436a-43f3-8fcd-7e71f06c99a4\")) {\n",
       "                    Plotly.newPlot(\n",
       "                        'b0b35fd3-436a-43f3-8fcd-7e71f06c99a4',\n",
       "                        [{\"customdata\": [[\"SET/6 RED SPOTTY PAPER CUPS\", \"SET/6 RED SPOTTY PAPER PLATES\"], [\"SET/6 RED SPOTTY PAPER PLATES\", \"SET/6 RED SPOTTY PAPER CUPS\"], [\"SET/6 RED SPOTTY PAPER PLATES\", \"SET/6 RED SPOTTY PAPER CUPS\"], [\"CHILDRENS CUTLERY SPACEBOY \", \"CHILDRENS CUTLERY DOLLY GIRL \"], [\"SET/6 RED SPOTTY PAPER CUPS\", \"SET/6 RED SPOTTY PAPER PLATES\"], [\"CHILDRENS CUTLERY DOLLY GIRL \", \"CHILDRENS CUTLERY SPACEBOY \"], [\"ALARM CLOCK BAKELIKE PINK\", \"ALARM CLOCK BAKELIKE GREEN\"], [\"ALARM CLOCK BAKELIKE GREEN\", \"ALARM CLOCK BAKELIKE RED \"], [\"ALARM CLOCK BAKELIKE RED \", \"ALARM CLOCK BAKELIKE GREEN\"], [\"SET/6 RED SPOTTY PAPER PLATES\", \"SET/20 RED RETROSPOT PAPER NAPKINS \"], [\"ALARM CLOCK BAKELIKE GREEN\", \"ALARM CLOCK BAKELIKE PINK\"], [\"SET/6 RED SPOTTY PAPER PLATES\", \"SET/20 RED RETROSPOT PAPER NAPKINS \"], [\"ALARM CLOCK BAKELIKE GREEN\", \"ALARM CLOCK BAKELIKE RED \"], [\"ALARM CLOCK BAKELIKE RED \", \"ALARM CLOCK BAKELIKE PINK\"], [\"SET/6 RED SPOTTY PAPER PLATES\", \"SET/6 RED SPOTTY PAPER CUPS\"], [\"SET/20 RED RETROSPOT PAPER NAPKINS \", \"SET/6 RED SPOTTY PAPER PLATES\"], [\"SET/20 RED RETROSPOT PAPER NAPKINS \", \"SET/6 RED SPOTTY PAPER CUPS\"], [\"PLASTERS IN TIN SPACEBOY\", \"PLASTERS IN TIN WOODLAND ANIMALS\"], [\"SET/20 RED RETROSPOT PAPER NAPKINS \", \"SET/6 RED SPOTTY PAPER PLATES\"], [\"PLASTERS IN TIN SPACEBOY\", \"PLASTERS IN TIN WOODLAND ANIMALS\"], [\"ALARM CLOCK BAKELIKE GREEN\", \"ALARM CLOCK BAKELIKE PINK\"], [\"SET/6 RED SPOTTY PAPER CUPS\", \"SET/20 RED RETROSPOT PAPER NAPKINS \"], [\"ALARM CLOCK BAKELIKE PINK\", \"ALARM CLOCK BAKELIKE GREEN\"], [\"ALARM CLOCK BAKELIKE PINK\", \"ALARM CLOCK BAKELIKE RED \"], [\"SET/6 RED SPOTTY PAPER CUPS\", \"SET/6 RED SPOTTY PAPER PLATES\"], [\"DOLLY GIRL LUNCH BOX\", \"SPACEBOY LUNCH BOX \"], [\"ALARM CLOCK BAKELIKE RED \", \"ALARM CLOCK BAKELIKE GREEN\"], [\"PLASTERS IN TIN WOODLAND ANIMALS\", \"PLASTERS IN TIN SPACEBOY\"], [\"PLASTERS IN TIN SPACEBOY\", \"PLASTERS IN TIN CIRCUS PARADE \"], [\"PLASTERS IN TIN SPACEBOY\", \"PLASTERS IN TIN CIRCUS PARADE \"], [\"ALARM CLOCK BAKELIKE GREEN\", \"ALARM CLOCK BAKELIKE PINK\"], [\"ALARM CLOCK BAKELIKE PINK\", \"ALARM CLOCK BAKELIKE GREEN\"], [\"PLASTERS IN TIN WOODLAND ANIMALS\", \"PLASTERS IN TIN SPACEBOY\"], [\"PLASTERS IN TIN WOODLAND ANIMALS\", \"PLASTERS IN TIN CIRCUS PARADE \"], [\"PLASTERS IN TIN CIRCUS PARADE \", \"PLASTERS IN TIN WOODLAND ANIMALS\"], [\"ROUND SNACK BOXES SET OF 4 FRUITS \", \"ROUND SNACK BOXES SET OF4 WOODLAND \"], [\"SPACEBOY LUNCH BOX \", \"DOLLY GIRL LUNCH BOX\"], [\"LUNCH BAG WOODLAND\", \"LUNCH BAG SPACEBOY DESIGN \"], [\"LUNCH BAG SPACEBOY DESIGN \", \"LUNCH BAG RED RETROSPOT\"], [\"LUNCH BAG SPACEBOY DESIGN \", \"LUNCH BAG WOODLAND\"], [\"LUNCH BAG SPACEBOY DESIGN \", \"LUNCH BAG APPLE DESIGN\"], [\"PLASTERS IN TIN CIRCUS PARADE \", \"PLASTERS IN TIN SPACEBOY\"], [\"STRAWBERRY LUNCH BOX WITH CUTLERY\", \"LUNCH BOX WITH CUTLERY RETROSPOT \"], [\"LUNCH BAG APPLE DESIGN\", \"LUNCH BAG SPACEBOY DESIGN \"], [\"LUNCH BAG APPLE DESIGN\", \"LUNCH BAG RED RETROSPOT\"]], \"hoverlabel\": {\"namelength\": 0}, \"hovertemplate\": \"support=%{x}<br>confidence=%{y}<br>antecedents=%{customdata[0]}<br>consequents=%{customdata[1]}<br>antecedents_short=%{text}<br>lift=%{marker.color}\", \"legendgroup\": \"\", \"marker\": {\"color\": [8.9895, 8.3236, 8.1956, 14.719, 8.1956, 14.719, 10.1901, 10.7409, 9.9037, 7.2031, 9.2944, 7.0923, 9.9037, 9.0331, 8.9895, 7.0923, 6.567, 5.1604, 7.2031, 5.1292, 8.5699, 6.567, 8.5699, 9.0331, 8.3236, 6.5857, 10.7409, 5.6577, 4.4645, 4.4374, 10.1901, 9.2944, 5.1292, 4.0474, 4.0474, 4.1879, 6.5857, 5.3129, 4.0936, 5.3129, 4.9942, 4.4374, 4.2124, 4.9942, 3.9298], \"coloraxis\": \"coloraxis\", \"opacity\": 0.5, \"symbol\": \"circle\"}, \"mode\": \"markers+text\", \"name\": \"\", \"showlegend\": false, \"text\": [\"SET/6 RED \", \"SET/6 RED \", \"SET/6 RED \", \"CHILDRENS \", \"SET/6 RED \", \"CHILDRENS \", \"ALARM CLOC\", \"ALARM CLOC\", \"ALARM CLOC\", \"SET/6 RED \", \"ALARM CLOC\", \"SET/6 RED \", \"ALARM CLOC\", \"ALARM CLOC\", \"SET/6 RED \", \"SET/20 RED\", \"SET/20 RED\", \"PLASTERS I\", \"SET/20 RED\", \"PLASTERS I\", \"ALARM CLOC\", \"SET/6 RED \", \"ALARM CLOC\", \"ALARM CLOC\", \"SET/6 RED \", \"DOLLY GIRL\", \"ALARM CLOC\", \"PLASTERS I\", \"PLASTERS I\", \"PLASTERS I\", \"ALARM CLOC\", \"ALARM CLOC\", \"PLASTERS I\", \"PLASTERS I\", \"PLASTERS I\", \"ROUND SNAC\", \"SPACEBOY L\", \"LUNCH BAG \", \"LUNCH BAG \", \"LUNCH BAG \", \"LUNCH BAG \", \"PLASTERS I\", \"STRAWBERRY\", \"LUNCH BAG \", \"LUNCH BAG \"], \"textposition\": \"top center\", \"type\": \"scatter\", \"x\": [0.0846, 0.0846, 0.1041, 0.0542, 0.1041, 0.0542, 0.0542, 0.0542, 0.0672, 0.0846, 0.0542, 0.0868, 0.0672, 0.0629, 0.0846, 0.0868, 0.0868, 0.0586, 0.0846, 0.0889, 0.0629, 0.0868, 0.0629, 0.0629, 0.0846, 0.0607, 0.0542, 0.0586, 0.0586, 0.0781, 0.0542, 0.0542, 0.0889, 0.0868, 0.0868, 0.0542, 0.0607, 0.0564, 0.0564, 0.0564, 0.0564, 0.0781, 0.0542, 0.0564, 0.0564], \"xaxis\": \"x\", \"y\": [0.975, 0.975, 0.96, 0.9259, 0.8889, 0.8621, 0.8621, 0.8621, 0.8378, 0.8125, 0.8065, 0.8, 0.7949, 0.7838, 0.78, 0.7692, 0.7692, 0.75, 0.75, 0.7455, 0.7436, 0.7407, 0.725, 0.725, 0.7222, 0.7, 0.6757, 0.675, 0.6585, 0.6545, 0.641, 0.625, 0.6119, 0.597, 0.5882, 0.5814, 0.5714, 0.5532, 0.5417, 0.5417, 0.5417, 0.5294, 0.5208, 0.52, 0.52], \"yaxis\": \"y\"}],\n",
       "                        {\"coloraxis\": {\"colorbar\": {\"title\": {\"text\": \"lift\"}}, \"colorscale\": [[0.0, \"#0d0887\"], [0.1111111111111111, \"#46039f\"], [0.2222222222222222, \"#7201a8\"], [0.3333333333333333, \"#9c179e\"], [0.4444444444444444, \"#bd3786\"], [0.5555555555555556, \"#d8576b\"], [0.6666666666666666, \"#ed7953\"], [0.7777777777777778, \"#fb9f3a\"], [0.8888888888888888, \"#fdca26\"], [1.0, \"#f0f921\"]]}, \"height\": 800, \"legend\": {\"tracegroupgap\": 0}, \"margin\": {\"t\": 60}, \"plot_bgcolor\": \"rgb(240,240,240)\", \"template\": {\"data\": {\"bar\": [{\"error_x\": {\"color\": \"#2a3f5f\"}, \"error_y\": {\"color\": \"#2a3f5f\"}, \"marker\": {\"line\": {\"color\": \"#E5ECF6\", \"width\": 0.5}}, \"type\": \"bar\"}], \"barpolar\": [{\"marker\": {\"line\": {\"color\": \"#E5ECF6\", \"width\": 0.5}}, \"type\": \"barpolar\"}], \"carpet\": [{\"aaxis\": {\"endlinecolor\": \"#2a3f5f\", \"gridcolor\": \"white\", \"linecolor\": \"white\", \"minorgridcolor\": \"white\", \"startlinecolor\": \"#2a3f5f\"}, \"baxis\": {\"endlinecolor\": \"#2a3f5f\", \"gridcolor\": \"white\", \"linecolor\": \"white\", \"minorgridcolor\": \"white\", \"startlinecolor\": \"#2a3f5f\"}, \"type\": \"carpet\"}], \"choropleth\": [{\"colorbar\": {\"outlinewidth\": 0, \"ticks\": \"\"}, \"type\": \"choropleth\"}], \"contour\": [{\"colorbar\": {\"outlinewidth\": 0, \"ticks\": \"\"}, \"colorscale\": [[0.0, \"#0d0887\"], [0.1111111111111111, \"#46039f\"], [0.2222222222222222, \"#7201a8\"], [0.3333333333333333, \"#9c179e\"], [0.4444444444444444, \"#bd3786\"], [0.5555555555555556, \"#d8576b\"], [0.6666666666666666, \"#ed7953\"], [0.7777777777777778, \"#fb9f3a\"], [0.8888888888888888, \"#fdca26\"], [1.0, \"#f0f921\"]], \"type\": \"contour\"}], \"contourcarpet\": [{\"colorbar\": {\"outlinewidth\": 0, \"ticks\": \"\"}, \"type\": \"contourcarpet\"}], \"heatmap\": [{\"colorbar\": {\"outlinewidth\": 0, \"ticks\": \"\"}, \"colorscale\": [[0.0, \"#0d0887\"], [0.1111111111111111, \"#46039f\"], [0.2222222222222222, \"#7201a8\"], [0.3333333333333333, \"#9c179e\"], [0.4444444444444444, \"#bd3786\"], [0.5555555555555556, \"#d8576b\"], [0.6666666666666666, \"#ed7953\"], [0.7777777777777778, \"#fb9f3a\"], [0.8888888888888888, \"#fdca26\"], [1.0, \"#f0f921\"]], \"type\": \"heatmap\"}], \"heatmapgl\": [{\"colorbar\": {\"outlinewidth\": 0, \"ticks\": \"\"}, \"colorscale\": [[0.0, \"#0d0887\"], [0.1111111111111111, \"#46039f\"], [0.2222222222222222, \"#7201a8\"], [0.3333333333333333, \"#9c179e\"], [0.4444444444444444, \"#bd3786\"], [0.5555555555555556, \"#d8576b\"], [0.6666666666666666, \"#ed7953\"], [0.7777777777777778, \"#fb9f3a\"], [0.8888888888888888, \"#fdca26\"], [1.0, \"#f0f921\"]], \"type\": \"heatmapgl\"}], \"histogram\": [{\"marker\": {\"colorbar\": {\"outlinewidth\": 0, \"ticks\": \"\"}}, \"type\": \"histogram\"}], \"histogram2d\": [{\"colorbar\": {\"outlinewidth\": 0, \"ticks\": \"\"}, \"colorscale\": [[0.0, \"#0d0887\"], [0.1111111111111111, \"#46039f\"], [0.2222222222222222, \"#7201a8\"], [0.3333333333333333, \"#9c179e\"], [0.4444444444444444, \"#bd3786\"], [0.5555555555555556, \"#d8576b\"], [0.6666666666666666, \"#ed7953\"], [0.7777777777777778, \"#fb9f3a\"], [0.8888888888888888, \"#fdca26\"], [1.0, \"#f0f921\"]], \"type\": \"histogram2d\"}], \"histogram2dcontour\": [{\"colorbar\": {\"outlinewidth\": 0, \"ticks\": \"\"}, \"colorscale\": [[0.0, \"#0d0887\"], [0.1111111111111111, \"#46039f\"], [0.2222222222222222, \"#7201a8\"], [0.3333333333333333, \"#9c179e\"], [0.4444444444444444, \"#bd3786\"], [0.5555555555555556, \"#d8576b\"], [0.6666666666666666, \"#ed7953\"], [0.7777777777777778, \"#fb9f3a\"], [0.8888888888888888, \"#fdca26\"], [1.0, \"#f0f921\"]], \"type\": \"histogram2dcontour\"}], \"mesh3d\": [{\"colorbar\": {\"outlinewidth\": 0, \"ticks\": \"\"}, \"type\": \"mesh3d\"}], \"parcoords\": [{\"line\": {\"colorbar\": {\"outlinewidth\": 0, \"ticks\": \"\"}}, \"type\": \"parcoords\"}], \"pie\": [{\"automargin\": true, \"type\": \"pie\"}], \"scatter\": [{\"marker\": {\"colorbar\": {\"outlinewidth\": 0, \"ticks\": \"\"}}, \"type\": \"scatter\"}], \"scatter3d\": [{\"line\": {\"colorbar\": {\"outlinewidth\": 0, \"ticks\": \"\"}}, \"marker\": {\"colorbar\": {\"outlinewidth\": 0, \"ticks\": \"\"}}, \"type\": \"scatter3d\"}], \"scattercarpet\": [{\"marker\": {\"colorbar\": {\"outlinewidth\": 0, \"ticks\": \"\"}}, \"type\": \"scattercarpet\"}], \"scattergeo\": [{\"marker\": {\"colorbar\": {\"outlinewidth\": 0, \"ticks\": \"\"}}, \"type\": \"scattergeo\"}], \"scattergl\": [{\"marker\": {\"colorbar\": {\"outlinewidth\": 0, \"ticks\": \"\"}}, \"type\": \"scattergl\"}], \"scattermapbox\": [{\"marker\": {\"colorbar\": {\"outlinewidth\": 0, \"ticks\": \"\"}}, \"type\": \"scattermapbox\"}], \"scatterpolar\": [{\"marker\": {\"colorbar\": {\"outlinewidth\": 0, \"ticks\": \"\"}}, \"type\": \"scatterpolar\"}], \"scatterpolargl\": [{\"marker\": {\"colorbar\": {\"outlinewidth\": 0, \"ticks\": \"\"}}, \"type\": \"scatterpolargl\"}], \"scatterternary\": [{\"marker\": {\"colorbar\": {\"outlinewidth\": 0, \"ticks\": \"\"}}, \"type\": \"scatterternary\"}], \"surface\": [{\"colorbar\": {\"outlinewidth\": 0, \"ticks\": \"\"}, \"colorscale\": [[0.0, \"#0d0887\"], [0.1111111111111111, \"#46039f\"], [0.2222222222222222, \"#7201a8\"], [0.3333333333333333, \"#9c179e\"], [0.4444444444444444, \"#bd3786\"], [0.5555555555555556, \"#d8576b\"], [0.6666666666666666, \"#ed7953\"], [0.7777777777777778, \"#fb9f3a\"], [0.8888888888888888, \"#fdca26\"], [1.0, \"#f0f921\"]], \"type\": \"surface\"}], \"table\": [{\"cells\": {\"fill\": {\"color\": \"#EBF0F8\"}, \"line\": {\"color\": \"white\"}}, \"header\": {\"fill\": {\"color\": \"#C8D4E3\"}, \"line\": {\"color\": \"white\"}}, \"type\": \"table\"}]}, \"layout\": {\"annotationdefaults\": {\"arrowcolor\": \"#2a3f5f\", \"arrowhead\": 0, \"arrowwidth\": 1}, \"coloraxis\": {\"colorbar\": {\"outlinewidth\": 0, \"ticks\": \"\"}}, \"colorscale\": {\"diverging\": [[0, \"#8e0152\"], [0.1, \"#c51b7d\"], [0.2, \"#de77ae\"], [0.3, \"#f1b6da\"], [0.4, \"#fde0ef\"], [0.5, \"#f7f7f7\"], [0.6, \"#e6f5d0\"], [0.7, \"#b8e186\"], [0.8, \"#7fbc41\"], [0.9, \"#4d9221\"], [1, \"#276419\"]], \"sequential\": [[0.0, \"#0d0887\"], [0.1111111111111111, \"#46039f\"], [0.2222222222222222, \"#7201a8\"], [0.3333333333333333, \"#9c179e\"], [0.4444444444444444, \"#bd3786\"], [0.5555555555555556, \"#d8576b\"], [0.6666666666666666, \"#ed7953\"], [0.7777777777777778, \"#fb9f3a\"], [0.8888888888888888, \"#fdca26\"], [1.0, \"#f0f921\"]], \"sequentialminus\": [[0.0, \"#0d0887\"], [0.1111111111111111, \"#46039f\"], [0.2222222222222222, \"#7201a8\"], [0.3333333333333333, \"#9c179e\"], [0.4444444444444444, \"#bd3786\"], [0.5555555555555556, \"#d8576b\"], [0.6666666666666666, \"#ed7953\"], [0.7777777777777778, \"#fb9f3a\"], [0.8888888888888888, \"#fdca26\"], [1.0, \"#f0f921\"]]}, \"colorway\": [\"#636efa\", \"#EF553B\", \"#00cc96\", \"#ab63fa\", \"#FFA15A\", \"#19d3f3\", \"#FF6692\", \"#B6E880\", \"#FF97FF\", \"#FECB52\"], \"font\": {\"color\": \"#2a3f5f\"}, \"geo\": {\"bgcolor\": \"white\", \"lakecolor\": \"white\", \"landcolor\": \"#E5ECF6\", \"showlakes\": true, \"showland\": true, \"subunitcolor\": \"white\"}, \"hoverlabel\": {\"align\": \"left\"}, \"hovermode\": \"closest\", \"mapbox\": {\"style\": \"light\"}, \"paper_bgcolor\": \"white\", \"plot_bgcolor\": \"#E5ECF6\", \"polar\": {\"angularaxis\": {\"gridcolor\": \"white\", \"linecolor\": \"white\", \"ticks\": \"\"}, \"bgcolor\": \"#E5ECF6\", \"radialaxis\": {\"gridcolor\": \"white\", \"linecolor\": \"white\", \"ticks\": \"\"}}, \"scene\": {\"xaxis\": {\"backgroundcolor\": \"#E5ECF6\", \"gridcolor\": \"white\", \"gridwidth\": 2, \"linecolor\": \"white\", \"showbackground\": true, \"ticks\": \"\", \"zerolinecolor\": \"white\"}, \"yaxis\": {\"backgroundcolor\": \"#E5ECF6\", \"gridcolor\": \"white\", \"gridwidth\": 2, \"linecolor\": \"white\", \"showbackground\": true, \"ticks\": \"\", \"zerolinecolor\": \"white\"}, \"zaxis\": {\"backgroundcolor\": \"#E5ECF6\", \"gridcolor\": \"white\", \"gridwidth\": 2, \"linecolor\": \"white\", \"showbackground\": true, \"ticks\": \"\", \"zerolinecolor\": \"white\"}}, \"shapedefaults\": {\"line\": {\"color\": \"#2a3f5f\"}}, \"ternary\": {\"aaxis\": {\"gridcolor\": \"white\", \"linecolor\": \"white\", \"ticks\": \"\"}, \"baxis\": {\"gridcolor\": \"white\", \"linecolor\": \"white\", \"ticks\": \"\"}, \"bgcolor\": \"#E5ECF6\", \"caxis\": {\"gridcolor\": \"white\", \"linecolor\": \"white\", \"ticks\": \"\"}}, \"title\": {\"x\": 0.05}, \"xaxis\": {\"automargin\": true, \"gridcolor\": \"white\", \"linecolor\": \"white\", \"ticks\": \"\", \"title\": {\"standoff\": 15}, \"zerolinecolor\": \"white\", \"zerolinewidth\": 2}, \"yaxis\": {\"automargin\": true, \"gridcolor\": \"white\", \"linecolor\": \"white\", \"ticks\": \"\", \"title\": {\"standoff\": 15}, \"zerolinecolor\": \"white\", \"zerolinewidth\": 2}}}, \"title\": {\"text\": \"2D Plot of Support, Confidence and Lift\"}, \"xaxis\": {\"anchor\": \"y\", \"domain\": [0.0, 1.0], \"title\": {\"text\": \"support\"}, \"type\": \"log\"}, \"yaxis\": {\"anchor\": \"x\", \"domain\": [0.0, 1.0], \"title\": {\"text\": \"confidence\"}}},\n",
       "                        {\"responsive\": true}\n",
       "                    ).then(function(){\n",
       "                            \n",
       "var gd = document.getElementById('b0b35fd3-436a-43f3-8fcd-7e71f06c99a4');\n",
       "var x = new MutationObserver(function (mutations, observer) {{\n",
       "        var display = window.getComputedStyle(gd).display;\n",
       "        if (!display || display === 'none') {{\n",
       "            console.log([gd, 'removed!']);\n",
       "            Plotly.purge(gd);\n",
       "            observer.disconnect();\n",
       "        }}\n",
       "}});\n",
       "\n",
       "// Listen for the removal of the full notebook cells\n",
       "var notebookContainer = gd.closest('#notebook-container');\n",
       "if (notebookContainer) {{\n",
       "    x.observe(notebookContainer, {childList: true});\n",
       "}}\n",
       "\n",
       "// Listen for the clearing of the current output cell\n",
       "var outputEl = gd.closest('.output');\n",
       "if (outputEl) {{\n",
       "    x.observe(outputEl, {childList: true});\n",
       "}}\n",
       "\n",
       "                        })\n",
       "                };\n",
       "                });\n",
       "            </script>\n",
       "        </div>"
      ]
     },
     "metadata": {},
     "output_type": "display_data"
    }
   ],
   "source": [
    "plot_model(arule_model2)"
   ]
  },
  {
   "cell_type": "code",
   "execution_count": 15,
   "metadata": {},
   "outputs": [
    {
     "data": {
      "text/html": [
       "        <script type=\"text/javascript\">\n",
       "        window.PlotlyConfig = {MathJaxConfig: 'local'};\n",
       "        if (window.MathJax) {MathJax.Hub.Config({SVG: {font: \"STIX-Web\"}});}\n",
       "        if (typeof require !== 'undefined') {\n",
       "        require.undef(\"plotly\");\n",
       "        requirejs.config({\n",
       "            paths: {\n",
       "                'plotly': ['https://cdn.plot.ly/plotly-latest.min']\n",
       "            }\n",
       "        });\n",
       "        require(['plotly'], function(Plotly) {\n",
       "            window._Plotly = Plotly;\n",
       "        });\n",
       "        }\n",
       "        </script>\n",
       "        "
      ]
     },
     "metadata": {},
     "output_type": "display_data"
    },
    {
     "data": {
      "application/vnd.plotly.v1+json": {
       "config": {
        "plotlyServerURL": "https://plot.ly"
       },
       "data": [
        {
         "customdata": [
          [
           "SET/6 RED SPOTTY PAPER CUPS",
           "SET/6 RED SPOTTY PAPER PLATES"
          ],
          [
           "SET/6 RED SPOTTY PAPER PLATES",
           "SET/6 RED SPOTTY PAPER CUPS"
          ],
          [
           "SET/6 RED SPOTTY PAPER PLATES",
           "SET/6 RED SPOTTY PAPER CUPS"
          ],
          [
           "CHILDRENS CUTLERY SPACEBOY ",
           "CHILDRENS CUTLERY DOLLY GIRL "
          ],
          [
           "SET/6 RED SPOTTY PAPER CUPS",
           "SET/6 RED SPOTTY PAPER PLATES"
          ],
          [
           "CHILDRENS CUTLERY DOLLY GIRL ",
           "CHILDRENS CUTLERY SPACEBOY "
          ],
          [
           "ALARM CLOCK BAKELIKE PINK",
           "ALARM CLOCK BAKELIKE GREEN"
          ],
          [
           "ALARM CLOCK BAKELIKE GREEN",
           "ALARM CLOCK BAKELIKE RED "
          ],
          [
           "ALARM CLOCK BAKELIKE RED ",
           "ALARM CLOCK BAKELIKE GREEN"
          ],
          [
           "SET/6 RED SPOTTY PAPER PLATES",
           "SET/20 RED RETROSPOT PAPER NAPKINS "
          ],
          [
           "ALARM CLOCK BAKELIKE GREEN",
           "ALARM CLOCK BAKELIKE PINK"
          ],
          [
           "SET/6 RED SPOTTY PAPER PLATES",
           "SET/20 RED RETROSPOT PAPER NAPKINS "
          ],
          [
           "ALARM CLOCK BAKELIKE GREEN",
           "ALARM CLOCK BAKELIKE RED "
          ],
          [
           "ALARM CLOCK BAKELIKE RED ",
           "ALARM CLOCK BAKELIKE PINK"
          ],
          [
           "SET/6 RED SPOTTY PAPER PLATES",
           "SET/6 RED SPOTTY PAPER CUPS"
          ],
          [
           "SET/20 RED RETROSPOT PAPER NAPKINS ",
           "SET/6 RED SPOTTY PAPER PLATES"
          ],
          [
           "SET/20 RED RETROSPOT PAPER NAPKINS ",
           "SET/6 RED SPOTTY PAPER CUPS"
          ],
          [
           "PLASTERS IN TIN SPACEBOY",
           "PLASTERS IN TIN WOODLAND ANIMALS"
          ],
          [
           "SET/20 RED RETROSPOT PAPER NAPKINS ",
           "SET/6 RED SPOTTY PAPER PLATES"
          ],
          [
           "PLASTERS IN TIN SPACEBOY",
           "PLASTERS IN TIN WOODLAND ANIMALS"
          ],
          [
           "ALARM CLOCK BAKELIKE GREEN",
           "ALARM CLOCK BAKELIKE PINK"
          ],
          [
           "SET/6 RED SPOTTY PAPER CUPS",
           "SET/20 RED RETROSPOT PAPER NAPKINS "
          ],
          [
           "ALARM CLOCK BAKELIKE PINK",
           "ALARM CLOCK BAKELIKE GREEN"
          ],
          [
           "ALARM CLOCK BAKELIKE PINK",
           "ALARM CLOCK BAKELIKE RED "
          ],
          [
           "SET/6 RED SPOTTY PAPER CUPS",
           "SET/6 RED SPOTTY PAPER PLATES"
          ],
          [
           "DOLLY GIRL LUNCH BOX",
           "SPACEBOY LUNCH BOX "
          ],
          [
           "ALARM CLOCK BAKELIKE RED ",
           "ALARM CLOCK BAKELIKE GREEN"
          ],
          [
           "PLASTERS IN TIN WOODLAND ANIMALS",
           "PLASTERS IN TIN SPACEBOY"
          ],
          [
           "PLASTERS IN TIN SPACEBOY",
           "PLASTERS IN TIN CIRCUS PARADE "
          ],
          [
           "PLASTERS IN TIN SPACEBOY",
           "PLASTERS IN TIN CIRCUS PARADE "
          ],
          [
           "ALARM CLOCK BAKELIKE GREEN",
           "ALARM CLOCK BAKELIKE PINK"
          ],
          [
           "ALARM CLOCK BAKELIKE PINK",
           "ALARM CLOCK BAKELIKE GREEN"
          ],
          [
           "PLASTERS IN TIN WOODLAND ANIMALS",
           "PLASTERS IN TIN SPACEBOY"
          ],
          [
           "PLASTERS IN TIN WOODLAND ANIMALS",
           "PLASTERS IN TIN CIRCUS PARADE "
          ],
          [
           "PLASTERS IN TIN CIRCUS PARADE ",
           "PLASTERS IN TIN WOODLAND ANIMALS"
          ],
          [
           "ROUND SNACK BOXES SET OF 4 FRUITS ",
           "ROUND SNACK BOXES SET OF4 WOODLAND "
          ],
          [
           "SPACEBOY LUNCH BOX ",
           "DOLLY GIRL LUNCH BOX"
          ],
          [
           "LUNCH BAG WOODLAND",
           "LUNCH BAG SPACEBOY DESIGN "
          ],
          [
           "LUNCH BAG SPACEBOY DESIGN ",
           "LUNCH BAG RED RETROSPOT"
          ],
          [
           "LUNCH BAG SPACEBOY DESIGN ",
           "LUNCH BAG WOODLAND"
          ],
          [
           "LUNCH BAG SPACEBOY DESIGN ",
           "LUNCH BAG APPLE DESIGN"
          ],
          [
           "PLASTERS IN TIN CIRCUS PARADE ",
           "PLASTERS IN TIN SPACEBOY"
          ],
          [
           "STRAWBERRY LUNCH BOX WITH CUTLERY",
           "LUNCH BOX WITH CUTLERY RETROSPOT "
          ],
          [
           "LUNCH BAG APPLE DESIGN",
           "LUNCH BAG SPACEBOY DESIGN "
          ],
          [
           "LUNCH BAG APPLE DESIGN",
           "LUNCH BAG RED RETROSPOT"
          ]
         ],
         "hoverlabel": {
          "namelength": 0
         },
         "hovertemplate": "support=%{x}<br>confidence=%{y}<br>lift=%{z}<br>antecedents=%{customdata[0]}<br>consequents=%{customdata[1]}<br>antecedent support=%{marker.color}",
         "legendgroup": "",
         "marker": {
          "color": [
           0.0868,
           0.0868,
           0.1085,
           0.0586,
           0.1171,
           0.0629,
           0.0629,
           0.0629,
           0.0803,
           0.1041,
           0.0672,
           0.1085,
           0.0846,
           0.0803,
           0.1085,
           0.1128,
           0.1128,
           0.0781,
           0.1128,
           0.1193,
           0.0846,
           0.1171,
           0.0868,
           0.0868,
           0.1171,
           0.0868,
           0.0803,
           0.0868,
           0.0889,
           0.1193,
           0.0846,
           0.0868,
           0.1453,
           0.1453,
           0.1475,
           0.0933,
           0.1063,
           0.102,
           0.1041,
           0.1041,
           0.1041,
           0.1475,
           0.1041,
           0.1085,
           0.1085
          ],
          "coloraxis": "coloraxis",
          "opacity": 0.7,
          "symbol": "circle"
         },
         "mode": "markers",
         "name": "",
         "scene": "scene",
         "showlegend": false,
         "type": "scatter3d",
         "x": [
          0.0846,
          0.0846,
          0.1041,
          0.0542,
          0.1041,
          0.0542,
          0.0542,
          0.0542,
          0.0672,
          0.0846,
          0.0542,
          0.0868,
          0.0672,
          0.0629,
          0.0846,
          0.0868,
          0.0868,
          0.0586,
          0.0846,
          0.0889,
          0.0629,
          0.0868,
          0.0629,
          0.0629,
          0.0846,
          0.0607,
          0.0542,
          0.0586,
          0.0586,
          0.0781,
          0.0542,
          0.0542,
          0.0889,
          0.0868,
          0.0868,
          0.0542,
          0.0607,
          0.0564,
          0.0564,
          0.0564,
          0.0564,
          0.0781,
          0.0542,
          0.0564,
          0.0564
         ],
         "y": [
          0.975,
          0.975,
          0.96,
          0.9259,
          0.8889,
          0.8621,
          0.8621,
          0.8621,
          0.8378,
          0.8125,
          0.8065,
          0.8,
          0.7949,
          0.7838,
          0.78,
          0.7692,
          0.7692,
          0.75,
          0.75,
          0.7455,
          0.7436,
          0.7407,
          0.725,
          0.725,
          0.7222,
          0.7,
          0.6757,
          0.675,
          0.6585,
          0.6545,
          0.641,
          0.625,
          0.6119,
          0.597,
          0.5882,
          0.5814,
          0.5714,
          0.5532,
          0.5417,
          0.5417,
          0.5417,
          0.5294,
          0.5208,
          0.52,
          0.52
         ],
         "z": [
          8.9895,
          8.3236,
          8.1956,
          14.719,
          8.1956,
          14.719,
          10.1901,
          10.7409,
          9.9037,
          7.2031,
          9.2944,
          7.0923,
          9.9037,
          9.0331,
          8.9895,
          7.0923,
          6.567,
          5.1604,
          7.2031,
          5.1292,
          8.5699,
          6.567,
          8.5699,
          9.0331,
          8.3236,
          6.5857,
          10.7409,
          5.6577,
          4.4645,
          4.4374,
          10.1901,
          9.2944,
          5.1292,
          4.0474,
          4.0474,
          4.1879,
          6.5857,
          5.3129,
          4.0936,
          5.3129,
          4.9942,
          4.4374,
          4.2124,
          4.9942,
          3.9298
         ]
        }
       ],
       "layout": {
        "coloraxis": {
         "colorbar": {
          "title": {
           "text": "antecedent support"
          }
         },
         "colorscale": [
          [
           0,
           "#0d0887"
          ],
          [
           0.1111111111111111,
           "#46039f"
          ],
          [
           0.2222222222222222,
           "#7201a8"
          ],
          [
           0.3333333333333333,
           "#9c179e"
          ],
          [
           0.4444444444444444,
           "#bd3786"
          ],
          [
           0.5555555555555556,
           "#d8576b"
          ],
          [
           0.6666666666666666,
           "#ed7953"
          ],
          [
           0.7777777777777778,
           "#fb9f3a"
          ],
          [
           0.8888888888888888,
           "#fdca26"
          ],
          [
           1,
           "#f0f921"
          ]
         ]
        },
        "height": 800,
        "legend": {
         "tracegroupgap": 0
        },
        "scene": {
         "domain": {
          "x": [
           0,
           1
          ],
          "y": [
           0,
           1
          ]
         },
         "xaxis": {
          "title": {
           "text": "support"
          }
         },
         "yaxis": {
          "title": {
           "text": "confidence"
          }
         },
         "zaxis": {
          "title": {
           "text": "lift"
          }
         }
        },
        "template": {
         "data": {
          "bar": [
           {
            "error_x": {
             "color": "#2a3f5f"
            },
            "error_y": {
             "color": "#2a3f5f"
            },
            "marker": {
             "line": {
              "color": "#E5ECF6",
              "width": 0.5
             }
            },
            "type": "bar"
           }
          ],
          "barpolar": [
           {
            "marker": {
             "line": {
              "color": "#E5ECF6",
              "width": 0.5
             }
            },
            "type": "barpolar"
           }
          ],
          "carpet": [
           {
            "aaxis": {
             "endlinecolor": "#2a3f5f",
             "gridcolor": "white",
             "linecolor": "white",
             "minorgridcolor": "white",
             "startlinecolor": "#2a3f5f"
            },
            "baxis": {
             "endlinecolor": "#2a3f5f",
             "gridcolor": "white",
             "linecolor": "white",
             "minorgridcolor": "white",
             "startlinecolor": "#2a3f5f"
            },
            "type": "carpet"
           }
          ],
          "choropleth": [
           {
            "colorbar": {
             "outlinewidth": 0,
             "ticks": ""
            },
            "type": "choropleth"
           }
          ],
          "contour": [
           {
            "colorbar": {
             "outlinewidth": 0,
             "ticks": ""
            },
            "colorscale": [
             [
              0,
              "#0d0887"
             ],
             [
              0.1111111111111111,
              "#46039f"
             ],
             [
              0.2222222222222222,
              "#7201a8"
             ],
             [
              0.3333333333333333,
              "#9c179e"
             ],
             [
              0.4444444444444444,
              "#bd3786"
             ],
             [
              0.5555555555555556,
              "#d8576b"
             ],
             [
              0.6666666666666666,
              "#ed7953"
             ],
             [
              0.7777777777777778,
              "#fb9f3a"
             ],
             [
              0.8888888888888888,
              "#fdca26"
             ],
             [
              1,
              "#f0f921"
             ]
            ],
            "type": "contour"
           }
          ],
          "contourcarpet": [
           {
            "colorbar": {
             "outlinewidth": 0,
             "ticks": ""
            },
            "type": "contourcarpet"
           }
          ],
          "heatmap": [
           {
            "colorbar": {
             "outlinewidth": 0,
             "ticks": ""
            },
            "colorscale": [
             [
              0,
              "#0d0887"
             ],
             [
              0.1111111111111111,
              "#46039f"
             ],
             [
              0.2222222222222222,
              "#7201a8"
             ],
             [
              0.3333333333333333,
              "#9c179e"
             ],
             [
              0.4444444444444444,
              "#bd3786"
             ],
             [
              0.5555555555555556,
              "#d8576b"
             ],
             [
              0.6666666666666666,
              "#ed7953"
             ],
             [
              0.7777777777777778,
              "#fb9f3a"
             ],
             [
              0.8888888888888888,
              "#fdca26"
             ],
             [
              1,
              "#f0f921"
             ]
            ],
            "type": "heatmap"
           }
          ],
          "heatmapgl": [
           {
            "colorbar": {
             "outlinewidth": 0,
             "ticks": ""
            },
            "colorscale": [
             [
              0,
              "#0d0887"
             ],
             [
              0.1111111111111111,
              "#46039f"
             ],
             [
              0.2222222222222222,
              "#7201a8"
             ],
             [
              0.3333333333333333,
              "#9c179e"
             ],
             [
              0.4444444444444444,
              "#bd3786"
             ],
             [
              0.5555555555555556,
              "#d8576b"
             ],
             [
              0.6666666666666666,
              "#ed7953"
             ],
             [
              0.7777777777777778,
              "#fb9f3a"
             ],
             [
              0.8888888888888888,
              "#fdca26"
             ],
             [
              1,
              "#f0f921"
             ]
            ],
            "type": "heatmapgl"
           }
          ],
          "histogram": [
           {
            "marker": {
             "colorbar": {
              "outlinewidth": 0,
              "ticks": ""
             }
            },
            "type": "histogram"
           }
          ],
          "histogram2d": [
           {
            "colorbar": {
             "outlinewidth": 0,
             "ticks": ""
            },
            "colorscale": [
             [
              0,
              "#0d0887"
             ],
             [
              0.1111111111111111,
              "#46039f"
             ],
             [
              0.2222222222222222,
              "#7201a8"
             ],
             [
              0.3333333333333333,
              "#9c179e"
             ],
             [
              0.4444444444444444,
              "#bd3786"
             ],
             [
              0.5555555555555556,
              "#d8576b"
             ],
             [
              0.6666666666666666,
              "#ed7953"
             ],
             [
              0.7777777777777778,
              "#fb9f3a"
             ],
             [
              0.8888888888888888,
              "#fdca26"
             ],
             [
              1,
              "#f0f921"
             ]
            ],
            "type": "histogram2d"
           }
          ],
          "histogram2dcontour": [
           {
            "colorbar": {
             "outlinewidth": 0,
             "ticks": ""
            },
            "colorscale": [
             [
              0,
              "#0d0887"
             ],
             [
              0.1111111111111111,
              "#46039f"
             ],
             [
              0.2222222222222222,
              "#7201a8"
             ],
             [
              0.3333333333333333,
              "#9c179e"
             ],
             [
              0.4444444444444444,
              "#bd3786"
             ],
             [
              0.5555555555555556,
              "#d8576b"
             ],
             [
              0.6666666666666666,
              "#ed7953"
             ],
             [
              0.7777777777777778,
              "#fb9f3a"
             ],
             [
              0.8888888888888888,
              "#fdca26"
             ],
             [
              1,
              "#f0f921"
             ]
            ],
            "type": "histogram2dcontour"
           }
          ],
          "mesh3d": [
           {
            "colorbar": {
             "outlinewidth": 0,
             "ticks": ""
            },
            "type": "mesh3d"
           }
          ],
          "parcoords": [
           {
            "line": {
             "colorbar": {
              "outlinewidth": 0,
              "ticks": ""
             }
            },
            "type": "parcoords"
           }
          ],
          "pie": [
           {
            "automargin": true,
            "type": "pie"
           }
          ],
          "scatter": [
           {
            "marker": {
             "colorbar": {
              "outlinewidth": 0,
              "ticks": ""
             }
            },
            "type": "scatter"
           }
          ],
          "scatter3d": [
           {
            "line": {
             "colorbar": {
              "outlinewidth": 0,
              "ticks": ""
             }
            },
            "marker": {
             "colorbar": {
              "outlinewidth": 0,
              "ticks": ""
             }
            },
            "type": "scatter3d"
           }
          ],
          "scattercarpet": [
           {
            "marker": {
             "colorbar": {
              "outlinewidth": 0,
              "ticks": ""
             }
            },
            "type": "scattercarpet"
           }
          ],
          "scattergeo": [
           {
            "marker": {
             "colorbar": {
              "outlinewidth": 0,
              "ticks": ""
             }
            },
            "type": "scattergeo"
           }
          ],
          "scattergl": [
           {
            "marker": {
             "colorbar": {
              "outlinewidth": 0,
              "ticks": ""
             }
            },
            "type": "scattergl"
           }
          ],
          "scattermapbox": [
           {
            "marker": {
             "colorbar": {
              "outlinewidth": 0,
              "ticks": ""
             }
            },
            "type": "scattermapbox"
           }
          ],
          "scatterpolar": [
           {
            "marker": {
             "colorbar": {
              "outlinewidth": 0,
              "ticks": ""
             }
            },
            "type": "scatterpolar"
           }
          ],
          "scatterpolargl": [
           {
            "marker": {
             "colorbar": {
              "outlinewidth": 0,
              "ticks": ""
             }
            },
            "type": "scatterpolargl"
           }
          ],
          "scatterternary": [
           {
            "marker": {
             "colorbar": {
              "outlinewidth": 0,
              "ticks": ""
             }
            },
            "type": "scatterternary"
           }
          ],
          "surface": [
           {
            "colorbar": {
             "outlinewidth": 0,
             "ticks": ""
            },
            "colorscale": [
             [
              0,
              "#0d0887"
             ],
             [
              0.1111111111111111,
              "#46039f"
             ],
             [
              0.2222222222222222,
              "#7201a8"
             ],
             [
              0.3333333333333333,
              "#9c179e"
             ],
             [
              0.4444444444444444,
              "#bd3786"
             ],
             [
              0.5555555555555556,
              "#d8576b"
             ],
             [
              0.6666666666666666,
              "#ed7953"
             ],
             [
              0.7777777777777778,
              "#fb9f3a"
             ],
             [
              0.8888888888888888,
              "#fdca26"
             ],
             [
              1,
              "#f0f921"
             ]
            ],
            "type": "surface"
           }
          ],
          "table": [
           {
            "cells": {
             "fill": {
              "color": "#EBF0F8"
             },
             "line": {
              "color": "white"
             }
            },
            "header": {
             "fill": {
              "color": "#C8D4E3"
             },
             "line": {
              "color": "white"
             }
            },
            "type": "table"
           }
          ]
         },
         "layout": {
          "annotationdefaults": {
           "arrowcolor": "#2a3f5f",
           "arrowhead": 0,
           "arrowwidth": 1
          },
          "coloraxis": {
           "colorbar": {
            "outlinewidth": 0,
            "ticks": ""
           }
          },
          "colorscale": {
           "diverging": [
            [
             0,
             "#8e0152"
            ],
            [
             0.1,
             "#c51b7d"
            ],
            [
             0.2,
             "#de77ae"
            ],
            [
             0.3,
             "#f1b6da"
            ],
            [
             0.4,
             "#fde0ef"
            ],
            [
             0.5,
             "#f7f7f7"
            ],
            [
             0.6,
             "#e6f5d0"
            ],
            [
             0.7,
             "#b8e186"
            ],
            [
             0.8,
             "#7fbc41"
            ],
            [
             0.9,
             "#4d9221"
            ],
            [
             1,
             "#276419"
            ]
           ],
           "sequential": [
            [
             0,
             "#0d0887"
            ],
            [
             0.1111111111111111,
             "#46039f"
            ],
            [
             0.2222222222222222,
             "#7201a8"
            ],
            [
             0.3333333333333333,
             "#9c179e"
            ],
            [
             0.4444444444444444,
             "#bd3786"
            ],
            [
             0.5555555555555556,
             "#d8576b"
            ],
            [
             0.6666666666666666,
             "#ed7953"
            ],
            [
             0.7777777777777778,
             "#fb9f3a"
            ],
            [
             0.8888888888888888,
             "#fdca26"
            ],
            [
             1,
             "#f0f921"
            ]
           ],
           "sequentialminus": [
            [
             0,
             "#0d0887"
            ],
            [
             0.1111111111111111,
             "#46039f"
            ],
            [
             0.2222222222222222,
             "#7201a8"
            ],
            [
             0.3333333333333333,
             "#9c179e"
            ],
            [
             0.4444444444444444,
             "#bd3786"
            ],
            [
             0.5555555555555556,
             "#d8576b"
            ],
            [
             0.6666666666666666,
             "#ed7953"
            ],
            [
             0.7777777777777778,
             "#fb9f3a"
            ],
            [
             0.8888888888888888,
             "#fdca26"
            ],
            [
             1,
             "#f0f921"
            ]
           ]
          },
          "colorway": [
           "#636efa",
           "#EF553B",
           "#00cc96",
           "#ab63fa",
           "#FFA15A",
           "#19d3f3",
           "#FF6692",
           "#B6E880",
           "#FF97FF",
           "#FECB52"
          ],
          "font": {
           "color": "#2a3f5f"
          },
          "geo": {
           "bgcolor": "white",
           "lakecolor": "white",
           "landcolor": "#E5ECF6",
           "showlakes": true,
           "showland": true,
           "subunitcolor": "white"
          },
          "hoverlabel": {
           "align": "left"
          },
          "hovermode": "closest",
          "mapbox": {
           "style": "light"
          },
          "paper_bgcolor": "white",
          "plot_bgcolor": "#E5ECF6",
          "polar": {
           "angularaxis": {
            "gridcolor": "white",
            "linecolor": "white",
            "ticks": ""
           },
           "bgcolor": "#E5ECF6",
           "radialaxis": {
            "gridcolor": "white",
            "linecolor": "white",
            "ticks": ""
           }
          },
          "scene": {
           "xaxis": {
            "backgroundcolor": "#E5ECF6",
            "gridcolor": "white",
            "gridwidth": 2,
            "linecolor": "white",
            "showbackground": true,
            "ticks": "",
            "zerolinecolor": "white"
           },
           "yaxis": {
            "backgroundcolor": "#E5ECF6",
            "gridcolor": "white",
            "gridwidth": 2,
            "linecolor": "white",
            "showbackground": true,
            "ticks": "",
            "zerolinecolor": "white"
           },
           "zaxis": {
            "backgroundcolor": "#E5ECF6",
            "gridcolor": "white",
            "gridwidth": 2,
            "linecolor": "white",
            "showbackground": true,
            "ticks": "",
            "zerolinecolor": "white"
           }
          },
          "shapedefaults": {
           "line": {
            "color": "#2a3f5f"
           }
          },
          "ternary": {
           "aaxis": {
            "gridcolor": "white",
            "linecolor": "white",
            "ticks": ""
           },
           "baxis": {
            "gridcolor": "white",
            "linecolor": "white",
            "ticks": ""
           },
           "bgcolor": "#E5ECF6",
           "caxis": {
            "gridcolor": "white",
            "linecolor": "white",
            "ticks": ""
           }
          },
          "title": {
           "x": 0.05
          },
          "xaxis": {
           "automargin": true,
           "gridcolor": "white",
           "linecolor": "white",
           "ticks": "",
           "title": {
            "standoff": 15
           },
           "zerolinecolor": "white",
           "zerolinewidth": 2
          },
          "yaxis": {
           "automargin": true,
           "gridcolor": "white",
           "linecolor": "white",
           "ticks": "",
           "title": {
            "standoff": 15
           },
           "zerolinecolor": "white",
           "zerolinewidth": 2
          }
         }
        },
        "title": {
         "text": "3d Plot for Rule Mining"
        },
        "width": 900
       }
      },
      "text/html": [
       "<div>\n",
       "        \n",
       "        \n",
       "            <div id=\"3406234e-aaa4-4db1-8f33-27878f40357a\" class=\"plotly-graph-div\" style=\"height:800px; width:900px;\"></div>\n",
       "            <script type=\"text/javascript\">\n",
       "                require([\"plotly\"], function(Plotly) {\n",
       "                    window.PLOTLYENV=window.PLOTLYENV || {};\n",
       "                    \n",
       "                if (document.getElementById(\"3406234e-aaa4-4db1-8f33-27878f40357a\")) {\n",
       "                    Plotly.newPlot(\n",
       "                        '3406234e-aaa4-4db1-8f33-27878f40357a',\n",
       "                        [{\"customdata\": [[\"SET/6 RED SPOTTY PAPER CUPS\", \"SET/6 RED SPOTTY PAPER PLATES\"], [\"SET/6 RED SPOTTY PAPER PLATES\", \"SET/6 RED SPOTTY PAPER CUPS\"], [\"SET/6 RED SPOTTY PAPER PLATES\", \"SET/6 RED SPOTTY PAPER CUPS\"], [\"CHILDRENS CUTLERY SPACEBOY \", \"CHILDRENS CUTLERY DOLLY GIRL \"], [\"SET/6 RED SPOTTY PAPER CUPS\", \"SET/6 RED SPOTTY PAPER PLATES\"], [\"CHILDRENS CUTLERY DOLLY GIRL \", \"CHILDRENS CUTLERY SPACEBOY \"], [\"ALARM CLOCK BAKELIKE PINK\", \"ALARM CLOCK BAKELIKE GREEN\"], [\"ALARM CLOCK BAKELIKE GREEN\", \"ALARM CLOCK BAKELIKE RED \"], [\"ALARM CLOCK BAKELIKE RED \", \"ALARM CLOCK BAKELIKE GREEN\"], [\"SET/6 RED SPOTTY PAPER PLATES\", \"SET/20 RED RETROSPOT PAPER NAPKINS \"], [\"ALARM CLOCK BAKELIKE GREEN\", \"ALARM CLOCK BAKELIKE PINK\"], [\"SET/6 RED SPOTTY PAPER PLATES\", \"SET/20 RED RETROSPOT PAPER NAPKINS \"], [\"ALARM CLOCK BAKELIKE GREEN\", \"ALARM CLOCK BAKELIKE RED \"], [\"ALARM CLOCK BAKELIKE RED \", \"ALARM CLOCK BAKELIKE PINK\"], [\"SET/6 RED SPOTTY PAPER PLATES\", \"SET/6 RED SPOTTY PAPER CUPS\"], [\"SET/20 RED RETROSPOT PAPER NAPKINS \", \"SET/6 RED SPOTTY PAPER PLATES\"], [\"SET/20 RED RETROSPOT PAPER NAPKINS \", \"SET/6 RED SPOTTY PAPER CUPS\"], [\"PLASTERS IN TIN SPACEBOY\", \"PLASTERS IN TIN WOODLAND ANIMALS\"], [\"SET/20 RED RETROSPOT PAPER NAPKINS \", \"SET/6 RED SPOTTY PAPER PLATES\"], [\"PLASTERS IN TIN SPACEBOY\", \"PLASTERS IN TIN WOODLAND ANIMALS\"], [\"ALARM CLOCK BAKELIKE GREEN\", \"ALARM CLOCK BAKELIKE PINK\"], [\"SET/6 RED SPOTTY PAPER CUPS\", \"SET/20 RED RETROSPOT PAPER NAPKINS \"], [\"ALARM CLOCK BAKELIKE PINK\", \"ALARM CLOCK BAKELIKE GREEN\"], [\"ALARM CLOCK BAKELIKE PINK\", \"ALARM CLOCK BAKELIKE RED \"], [\"SET/6 RED SPOTTY PAPER CUPS\", \"SET/6 RED SPOTTY PAPER PLATES\"], [\"DOLLY GIRL LUNCH BOX\", \"SPACEBOY LUNCH BOX \"], [\"ALARM CLOCK BAKELIKE RED \", \"ALARM CLOCK BAKELIKE GREEN\"], [\"PLASTERS IN TIN WOODLAND ANIMALS\", \"PLASTERS IN TIN SPACEBOY\"], [\"PLASTERS IN TIN SPACEBOY\", \"PLASTERS IN TIN CIRCUS PARADE \"], [\"PLASTERS IN TIN SPACEBOY\", \"PLASTERS IN TIN CIRCUS PARADE \"], [\"ALARM CLOCK BAKELIKE GREEN\", \"ALARM CLOCK BAKELIKE PINK\"], [\"ALARM CLOCK BAKELIKE PINK\", \"ALARM CLOCK BAKELIKE GREEN\"], [\"PLASTERS IN TIN WOODLAND ANIMALS\", \"PLASTERS IN TIN SPACEBOY\"], [\"PLASTERS IN TIN WOODLAND ANIMALS\", \"PLASTERS IN TIN CIRCUS PARADE \"], [\"PLASTERS IN TIN CIRCUS PARADE \", \"PLASTERS IN TIN WOODLAND ANIMALS\"], [\"ROUND SNACK BOXES SET OF 4 FRUITS \", \"ROUND SNACK BOXES SET OF4 WOODLAND \"], [\"SPACEBOY LUNCH BOX \", \"DOLLY GIRL LUNCH BOX\"], [\"LUNCH BAG WOODLAND\", \"LUNCH BAG SPACEBOY DESIGN \"], [\"LUNCH BAG SPACEBOY DESIGN \", \"LUNCH BAG RED RETROSPOT\"], [\"LUNCH BAG SPACEBOY DESIGN \", \"LUNCH BAG WOODLAND\"], [\"LUNCH BAG SPACEBOY DESIGN \", \"LUNCH BAG APPLE DESIGN\"], [\"PLASTERS IN TIN CIRCUS PARADE \", \"PLASTERS IN TIN SPACEBOY\"], [\"STRAWBERRY LUNCH BOX WITH CUTLERY\", \"LUNCH BOX WITH CUTLERY RETROSPOT \"], [\"LUNCH BAG APPLE DESIGN\", \"LUNCH BAG SPACEBOY DESIGN \"], [\"LUNCH BAG APPLE DESIGN\", \"LUNCH BAG RED RETROSPOT\"]], \"hoverlabel\": {\"namelength\": 0}, \"hovertemplate\": \"support=%{x}<br>confidence=%{y}<br>lift=%{z}<br>antecedents=%{customdata[0]}<br>consequents=%{customdata[1]}<br>antecedent support=%{marker.color}\", \"legendgroup\": \"\", \"marker\": {\"color\": [0.0868, 0.0868, 0.1085, 0.0586, 0.1171, 0.0629, 0.0629, 0.0629, 0.0803, 0.1041, 0.0672, 0.1085, 0.0846, 0.0803, 0.1085, 0.1128, 0.1128, 0.0781, 0.1128, 0.1193, 0.0846, 0.1171, 0.0868, 0.0868, 0.1171, 0.0868, 0.0803, 0.0868, 0.0889, 0.1193, 0.0846, 0.0868, 0.1453, 0.1453, 0.1475, 0.0933, 0.1063, 0.102, 0.1041, 0.1041, 0.1041, 0.1475, 0.1041, 0.1085, 0.1085], \"coloraxis\": \"coloraxis\", \"opacity\": 0.7, \"symbol\": \"circle\"}, \"mode\": \"markers\", \"name\": \"\", \"scene\": \"scene\", \"showlegend\": false, \"type\": \"scatter3d\", \"x\": [0.0846, 0.0846, 0.1041, 0.0542, 0.1041, 0.0542, 0.0542, 0.0542, 0.0672, 0.0846, 0.0542, 0.0868, 0.0672, 0.0629, 0.0846, 0.0868, 0.0868, 0.0586, 0.0846, 0.0889, 0.0629, 0.0868, 0.0629, 0.0629, 0.0846, 0.0607, 0.0542, 0.0586, 0.0586, 0.0781, 0.0542, 0.0542, 0.0889, 0.0868, 0.0868, 0.0542, 0.0607, 0.0564, 0.0564, 0.0564, 0.0564, 0.0781, 0.0542, 0.0564, 0.0564], \"y\": [0.975, 0.975, 0.96, 0.9259, 0.8889, 0.8621, 0.8621, 0.8621, 0.8378, 0.8125, 0.8065, 0.8, 0.7949, 0.7838, 0.78, 0.7692, 0.7692, 0.75, 0.75, 0.7455, 0.7436, 0.7407, 0.725, 0.725, 0.7222, 0.7, 0.6757, 0.675, 0.6585, 0.6545, 0.641, 0.625, 0.6119, 0.597, 0.5882, 0.5814, 0.5714, 0.5532, 0.5417, 0.5417, 0.5417, 0.5294, 0.5208, 0.52, 0.52], \"z\": [8.9895, 8.3236, 8.1956, 14.719, 8.1956, 14.719, 10.1901, 10.7409, 9.9037, 7.2031, 9.2944, 7.0923, 9.9037, 9.0331, 8.9895, 7.0923, 6.567, 5.1604, 7.2031, 5.1292, 8.5699, 6.567, 8.5699, 9.0331, 8.3236, 6.5857, 10.7409, 5.6577, 4.4645, 4.4374, 10.1901, 9.2944, 5.1292, 4.0474, 4.0474, 4.1879, 6.5857, 5.3129, 4.0936, 5.3129, 4.9942, 4.4374, 4.2124, 4.9942, 3.9298]}],\n",
       "                        {\"coloraxis\": {\"colorbar\": {\"title\": {\"text\": \"antecedent support\"}}, \"colorscale\": [[0.0, \"#0d0887\"], [0.1111111111111111, \"#46039f\"], [0.2222222222222222, \"#7201a8\"], [0.3333333333333333, \"#9c179e\"], [0.4444444444444444, \"#bd3786\"], [0.5555555555555556, \"#d8576b\"], [0.6666666666666666, \"#ed7953\"], [0.7777777777777778, \"#fb9f3a\"], [0.8888888888888888, \"#fdca26\"], [1.0, \"#f0f921\"]]}, \"height\": 800, \"legend\": {\"tracegroupgap\": 0}, \"scene\": {\"domain\": {\"x\": [0.0, 1.0], \"y\": [0.0, 1.0]}, \"xaxis\": {\"title\": {\"text\": \"support\"}}, \"yaxis\": {\"title\": {\"text\": \"confidence\"}}, \"zaxis\": {\"title\": {\"text\": \"lift\"}}}, \"template\": {\"data\": {\"bar\": [{\"error_x\": {\"color\": \"#2a3f5f\"}, \"error_y\": {\"color\": \"#2a3f5f\"}, \"marker\": {\"line\": {\"color\": \"#E5ECF6\", \"width\": 0.5}}, \"type\": \"bar\"}], \"barpolar\": [{\"marker\": {\"line\": {\"color\": \"#E5ECF6\", \"width\": 0.5}}, \"type\": \"barpolar\"}], \"carpet\": [{\"aaxis\": {\"endlinecolor\": \"#2a3f5f\", \"gridcolor\": \"white\", \"linecolor\": \"white\", \"minorgridcolor\": \"white\", \"startlinecolor\": \"#2a3f5f\"}, \"baxis\": {\"endlinecolor\": \"#2a3f5f\", \"gridcolor\": \"white\", \"linecolor\": \"white\", \"minorgridcolor\": \"white\", \"startlinecolor\": \"#2a3f5f\"}, \"type\": \"carpet\"}], \"choropleth\": [{\"colorbar\": {\"outlinewidth\": 0, \"ticks\": \"\"}, \"type\": \"choropleth\"}], \"contour\": [{\"colorbar\": {\"outlinewidth\": 0, \"ticks\": \"\"}, \"colorscale\": [[0.0, \"#0d0887\"], [0.1111111111111111, \"#46039f\"], [0.2222222222222222, \"#7201a8\"], [0.3333333333333333, \"#9c179e\"], [0.4444444444444444, \"#bd3786\"], [0.5555555555555556, \"#d8576b\"], [0.6666666666666666, \"#ed7953\"], [0.7777777777777778, \"#fb9f3a\"], [0.8888888888888888, \"#fdca26\"], [1.0, \"#f0f921\"]], \"type\": \"contour\"}], \"contourcarpet\": [{\"colorbar\": {\"outlinewidth\": 0, \"ticks\": \"\"}, \"type\": \"contourcarpet\"}], \"heatmap\": [{\"colorbar\": {\"outlinewidth\": 0, \"ticks\": \"\"}, \"colorscale\": [[0.0, \"#0d0887\"], [0.1111111111111111, \"#46039f\"], [0.2222222222222222, \"#7201a8\"], [0.3333333333333333, \"#9c179e\"], [0.4444444444444444, \"#bd3786\"], [0.5555555555555556, \"#d8576b\"], [0.6666666666666666, \"#ed7953\"], [0.7777777777777778, \"#fb9f3a\"], [0.8888888888888888, \"#fdca26\"], [1.0, \"#f0f921\"]], \"type\": \"heatmap\"}], \"heatmapgl\": [{\"colorbar\": {\"outlinewidth\": 0, \"ticks\": \"\"}, \"colorscale\": [[0.0, \"#0d0887\"], [0.1111111111111111, \"#46039f\"], [0.2222222222222222, \"#7201a8\"], [0.3333333333333333, \"#9c179e\"], [0.4444444444444444, \"#bd3786\"], [0.5555555555555556, \"#d8576b\"], [0.6666666666666666, \"#ed7953\"], [0.7777777777777778, \"#fb9f3a\"], [0.8888888888888888, \"#fdca26\"], [1.0, \"#f0f921\"]], \"type\": \"heatmapgl\"}], \"histogram\": [{\"marker\": {\"colorbar\": {\"outlinewidth\": 0, \"ticks\": \"\"}}, \"type\": \"histogram\"}], \"histogram2d\": [{\"colorbar\": {\"outlinewidth\": 0, \"ticks\": \"\"}, \"colorscale\": [[0.0, \"#0d0887\"], [0.1111111111111111, \"#46039f\"], [0.2222222222222222, \"#7201a8\"], [0.3333333333333333, \"#9c179e\"], [0.4444444444444444, \"#bd3786\"], [0.5555555555555556, \"#d8576b\"], [0.6666666666666666, \"#ed7953\"], [0.7777777777777778, \"#fb9f3a\"], [0.8888888888888888, \"#fdca26\"], [1.0, \"#f0f921\"]], \"type\": \"histogram2d\"}], \"histogram2dcontour\": [{\"colorbar\": {\"outlinewidth\": 0, \"ticks\": \"\"}, \"colorscale\": [[0.0, \"#0d0887\"], [0.1111111111111111, \"#46039f\"], [0.2222222222222222, \"#7201a8\"], [0.3333333333333333, \"#9c179e\"], [0.4444444444444444, \"#bd3786\"], [0.5555555555555556, \"#d8576b\"], [0.6666666666666666, \"#ed7953\"], [0.7777777777777778, \"#fb9f3a\"], [0.8888888888888888, \"#fdca26\"], [1.0, \"#f0f921\"]], \"type\": \"histogram2dcontour\"}], \"mesh3d\": [{\"colorbar\": {\"outlinewidth\": 0, \"ticks\": \"\"}, \"type\": \"mesh3d\"}], \"parcoords\": [{\"line\": {\"colorbar\": {\"outlinewidth\": 0, \"ticks\": \"\"}}, \"type\": \"parcoords\"}], \"pie\": [{\"automargin\": true, \"type\": \"pie\"}], \"scatter\": [{\"marker\": {\"colorbar\": {\"outlinewidth\": 0, \"ticks\": \"\"}}, \"type\": \"scatter\"}], \"scatter3d\": [{\"line\": {\"colorbar\": {\"outlinewidth\": 0, \"ticks\": \"\"}}, \"marker\": {\"colorbar\": {\"outlinewidth\": 0, \"ticks\": \"\"}}, \"type\": \"scatter3d\"}], \"scattercarpet\": [{\"marker\": {\"colorbar\": {\"outlinewidth\": 0, \"ticks\": \"\"}}, \"type\": \"scattercarpet\"}], \"scattergeo\": [{\"marker\": {\"colorbar\": {\"outlinewidth\": 0, \"ticks\": \"\"}}, \"type\": \"scattergeo\"}], \"scattergl\": [{\"marker\": {\"colorbar\": {\"outlinewidth\": 0, \"ticks\": \"\"}}, \"type\": \"scattergl\"}], \"scattermapbox\": [{\"marker\": {\"colorbar\": {\"outlinewidth\": 0, \"ticks\": \"\"}}, \"type\": \"scattermapbox\"}], \"scatterpolar\": [{\"marker\": {\"colorbar\": {\"outlinewidth\": 0, \"ticks\": \"\"}}, \"type\": \"scatterpolar\"}], \"scatterpolargl\": [{\"marker\": {\"colorbar\": {\"outlinewidth\": 0, \"ticks\": \"\"}}, \"type\": \"scatterpolargl\"}], \"scatterternary\": [{\"marker\": {\"colorbar\": {\"outlinewidth\": 0, \"ticks\": \"\"}}, \"type\": \"scatterternary\"}], \"surface\": [{\"colorbar\": {\"outlinewidth\": 0, \"ticks\": \"\"}, \"colorscale\": [[0.0, \"#0d0887\"], [0.1111111111111111, \"#46039f\"], [0.2222222222222222, \"#7201a8\"], [0.3333333333333333, \"#9c179e\"], [0.4444444444444444, \"#bd3786\"], [0.5555555555555556, \"#d8576b\"], [0.6666666666666666, \"#ed7953\"], [0.7777777777777778, \"#fb9f3a\"], [0.8888888888888888, \"#fdca26\"], [1.0, \"#f0f921\"]], \"type\": \"surface\"}], \"table\": [{\"cells\": {\"fill\": {\"color\": \"#EBF0F8\"}, \"line\": {\"color\": \"white\"}}, \"header\": {\"fill\": {\"color\": \"#C8D4E3\"}, \"line\": {\"color\": \"white\"}}, \"type\": \"table\"}]}, \"layout\": {\"annotationdefaults\": {\"arrowcolor\": \"#2a3f5f\", \"arrowhead\": 0, \"arrowwidth\": 1}, \"coloraxis\": {\"colorbar\": {\"outlinewidth\": 0, \"ticks\": \"\"}}, \"colorscale\": {\"diverging\": [[0, \"#8e0152\"], [0.1, \"#c51b7d\"], [0.2, \"#de77ae\"], [0.3, \"#f1b6da\"], [0.4, \"#fde0ef\"], [0.5, \"#f7f7f7\"], [0.6, \"#e6f5d0\"], [0.7, \"#b8e186\"], [0.8, \"#7fbc41\"], [0.9, \"#4d9221\"], [1, \"#276419\"]], \"sequential\": [[0.0, \"#0d0887\"], [0.1111111111111111, \"#46039f\"], [0.2222222222222222, \"#7201a8\"], [0.3333333333333333, \"#9c179e\"], [0.4444444444444444, \"#bd3786\"], [0.5555555555555556, \"#d8576b\"], [0.6666666666666666, \"#ed7953\"], [0.7777777777777778, \"#fb9f3a\"], [0.8888888888888888, \"#fdca26\"], [1.0, \"#f0f921\"]], \"sequentialminus\": [[0.0, \"#0d0887\"], [0.1111111111111111, \"#46039f\"], [0.2222222222222222, \"#7201a8\"], [0.3333333333333333, \"#9c179e\"], [0.4444444444444444, \"#bd3786\"], [0.5555555555555556, \"#d8576b\"], [0.6666666666666666, \"#ed7953\"], [0.7777777777777778, \"#fb9f3a\"], [0.8888888888888888, \"#fdca26\"], [1.0, \"#f0f921\"]]}, \"colorway\": [\"#636efa\", \"#EF553B\", \"#00cc96\", \"#ab63fa\", \"#FFA15A\", \"#19d3f3\", \"#FF6692\", \"#B6E880\", \"#FF97FF\", \"#FECB52\"], \"font\": {\"color\": \"#2a3f5f\"}, \"geo\": {\"bgcolor\": \"white\", \"lakecolor\": \"white\", \"landcolor\": \"#E5ECF6\", \"showlakes\": true, \"showland\": true, \"subunitcolor\": \"white\"}, \"hoverlabel\": {\"align\": \"left\"}, \"hovermode\": \"closest\", \"mapbox\": {\"style\": \"light\"}, \"paper_bgcolor\": \"white\", \"plot_bgcolor\": \"#E5ECF6\", \"polar\": {\"angularaxis\": {\"gridcolor\": \"white\", \"linecolor\": \"white\", \"ticks\": \"\"}, \"bgcolor\": \"#E5ECF6\", \"radialaxis\": {\"gridcolor\": \"white\", \"linecolor\": \"white\", \"ticks\": \"\"}}, \"scene\": {\"xaxis\": {\"backgroundcolor\": \"#E5ECF6\", \"gridcolor\": \"white\", \"gridwidth\": 2, \"linecolor\": \"white\", \"showbackground\": true, \"ticks\": \"\", \"zerolinecolor\": \"white\"}, \"yaxis\": {\"backgroundcolor\": \"#E5ECF6\", \"gridcolor\": \"white\", \"gridwidth\": 2, \"linecolor\": \"white\", \"showbackground\": true, \"ticks\": \"\", \"zerolinecolor\": \"white\"}, \"zaxis\": {\"backgroundcolor\": \"#E5ECF6\", \"gridcolor\": \"white\", \"gridwidth\": 2, \"linecolor\": \"white\", \"showbackground\": true, \"ticks\": \"\", \"zerolinecolor\": \"white\"}}, \"shapedefaults\": {\"line\": {\"color\": \"#2a3f5f\"}}, \"ternary\": {\"aaxis\": {\"gridcolor\": \"white\", \"linecolor\": \"white\", \"ticks\": \"\"}, \"baxis\": {\"gridcolor\": \"white\", \"linecolor\": \"white\", \"ticks\": \"\"}, \"bgcolor\": \"#E5ECF6\", \"caxis\": {\"gridcolor\": \"white\", \"linecolor\": \"white\", \"ticks\": \"\"}}, \"title\": {\"x\": 0.05}, \"xaxis\": {\"automargin\": true, \"gridcolor\": \"white\", \"linecolor\": \"white\", \"ticks\": \"\", \"title\": {\"standoff\": 15}, \"zerolinecolor\": \"white\", \"zerolinewidth\": 2}, \"yaxis\": {\"automargin\": true, \"gridcolor\": \"white\", \"linecolor\": \"white\", \"ticks\": \"\", \"title\": {\"standoff\": 15}, \"zerolinecolor\": \"white\", \"zerolinewidth\": 2}}}, \"title\": {\"text\": \"3d Plot for Rule Mining\"}, \"width\": 900},\n",
       "                        {\"responsive\": true}\n",
       "                    ).then(function(){\n",
       "                            \n",
       "var gd = document.getElementById('3406234e-aaa4-4db1-8f33-27878f40357a');\n",
       "var x = new MutationObserver(function (mutations, observer) {{\n",
       "        var display = window.getComputedStyle(gd).display;\n",
       "        if (!display || display === 'none') {{\n",
       "            console.log([gd, 'removed!']);\n",
       "            Plotly.purge(gd);\n",
       "            observer.disconnect();\n",
       "        }}\n",
       "}});\n",
       "\n",
       "// Listen for the removal of the full notebook cells\n",
       "var notebookContainer = gd.closest('#notebook-container');\n",
       "if (notebookContainer) {{\n",
       "    x.observe(notebookContainer, {childList: true});\n",
       "}}\n",
       "\n",
       "// Listen for the clearing of the current output cell\n",
       "var outputEl = gd.closest('.output');\n",
       "if (outputEl) {{\n",
       "    x.observe(outputEl, {childList: true});\n",
       "}}\n",
       "\n",
       "                        })\n",
       "                };\n",
       "                });\n",
       "            </script>\n",
       "        </div>"
      ]
     },
     "metadata": {},
     "output_type": "display_data"
    }
   ],
   "source": [
    "plot_model(arule_model2, plot='3d')"
   ]
  }
 ],
 "metadata": {
  "kernelspec": {
   "display_name": "pycaret",
   "language": "python",
   "name": "pycaret"
  },
  "language_info": {
   "codemirror_mode": {
    "name": "ipython",
    "version": 3
   },
   "file_extension": ".py",
   "mimetype": "text/x-python",
   "name": "python",
   "nbconvert_exporter": "python",
   "pygments_lexer": "ipython3",
   "version": "3.7.7"
  }
 },
 "nbformat": 4,
 "nbformat_minor": 4
}
