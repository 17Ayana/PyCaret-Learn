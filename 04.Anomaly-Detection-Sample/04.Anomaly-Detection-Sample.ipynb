{
 "cells": [
  {
   "cell_type": "markdown",
   "metadata": {},
   "source": [
    "# データセット取得（Mice Protein Expression Data Set）\n",
    "Mice Protein Expression Data Set\n",
    "\n",
    "本サンプルでは教師無しの異常検知を実施する。※PyCaret自体は教師有りの異常検知も可能\n",
    "\n",
    "データセットの詳細は<https://archive.ics.uci.edu/ml/datasets/Mice+Protein+Expression>を参照。"
   ]
  },
  {
   "cell_type": "code",
   "execution_count": 1,
   "metadata": {
    "scrolled": true
   },
   "outputs": [
    {
     "data": {
      "text/html": [
       "<div>\n",
       "<style scoped>\n",
       "    .dataframe tbody tr th:only-of-type {\n",
       "        vertical-align: middle;\n",
       "    }\n",
       "\n",
       "    .dataframe tbody tr th {\n",
       "        vertical-align: top;\n",
       "    }\n",
       "\n",
       "    .dataframe thead th {\n",
       "        text-align: right;\n",
       "    }\n",
       "</style>\n",
       "<table border=\"1\" class=\"dataframe\">\n",
       "  <thead>\n",
       "    <tr style=\"text-align: right;\">\n",
       "      <th></th>\n",
       "      <th>MouseID</th>\n",
       "      <th>DYRK1A_N</th>\n",
       "      <th>ITSN1_N</th>\n",
       "      <th>BDNF_N</th>\n",
       "      <th>NR1_N</th>\n",
       "      <th>NR2A_N</th>\n",
       "      <th>pAKT_N</th>\n",
       "      <th>pBRAF_N</th>\n",
       "      <th>pCAMKII_N</th>\n",
       "      <th>pCREB_N</th>\n",
       "      <th>...</th>\n",
       "      <th>pCFOS_N</th>\n",
       "      <th>SYP_N</th>\n",
       "      <th>H3AcK18_N</th>\n",
       "      <th>EGR1_N</th>\n",
       "      <th>H3MeK4_N</th>\n",
       "      <th>CaNA_N</th>\n",
       "      <th>Genotype</th>\n",
       "      <th>Treatment</th>\n",
       "      <th>Behavior</th>\n",
       "      <th>class</th>\n",
       "    </tr>\n",
       "  </thead>\n",
       "  <tbody>\n",
       "    <tr>\n",
       "      <th>0</th>\n",
       "      <td>309_1</td>\n",
       "      <td>0.503644</td>\n",
       "      <td>0.747193</td>\n",
       "      <td>0.430175</td>\n",
       "      <td>2.816329</td>\n",
       "      <td>5.990152</td>\n",
       "      <td>0.218830</td>\n",
       "      <td>0.177565</td>\n",
       "      <td>2.373744</td>\n",
       "      <td>0.232224</td>\n",
       "      <td>...</td>\n",
       "      <td>0.108336</td>\n",
       "      <td>0.427099</td>\n",
       "      <td>0.114783</td>\n",
       "      <td>0.131790</td>\n",
       "      <td>0.128186</td>\n",
       "      <td>1.675652</td>\n",
       "      <td>Control</td>\n",
       "      <td>Memantine</td>\n",
       "      <td>C/S</td>\n",
       "      <td>c-CS-m</td>\n",
       "    </tr>\n",
       "    <tr>\n",
       "      <th>1</th>\n",
       "      <td>309_2</td>\n",
       "      <td>0.514617</td>\n",
       "      <td>0.689064</td>\n",
       "      <td>0.411770</td>\n",
       "      <td>2.789514</td>\n",
       "      <td>5.685038</td>\n",
       "      <td>0.211636</td>\n",
       "      <td>0.172817</td>\n",
       "      <td>2.292150</td>\n",
       "      <td>0.226972</td>\n",
       "      <td>...</td>\n",
       "      <td>0.104315</td>\n",
       "      <td>0.441581</td>\n",
       "      <td>0.111974</td>\n",
       "      <td>0.135103</td>\n",
       "      <td>0.131119</td>\n",
       "      <td>1.743610</td>\n",
       "      <td>Control</td>\n",
       "      <td>Memantine</td>\n",
       "      <td>C/S</td>\n",
       "      <td>c-CS-m</td>\n",
       "    </tr>\n",
       "    <tr>\n",
       "      <th>2</th>\n",
       "      <td>309_3</td>\n",
       "      <td>0.509183</td>\n",
       "      <td>0.730247</td>\n",
       "      <td>0.418309</td>\n",
       "      <td>2.687201</td>\n",
       "      <td>5.622059</td>\n",
       "      <td>0.209011</td>\n",
       "      <td>0.175722</td>\n",
       "      <td>2.283337</td>\n",
       "      <td>0.230247</td>\n",
       "      <td>...</td>\n",
       "      <td>0.106219</td>\n",
       "      <td>0.435777</td>\n",
       "      <td>0.111883</td>\n",
       "      <td>0.133362</td>\n",
       "      <td>0.127431</td>\n",
       "      <td>1.926427</td>\n",
       "      <td>Control</td>\n",
       "      <td>Memantine</td>\n",
       "      <td>C/S</td>\n",
       "      <td>c-CS-m</td>\n",
       "    </tr>\n",
       "    <tr>\n",
       "      <th>3</th>\n",
       "      <td>309_4</td>\n",
       "      <td>0.442107</td>\n",
       "      <td>0.617076</td>\n",
       "      <td>0.358626</td>\n",
       "      <td>2.466947</td>\n",
       "      <td>4.979503</td>\n",
       "      <td>0.222886</td>\n",
       "      <td>0.176463</td>\n",
       "      <td>2.152301</td>\n",
       "      <td>0.207004</td>\n",
       "      <td>...</td>\n",
       "      <td>0.111262</td>\n",
       "      <td>0.391691</td>\n",
       "      <td>0.130405</td>\n",
       "      <td>0.147444</td>\n",
       "      <td>0.146901</td>\n",
       "      <td>1.700563</td>\n",
       "      <td>Control</td>\n",
       "      <td>Memantine</td>\n",
       "      <td>C/S</td>\n",
       "      <td>c-CS-m</td>\n",
       "    </tr>\n",
       "    <tr>\n",
       "      <th>4</th>\n",
       "      <td>309_5</td>\n",
       "      <td>0.434940</td>\n",
       "      <td>0.617430</td>\n",
       "      <td>0.358802</td>\n",
       "      <td>2.365785</td>\n",
       "      <td>4.718679</td>\n",
       "      <td>0.213106</td>\n",
       "      <td>0.173627</td>\n",
       "      <td>2.134014</td>\n",
       "      <td>0.192158</td>\n",
       "      <td>...</td>\n",
       "      <td>0.110694</td>\n",
       "      <td>0.434154</td>\n",
       "      <td>0.118481</td>\n",
       "      <td>0.140314</td>\n",
       "      <td>0.148380</td>\n",
       "      <td>1.839730</td>\n",
       "      <td>Control</td>\n",
       "      <td>Memantine</td>\n",
       "      <td>C/S</td>\n",
       "      <td>c-CS-m</td>\n",
       "    </tr>\n",
       "  </tbody>\n",
       "</table>\n",
       "<p>5 rows × 82 columns</p>\n",
       "</div>"
      ],
      "text/plain": [
       "  MouseID  DYRK1A_N   ITSN1_N    BDNF_N     NR1_N    NR2A_N    pAKT_N  \\\n",
       "0   309_1  0.503644  0.747193  0.430175  2.816329  5.990152  0.218830   \n",
       "1   309_2  0.514617  0.689064  0.411770  2.789514  5.685038  0.211636   \n",
       "2   309_3  0.509183  0.730247  0.418309  2.687201  5.622059  0.209011   \n",
       "3   309_4  0.442107  0.617076  0.358626  2.466947  4.979503  0.222886   \n",
       "4   309_5  0.434940  0.617430  0.358802  2.365785  4.718679  0.213106   \n",
       "\n",
       "    pBRAF_N  pCAMKII_N   pCREB_N  ...   pCFOS_N     SYP_N  H3AcK18_N  \\\n",
       "0  0.177565   2.373744  0.232224  ...  0.108336  0.427099   0.114783   \n",
       "1  0.172817   2.292150  0.226972  ...  0.104315  0.441581   0.111974   \n",
       "2  0.175722   2.283337  0.230247  ...  0.106219  0.435777   0.111883   \n",
       "3  0.176463   2.152301  0.207004  ...  0.111262  0.391691   0.130405   \n",
       "4  0.173627   2.134014  0.192158  ...  0.110694  0.434154   0.118481   \n",
       "\n",
       "     EGR1_N  H3MeK4_N    CaNA_N  Genotype  Treatment  Behavior   class  \n",
       "0  0.131790  0.128186  1.675652   Control  Memantine       C/S  c-CS-m  \n",
       "1  0.135103  0.131119  1.743610   Control  Memantine       C/S  c-CS-m  \n",
       "2  0.133362  0.127431  1.926427   Control  Memantine       C/S  c-CS-m  \n",
       "3  0.147444  0.146901  1.700563   Control  Memantine       C/S  c-CS-m  \n",
       "4  0.140314  0.148380  1.839730   Control  Memantine       C/S  c-CS-m  \n",
       "\n",
       "[5 rows x 82 columns]"
      ]
     },
     "metadata": {},
     "output_type": "display_data"
    }
   ],
   "source": [
    "# PyCaretチュートリアル用データセット取得\n",
    "# 詳細は<https://pycaret.org/get-data/>を参照\n",
    "from pycaret.datasets import get_data\n",
    "\n",
    "dataset = get_data('mice')\n",
    "dataset.to_csv('./dataset.csv')"
   ]
  },
  {
   "cell_type": "code",
   "execution_count": 2,
   "metadata": {},
   "outputs": [
    {
     "name": "stdout",
     "output_type": "stream",
     "text": [
      "<class 'pandas.core.frame.DataFrame'>\n",
      "RangeIndex: 1080 entries, 0 to 1079\n",
      "Data columns (total 82 columns):\n",
      " #   Column           Non-Null Count  Dtype  \n",
      "---  ------           --------------  -----  \n",
      " 0   MouseID          1080 non-null   object \n",
      " 1   DYRK1A_N         1077 non-null   float64\n",
      " 2   ITSN1_N          1077 non-null   float64\n",
      " 3   BDNF_N           1077 non-null   float64\n",
      " 4   NR1_N            1077 non-null   float64\n",
      " 5   NR2A_N           1077 non-null   float64\n",
      " 6   pAKT_N           1077 non-null   float64\n",
      " 7   pBRAF_N          1077 non-null   float64\n",
      " 8   pCAMKII_N        1077 non-null   float64\n",
      " 9   pCREB_N          1077 non-null   float64\n",
      " 10  pELK_N           1077 non-null   float64\n",
      " 11  pERK_N           1077 non-null   float64\n",
      " 12  pJNK_N           1077 non-null   float64\n",
      " 13  PKCA_N           1077 non-null   float64\n",
      " 14  pMEK_N           1077 non-null   float64\n",
      " 15  pNR1_N           1077 non-null   float64\n",
      " 16  pNR2A_N          1077 non-null   float64\n",
      " 17  pNR2B_N          1077 non-null   float64\n",
      " 18  pPKCAB_N         1077 non-null   float64\n",
      " 19  pRSK_N           1077 non-null   float64\n",
      " 20  AKT_N            1077 non-null   float64\n",
      " 21  BRAF_N           1077 non-null   float64\n",
      " 22  CAMKII_N         1077 non-null   float64\n",
      " 23  CREB_N           1077 non-null   float64\n",
      " 24  ELK_N            1062 non-null   float64\n",
      " 25  ERK_N            1077 non-null   float64\n",
      " 26  GSK3B_N          1077 non-null   float64\n",
      " 27  JNK_N            1077 non-null   float64\n",
      " 28  MEK_N            1073 non-null   float64\n",
      " 29  TRKA_N           1077 non-null   float64\n",
      " 30  RSK_N            1077 non-null   float64\n",
      " 31  APP_N            1077 non-null   float64\n",
      " 32  Bcatenin_N       1062 non-null   float64\n",
      " 33  SOD1_N           1077 non-null   float64\n",
      " 34  MTOR_N           1077 non-null   float64\n",
      " 35  P38_N            1077 non-null   float64\n",
      " 36  pMTOR_N          1077 non-null   float64\n",
      " 37  DSCR1_N          1077 non-null   float64\n",
      " 38  AMPKA_N          1077 non-null   float64\n",
      " 39  NR2B_N           1077 non-null   float64\n",
      " 40  pNUMB_N          1077 non-null   float64\n",
      " 41  RAPTOR_N         1077 non-null   float64\n",
      " 42  TIAM1_N          1077 non-null   float64\n",
      " 43  pP70S6_N         1077 non-null   float64\n",
      " 44  NUMB_N           1080 non-null   float64\n",
      " 45  P70S6_N          1080 non-null   float64\n",
      " 46  pGSK3B_N         1080 non-null   float64\n",
      " 47  pPKCG_N          1080 non-null   float64\n",
      " 48  CDK5_N           1080 non-null   float64\n",
      " 49  S6_N             1080 non-null   float64\n",
      " 50  ADARB1_N         1080 non-null   float64\n",
      " 51  AcetylH3K9_N     1080 non-null   float64\n",
      " 52  RRP1_N           1080 non-null   float64\n",
      " 53  BAX_N            1080 non-null   float64\n",
      " 54  ARC_N            1080 non-null   float64\n",
      " 55  ERBB4_N          1080 non-null   float64\n",
      " 56  nNOS_N           1080 non-null   float64\n",
      " 57  Tau_N            1080 non-null   float64\n",
      " 58  GFAP_N           1080 non-null   float64\n",
      " 59  GluR3_N          1080 non-null   float64\n",
      " 60  GluR4_N          1080 non-null   float64\n",
      " 61  IL1B_N           1080 non-null   float64\n",
      " 62  P3525_N          1080 non-null   float64\n",
      " 63  pCASP9_N         1080 non-null   float64\n",
      " 64  PSD95_N          1080 non-null   float64\n",
      " 65  SNCA_N           1080 non-null   float64\n",
      " 66  Ubiquitin_N      1080 non-null   float64\n",
      " 67  pGSK3B_Tyr216_N  1080 non-null   float64\n",
      " 68  SHH_N            1080 non-null   float64\n",
      " 69  BAD_N            867 non-null    float64\n",
      " 70  BCL2_N           795 non-null    float64\n",
      " 71  pS6_N            1080 non-null   float64\n",
      " 72  pCFOS_N          1005 non-null   float64\n",
      " 73  SYP_N            1080 non-null   float64\n",
      " 74  H3AcK18_N        900 non-null    float64\n",
      " 75  EGR1_N           870 non-null    float64\n",
      " 76  H3MeK4_N         810 non-null    float64\n",
      " 77  CaNA_N           1080 non-null   float64\n",
      " 78  Genotype         1080 non-null   object \n",
      " 79  Treatment        1080 non-null   object \n",
      " 80  Behavior         1080 non-null   object \n",
      " 81  class            1080 non-null   object \n",
      "dtypes: float64(77), object(5)\n",
      "memory usage: 692.0+ KB\n"
     ]
    }
   ],
   "source": [
    "dataset.info()"
   ]
  },
  {
   "cell_type": "code",
   "execution_count": 3,
   "metadata": {},
   "outputs": [
    {
     "name": "stdout",
     "output_type": "stream",
     "text": [
      "データ      ：(1080, 82) RangeIndex(start=0, stop=1080, step=1)\n",
      "学習データ  ：(1026, 82) RangeIndex(start=0, stop=1026, step=1)\n",
      "テストデータ：(54, 82) RangeIndex(start=0, stop=54, step=1)\n"
     ]
    }
   ],
   "source": [
    "# 学習データ/テストデータ分割\n",
    "train_data = dataset.sample(frac=0.95, random_state=42).reset_index(drop=True)\n",
    "test_data = dataset.drop(train_data.index).reset_index(drop=True)\n",
    "\n",
    "print('データ      ：' + str(dataset.shape) + ' ' + str(dataset.index))\n",
    "print('学習データ  ：' + str(train_data.shape) + ' ' + str(train_data.index))\n",
    "print('テストデータ：' + str(test_data.shape) + ' ' + str(test_data.index))"
   ]
  },
  {
   "cell_type": "markdown",
   "metadata": {},
   "source": [
    "# PyCaretでのデータセットアップ"
   ]
  },
  {
   "cell_type": "code",
   "execution_count": 4,
   "metadata": {},
   "outputs": [],
   "source": [
    "# 異常検知用インポート\n",
    "from pycaret.anomaly import *"
   ]
  },
  {
   "cell_type": "code",
   "execution_count": 5,
   "metadata": {},
   "outputs": [
    {
     "name": "stdout",
     "output_type": "stream",
     "text": [
      "\n",
      "Setup Succesfully Completed!\n"
     ]
    },
    {
     "data": {
      "text/html": [
       "<style  type=\"text/css\" >\n",
       "    #T_f577feba_863a_11ea_b03e_207918276112row2_col1 {\n",
       "            background-color:  lightgreen;\n",
       "        }    #T_f577feba_863a_11ea_b03e_207918276112row10_col1 {\n",
       "            background-color:  lightgreen;\n",
       "        }</style><table id=\"T_f577feba_863a_11ea_b03e_207918276112\" ><thead>    <tr>        <th class=\"blank level0\" ></th>        <th class=\"col_heading level0 col0\" >Description</th>        <th class=\"col_heading level0 col1\" >Value</th>    </tr></thead><tbody>\n",
       "                <tr>\n",
       "                        <th id=\"T_f577feba_863a_11ea_b03e_207918276112level0_row0\" class=\"row_heading level0 row0\" >0</th>\n",
       "                        <td id=\"T_f577feba_863a_11ea_b03e_207918276112row0_col0\" class=\"data row0 col0\" >session_id </td>\n",
       "                        <td id=\"T_f577feba_863a_11ea_b03e_207918276112row0_col1\" class=\"data row0 col1\" >42</td>\n",
       "            </tr>\n",
       "            <tr>\n",
       "                        <th id=\"T_f577feba_863a_11ea_b03e_207918276112level0_row1\" class=\"row_heading level0 row1\" >1</th>\n",
       "                        <td id=\"T_f577feba_863a_11ea_b03e_207918276112row1_col0\" class=\"data row1 col0\" >Original Data </td>\n",
       "                        <td id=\"T_f577feba_863a_11ea_b03e_207918276112row1_col1\" class=\"data row1 col1\" >(1026, 82)</td>\n",
       "            </tr>\n",
       "            <tr>\n",
       "                        <th id=\"T_f577feba_863a_11ea_b03e_207918276112level0_row2\" class=\"row_heading level0 row2\" >2</th>\n",
       "                        <td id=\"T_f577feba_863a_11ea_b03e_207918276112row2_col0\" class=\"data row2 col0\" >Missing Values </td>\n",
       "                        <td id=\"T_f577feba_863a_11ea_b03e_207918276112row2_col1\" class=\"data row2 col1\" >True</td>\n",
       "            </tr>\n",
       "            <tr>\n",
       "                        <th id=\"T_f577feba_863a_11ea_b03e_207918276112level0_row3\" class=\"row_heading level0 row3\" >3</th>\n",
       "                        <td id=\"T_f577feba_863a_11ea_b03e_207918276112row3_col0\" class=\"data row3 col0\" >Numeric Features </td>\n",
       "                        <td id=\"T_f577feba_863a_11ea_b03e_207918276112row3_col1\" class=\"data row3 col1\" >77</td>\n",
       "            </tr>\n",
       "            <tr>\n",
       "                        <th id=\"T_f577feba_863a_11ea_b03e_207918276112level0_row4\" class=\"row_heading level0 row4\" >4</th>\n",
       "                        <td id=\"T_f577feba_863a_11ea_b03e_207918276112row4_col0\" class=\"data row4 col0\" >Categorical Features </td>\n",
       "                        <td id=\"T_f577feba_863a_11ea_b03e_207918276112row4_col1\" class=\"data row4 col1\" >5</td>\n",
       "            </tr>\n",
       "            <tr>\n",
       "                        <th id=\"T_f577feba_863a_11ea_b03e_207918276112level0_row5\" class=\"row_heading level0 row5\" >5</th>\n",
       "                        <td id=\"T_f577feba_863a_11ea_b03e_207918276112row5_col0\" class=\"data row5 col0\" >Ordinal Features </td>\n",
       "                        <td id=\"T_f577feba_863a_11ea_b03e_207918276112row5_col1\" class=\"data row5 col1\" >False</td>\n",
       "            </tr>\n",
       "            <tr>\n",
       "                        <th id=\"T_f577feba_863a_11ea_b03e_207918276112level0_row6\" class=\"row_heading level0 row6\" >6</th>\n",
       "                        <td id=\"T_f577feba_863a_11ea_b03e_207918276112row6_col0\" class=\"data row6 col0\" >High Cardinality Features </td>\n",
       "                        <td id=\"T_f577feba_863a_11ea_b03e_207918276112row6_col1\" class=\"data row6 col1\" >False</td>\n",
       "            </tr>\n",
       "            <tr>\n",
       "                        <th id=\"T_f577feba_863a_11ea_b03e_207918276112level0_row7\" class=\"row_heading level0 row7\" >7</th>\n",
       "                        <td id=\"T_f577feba_863a_11ea_b03e_207918276112row7_col0\" class=\"data row7 col0\" >Transformed Data </td>\n",
       "                        <td id=\"T_f577feba_863a_11ea_b03e_207918276112row7_col1\" class=\"data row7 col1\" >(1026, 91)</td>\n",
       "            </tr>\n",
       "            <tr>\n",
       "                        <th id=\"T_f577feba_863a_11ea_b03e_207918276112level0_row8\" class=\"row_heading level0 row8\" >8</th>\n",
       "                        <td id=\"T_f577feba_863a_11ea_b03e_207918276112row8_col0\" class=\"data row8 col0\" >Numeric Imputer </td>\n",
       "                        <td id=\"T_f577feba_863a_11ea_b03e_207918276112row8_col1\" class=\"data row8 col1\" >mean</td>\n",
       "            </tr>\n",
       "            <tr>\n",
       "                        <th id=\"T_f577feba_863a_11ea_b03e_207918276112level0_row9\" class=\"row_heading level0 row9\" >9</th>\n",
       "                        <td id=\"T_f577feba_863a_11ea_b03e_207918276112row9_col0\" class=\"data row9 col0\" >Categorical Imputer </td>\n",
       "                        <td id=\"T_f577feba_863a_11ea_b03e_207918276112row9_col1\" class=\"data row9 col1\" >constant</td>\n",
       "            </tr>\n",
       "            <tr>\n",
       "                        <th id=\"T_f577feba_863a_11ea_b03e_207918276112level0_row10\" class=\"row_heading level0 row10\" >10</th>\n",
       "                        <td id=\"T_f577feba_863a_11ea_b03e_207918276112row10_col0\" class=\"data row10 col0\" >Normalize </td>\n",
       "                        <td id=\"T_f577feba_863a_11ea_b03e_207918276112row10_col1\" class=\"data row10 col1\" >True</td>\n",
       "            </tr>\n",
       "            <tr>\n",
       "                        <th id=\"T_f577feba_863a_11ea_b03e_207918276112level0_row11\" class=\"row_heading level0 row11\" >11</th>\n",
       "                        <td id=\"T_f577feba_863a_11ea_b03e_207918276112row11_col0\" class=\"data row11 col0\" >Normalize Method </td>\n",
       "                        <td id=\"T_f577feba_863a_11ea_b03e_207918276112row11_col1\" class=\"data row11 col1\" >zscore</td>\n",
       "            </tr>\n",
       "            <tr>\n",
       "                        <th id=\"T_f577feba_863a_11ea_b03e_207918276112level0_row12\" class=\"row_heading level0 row12\" >12</th>\n",
       "                        <td id=\"T_f577feba_863a_11ea_b03e_207918276112row12_col0\" class=\"data row12 col0\" >Transformation </td>\n",
       "                        <td id=\"T_f577feba_863a_11ea_b03e_207918276112row12_col1\" class=\"data row12 col1\" >False</td>\n",
       "            </tr>\n",
       "            <tr>\n",
       "                        <th id=\"T_f577feba_863a_11ea_b03e_207918276112level0_row13\" class=\"row_heading level0 row13\" >13</th>\n",
       "                        <td id=\"T_f577feba_863a_11ea_b03e_207918276112row13_col0\" class=\"data row13 col0\" >Transformation Method </td>\n",
       "                        <td id=\"T_f577feba_863a_11ea_b03e_207918276112row13_col1\" class=\"data row13 col1\" >None</td>\n",
       "            </tr>\n",
       "            <tr>\n",
       "                        <th id=\"T_f577feba_863a_11ea_b03e_207918276112level0_row14\" class=\"row_heading level0 row14\" >14</th>\n",
       "                        <td id=\"T_f577feba_863a_11ea_b03e_207918276112row14_col0\" class=\"data row14 col0\" >PCA </td>\n",
       "                        <td id=\"T_f577feba_863a_11ea_b03e_207918276112row14_col1\" class=\"data row14 col1\" >False</td>\n",
       "            </tr>\n",
       "            <tr>\n",
       "                        <th id=\"T_f577feba_863a_11ea_b03e_207918276112level0_row15\" class=\"row_heading level0 row15\" >15</th>\n",
       "                        <td id=\"T_f577feba_863a_11ea_b03e_207918276112row15_col0\" class=\"data row15 col0\" >PCA Method </td>\n",
       "                        <td id=\"T_f577feba_863a_11ea_b03e_207918276112row15_col1\" class=\"data row15 col1\" >None</td>\n",
       "            </tr>\n",
       "            <tr>\n",
       "                        <th id=\"T_f577feba_863a_11ea_b03e_207918276112level0_row16\" class=\"row_heading level0 row16\" >16</th>\n",
       "                        <td id=\"T_f577feba_863a_11ea_b03e_207918276112row16_col0\" class=\"data row16 col0\" >PCA components </td>\n",
       "                        <td id=\"T_f577feba_863a_11ea_b03e_207918276112row16_col1\" class=\"data row16 col1\" >None</td>\n",
       "            </tr>\n",
       "            <tr>\n",
       "                        <th id=\"T_f577feba_863a_11ea_b03e_207918276112level0_row17\" class=\"row_heading level0 row17\" >17</th>\n",
       "                        <td id=\"T_f577feba_863a_11ea_b03e_207918276112row17_col0\" class=\"data row17 col0\" >Ignore Low Variance </td>\n",
       "                        <td id=\"T_f577feba_863a_11ea_b03e_207918276112row17_col1\" class=\"data row17 col1\" >False</td>\n",
       "            </tr>\n",
       "            <tr>\n",
       "                        <th id=\"T_f577feba_863a_11ea_b03e_207918276112level0_row18\" class=\"row_heading level0 row18\" >18</th>\n",
       "                        <td id=\"T_f577feba_863a_11ea_b03e_207918276112row18_col0\" class=\"data row18 col0\" >Combine Rare Levels </td>\n",
       "                        <td id=\"T_f577feba_863a_11ea_b03e_207918276112row18_col1\" class=\"data row18 col1\" >False</td>\n",
       "            </tr>\n",
       "            <tr>\n",
       "                        <th id=\"T_f577feba_863a_11ea_b03e_207918276112level0_row19\" class=\"row_heading level0 row19\" >19</th>\n",
       "                        <td id=\"T_f577feba_863a_11ea_b03e_207918276112row19_col0\" class=\"data row19 col0\" >Rare Level Threshold </td>\n",
       "                        <td id=\"T_f577feba_863a_11ea_b03e_207918276112row19_col1\" class=\"data row19 col1\" >None</td>\n",
       "            </tr>\n",
       "            <tr>\n",
       "                        <th id=\"T_f577feba_863a_11ea_b03e_207918276112level0_row20\" class=\"row_heading level0 row20\" >20</th>\n",
       "                        <td id=\"T_f577feba_863a_11ea_b03e_207918276112row20_col0\" class=\"data row20 col0\" >Numeric Binning </td>\n",
       "                        <td id=\"T_f577feba_863a_11ea_b03e_207918276112row20_col1\" class=\"data row20 col1\" >False</td>\n",
       "            </tr>\n",
       "            <tr>\n",
       "                        <th id=\"T_f577feba_863a_11ea_b03e_207918276112level0_row21\" class=\"row_heading level0 row21\" >21</th>\n",
       "                        <td id=\"T_f577feba_863a_11ea_b03e_207918276112row21_col0\" class=\"data row21 col0\" >Remove Multicollinearity </td>\n",
       "                        <td id=\"T_f577feba_863a_11ea_b03e_207918276112row21_col1\" class=\"data row21 col1\" >False</td>\n",
       "            </tr>\n",
       "            <tr>\n",
       "                        <th id=\"T_f577feba_863a_11ea_b03e_207918276112level0_row22\" class=\"row_heading level0 row22\" >22</th>\n",
       "                        <td id=\"T_f577feba_863a_11ea_b03e_207918276112row22_col0\" class=\"data row22 col0\" >Multicollinearity Threshold </td>\n",
       "                        <td id=\"T_f577feba_863a_11ea_b03e_207918276112row22_col1\" class=\"data row22 col1\" >None</td>\n",
       "            </tr>\n",
       "            <tr>\n",
       "                        <th id=\"T_f577feba_863a_11ea_b03e_207918276112level0_row23\" class=\"row_heading level0 row23\" >23</th>\n",
       "                        <td id=\"T_f577feba_863a_11ea_b03e_207918276112row23_col0\" class=\"data row23 col0\" >Group Features </td>\n",
       "                        <td id=\"T_f577feba_863a_11ea_b03e_207918276112row23_col1\" class=\"data row23 col1\" >False</td>\n",
       "            </tr>\n",
       "    </tbody></table>"
      ],
      "text/plain": [
       "<pandas.io.formats.style.Styler at 0x1f085b710c8>"
      ]
     },
     "metadata": {},
     "output_type": "display_data"
    }
   ],
   "source": [
    "# 目的変数を'default'に指定しデータのセットアップを実施\n",
    "# session_idを指定することで欄数シードを固定\n",
    "# セットアップが完了するとデータの情報や前処理のパイプラインの情報が表示される\n",
    "# 詳細は<https://pycaret.org/setup/>を参照\n",
    "# \n",
    "# また、欠損値の補間等の前処理もsetup()実施時に可能\n",
    "# 前処理の詳細は<https://pycaret.org/preprocessing/>を参照\n",
    "#\n",
    "# MouseIDは個体のID値であり異常検知に悪影響を与える可能性があるため、無視するよう指定\n",
    "exp = setup(train_data, normalize = True, ignore_features = ['MouseID'], session_id =42)"
   ]
  },
  {
   "cell_type": "code",
   "execution_count": 6,
   "metadata": {},
   "outputs": [
    {
     "name": "stdout",
     "output_type": "stream",
     "text": [
      "(      DYRK1A_N   ITSN1_N    BDNF_N     NR1_N    NR2A_N    pAKT_N   pBRAF_N  \\\n",
      "0     0.259362  0.156719  0.424229  0.434794  0.826885  0.965815  1.370757   \n",
      "1    -0.966722 -1.258253 -1.816209 -1.656435 -1.226890 -1.401395 -1.565385   \n",
      "2    -0.547593 -0.405643 -0.659460 -0.733015 -0.569245 -0.346542  0.645484   \n",
      "3     0.572315  0.509521 -0.145096  0.444585 -0.016626 -0.794055 -0.604064   \n",
      "4    -0.552583 -0.374065  0.024163  0.372952 -0.271910  0.263408  0.278753   \n",
      "...        ...       ...       ...       ...       ...       ...       ...   \n",
      "1021 -0.070948  0.081524  0.286697  0.609830  1.135132  0.528333 -0.022506   \n",
      "1022  0.000266  0.323667 -0.336361 -0.336539 -0.406771  0.646013 -0.113658   \n",
      "1023 -0.520483 -0.655786 -0.815441 -1.705522 -1.611700 -0.546031  0.001961   \n",
      "1024 -0.172737  0.031457  0.292890  0.175224 -0.129002  0.447574 -0.318476   \n",
      "1025 -0.762474 -0.961390 -1.004757 -1.193196 -0.991396  0.321319  0.318207   \n",
      "\n",
      "      pCAMKII_N   pCREB_N    pELK_N  ...  Behavior_C/S  Behavior_S/C  \\\n",
      "0      0.504122  1.509486  0.232631  ...           1.0           0.0   \n",
      "1     -0.609992 -0.779749 -1.367838  ...           0.0           1.0   \n",
      "2     -0.469335  0.427068 -0.376061  ...           0.0           1.0   \n",
      "3     -0.860797 -0.605951 -0.030509  ...           1.0           0.0   \n",
      "4      0.212197  1.180875 -0.751765  ...           0.0           1.0   \n",
      "...         ...       ...       ...  ...           ...           ...   \n",
      "1021   1.308627  0.818004  0.032650  ...           0.0           1.0   \n",
      "1022   0.584394  1.123091 -0.276421  ...           1.0           0.0   \n",
      "1023  -0.543253 -1.374951 -0.651478  ...           0.0           1.0   \n",
      "1024   1.746935  1.691080 -0.564393  ...           0.0           1.0   \n",
      "1025   0.650702  0.030202 -0.552673  ...           0.0           1.0   \n",
      "\n",
      "      class_c-CS-m  class_c-CS-s  class_c-SC-m  class_c-SC-s  class_t-CS-m  \\\n",
      "0              0.0           1.0           0.0           0.0           0.0   \n",
      "1              0.0           0.0           0.0           1.0           0.0   \n",
      "2              0.0           0.0           0.0           0.0           0.0   \n",
      "3              0.0           0.0           0.0           0.0           1.0   \n",
      "4              0.0           0.0           0.0           0.0           0.0   \n",
      "...            ...           ...           ...           ...           ...   \n",
      "1021           0.0           0.0           0.0           0.0           0.0   \n",
      "1022           0.0           0.0           0.0           0.0           0.0   \n",
      "1023           0.0           0.0           1.0           0.0           0.0   \n",
      "1024           0.0           0.0           0.0           0.0           0.0   \n",
      "1025           0.0           0.0           1.0           0.0           0.0   \n",
      "\n",
      "      class_t-CS-s  class_t-SC-m  class_t-SC-s  \n",
      "0              0.0           0.0           0.0  \n",
      "1              0.0           0.0           0.0  \n",
      "2              0.0           1.0           0.0  \n",
      "3              0.0           0.0           0.0  \n",
      "4              0.0           0.0           1.0  \n",
      "...            ...           ...           ...  \n",
      "1021           0.0           1.0           0.0  \n",
      "1022           1.0           0.0           0.0  \n",
      "1023           0.0           0.0           0.0  \n",
      "1024           0.0           0.0           1.0  \n",
      "1025           0.0           0.0           0.0  \n",
      "\n",
      "[1026 rows x 91 columns],        MouseID  DYRK1A_N   ITSN1_N    BDNF_N     NR1_N    NR2A_N    pAKT_N  \\\n",
      "0     50810F_4  0.492403  0.658379  0.339319  2.446823  4.613029  0.273250   \n",
      "1       3516_9  0.182518  0.298969  0.229708  1.725425  2.699869  0.174822   \n",
      "2      3411_12  0.288450  0.515536  0.286301  2.043971  3.312488  0.218683   \n",
      "3       3416_4  0.571500  0.747993  0.311465  2.450201  3.827270  0.200075   \n",
      "4      J1291_2  0.287189  0.523557  0.319746  2.425490  3.589465  0.244044   \n",
      "...        ...       ...       ...       ...       ...       ...       ...   \n",
      "1021    3605_6  0.408919  0.639280  0.332590  2.507204  4.900172  0.255060   \n",
      "1022    3476_8  0.426918  0.700785  0.302108  2.180741  3.463838  0.259953   \n",
      "1023    362_15  0.295302  0.451999  0.278669  1.708491  2.341406  0.210388   \n",
      "1024    3491_6  0.383193  0.626562  0.332893  2.357281  3.722589  0.251702   \n",
      "1025    3419_7  0.234140  0.374374  0.269407  1.885225  2.919240  0.246452   \n",
      "\n",
      "       pBRAF_N  pCAMKII_N   pCREB_N  ...   pCFOS_N     SYP_N  H3AcK18_N  \\\n",
      "0     0.218692   4.184162  0.261280  ...  0.111444  0.295769        NaN   \n",
      "1     0.139538   2.747931  0.187309  ...  0.130490  0.399351        NaN   \n",
      "2     0.199140   2.929255  0.226304  ...  0.153438  0.506160        NaN   \n",
      "3     0.165454   2.424611  0.192925  ...  0.104537  0.384723   0.149360   \n",
      "4     0.189254   3.807835  0.250662  ...       NaN  0.305273   0.287167   \n",
      "...        ...        ...       ...  ...       ...       ...        ...   \n",
      "1021  0.181132   5.221269  0.238937  ...  0.121652  0.434677        NaN   \n",
      "1022  0.178675   4.287643  0.248795  ...  0.108801  0.489085   0.195253   \n",
      "1023  0.181792   2.833966  0.168077  ...  0.155599  0.378859   0.143575   \n",
      "1024  0.173153   5.786302  0.267148  ...  0.118284  0.572348   0.167198   \n",
      "1025  0.190317   4.373122  0.213481  ...  0.113425  0.391569   0.230912   \n",
      "\n",
      "        EGR1_N  H3MeK4_N    CaNA_N  Genotype  Treatment  Behavior   class  \n",
      "0          NaN       NaN  1.452390   Control     Saline       C/S  c-CS-s  \n",
      "1     0.220072  0.338278  1.090741   Control     Saline       S/C  c-SC-s  \n",
      "2     0.286819       NaN  1.152579    Ts65Dn  Memantine       S/C  t-SC-m  \n",
      "3          NaN       NaN  1.720202    Ts65Dn  Memantine       C/S  t-CS-m  \n",
      "4     0.127822  0.220443  1.372286    Ts65Dn     Saline       S/C  t-SC-s  \n",
      "...        ...       ...       ...       ...        ...       ...     ...  \n",
      "1021       NaN  0.186442  1.062180    Ts65Dn  Memantine       S/C  t-SC-m  \n",
      "1022  0.158957  0.218988  1.755024    Ts65Dn     Saline       C/S  t-CS-s  \n",
      "1023  0.229002  0.211235  0.930905   Control  Memantine       S/C  c-SC-m  \n",
      "1024  0.171349  0.198785  1.504422    Ts65Dn     Saline       S/C  t-SC-s  \n",
      "1025  0.167090       NaN  1.105637   Control  Memantine       S/C  c-SC-m  \n",
      "\n",
      "[1026 rows x 82 columns], 42, Pipeline(memory=None,\n",
      "         steps=[('dtypes',\n",
      "                 DataTypes_Auto_infer(categorical_features=[],\n",
      "                                      display_types=True,\n",
      "                                      features_todrop=['MouseID'],\n",
      "                                      ml_usecase='regression',\n",
      "                                      numerical_features=[],\n",
      "                                      target='dummy_target',\n",
      "                                      time_features=[])),\n",
      "                ('imputer',\n",
      "                 Simple_Imputer(categorical_strategy='not_available',\n",
      "                                numeric_strategy='mean',\n",
      "                                target_variable=None)),\n",
      "                ('new_levels1',\n",
      "                 New_Cata...\n",
      "                ('group', Empty()),\n",
      "                ('scaling',\n",
      "                 Scaling_and_Power_transformation(function_to_apply='zscore',\n",
      "                                                  random_state_quantile=42,\n",
      "                                                  target='dummy_target')),\n",
      "                ('P_transform', Empty()), ('binn', Empty()),\n",
      "                ('fix_perfect', Empty()), ('rem_outliers', Empty()),\n",
      "                ('dummy', Dummify(target='dummy_target')),\n",
      "                ('clean_names', Clean_Colum_Names()), ('fix_multi', Empty()),\n",
      "                ('pca', Empty())],\n",
      "         verbose=False), <module 'pycaret.preprocess' from 'c:\\\\users\\\\sihit\\\\.conda\\\\envs\\\\pycaret\\\\lib\\\\site-packages\\\\pycaret\\\\preprocess.py'>, [('Anomaly Setup Config',                      Description       Value\n",
      "0                    session_id           42\n",
      "1                 Original Data   (1026, 82)\n",
      "2                Missing Values         True\n",
      "3              Numeric Features           77\n",
      "4          Categorical Features            5\n",
      "5              Ordinal Features        False\n",
      "6     High Cardinality Features        False\n",
      "7              Transformed Data   (1026, 91)\n",
      "8               Numeric Imputer         mean\n",
      "9           Categorical Imputer     constant\n",
      "10                    Normalize         True\n",
      "11             Normalize Method       zscore\n",
      "12               Transformation        False\n",
      "13        Transformation Method         None\n",
      "14                          PCA        False\n",
      "15                   PCA Method         None\n",
      "16               PCA components         None\n",
      "17          Ignore Low Variance        False\n",
      "18          Combine Rare Levels        False\n",
      "19         Rare Level Threshold         None\n",
      "20              Numeric Binning        False\n",
      "21     Remove Multicollinearity        False\n",
      "22  Multicollinearity Threshold         None\n",
      "23               Group Features        False), ('Orignal Dataset',        MouseID  DYRK1A_N   ITSN1_N    BDNF_N     NR1_N    NR2A_N    pAKT_N  \\\n",
      "0     50810F_4  0.492403  0.658379  0.339319  2.446823  4.613029  0.273250   \n",
      "1       3516_9  0.182518  0.298969  0.229708  1.725425  2.699869  0.174822   \n",
      "2      3411_12  0.288450  0.515536  0.286301  2.043971  3.312488  0.218683   \n",
      "3       3416_4  0.571500  0.747993  0.311465  2.450201  3.827270  0.200075   \n",
      "4      J1291_2  0.287189  0.523557  0.319746  2.425490  3.589465  0.244044   \n",
      "...        ...       ...       ...       ...       ...       ...       ...   \n",
      "1021    3605_6  0.408919  0.639280  0.332590  2.507204  4.900172  0.255060   \n",
      "1022    3476_8  0.426918  0.700785  0.302108  2.180741  3.463838  0.259953   \n",
      "1023    362_15  0.295302  0.451999  0.278669  1.708491  2.341406  0.210388   \n",
      "1024    3491_6  0.383193  0.626562  0.332893  2.357281  3.722589  0.251702   \n",
      "1025    3419_7  0.234140  0.374374  0.269407  1.885225  2.919240  0.246452   \n",
      "\n",
      "       pBRAF_N  pCAMKII_N   pCREB_N  ...   pCFOS_N     SYP_N  H3AcK18_N  \\\n",
      "0     0.218692   4.184162  0.261280  ...  0.111444  0.295769        NaN   \n",
      "1     0.139538   2.747931  0.187309  ...  0.130490  0.399351        NaN   \n",
      "2     0.199140   2.929255  0.226304  ...  0.153438  0.506160        NaN   \n",
      "3     0.165454   2.424611  0.192925  ...  0.104537  0.384723   0.149360   \n",
      "4     0.189254   3.807835  0.250662  ...       NaN  0.305273   0.287167   \n",
      "...        ...        ...       ...  ...       ...       ...        ...   \n",
      "1021  0.181132   5.221269  0.238937  ...  0.121652  0.434677        NaN   \n",
      "1022  0.178675   4.287643  0.248795  ...  0.108801  0.489085   0.195253   \n",
      "1023  0.181792   2.833966  0.168077  ...  0.155599  0.378859   0.143575   \n",
      "1024  0.173153   5.786302  0.267148  ...  0.118284  0.572348   0.167198   \n",
      "1025  0.190317   4.373122  0.213481  ...  0.113425  0.391569   0.230912   \n",
      "\n",
      "        EGR1_N  H3MeK4_N    CaNA_N  Genotype  Treatment  Behavior   class  \n",
      "0          NaN       NaN  1.452390   Control     Saline       C/S  c-CS-s  \n",
      "1     0.220072  0.338278  1.090741   Control     Saline       S/C  c-SC-s  \n",
      "2     0.286819       NaN  1.152579    Ts65Dn  Memantine       S/C  t-SC-m  \n",
      "3          NaN       NaN  1.720202    Ts65Dn  Memantine       C/S  t-CS-m  \n",
      "4     0.127822  0.220443  1.372286    Ts65Dn     Saline       S/C  t-SC-s  \n",
      "...        ...       ...       ...       ...        ...       ...     ...  \n",
      "1021       NaN  0.186442  1.062180    Ts65Dn  Memantine       S/C  t-SC-m  \n",
      "1022  0.158957  0.218988  1.755024    Ts65Dn     Saline       C/S  t-CS-s  \n",
      "1023  0.229002  0.211235  0.930905   Control  Memantine       S/C  c-SC-m  \n",
      "1024  0.171349  0.198785  1.504422    Ts65Dn     Saline       S/C  t-SC-s  \n",
      "1025  0.167090       NaN  1.105637   Control  Memantine       S/C  c-SC-m  \n",
      "\n",
      "[1026 rows x 82 columns]), ('Transformed Dataset',       DYRK1A_N   ITSN1_N    BDNF_N     NR1_N    NR2A_N    pAKT_N   pBRAF_N  \\\n",
      "0     0.259362  0.156719  0.424229  0.434794  0.826885  0.965815  1.370757   \n",
      "1    -0.966722 -1.258253 -1.816209 -1.656435 -1.226890 -1.401395 -1.565385   \n",
      "2    -0.547593 -0.405643 -0.659460 -0.733015 -0.569245 -0.346542  0.645484   \n",
      "3     0.572315  0.509521 -0.145096  0.444585 -0.016626 -0.794055 -0.604064   \n",
      "4    -0.552583 -0.374065  0.024163  0.372952 -0.271910  0.263408  0.278753   \n",
      "...        ...       ...       ...       ...       ...       ...       ...   \n",
      "1021 -0.070948  0.081524  0.286697  0.609830  1.135132  0.528333 -0.022506   \n",
      "1022  0.000266  0.323667 -0.336361 -0.336539 -0.406771  0.646013 -0.113658   \n",
      "1023 -0.520483 -0.655786 -0.815441 -1.705522 -1.611700 -0.546031  0.001961   \n",
      "1024 -0.172737  0.031457  0.292890  0.175224 -0.129002  0.447574 -0.318476   \n",
      "1025 -0.762474 -0.961390 -1.004757 -1.193196 -0.991396  0.321319  0.318207   \n",
      "\n",
      "      pCAMKII_N   pCREB_N    pELK_N  ...  Behavior_C/S  Behavior_S/C  \\\n",
      "0      0.504122  1.509486  0.232631  ...           1.0           0.0   \n",
      "1     -0.609992 -0.779749 -1.367838  ...           0.0           1.0   \n",
      "2     -0.469335  0.427068 -0.376061  ...           0.0           1.0   \n",
      "3     -0.860797 -0.605951 -0.030509  ...           1.0           0.0   \n",
      "4      0.212197  1.180875 -0.751765  ...           0.0           1.0   \n",
      "...         ...       ...       ...  ...           ...           ...   \n",
      "1021   1.308627  0.818004  0.032650  ...           0.0           1.0   \n",
      "1022   0.584394  1.123091 -0.276421  ...           1.0           0.0   \n",
      "1023  -0.543253 -1.374951 -0.651478  ...           0.0           1.0   \n",
      "1024   1.746935  1.691080 -0.564393  ...           0.0           1.0   \n",
      "1025   0.650702  0.030202 -0.552673  ...           0.0           1.0   \n",
      "\n",
      "      class_c-CS-m  class_c-CS-s  class_c-SC-m  class_c-SC-s  class_t-CS-m  \\\n",
      "0              0.0           1.0           0.0           0.0           0.0   \n",
      "1              0.0           0.0           0.0           1.0           0.0   \n",
      "2              0.0           0.0           0.0           0.0           0.0   \n",
      "3              0.0           0.0           0.0           0.0           1.0   \n",
      "4              0.0           0.0           0.0           0.0           0.0   \n",
      "...            ...           ...           ...           ...           ...   \n",
      "1021           0.0           0.0           0.0           0.0           0.0   \n",
      "1022           0.0           0.0           0.0           0.0           0.0   \n",
      "1023           0.0           0.0           1.0           0.0           0.0   \n",
      "1024           0.0           0.0           0.0           0.0           0.0   \n",
      "1025           0.0           0.0           1.0           0.0           0.0   \n",
      "\n",
      "      class_t-CS-s  class_t-SC-m  class_t-SC-s  \n",
      "0              0.0           0.0           0.0  \n",
      "1              0.0           0.0           0.0  \n",
      "2              0.0           1.0           0.0  \n",
      "3              0.0           0.0           0.0  \n",
      "4              0.0           0.0           1.0  \n",
      "...            ...           ...           ...  \n",
      "1021           0.0           1.0           0.0  \n",
      "1022           1.0           0.0           0.0  \n",
      "1023           0.0           0.0           0.0  \n",
      "1024           0.0           0.0           1.0  \n",
      "1025           0.0           0.0           0.0  \n",
      "\n",
      "[1026 rows x 91 columns]), ('Transformation Pipeline', Pipeline(memory=None,\n",
      "         steps=[('dtypes',\n",
      "                 DataTypes_Auto_infer(categorical_features=[],\n",
      "                                      display_types=True,\n",
      "                                      features_todrop=['MouseID'],\n",
      "                                      ml_usecase='regression',\n",
      "                                      numerical_features=[],\n",
      "                                      target='dummy_target',\n",
      "                                      time_features=[])),\n",
      "                ('imputer',\n",
      "                 Simple_Imputer(categorical_strategy='not_available',\n",
      "                                numeric_strategy='mean',\n",
      "                                target_variable=None)),\n",
      "                ('new_levels1',\n",
      "                 New_Cata...\n",
      "                ('group', Empty()),\n",
      "                ('scaling',\n",
      "                 Scaling_and_Power_transformation(function_to_apply='zscore',\n",
      "                                                  random_state_quantile=42,\n",
      "                                                  target='dummy_target')),\n",
      "                ('P_transform', Empty()), ('binn', Empty()),\n",
      "                ('fix_perfect', Empty()), ('rem_outliers', Empty()),\n",
      "                ('dummy', Dummify(target='dummy_target')),\n",
      "                ('clean_names', Clean_Colum_Names()), ('fix_multi', Empty()),\n",
      "                ('pca', Empty())],\n",
      "         verbose=False))])\n"
     ]
    }
   ],
   "source": [
    "print(exp)"
   ]
  },
  {
   "cell_type": "markdown",
   "metadata": {},
   "source": [
    "# モデル生成\n",
    "以降では、例とてiForestでの生成を実施する。\n",
    "\n",
    "ver1.0.0現在使用可能なモデルは以下の通り。\n",
    "\n",
    "詳細は<https://pycaret.org/create-model/>を参照。\n",
    "\n",
    "| モデル名 | 引数での指定 |\n",
    "----|---- \n",
    "| Angle-base Outlier Detection | ‘abod’ |\n",
    "| Isolation Forest | ‘iforest’ |\n",
    "| Clustering-Based Local Outlier | ‘cluster’ |\n",
    "| Connectivity-Based Outlier Factor | ‘cof’ |\n",
    "| Histogram-based Outlier Detection | ‘histogram’ |\n",
    "| k-Nearest Neighbors Detector | ‘knn’ |\n",
    "| Local Outlier Factor | ‘lof’ |\n",
    "| One-class SVM detector | ‘svm’ |\n",
    "| Principal Component Analysis | ‘pca’ |\n",
    "| Minimum Covariance Determinant | ‘mcd’ |\n",
    "| Subspace Outlier Detection | ‘sod’ |\n",
    "| Stochastic Outlier Selection | ‘sos |"
   ]
  },
  {
   "cell_type": "code",
   "execution_count": 7,
   "metadata": {},
   "outputs": [],
   "source": [
    "# 引数で作成するモデルを指定\n",
    "iforest_model = create_model('iforest')"
   ]
  },
  {
   "cell_type": "code",
   "execution_count": 8,
   "metadata": {},
   "outputs": [
    {
     "name": "stdout",
     "output_type": "stream",
     "text": [
      "IForest(behaviour='new', bootstrap=False, contamination=0.05,\n",
      "    max_features=1.0, max_samples='auto', n_estimators=100, n_jobs=1,\n",
      "    random_state=42, verbose=0)\n"
     ]
    }
   ],
   "source": [
    "print(iforest_model)"
   ]
  },
  {
   "cell_type": "markdown",
   "metadata": {},
   "source": [
    "# モデルの割り当て\n",
    "末尾にLabel列とScore列が追加される。\n",
    "\n",
    "Label：0=正常、1=異常\n",
    "\n",
    "Score：外れ値の場合はより大きなスコアになる"
   ]
  },
  {
   "cell_type": "code",
   "execution_count": 9,
   "metadata": {},
   "outputs": [
    {
     "data": {
      "text/html": [
       "<div>\n",
       "<style scoped>\n",
       "    .dataframe tbody tr th:only-of-type {\n",
       "        vertical-align: middle;\n",
       "    }\n",
       "\n",
       "    .dataframe tbody tr th {\n",
       "        vertical-align: top;\n",
       "    }\n",
       "\n",
       "    .dataframe thead th {\n",
       "        text-align: right;\n",
       "    }\n",
       "</style>\n",
       "<table border=\"1\" class=\"dataframe\">\n",
       "  <thead>\n",
       "    <tr style=\"text-align: right;\">\n",
       "      <th></th>\n",
       "      <th>MouseID</th>\n",
       "      <th>DYRK1A_N</th>\n",
       "      <th>ITSN1_N</th>\n",
       "      <th>BDNF_N</th>\n",
       "      <th>NR1_N</th>\n",
       "      <th>NR2A_N</th>\n",
       "      <th>pAKT_N</th>\n",
       "      <th>pBRAF_N</th>\n",
       "      <th>pCAMKII_N</th>\n",
       "      <th>pCREB_N</th>\n",
       "      <th>...</th>\n",
       "      <th>H3AcK18_N</th>\n",
       "      <th>EGR1_N</th>\n",
       "      <th>H3MeK4_N</th>\n",
       "      <th>CaNA_N</th>\n",
       "      <th>Genotype</th>\n",
       "      <th>Treatment</th>\n",
       "      <th>Behavior</th>\n",
       "      <th>class</th>\n",
       "      <th>Label</th>\n",
       "      <th>Score</th>\n",
       "    </tr>\n",
       "  </thead>\n",
       "  <tbody>\n",
       "    <tr>\n",
       "      <th>0</th>\n",
       "      <td>50810F_4</td>\n",
       "      <td>0.492403</td>\n",
       "      <td>0.658379</td>\n",
       "      <td>0.339319</td>\n",
       "      <td>2.446823</td>\n",
       "      <td>4.613029</td>\n",
       "      <td>0.273250</td>\n",
       "      <td>0.218692</td>\n",
       "      <td>4.184162</td>\n",
       "      <td>0.261280</td>\n",
       "      <td>...</td>\n",
       "      <td>NaN</td>\n",
       "      <td>NaN</td>\n",
       "      <td>NaN</td>\n",
       "      <td>1.452390</td>\n",
       "      <td>Control</td>\n",
       "      <td>Saline</td>\n",
       "      <td>C/S</td>\n",
       "      <td>c-CS-s</td>\n",
       "      <td>0</td>\n",
       "      <td>-0.054857</td>\n",
       "    </tr>\n",
       "    <tr>\n",
       "      <th>1</th>\n",
       "      <td>3516_9</td>\n",
       "      <td>0.182518</td>\n",
       "      <td>0.298969</td>\n",
       "      <td>0.229708</td>\n",
       "      <td>1.725425</td>\n",
       "      <td>2.699869</td>\n",
       "      <td>0.174822</td>\n",
       "      <td>0.139538</td>\n",
       "      <td>2.747931</td>\n",
       "      <td>0.187309</td>\n",
       "      <td>...</td>\n",
       "      <td>NaN</td>\n",
       "      <td>0.220072</td>\n",
       "      <td>0.338278</td>\n",
       "      <td>1.090741</td>\n",
       "      <td>Control</td>\n",
       "      <td>Saline</td>\n",
       "      <td>S/C</td>\n",
       "      <td>c-SC-s</td>\n",
       "      <td>0</td>\n",
       "      <td>-0.010339</td>\n",
       "    </tr>\n",
       "    <tr>\n",
       "      <th>2</th>\n",
       "      <td>3411_12</td>\n",
       "      <td>0.288450</td>\n",
       "      <td>0.515536</td>\n",
       "      <td>0.286301</td>\n",
       "      <td>2.043971</td>\n",
       "      <td>3.312488</td>\n",
       "      <td>0.218683</td>\n",
       "      <td>0.199140</td>\n",
       "      <td>2.929255</td>\n",
       "      <td>0.226304</td>\n",
       "      <td>...</td>\n",
       "      <td>NaN</td>\n",
       "      <td>0.286819</td>\n",
       "      <td>NaN</td>\n",
       "      <td>1.152579</td>\n",
       "      <td>Ts65Dn</td>\n",
       "      <td>Memantine</td>\n",
       "      <td>S/C</td>\n",
       "      <td>t-SC-m</td>\n",
       "      <td>0</td>\n",
       "      <td>-0.077329</td>\n",
       "    </tr>\n",
       "    <tr>\n",
       "      <th>3</th>\n",
       "      <td>3416_4</td>\n",
       "      <td>0.571500</td>\n",
       "      <td>0.747993</td>\n",
       "      <td>0.311465</td>\n",
       "      <td>2.450201</td>\n",
       "      <td>3.827270</td>\n",
       "      <td>0.200075</td>\n",
       "      <td>0.165454</td>\n",
       "      <td>2.424611</td>\n",
       "      <td>0.192925</td>\n",
       "      <td>...</td>\n",
       "      <td>0.149360</td>\n",
       "      <td>NaN</td>\n",
       "      <td>NaN</td>\n",
       "      <td>1.720202</td>\n",
       "      <td>Ts65Dn</td>\n",
       "      <td>Memantine</td>\n",
       "      <td>C/S</td>\n",
       "      <td>t-CS-m</td>\n",
       "      <td>0</td>\n",
       "      <td>-0.094895</td>\n",
       "    </tr>\n",
       "    <tr>\n",
       "      <th>4</th>\n",
       "      <td>J1291_2</td>\n",
       "      <td>0.287189</td>\n",
       "      <td>0.523557</td>\n",
       "      <td>0.319746</td>\n",
       "      <td>2.425490</td>\n",
       "      <td>3.589465</td>\n",
       "      <td>0.244044</td>\n",
       "      <td>0.189254</td>\n",
       "      <td>3.807835</td>\n",
       "      <td>0.250662</td>\n",
       "      <td>...</td>\n",
       "      <td>0.287167</td>\n",
       "      <td>0.127822</td>\n",
       "      <td>0.220443</td>\n",
       "      <td>1.372286</td>\n",
       "      <td>Ts65Dn</td>\n",
       "      <td>Saline</td>\n",
       "      <td>S/C</td>\n",
       "      <td>t-SC-s</td>\n",
       "      <td>0</td>\n",
       "      <td>-0.074807</td>\n",
       "    </tr>\n",
       "  </tbody>\n",
       "</table>\n",
       "<p>5 rows × 84 columns</p>\n",
       "</div>"
      ],
      "text/plain": [
       "    MouseID  DYRK1A_N   ITSN1_N    BDNF_N     NR1_N    NR2A_N    pAKT_N  \\\n",
       "0  50810F_4  0.492403  0.658379  0.339319  2.446823  4.613029  0.273250   \n",
       "1    3516_9  0.182518  0.298969  0.229708  1.725425  2.699869  0.174822   \n",
       "2   3411_12  0.288450  0.515536  0.286301  2.043971  3.312488  0.218683   \n",
       "3    3416_4  0.571500  0.747993  0.311465  2.450201  3.827270  0.200075   \n",
       "4   J1291_2  0.287189  0.523557  0.319746  2.425490  3.589465  0.244044   \n",
       "\n",
       "    pBRAF_N  pCAMKII_N   pCREB_N  ...  H3AcK18_N    EGR1_N  H3MeK4_N  \\\n",
       "0  0.218692   4.184162  0.261280  ...        NaN       NaN       NaN   \n",
       "1  0.139538   2.747931  0.187309  ...        NaN  0.220072  0.338278   \n",
       "2  0.199140   2.929255  0.226304  ...        NaN  0.286819       NaN   \n",
       "3  0.165454   2.424611  0.192925  ...   0.149360       NaN       NaN   \n",
       "4  0.189254   3.807835  0.250662  ...   0.287167  0.127822  0.220443   \n",
       "\n",
       "     CaNA_N  Genotype  Treatment  Behavior   class  Label     Score  \n",
       "0  1.452390   Control     Saline       C/S  c-CS-s      0 -0.054857  \n",
       "1  1.090741   Control     Saline       S/C  c-SC-s      0 -0.010339  \n",
       "2  1.152579    Ts65Dn  Memantine       S/C  t-SC-m      0 -0.077329  \n",
       "3  1.720202    Ts65Dn  Memantine       C/S  t-CS-m      0 -0.094895  \n",
       "4  1.372286    Ts65Dn     Saline       S/C  t-SC-s      0 -0.074807  \n",
       "\n",
       "[5 rows x 84 columns]"
      ]
     },
     "execution_count": 9,
     "metadata": {},
     "output_type": "execute_result"
    }
   ],
   "source": [
    "iforest_results = assign_model(iforest_model)\n",
    "iforest_results.head()"
   ]
  },
  {
   "cell_type": "markdown",
   "metadata": {},
   "source": [
    "# モデルプロット"
   ]
  },
  {
   "cell_type": "code",
   "execution_count": 10,
   "metadata": {},
   "outputs": [
    {
     "data": {
      "text/html": [
       "        <script type=\"text/javascript\">\n",
       "        window.PlotlyConfig = {MathJaxConfig: 'local'};\n",
       "        if (window.MathJax) {MathJax.Hub.Config({SVG: {font: \"STIX-Web\"}});}\n",
       "        if (typeof require !== 'undefined') {\n",
       "        require.undef(\"plotly\");\n",
       "        requirejs.config({\n",
       "            paths: {\n",
       "                'plotly': ['https://cdn.plot.ly/plotly-latest.min']\n",
       "            }\n",
       "        });\n",
       "        require(['plotly'], function(Plotly) {\n",
       "            window._Plotly = Plotly;\n",
       "        });\n",
       "        }\n",
       "        </script>\n",
       "        "
      ]
     },
     "metadata": {},
     "output_type": "display_data"
    },
    {
     "data": {
      "application/vnd.plotly.v1+json": {
       "config": {
        "plotlyServerURL": "https://plot.ly"
       },
       "data": [
        {
         "customdata": [
          [
           "50810F_4"
          ],
          [
           "3516_9"
          ],
          [
           "3411_12"
          ],
          [
           "3416_4"
          ],
          [
           "J1291_2"
          ],
          [
           "3429_2"
          ],
          [
           "3491_2"
          ],
          [
           "3491_4"
          ],
          [
           "J3295_7"
          ],
          [
           "50810C_9"
          ],
          [
           "3525_14"
          ],
          [
           "3414_12"
          ],
          [
           "3504_5"
          ],
          [
           "294_9"
          ],
          [
           "3484_6"
          ],
          [
           "3422_14"
          ],
          [
           "3479_4"
          ],
          [
           "3488_1"
          ],
          [
           "50810B_13"
          ],
          [
           "3498_9"
          ],
          [
           "321_12"
          ],
          [
           "322_11"
          ],
          [
           "3481_6"
          ],
          [
           "3497_14"
          ],
          [
           "3490_4"
          ],
          [
           "3426_13"
          ],
          [
           "3606_13"
          ],
          [
           "3484_12"
          ],
          [
           "3517_10"
          ],
          [
           "3501_11"
          ],
          [
           "3505_12"
          ],
          [
           "361_5"
          ],
          [
           "321_7"
          ],
          [
           "364_8"
          ],
          [
           "3412_10"
          ],
          [
           "3429_3"
          ],
          [
           "3501_12"
          ],
          [
           "3415_12"
          ],
          [
           "3477_10"
          ],
          [
           "J3295_12"
          ],
          [
           "3497_15"
          ],
          [
           "293_2"
          ],
          [
           "361_3"
          ],
          [
           "3421_10"
          ],
          [
           "3491_3"
          ],
          [
           "3507_5"
          ],
          [
           "3415_14"
          ],
          [
           "320_2"
          ],
          [
           "3530_8"
          ],
          [
           "3516_4"
          ],
          [
           "3413_13"
          ],
          [
           "3481_14"
          ],
          [
           "3497_7"
          ],
          [
           "3419_5"
          ],
          [
           "3429_7"
          ],
          [
           "18899_5"
          ],
          [
           "50810E_4"
          ],
          [
           "3522_1"
          ],
          [
           "3423_4"
          ],
          [
           "3483_13"
          ],
          [
           "3422_6"
          ],
          [
           "J1291_13"
          ],
          [
           "363_3"
          ],
          [
           "365_5"
          ],
          [
           "18899_15"
          ],
          [
           "3605_10"
          ],
          [
           "3483_7"
          ],
          [
           "3424_13"
          ],
          [
           "3490_7"
          ],
          [
           "3606_1"
          ],
          [
           "J2292_6"
          ],
          [
           "3513_10"
          ],
          [
           "3416_12"
          ],
          [
           "3497_3"
          ],
          [
           "3507_9"
          ],
          [
           "3414_9"
          ],
          [
           "J3295_10"
          ],
          [
           "3421_5"
          ],
          [
           "3483_12"
          ],
          [
           "3421_1"
          ],
          [
           "362_2"
          ],
          [
           "3417_12"
          ],
          [
           "3507_3"
          ],
          [
           "321_15"
          ],
          [
           "3418_12"
          ],
          [
           "3480_7"
          ],
          [
           "293_14"
          ],
          [
           "50810A_15"
          ],
          [
           "J3295_5"
          ],
          [
           "311_9"
          ],
          [
           "50810B_5"
          ],
          [
           "3521_7"
          ],
          [
           "3488_7"
          ],
          [
           "3422_5"
          ],
          [
           "3480_11"
          ],
          [
           "3525_5"
          ],
          [
           "3498_3"
          ],
          [
           "3423_15"
          ],
          [
           "3499_12"
          ],
          [
           "3412_14"
          ],
          [
           "J2292_7"
          ],
          [
           "3530_9"
          ],
          [
           "3425_1"
          ],
          [
           "3491_10"
          ],
          [
           "3479_7"
          ],
          [
           "3414_15"
          ],
          [
           "3490_3"
          ],
          [
           "321_5"
          ],
          [
           "3605_2"
          ],
          [
           "363_6"
          ],
          [
           "3504_4"
          ],
          [
           "3426_6"
          ],
          [
           "3415_2"
          ],
          [
           "3426_11"
          ],
          [
           "309_11"
          ],
          [
           "3411_1"
          ],
          [
           "3419_4"
          ],
          [
           "3479_5"
          ],
          [
           "3419_14"
          ],
          [
           "365_6"
          ],
          [
           "18899_8"
          ],
          [
           "3420_9"
          ],
          [
           "3503_8"
          ],
          [
           "3489_14"
          ],
          [
           "3424_3"
          ],
          [
           "3499_7"
          ],
          [
           "3415_9"
          ],
          [
           "3423_9"
          ],
          [
           "3517_4"
          ],
          [
           "3605_7"
          ],
          [
           "293_9"
          ],
          [
           "3491_14"
          ],
          [
           "365_8"
          ],
          [
           "3521_5"
          ],
          [
           "3501_9"
          ],
          [
           "3502_10"
          ],
          [
           "293_11"
          ],
          [
           "3525_12"
          ],
          [
           "50810F_13"
          ],
          [
           "3415_4"
          ],
          [
           "3490_14"
          ],
          [
           "3419_15"
          ],
          [
           "50810C_10"
          ],
          [
           "3423_13"
          ],
          [
           "3534_2"
          ],
          [
           "320_10"
          ],
          [
           "320_1"
          ],
          [
           "3525_7"
          ],
          [
           "3521_2"
          ],
          [
           "321_10"
          ],
          [
           "18899_2"
          ],
          [
           "364_4"
          ],
          [
           "50810C_8"
          ],
          [
           "J2292_14"
          ],
          [
           "50810A_9"
          ],
          [
           "309_4"
          ],
          [
           "3477_8"
          ],
          [
           "365_14"
          ],
          [
           "3525_15"
          ],
          [
           "3505_11"
          ],
          [
           "50810E_5"
          ],
          [
           "3501_7"
          ],
          [
           "3488_13"
          ],
          [
           "321_14"
          ],
          [
           "322_4"
          ],
          [
           "3422_1"
          ],
          [
           "3480_8"
          ],
          [
           "3499_11"
          ],
          [
           "3412_4"
          ],
          [
           "3416_3"
          ],
          [
           "3479_3"
          ],
          [
           "J1291_5"
          ],
          [
           "J2292_12"
          ],
          [
           "3490_5"
          ],
          [
           "3503_4"
          ],
          [
           "3503_5"
          ],
          [
           "3422_8"
          ],
          [
           "50810F_1"
          ],
          [
           "3489_4"
          ],
          [
           "3420_1"
          ],
          [
           "322_7"
          ],
          [
           "365_10"
          ],
          [
           "322_8"
          ],
          [
           "3502_13"
          ],
          [
           "309_13"
          ],
          [
           "3479_2"
          ],
          [
           "3489_13"
          ],
          [
           "50810F_11"
          ],
          [
           "3516_15"
          ],
          [
           "50810B_9"
          ],
          [
           "293_12"
          ],
          [
           "3413_5"
          ],
          [
           "3478_5"
          ],
          [
           "3420_6"
          ],
          [
           "3422_11"
          ],
          [
           "365_15"
          ],
          [
           "3525_3"
          ],
          [
           "3517_14"
          ],
          [
           "18899_9"
          ],
          [
           "3476_15"
          ],
          [
           "3500_7"
          ],
          [
           "3517_1"
          ],
          [
           "3480_2"
          ],
          [
           "309_3"
          ],
          [
           "3481_15"
          ],
          [
           "3411_13"
          ],
          [
           "3534_7"
          ],
          [
           "3483_10"
          ],
          [
           "3525_2"
          ],
          [
           "3478_4"
          ],
          [
           "3489_7"
          ],
          [
           "18899_4"
          ],
          [
           "50810C_2"
          ],
          [
           "3501_4"
          ],
          [
           "50810D_5"
          ],
          [
           "364_6"
          ],
          [
           "3513_5"
          ],
          [
           "3429_14"
          ],
          [
           "3504_15"
          ],
          [
           "3483_15"
          ],
          [
           "3416_7"
          ],
          [
           "3479_13"
          ],
          [
           "18899_14"
          ],
          [
           "3477_13"
          ],
          [
           "3477_9"
          ],
          [
           "3418_2"
          ],
          [
           "3500_13"
          ],
          [
           "3478_9"
          ],
          [
           "3477_7"
          ],
          [
           "3425_9"
          ],
          [
           "3480_6"
          ],
          [
           "3507_2"
          ],
          [
           "3417_6"
          ],
          [
           "321_11"
          ],
          [
           "3420_4"
          ],
          [
           "3520_1"
          ],
          [
           "J2292_3"
          ],
          [
           "311_11"
          ],
          [
           "322_13"
          ],
          [
           "3491_1"
          ],
          [
           "320_15"
          ],
          [
           "3417_3"
          ],
          [
           "3488_3"
          ],
          [
           "3418_6"
          ],
          [
           "364_11"
          ],
          [
           "J1291_4"
          ],
          [
           "50810A_1"
          ],
          [
           "50810D_9"
          ],
          [
           "50810D_7"
          ],
          [
           "365_2"
          ],
          [
           "3478_14"
          ],
          [
           "3418_5"
          ],
          [
           "50810F_5"
          ],
          [
           "3418_3"
          ],
          [
           "362_6"
          ],
          [
           "3481_11"
          ],
          [
           "3522_2"
          ],
          [
           "3484_2"
          ],
          [
           "3480_15"
          ],
          [
           "50810E_11"
          ],
          [
           "322_1"
          ],
          [
           "50810F_9"
          ],
          [
           "3499_3"
          ],
          [
           "361_8"
          ],
          [
           "362_11"
          ],
          [
           "3418_11"
          ],
          [
           "3421_15"
          ],
          [
           "50810A_5"
          ],
          [
           "3478_7"
          ],
          [
           "3413_3"
          ],
          [
           "3489_10"
          ],
          [
           "365_12"
          ],
          [
           "3507_6"
          ],
          [
           "50810B_12"
          ],
          [
           "50810B_11"
          ],
          [
           "3488_12"
          ],
          [
           "3498_1"
          ],
          [
           "3605_8"
          ],
          [
           "3416_1"
          ],
          [
           "362_7"
          ],
          [
           "361_14"
          ],
          [
           "3490_1"
          ],
          [
           "3516_2"
          ],
          [
           "3606_8"
          ],
          [
           "3521_3"
          ],
          [
           "50810B_10"
          ],
          [
           "3513_9"
          ],
          [
           "3476_1"
          ],
          [
           "3478_13"
          ],
          [
           "3504_7"
          ],
          [
           "3417_15"
          ],
          [
           "311_15"
          ],
          [
           "3412_1"
          ],
          [
           "3503_9"
          ],
          [
           "3424_14"
          ],
          [
           "3479_15"
          ],
          [
           "3606_4"
          ],
          [
           "3411_9"
          ],
          [
           "3414_3"
          ],
          [
           "3497_6"
          ],
          [
           "3421_9"
          ],
          [
           "J2292_4"
          ],
          [
           "322_6"
          ],
          [
           "3426_8"
          ],
          [
           "50810E_14"
          ],
          [
           "3484_8"
          ],
          [
           "3503_15"
          ],
          [
           "3501_13"
          ],
          [
           "3484_3"
          ],
          [
           "3420_12"
          ],
          [
           "3500_11"
          ],
          [
           "50810D_1"
          ],
          [
           "50810B_14"
          ],
          [
           "3477_6"
          ],
          [
           "3501_8"
          ],
          [
           "3530_11"
          ],
          [
           "3517_7"
          ],
          [
           "3503_10"
          ],
          [
           "3483_14"
          ],
          [
           "3423_8"
          ],
          [
           "322_12"
          ],
          [
           "3499_5"
          ],
          [
           "320_4"
          ],
          [
           "3418_7"
          ],
          [
           "362_5"
          ],
          [
           "3419_10"
          ],
          [
           "50810F_8"
          ],
          [
           "3605_4"
          ],
          [
           "3502_7"
          ],
          [
           "3415_3"
          ],
          [
           "3415_10"
          ],
          [
           "3429_1"
          ],
          [
           "3415_8"
          ],
          [
           "50810E_9"
          ],
          [
           "3481_3"
          ],
          [
           "J1291_1"
          ],
          [
           "3416_10"
          ],
          [
           "3525_1"
          ],
          [
           "3534_15"
          ],
          [
           "3606_10"
          ],
          [
           "309_6"
          ],
          [
           "3477_11"
          ],
          [
           "3605_14"
          ],
          [
           "3499_15"
          ],
          [
           "3499_8"
          ],
          [
           "3480_10"
          ],
          [
           "3429_6"
          ],
          [
           "3477_15"
          ],
          [
           "3426_9"
          ],
          [
           "3417_2"
          ],
          [
           "3426_14"
          ],
          [
           "364_12"
          ],
          [
           "3416_15"
          ],
          [
           "362_12"
          ],
          [
           "3490_12"
          ],
          [
           "50810C_11"
          ],
          [
           "3522_6"
          ],
          [
           "3488_10"
          ],
          [
           "3491_7"
          ],
          [
           "3416_13"
          ],
          [
           "3507_14"
          ],
          [
           "50810C_14"
          ],
          [
           "3503_11"
          ],
          [
           "3417_5"
          ],
          [
           "365_1"
          ],
          [
           "3422_2"
          ],
          [
           "309_10"
          ],
          [
           "50810F_6"
          ],
          [
           "3419_2"
          ],
          [
           "363_5"
          ],
          [
           "3484_11"
          ],
          [
           "3415_7"
          ],
          [
           "3414_14"
          ],
          [
           "50810E_8"
          ],
          [
           "293_7"
          ],
          [
           "3500_15"
          ],
          [
           "18899_7"
          ],
          [
           "3420_2"
          ],
          [
           "3605_11"
          ],
          [
           "3424_11"
          ],
          [
           "3516_12"
          ],
          [
           "3500_3"
          ],
          [
           "3426_2"
          ],
          [
           "3416_11"
          ],
          [
           "3423_2"
          ],
          [
           "50810B_8"
          ],
          [
           "3412_13"
          ],
          [
           "J3295_14"
          ],
          [
           "3489_5"
          ],
          [
           "3424_15"
          ],
          [
           "3525_6"
          ],
          [
           "3476_10"
          ],
          [
           "3488_5"
          ],
          [
           "3481_7"
          ],
          [
           "309_8"
          ],
          [
           "50810C_13"
          ],
          [
           "294_6"
          ],
          [
           "3480_13"
          ],
          [
           "3429_4"
          ],
          [
           "3420_14"
          ],
          [
           "3478_15"
          ],
          [
           "3522_5"
          ],
          [
           "3489_9"
          ],
          [
           "3498_4"
          ],
          [
           "3424_1"
          ],
          [
           "3505_6"
          ],
          [
           "3476_7"
          ],
          [
           "3505_5"
          ],
          [
           "361_10"
          ],
          [
           "3525_9"
          ],
          [
           "3530_6"
          ],
          [
           "3490_9"
          ],
          [
           "3513_11"
          ],
          [
           "3517_9"
          ],
          [
           "3522_9"
          ],
          [
           "3534_14"
          ],
          [
           "3530_14"
          ],
          [
           "294_14"
          ],
          [
           "3500_4"
          ],
          [
           "3416_9"
          ],
          [
           "3606_9"
          ],
          [
           "3420_3"
          ],
          [
           "3483_5"
          ],
          [
           "3415_5"
          ],
          [
           "3521_14"
          ],
          [
           "3477_3"
          ],
          [
           "3422_13"
          ],
          [
           "50810F_10"
          ],
          [
           "3414_13"
          ],
          [
           "3490_6"
          ],
          [
           "320_14"
          ],
          [
           "3422_15"
          ],
          [
           "3520_14"
          ],
          [
           "3429_15"
          ],
          [
           "3481_2"
          ],
          [
           "3414_6"
          ],
          [
           "3477_12"
          ],
          [
           "50810D_4"
          ],
          [
           "3516_6"
          ],
          [
           "363_8"
          ],
          [
           "3516_10"
          ],
          [
           "50810E_1"
          ],
          [
           "3476_5"
          ],
          [
           "309_1"
          ],
          [
           "50810F_3"
          ],
          [
           "3484_1"
          ],
          [
           "3497_8"
          ],
          [
           "3478_2"
          ],
          [
           "3534_13"
          ],
          [
           "3429_12"
          ],
          [
           "3516_13"
          ],
          [
           "3513_13"
          ],
          [
           "3525_8"
          ],
          [
           "3429_8"
          ],
          [
           "3412_8"
          ],
          [
           "3423_1"
          ],
          [
           "3520_6"
          ],
          [
           "50810C_4"
          ],
          [
           "3522_14"
          ],
          [
           "3504_2"
          ],
          [
           "3517_13"
          ],
          [
           "3499_1"
          ],
          [
           "3525_13"
          ],
          [
           "3413_2"
          ],
          [
           "3484_4"
          ],
          [
           "3490_10"
          ],
          [
           "364_5"
          ],
          [
           "50810B_4"
          ],
          [
           "3513_12"
          ],
          [
           "322_10"
          ],
          [
           "365_7"
          ],
          [
           "3520_12"
          ],
          [
           "3477_1"
          ],
          [
           "3516_3"
          ],
          [
           "3478_12"
          ],
          [
           "3521_10"
          ],
          [
           "3490_15"
          ],
          [
           "3522_8"
          ],
          [
           "3425_11"
          ],
          [
           "3521_1"
          ],
          [
           "3479_9"
          ],
          [
           "3476_13"
          ],
          [
           "294_15"
          ],
          [
           "311_14"
          ],
          [
           "3504_14"
          ],
          [
           "3413_14"
          ],
          [
           "3522_7"
          ],
          [
           "3411_11"
          ],
          [
           "50810F_14"
          ],
          [
           "3605_5"
          ],
          [
           "3412_5"
          ],
          [
           "3411_3"
          ],
          [
           "3521_6"
          ],
          [
           "3412_9"
          ],
          [
           "309_7"
          ],
          [
           "3411_15"
          ],
          [
           "J2292_13"
          ],
          [
           "3498_5"
          ],
          [
           "3481_12"
          ],
          [
           "3416_5"
          ],
          [
           "322_14"
          ],
          [
           "3530_2"
          ],
          [
           "3490_8"
          ],
          [
           "3500_14"
          ],
          [
           "3521_11"
          ],
          [
           "50810B_3"
          ],
          [
           "3500_10"
          ],
          [
           "3420_11"
          ],
          [
           "3420_5"
          ],
          [
           "3501_6"
          ],
          [
           "3520_13"
          ],
          [
           "J3295_13"
          ],
          [
           "3416_6"
          ],
          [
           "3501_1"
          ],
          [
           "3413_6"
          ],
          [
           "320_12"
          ],
          [
           "3507_4"
          ],
          [
           "361_1"
          ],
          [
           "3490_2"
          ],
          [
           "3534_4"
          ],
          [
           "3481_4"
          ],
          [
           "3424_4"
          ],
          [
           "311_10"
          ],
          [
           "3490_11"
          ],
          [
           "3416_14"
          ],
          [
           "3483_3"
          ],
          [
           "3530_13"
          ],
          [
           "3484_7"
          ],
          [
           "3522_11"
          ],
          [
           "3497_9"
          ],
          [
           "3423_5"
          ],
          [
           "362_10"
          ],
          [
           "3417_14"
          ],
          [
           "3530_1"
          ],
          [
           "3422_10"
          ],
          [
           "50810A_6"
          ],
          [
           "3412_12"
          ],
          [
           "311_4"
          ],
          [
           "3414_1"
          ],
          [
           "3505_8"
          ],
          [
           "322_2"
          ],
          [
           "364_3"
          ],
          [
           "3513_1"
          ],
          [
           "364_9"
          ],
          [
           "3425_13"
          ],
          [
           "3484_9"
          ],
          [
           "293_3"
          ],
          [
           "3505_13"
          ],
          [
           "3421_8"
          ],
          [
           "3516_8"
          ],
          [
           "363_11"
          ],
          [
           "3501_5"
          ],
          [
           "3423_7"
          ],
          [
           "50810A_4"
          ],
          [
           "3425_5"
          ],
          [
           "3502_3"
          ],
          [
           "3497_1"
          ],
          [
           "50810D_8"
          ],
          [
           "322_15"
          ],
          [
           "3491_12"
          ],
          [
           "3488_6"
          ],
          [
           "18899_12"
          ],
          [
           "3507_10"
          ],
          [
           "50810D_13"
          ],
          [
           "3415_15"
          ],
          [
           "3517_15"
          ],
          [
           "3426_12"
          ],
          [
           "363_7"
          ],
          [
           "363_14"
          ],
          [
           "309_12"
          ],
          [
           "50810A_7"
          ],
          [
           "3483_6"
          ],
          [
           "50810B_6"
          ],
          [
           "320_13"
          ],
          [
           "3412_3"
          ],
          [
           "50810D_12"
          ],
          [
           "3414_7"
          ],
          [
           "50810E_6"
          ],
          [
           "50810F_7"
          ],
          [
           "3516_5"
          ],
          [
           "3491_13"
          ],
          [
           "J1291_11"
          ],
          [
           "3530_3"
          ],
          [
           "363_15"
          ],
          [
           "362_3"
          ],
          [
           "3479_6"
          ],
          [
           "311_1"
          ],
          [
           "3411_2"
          ],
          [
           "3478_10"
          ],
          [
           "3476_11"
          ],
          [
           "3420_13"
          ],
          [
           "3412_15"
          ],
          [
           "3499_10"
          ],
          [
           "3489_12"
          ],
          [
           "311_8"
          ],
          [
           "3480_12"
          ],
          [
           "3501_15"
          ],
          [
           "3426_7"
          ],
          [
           "3534_9"
          ],
          [
           "3479_11"
          ],
          [
           "50810F_12"
          ],
          [
           "3504_1"
          ],
          [
           "3421_6"
          ],
          [
           "3419_9"
          ],
          [
           "3411_4"
          ],
          [
           "3499_4"
          ],
          [
           "3418_9"
          ],
          [
           "322_9"
          ],
          [
           "293_10"
          ],
          [
           "364_15"
          ],
          [
           "50810C_1"
          ],
          [
           "50810F_15"
          ],
          [
           "294_4"
          ],
          [
           "3415_1"
          ],
          [
           "3606_12"
          ],
          [
           "3414_11"
          ],
          [
           "3422_12"
          ],
          [
           "3413_9"
          ],
          [
           "364_2"
          ],
          [
           "3500_12"
          ],
          [
           "3481_8"
          ],
          [
           "3525_11"
          ],
          [
           "J2292_5"
          ],
          [
           "3507_13"
          ],
          [
           "50810E_2"
          ],
          [
           "3489_3"
          ],
          [
           "50810E_10"
          ],
          [
           "361_4"
          ],
          [
           "3520_7"
          ],
          [
           "3507_12"
          ],
          [
           "3424_9"
          ],
          [
           "3513_3"
          ],
          [
           "321_13"
          ],
          [
           "3417_4"
          ],
          [
           "3426_5"
          ],
          [
           "3507_1"
          ],
          [
           "3504_6"
          ],
          [
           "3484_10"
          ],
          [
           "362_14"
          ],
          [
           "321_2"
          ],
          [
           "3480_5"
          ],
          [
           "3419_1"
          ],
          [
           "3499_13"
          ],
          [
           "3421_7"
          ],
          [
           "50810B_7"
          ],
          [
           "3530_10"
          ],
          [
           "18899_3"
          ],
          [
           "362_9"
          ],
          [
           "50810E_12"
          ],
          [
           "3422_9"
          ],
          [
           "3502_9"
          ],
          [
           "3477_5"
          ],
          [
           "3479_12"
          ],
          [
           "361_15"
          ],
          [
           "3477_14"
          ],
          [
           "3521_15"
          ],
          [
           "3520_5"
          ],
          [
           "3498_12"
          ],
          [
           "50810E_7"
          ],
          [
           "321_6"
          ],
          [
           "3480_9"
          ],
          [
           "3525_4"
          ],
          [
           "3521_8"
          ],
          [
           "3424_6"
          ],
          [
           "3505_9"
          ],
          [
           "50810A_10"
          ],
          [
           "293_13"
          ],
          [
           "3478_6"
          ],
          [
           "311_5"
          ],
          [
           "3513_2"
          ],
          [
           "50810B_1"
          ],
          [
           "50810C_6"
          ],
          [
           "50810D_3"
          ],
          [
           "3490_13"
          ],
          [
           "293_8"
          ],
          [
           "320_9"
          ],
          [
           "3412_11"
          ],
          [
           "3503_6"
          ],
          [
           "50810E_15"
          ],
          [
           "3502_1"
          ],
          [
           "J3295_15"
          ],
          [
           "3426_4"
          ],
          [
           "294_5"
          ],
          [
           "3504_9"
          ],
          [
           "3522_3"
          ],
          [
           "365_3"
          ],
          [
           "3429_11"
          ],
          [
           "361_11"
          ],
          [
           "363_4"
          ],
          [
           "J2292_15"
          ],
          [
           "18899_10"
          ],
          [
           "311_3"
          ],
          [
           "3520_8"
          ],
          [
           "3478_8"
          ],
          [
           "362_1"
          ],
          [
           "3501_3"
          ],
          [
           "J1291_14"
          ],
          [
           "3413_11"
          ],
          [
           "3507_11"
          ],
          [
           "J1291_9"
          ],
          [
           "293_4"
          ],
          [
           "3417_7"
          ],
          [
           "3413_1"
          ],
          [
           "3477_2"
          ],
          [
           "3476_12"
          ],
          [
           "3517_12"
          ],
          [
           "3606_3"
          ],
          [
           "3530_4"
          ],
          [
           "3501_10"
          ],
          [
           "3489_8"
          ],
          [
           "3484_13"
          ],
          [
           "321_1"
          ],
          [
           "3424_12"
          ],
          [
           "294_8"
          ],
          [
           "18899_11"
          ],
          [
           "3412_7"
          ],
          [
           "311_2"
          ],
          [
           "3489_2"
          ],
          [
           "321_4"
          ],
          [
           "3413_12"
          ],
          [
           "3421_14"
          ],
          [
           "3489_6"
          ],
          [
           "3534_6"
          ],
          [
           "3530_5"
          ],
          [
           "3481_1"
          ],
          [
           "364_14"
          ],
          [
           "3605_12"
          ],
          [
           "3418_15"
          ],
          [
           "3500_1"
          ],
          [
           "311_12"
          ],
          [
           "3498_8"
          ],
          [
           "3422_3"
          ],
          [
           "J1291_3"
          ],
          [
           "3484_5"
          ],
          [
           "3500_5"
          ],
          [
           "320_8"
          ],
          [
           "3522_10"
          ],
          [
           "J1291_15"
          ],
          [
           "3484_15"
          ],
          [
           "3424_5"
          ],
          [
           "J3295_1"
          ],
          [
           "361_13"
          ],
          [
           "3425_10"
          ],
          [
           "3425_4"
          ],
          [
           "3606_6"
          ],
          [
           "3413_15"
          ],
          [
           "3425_15"
          ],
          [
           "3426_10"
          ],
          [
           "3488_9"
          ],
          [
           "J3295_2"
          ],
          [
           "3421_3"
          ],
          [
           "3414_10"
          ],
          [
           "294_11"
          ],
          [
           "361_6"
          ],
          [
           "3513_8"
          ],
          [
           "294_13"
          ],
          [
           "293_1"
          ],
          [
           "3534_8"
          ],
          [
           "294_3"
          ],
          [
           "3425_12"
          ],
          [
           "3534_5"
          ],
          [
           "3517_3"
          ],
          [
           "3507_7"
          ],
          [
           "3500_2"
          ],
          [
           "3530_7"
          ],
          [
           "3499_14"
          ],
          [
           "50810F_2"
          ],
          [
           "50810D_15"
          ],
          [
           "3517_5"
          ],
          [
           "3416_2"
          ],
          [
           "3498_6"
          ],
          [
           "3522_13"
          ],
          [
           "3507_15"
          ],
          [
           "321_9"
          ],
          [
           "294_2"
          ],
          [
           "50810A_14"
          ],
          [
           "J3295_8"
          ],
          [
           "3419_13"
          ],
          [
           "3505_14"
          ],
          [
           "3425_3"
          ],
          [
           "3421_2"
          ],
          [
           "309_9"
          ],
          [
           "50810C_5"
          ],
          [
           "320_7"
          ],
          [
           "3423_3"
          ],
          [
           "3505_7"
          ],
          [
           "3503_14"
          ],
          [
           "3477_4"
          ],
          [
           "18899_13"
          ],
          [
           "3414_2"
          ],
          [
           "3429_9"
          ],
          [
           "3605_1"
          ],
          [
           "3605_13"
          ],
          [
           "3491_8"
          ],
          [
           "362_8"
          ],
          [
           "3417_11"
          ],
          [
           "365_13"
          ],
          [
           "50810D_10"
          ],
          [
           "294_1"
          ],
          [
           "3498_14"
          ],
          [
           "3502_14"
          ],
          [
           "3504_11"
          ],
          [
           "3513_6"
          ],
          [
           "3516_11"
          ],
          [
           "50810B_2"
          ],
          [
           "3481_9"
          ],
          [
           "293_6"
          ],
          [
           "3521_13"
          ],
          [
           "3521_12"
          ],
          [
           "3605_15"
          ],
          [
           "3480_1"
          ],
          [
           "18899_6"
          ],
          [
           "3491_15"
          ],
          [
           "3505_15"
          ],
          [
           "3502_6"
          ],
          [
           "3480_4"
          ],
          [
           "3423_14"
          ],
          [
           "3478_11"
          ],
          [
           "3413_7"
          ],
          [
           "3520_4"
          ],
          [
           "3425_14"
          ],
          [
           "3417_9"
          ],
          [
           "3521_9"
          ],
          [
           "3501_2"
          ],
          [
           "J1291_10"
          ],
          [
           "3419_3"
          ],
          [
           "3417_10"
          ],
          [
           "364_10"
          ],
          [
           "365_9"
          ],
          [
           "3421_4"
          ],
          [
           "50810A_11"
          ],
          [
           "3520_3"
          ],
          [
           "3413_4"
          ],
          [
           "3419_8"
          ],
          [
           "3422_4"
          ],
          [
           "3606_11"
          ],
          [
           "3503_7"
          ],
          [
           "50810D_11"
          ],
          [
           "3498_2"
          ],
          [
           "3483_4"
          ],
          [
           "3517_8"
          ],
          [
           "3483_8"
          ],
          [
           "3513_4"
          ],
          [
           "3520_10"
          ],
          [
           "3504_8"
          ],
          [
           "50810A_13"
          ],
          [
           "3498_10"
          ],
          [
           "3483_11"
          ],
          [
           "3418_1"
          ],
          [
           "3517_11"
          ],
          [
           "3420_10"
          ],
          [
           "3504_12"
          ],
          [
           "309_2"
          ],
          [
           "3476_4"
          ],
          [
           "50810C_3"
          ],
          [
           "3415_6"
          ],
          [
           "3429_10"
          ],
          [
           "3421_12"
          ],
          [
           "3476_14"
          ],
          [
           "3497_12"
          ],
          [
           "J3295_4"
          ],
          [
           "3534_12"
          ],
          [
           "3488_15"
          ],
          [
           "362_13"
          ],
          [
           "50810E_3"
          ],
          [
           "3422_7"
          ],
          [
           "3488_2"
          ],
          [
           "3606_5"
          ],
          [
           "3507_8"
          ],
          [
           "363_2"
          ],
          [
           "3500_8"
          ],
          [
           "3426_15"
          ],
          [
           "3417_8"
          ],
          [
           "3522_12"
          ],
          [
           "3484_14"
          ],
          [
           "3606_2"
          ],
          [
           "3522_4"
          ],
          [
           "3425_2"
          ],
          [
           "3500_9"
          ],
          [
           "3605_9"
          ],
          [
           "3498_11"
          ],
          [
           "361_2"
          ],
          [
           "3478_3"
          ],
          [
           "3505_4"
          ],
          [
           "50810D_6"
          ],
          [
           "3513_15"
          ],
          [
           "293_5"
          ],
          [
           "3480_14"
          ],
          [
           "362_4"
          ],
          [
           "3418_10"
          ],
          [
           "3429_13"
          ],
          [
           "3504_3"
          ],
          [
           "364_13"
          ],
          [
           "3497_2"
          ],
          [
           "3497_10"
          ],
          [
           "3420_15"
          ],
          [
           "J1291_7"
          ],
          [
           "50810C_12"
          ],
          [
           "3424_8"
          ],
          [
           "3480_3"
          ],
          [
           "3488_11"
          ],
          [
           "3504_10"
          ],
          [
           "J3295_11"
          ],
          [
           "3534_3"
          ],
          [
           "3479_10"
          ],
          [
           "J2292_1"
          ],
          [
           "3429_5"
          ],
          [
           "J1291_8"
          ],
          [
           "50810B_15"
          ],
          [
           "3505_1"
          ],
          [
           "3425_6"
          ],
          [
           "J2292_2"
          ],
          [
           "361_7"
          ],
          [
           "3414_8"
          ],
          [
           "3534_1"
          ],
          [
           "3415_11"
          ],
          [
           "3503_3"
          ],
          [
           "363_9"
          ],
          [
           "3491_5"
          ],
          [
           "294_10"
          ],
          [
           "3489_15"
          ],
          [
           "320_6"
          ],
          [
           "3516_1"
          ],
          [
           "3412_6"
          ],
          [
           "3505_10"
          ],
          [
           "3513_7"
          ],
          [
           "3426_3"
          ],
          [
           "3425_7"
          ],
          [
           "3481_5"
          ],
          [
           "3411_14"
          ],
          [
           "3498_15"
          ],
          [
           "3499_6"
          ],
          [
           "J2292_9"
          ],
          [
           "3503_1"
          ],
          [
           "3418_8"
          ],
          [
           "3476_9"
          ],
          [
           "3414_5"
          ],
          [
           "363_1"
          ],
          [
           "3423_11"
          ],
          [
           "3498_7"
          ],
          [
           "3516_14"
          ],
          [
           "3476_3"
          ],
          [
           "3491_9"
          ],
          [
           "3419_12"
          ],
          [
           "50810A_3"
          ],
          [
           "3530_15"
          ],
          [
           "3483_1"
          ],
          [
           "50810A_8"
          ],
          [
           "3502_2"
          ],
          [
           "3425_8"
          ],
          [
           "3420_8"
          ],
          [
           "309_5"
          ],
          [
           "3502_4"
          ],
          [
           "3504_13"
          ],
          [
           "3513_14"
          ],
          [
           "50810E_13"
          ],
          [
           "3417_13"
          ],
          [
           "3418_4"
          ],
          [
           "3516_7"
          ],
          [
           "3411_6"
          ],
          [
           "J3295_9"
          ],
          [
           "361_9"
          ],
          [
           "3499_9"
          ],
          [
           "3534_10"
          ],
          [
           "3411_8"
          ],
          [
           "3414_4"
          ],
          [
           "50810D_2"
          ],
          [
           "3488_8"
          ],
          [
           "321_3"
          ],
          [
           "320_3"
          ],
          [
           "50810C_15"
          ],
          [
           "3502_15"
          ],
          [
           "3606_15"
          ],
          [
           "3419_6"
          ],
          [
           "3520_15"
          ],
          [
           "311_13"
          ],
          [
           "3491_11"
          ],
          [
           "3500_6"
          ],
          [
           "3481_10"
          ],
          [
           "3502_8"
          ],
          [
           "3497_4"
          ],
          [
           "365_4"
          ],
          [
           "50810D_14"
          ],
          [
           "3522_15"
          ],
          [
           "50810A_2"
          ],
          [
           "3416_8"
          ],
          [
           "3488_4"
          ],
          [
           "3521_4"
          ],
          [
           "322_3"
          ],
          [
           "3424_7"
          ],
          [
           "3505_3"
          ],
          [
           "3520_9"
          ],
          [
           "J3295_6"
          ],
          [
           "3489_11"
          ],
          [
           "3606_14"
          ],
          [
           "J1291_12"
          ],
          [
           "322_5"
          ],
          [
           "3605_3"
          ],
          [
           "309_15"
          ],
          [
           "294_7"
          ],
          [
           "320_11"
          ],
          [
           "3481_13"
          ],
          [
           "3497_5"
          ],
          [
           "3413_8"
          ],
          [
           "3501_14"
          ],
          [
           "3420_7"
          ],
          [
           "50810C_7"
          ],
          [
           "3530_12"
          ],
          [
           "321_8"
          ],
          [
           "3483_9"
          ],
          [
           "3479_8"
          ],
          [
           "3418_14"
          ],
          [
           "293_15"
          ],
          [
           "3411_5"
          ],
          [
           "365_11"
          ],
          [
           "363_12"
          ],
          [
           "3503_12"
          ],
          [
           "3411_7"
          ],
          [
           "3423_12"
          ],
          [
           "3423_6"
          ],
          [
           "364_1"
          ],
          [
           "3605_6"
          ],
          [
           "3476_8"
          ],
          [
           "362_15"
          ],
          [
           "3491_6"
          ],
          [
           "3419_7"
          ]
         ],
         "hoverlabel": {
          "namelength": 0
         },
         "hovertemplate": "0=%{x}<br>1=%{y}<br>2=%{z}<br>Feature=%{customdata[0]}<br>Label=%{marker.color}",
         "legendgroup": "",
         "marker": {
          "color": [
           0,
           0,
           0,
           0,
           0,
           0,
           0,
           0,
           0,
           0,
           0,
           0,
           0,
           0,
           1,
           0,
           0,
           0,
           0,
           0,
           0,
           0,
           0,
           0,
           0,
           0,
           0,
           0,
           1,
           0,
           0,
           0,
           0,
           0,
           0,
           0,
           0,
           0,
           0,
           0,
           0,
           0,
           0,
           1,
           0,
           0,
           1,
           1,
           0,
           0,
           1,
           0,
           0,
           0,
           0,
           0,
           0,
           0,
           0,
           0,
           0,
           0,
           0,
           0,
           1,
           0,
           0,
           0,
           0,
           0,
           0,
           0,
           0,
           0,
           0,
           0,
           0,
           0,
           0,
           0,
           0,
           0,
           0,
           0,
           0,
           0,
           0,
           0,
           0,
           0,
           0,
           0,
           0,
           0,
           0,
           0,
           0,
           0,
           0,
           0,
           0,
           0,
           0,
           0,
           0,
           0,
           0,
           0,
           0,
           0,
           0,
           0,
           0,
           0,
           0,
           0,
           0,
           0,
           0,
           0,
           0,
           0,
           0,
           0,
           0,
           0,
           0,
           0,
           0,
           0,
           0,
           0,
           0,
           0,
           0,
           0,
           0,
           0,
           0,
           0,
           0,
           0,
           0,
           0,
           0,
           0,
           0,
           0,
           0,
           0,
           0,
           0,
           0,
           0,
           0,
           0,
           0,
           0,
           0,
           0,
           0,
           0,
           0,
           0,
           0,
           0,
           0,
           0,
           0,
           0,
           0,
           0,
           0,
           0,
           0,
           0,
           0,
           0,
           0,
           0,
           0,
           0,
           0,
           1,
           0,
           0,
           0,
           0,
           1,
           0,
           0,
           0,
           0,
           0,
           0,
           0,
           1,
           1,
           0,
           0,
           0,
           0,
           0,
           0,
           0,
           0,
           0,
           0,
           1,
           0,
           0,
           0,
           0,
           0,
           0,
           0,
           0,
           0,
           0,
           0,
           0,
           0,
           0,
           0,
           0,
           0,
           0,
           0,
           0,
           0,
           0,
           0,
           0,
           0,
           0,
           0,
           0,
           1,
           0,
           0,
           0,
           0,
           0,
           0,
           0,
           0,
           1,
           0,
           0,
           0,
           0,
           0,
           0,
           0,
           0,
           0,
           0,
           1,
           0,
           0,
           0,
           0,
           0,
           0,
           0,
           0,
           0,
           0,
           0,
           0,
           0,
           0,
           0,
           0,
           1,
           0,
           0,
           0,
           0,
           0,
           0,
           0,
           0,
           0,
           0,
           1,
           0,
           0,
           0,
           0,
           0,
           0,
           0,
           0,
           0,
           0,
           0,
           0,
           0,
           0,
           0,
           0,
           0,
           0,
           0,
           0,
           0,
           0,
           1,
           0,
           0,
           0,
           0,
           0,
           0,
           0,
           1,
           0,
           1,
           0,
           0,
           0,
           0,
           0,
           0,
           0,
           0,
           0,
           0,
           0,
           0,
           0,
           0,
           0,
           0,
           0,
           0,
           0,
           0,
           0,
           0,
           0,
           0,
           0,
           0,
           0,
           0,
           0,
           0,
           0,
           0,
           0,
           0,
           0,
           0,
           0,
           0,
           0,
           0,
           0,
           0,
           0,
           0,
           0,
           0,
           0,
           0,
           0,
           0,
           0,
           0,
           0,
           0,
           0,
           0,
           0,
           0,
           0,
           0,
           0,
           1,
           0,
           0,
           0,
           0,
           0,
           0,
           1,
           0,
           0,
           0,
           0,
           0,
           0,
           0,
           0,
           0,
           0,
           0,
           1,
           0,
           0,
           0,
           0,
           0,
           0,
           0,
           0,
           0,
           0,
           0,
           0,
           0,
           0,
           0,
           0,
           0,
           0,
           0,
           0,
           0,
           0,
           0,
           0,
           0,
           0,
           0,
           0,
           0,
           0,
           0,
           0,
           0,
           0,
           0,
           0,
           0,
           0,
           0,
           0,
           0,
           0,
           0,
           0,
           0,
           1,
           0,
           0,
           0,
           0,
           1,
           0,
           0,
           0,
           0,
           0,
           0,
           0,
           0,
           0,
           1,
           0,
           0,
           0,
           1,
           0,
           0,
           0,
           0,
           0,
           0,
           0,
           0,
           0,
           0,
           0,
           0,
           0,
           0,
           0,
           0,
           0,
           0,
           0,
           0,
           0,
           0,
           0,
           0,
           0,
           0,
           0,
           0,
           0,
           0,
           0,
           0,
           0,
           0,
           0,
           0,
           0,
           0,
           0,
           0,
           0,
           0,
           0,
           0,
           0,
           0,
           1,
           0,
           0,
           0,
           0,
           0,
           0,
           0,
           0,
           0,
           0,
           0,
           0,
           0,
           0,
           0,
           0,
           0,
           0,
           0,
           0,
           0,
           0,
           0,
           0,
           0,
           0,
           0,
           0,
           0,
           0,
           0,
           0,
           0,
           1,
           0,
           0,
           0,
           0,
           0,
           0,
           0,
           0,
           0,
           1,
           1,
           0,
           0,
           0,
           0,
           0,
           0,
           0,
           1,
           0,
           0,
           0,
           0,
           0,
           0,
           0,
           0,
           0,
           0,
           0,
           0,
           0,
           0,
           0,
           0,
           0,
           0,
           0,
           0,
           0,
           0,
           0,
           0,
           0,
           1,
           0,
           0,
           0,
           0,
           0,
           0,
           0,
           0,
           0,
           0,
           0,
           0,
           0,
           0,
           0,
           0,
           0,
           0,
           0,
           0,
           0,
           0,
           0,
           0,
           0,
           0,
           0,
           0,
           0,
           0,
           0,
           0,
           0,
           0,
           0,
           0,
           0,
           0,
           0,
           0,
           0,
           0,
           0,
           0,
           0,
           0,
           1,
           0,
           0,
           0,
           0,
           0,
           0,
           0,
           0,
           0,
           0,
           0,
           0,
           0,
           0,
           0,
           0,
           0,
           0,
           0,
           0,
           0,
           0,
           0,
           0,
           0,
           0,
           0,
           0,
           0,
           0,
           0,
           0,
           0,
           0,
           0,
           0,
           0,
           0,
           0,
           0,
           0,
           0,
           0,
           0,
           0,
           0,
           0,
           0,
           0,
           0,
           0,
           0,
           0,
           0,
           0,
           0,
           0,
           0,
           0,
           0,
           0,
           0,
           0,
           0,
           0,
           0,
           0,
           0,
           0,
           0,
           0,
           0,
           1,
           0,
           0,
           0,
           0,
           0,
           0,
           0,
           0,
           0,
           1,
           0,
           0,
           0,
           0,
           0,
           0,
           0,
           0,
           0,
           0,
           0,
           0,
           0,
           0,
           0,
           0,
           0,
           1,
           0,
           0,
           0,
           0,
           0,
           0,
           0,
           1,
           0,
           0,
           0,
           0,
           0,
           0,
           0,
           0,
           0,
           0,
           0,
           0,
           0,
           0,
           0,
           0,
           0,
           0,
           0,
           0,
           0,
           0,
           0,
           0,
           0,
           0,
           0,
           0,
           0,
           0,
           0,
           0,
           0,
           0,
           0,
           0,
           0,
           0,
           0,
           0,
           0,
           1,
           0,
           0,
           0,
           0,
           0,
           0,
           0,
           0,
           0,
           0,
           0,
           0,
           0,
           0,
           0,
           0,
           0,
           0,
           0,
           0,
           0,
           0,
           0,
           0,
           0,
           0,
           0,
           0,
           0,
           0,
           0,
           0,
           0,
           0,
           0,
           0,
           0,
           0,
           0,
           0,
           0,
           0,
           0,
           0,
           0,
           0,
           0,
           0,
           0,
           0,
           0,
           0,
           0,
           0,
           0,
           0,
           0,
           0,
           0,
           0,
           0,
           0,
           0,
           0,
           0,
           0,
           0,
           0,
           0,
           0,
           0,
           0,
           0,
           0,
           0,
           0,
           0,
           0,
           0,
           0,
           0,
           0,
           0,
           0,
           0,
           1,
           0,
           0,
           0,
           0,
           0,
           0,
           0,
           0,
           0,
           0,
           0,
           0,
           0,
           0,
           1,
           0,
           0,
           0,
           0,
           0,
           1,
           0,
           0,
           0,
           0,
           0,
           0,
           0,
           0,
           0,
           0,
           0,
           0,
           0,
           1,
           0,
           0,
           0,
           0,
           0,
           0,
           0,
           0,
           0,
           0,
           0,
           0,
           0,
           0,
           0,
           0,
           0,
           0,
           0,
           0,
           0,
           0,
           0,
           0,
           0,
           0,
           0,
           0,
           0,
           0,
           1,
           0,
           0,
           0,
           1,
           0,
           1,
           0,
           0,
           0,
           0,
           0,
           0,
           0,
           0,
           0,
           0,
           0,
           0,
           0,
           0,
           0,
           0,
           0,
           0,
           0,
           0,
           0,
           0,
           1,
           0,
           1,
           0,
           0,
           0,
           1,
           0,
           0,
           0,
           0,
           1,
           0,
           0,
           0,
           1,
           0,
           0,
           0,
           0,
           0,
           0,
           0,
           0,
           0,
           0,
           0,
           0,
           0,
           0,
           0,
           0,
           0,
           0,
           0,
           0,
           0,
           0,
           0,
           0,
           0,
           0,
           1,
           0,
           0,
           0,
           0,
           0,
           0,
           0,
           0,
           0,
           0,
           0,
           0,
           0,
           0
          ],
          "coloraxis": "coloraxis",
          "opacity": 0.7,
          "symbol": "circle"
         },
         "mode": "markers",
         "name": "",
         "scene": "scene",
         "showlegend": false,
         "type": "scatter3d",
         "x": [
          -0.6745874881744385,
          -9.780462265014648,
          9.199338912963867,
          -11.579582214355469,
          -6.324477195739746,
          -17.054500579833984,
          2.4892494678497314,
          2.0258545875549316,
          -6.838245868682861,
          -5.820317268371582,
          15.599433898925781,
          -11.893024444580078,
          -14.962936401367188,
          10.781237602233887,
          -9.368782997131348,
          1.8215484619140625,
          -8.192585945129395,
          2.3594515323638916,
          -15.795207023620605,
          -16.51409912109375,
          9.591821670532227,
          9.997199058532715,
          6.464047908782959,
          -6.498048782348633,
          4.17114782333374,
          -1.8611068725585938,
          0.6163251996040344,
          -10.474899291992188,
          7.7246012687683105,
          17.52540397644043,
          -9.798848152160645,
          -1.50156831741333,
          8.136309623718262,
          9.515408515930176,
          12.465201377868652,
          -16.970670700073242,
          17.530353546142578,
          -8.605352401733398,
          3.5335521697998047,
          -8.733776092529297,
          -5.13344144821167,
          -3.6808974742889404,
          -1.100051999092102,
          -10.755851745605469,
          2.6723058223724365,
          6.399418830871582,
          -16.08972930908203,
          4.78361177444458,
          12.686535835266113,
          -8.860715866088867,
          -5.965208530426025,
          9.020454406738281,
          -3.302283525466919,
          5.377108097076416,
          -17.869728088378906,
          9.85891056060791,
          -3.8952603340148926,
          -3.556262731552124,
          6.72998571395874,
          -15.700568199157715,
          3.6993701457977295,
          -9.299324035644531,
          0.1804368942975998,
          7.05826473236084,
          13.122213363647461,
          14.370481491088867,
          -14.953438758850098,
          15.432329177856445,
          2.6019668579101562,
          4.277984619140625,
          2.357954263687134,
          3.124467134475708,
          -14.460832595825195,
          -3.8897852897644043,
          7.415836334228516,
          -12.263906478881836,
          -9.34339427947998,
          -8.13201904296875,
          -15.608111381530762,
          -7.153604507446289,
          0.8848925828933716,
          -12.770760536193848,
          5.600529670715332,
          10.708545684814453,
          8.146076202392578,
          -10.775752067565918,
          -6.925493240356445,
          -9.115135192871094,
          -5.639745712280273,
          -5.691976547241211,
          -14.9714937210083,
          -3.6858956813812256,
          -0.9216414093971252,
          3.3933792114257812,
          -11.287973403930664,
          13.614398956298828,
          -15.569130897521973,
          5.780691146850586,
          -10.450397491455078,
          13.602580070495605,
          2.30627703666687,
          12.532188415527344,
          -5.48505163192749,
          1.1583104133605957,
          -11.195992469787598,
          -13.250524520874023,
          4.733022212982178,
          6.365011692047119,
          11.461459159851074,
          0.0785093829035759,
          -14.63939380645752,
          -0.7027133107185364,
          0.3019355535507202,
          -2.488180160522461,
          -8.164068222045898,
          8.375065803527832,
          5.370474815368652,
          -8.049057960510254,
          8.570002555847168,
          9.221023559570312,
          10.733704566955566,
          7.678958892822266,
          6.516507148742676,
          7.187032699584961,
          5.761350631713867,
          -10.064826965332031,
          -7.264946460723877,
          6.661154747009277,
          6.881186485290527,
          12.459339141845703,
          -5.184098243713379,
          0.5774304866790771,
          9.30300521850586,
          -2.796184778213501,
          12.591150283813477,
          16.383544921875,
          -6.12700891494751,
          14.3961763381958,
          1.7440590858459473,
          -0.28162410855293274,
          -8.994425773620605,
          8.536752700805664,
          -6.05625057220459,
          6.254229545593262,
          11.48507022857666,
          8.107515335083008,
          4.737055778503418,
          14.836372375488281,
          -2.9832024574279785,
          9.514535903930664,
          9.073745727539062,
          9.336066246032715,
          -5.218508720397949,
          3.395725965499878,
          -6.200413227081299,
          -7.436612129211426,
          3.7970130443573,
          12.531659126281738,
          15.2860107421875,
          -8.751995086669922,
          -3.9805877208709717,
          12.435481071472168,
          -1.1606886386871338,
          10.671151161193848,
          8.094766616821289,
          3.6516239643096924,
          -10.606834411621094,
          -10.895729064941406,
          11.033196449279785,
          -11.259834289550781,
          -8.729769706726074,
          -7.438216209411621,
          3.207916259765625,
          4.301314353942871,
          6.667912483215332,
          6.451150417327881,
          2.762467622756958,
          -1.2224153280258179,
          6.419442176818848,
          5.617603302001953,
          9.110673904418945,
          9.70669174194336,
          9.346729278564453,
          16.88326644897461,
          -8.247248649597168,
          -8.811691284179688,
          7.068770408630371,
          0.0759073793888092,
          -11.554579734802246,
          -15.333566665649414,
          -6.052574157714844,
          -4.008359909057617,
          1.9042268991470337,
          6.997808456420898,
          2.4782400131225586,
          11.591839790344238,
          12.217996597290039,
          6.173831939697266,
          10.612768173217773,
          -4.466335296630859,
          8.140028953552246,
          7.1402997970581055,
          -10.175657272338867,
          -6.674345970153809,
          9.693398475646973,
          9.918447494506836,
          12.039210319519043,
          -16.20095443725586,
          12.565890312194824,
          1.6524202823638916,
          6.385238170623779,
          10.242636680603027,
          -2.62703275680542,
          11.528156280517578,
          -6.329526424407959,
          9.52743148803711,
          3.998824119567871,
          -17.758285522460938,
          -14.834460258483887,
          -15.03493881225586,
          -11.483428001403809,
          -10.049565315246582,
          12.680373191833496,
          3.2517573833465576,
          5.006497383117676,
          7.491693496704102,
          9.95830249786377,
          1.7792701721191406,
          3.206590414047241,
          -9.314478874206543,
          -10.392745018005371,
          5.619198322296143,
          -10.960886001586914,
          9.63781452178955,
          6.140185356140137,
          0.4432184398174286,
          2.3127315044403076,
          -3.2046098709106445,
          11.173810005187988,
          2.4139723777770996,
          8.933928489685059,
          -10.408273696899414,
          2.4591901302337646,
          6.139120578765869,
          10.366252899169922,
          -7.192076683044434,
          1.9570590257644653,
          -7.718961715698242,
          -7.12077522277832,
          6.304406642913818,
          -4.944519996643066,
          6.8882246017456055,
          -0.16428640484809875,
          6.751400470733643,
          -0.34098830819129944,
          8.506564140319824,
          -3.4890973567962646,
          -8.174043655395508,
          -12.357095718383789,
          -6.706705570220947,
          7.494643688201904,
          0.0933503657579422,
          -0.3887496590614319,
          -2.05828595161438,
          -0.5650946497917175,
          7.9246344566345215,
          -10.76827621459961,
          1.6587580442428589,
          0.8607884645462036,
          -3.081676959991455,
          6.874375343322754,
          10.125808715820312,
          6.379756927490234,
          -16.014089584350586,
          -16.10333251953125,
          -0.49909040331840515,
          -16.500417709350586,
          12.946918487548828,
          -11.60258960723877,
          -1.1418702602386475,
          -2.4363770484924316,
          4.315828323364258,
          -7.883555889129639,
          1.594409465789795,
          -2.8738276958465576,
          -16.176055908203125,
          2.770045042037964,
          1.665036916732788,
          -5.250868320465088,
          -14.905024528503418,
          -13.69996452331543,
          -5.169816017150879,
          10.306869506835938,
          6.547884464263916,
          15.775764465332031,
          -9.955794334411621,
          2.726365566253662,
          8.630349159240723,
          -11.313307762145996,
          -3.9247634410858154,
          -9.334490776062012,
          1.407970905303955,
          8.204397201538086,
          -2.5674116611480713,
          -5.491124153137207,
          -10.2373046875,
          6.225759506225586,
          17.440673828125,
          -8.277165412902832,
          16.9863338470459,
          9.97973918914795,
          0.9130895733833313,
          -15.78361988067627,
          5.087759017944336,
          12.519580841064453,
          14.566067695617676,
          7.546350955963135,
          6.841245174407959,
          -15.039346694946289,
          6.485072135925293,
          10.373714447021484,
          -7.994637966156006,
          6.021359443664551,
          7.408901214599609,
          -0.0002858292427845299,
          8.083576202392578,
          -0.11960961669683456,
          11.756087303161621,
          15.259552001953125,
          0.4008685350418091,
          -9.260406494140625,
          -17.464393615722656,
          -7.586733341217041,
          -5.427176475524902,
          5.748091220855713,
          -6.471006870269775,
          -14.203639030456543,
          13.154898643493652,
          14.410842895507812,
          1.0179449319839478,
          -7.819669723510742,
          4.104645252227783,
          15.179768562316895,
          -12.601442337036133,
          -10.046538352966309,
          -11.853959083557129,
          -17.124065399169922,
          4.6436767578125,
          -1.9311752319335938,
          -10.421732902526855,
          -1.8848122358322144,
          10.079595565795898,
          -13.908251762390137,
          -1.1482818126678467,
          8.111105918884277,
          -5.706547737121582,
          -5.874963283538818,
          -0.8523921370506287,
          1.017657995223999,
          -3.045278310775757,
          9.323893547058105,
          -6.795143127441406,
          6.359271049499512,
          -10.804359436035156,
          9.083823204040527,
          3.9115402698516846,
          -7.964641571044922,
          -0.891729474067688,
          4.52763032913208,
          0.38882485032081604,
          -10.615572929382324,
          -7.49802303314209,
          -13.325793266296387,
          -4.920616626739502,
          -5.198140621185303,
          10.582433700561523,
          10.75026798248291,
          5.759144306182861,
          14.414153099060059,
          14.756278038024902,
          -10.828757286071777,
          7.813228607177734,
          -0.1035512313246727,
          -14.119083404541016,
          6.804418087005615,
          -15.340346336364746,
          13.561918258666992,
          -9.707953453063965,
          5.962305545806885,
          15.694769859313965,
          12.86890983581543,
          -3.165975570678711,
          0.9269378781318665,
          7.256518840789795,
          -8.204926490783691,
          -6.942685604095459,
          9.803751945495605,
          -12.20401668548584,
          -17.705730438232422,
          18.064491271972656,
          -4.673574447631836,
          -5.714602947235107,
          6.2700886726379395,
          -17.266443252563477,
          5.645969867706299,
          -8.3203763961792,
          -1.7152745723724365,
          -8.001422882080078,
          -2.6976025104522705,
          13.747610092163086,
          11.990656852722168,
          4.7130537033081055,
          2.1062333583831787,
          5.1963934898376465,
          -6.790245056152344,
          14.601187705993652,
          16.66404151916504,
          14.49150562286377,
          7.712371826171875,
          -11.130393981933594,
          1.9256629943847656,
          6.301626205444336,
          -14.537755012512207,
          0.028395669534802437,
          -4.241994380950928,
          5.326416492462158,
          1.1504490375518799,
          0.210265651345253,
          -13.330238342285156,
          4.624341011047363,
          9.223647117614746,
          1.941338300704956,
          -2.1475653648376465,
          -17.364953994750977,
          5.737966537475586,
          -12.367537498474121,
          4.798008441925049,
          -5.942163467407227,
          -9.101890563964844,
          0.9270628094673157,
          -10.571772575378418,
          -2.6579606533050537,
          -1.7048169374465942,
          -6.431792259216309,
          -0.9598199129104614,
          -8.034295082092285,
          -13.71217155456543,
          2.9288692474365234,
          14.428092956542969,
          -18.164777755737305,
          -11.265969276428223,
          3.1402459144592285,
          14.194713592529297,
          -17.505599975585938,
          11.778511047363281,
          6.51520299911499,
          -0.1293143481016159,
          -4.006763458251953,
          -1.6828525066375732,
          -14.800348281860352,
          6.9345831871032715,
          -0.40260690450668335,
          15.778681755065918,
          -3.0227999687194824,
          -8.967547416687012,
          -8.563671112060547,
          9.435450553894043,
          -15.131674766540527,
          2.2681422233581543,
          10.189151763916016,
          9.310912132263184,
          -2.788565158843994,
          4.510277271270752,
          -8.06503677368164,
          -5.283576965332031,
          -3.9717907905578613,
          8.177212715148926,
          -6.5470290184021,
          -10.430586814880371,
          -3.0013186931610107,
          -11.226816177368164,
          -3.520711660385132,
          14.397757530212402,
          -4.906106472015381,
          -14.970367431640625,
          -5.566763877868652,
          -6.500296115875244,
          9.41446590423584,
          1.7400236129760742,
          12.306056022644043,
          10.994514465332031,
          8.130722045898438,
          -2.90187668800354,
          12.017373085021973,
          -7.789721488952637,
          9.577974319458008,
          3.1784534454345703,
          -16.44182586669922,
          8.776613235473633,
          -11.176980972290039,
          11.429697036743164,
          11.109834671020508,
          4.6752777099609375,
          10.533586502075195,
          -3.604192018508911,
          -14.491442680358887,
          9.25998306274414,
          17.208518981933594,
          6.123148441314697,
          11.958305358886719,
          -2.542849063873291,
          -9.759958267211914,
          -10.98819637298584,
          11.074732780456543,
          -4.049746513366699,
          8.062947273254395,
          6.480865955352783,
          -1.6340562105178833,
          4.650523662567139,
          11.8375825881958,
          6.205318450927734,
          -7.888572692871094,
          -4.164538383483887,
          -8.604866981506348,
          -13.875428199768066,
          -13.968368530273438,
          16.2958984375,
          -10.009354591369629,
          -0.6469970345497131,
          -4.6981987953186035,
          7.019559383392334,
          -0.1988884061574936,
          -13.704273223876953,
          11.109395980834961,
          2.048072576522827,
          -5.430660724639893,
          12.359102249145508,
          -4.012368679046631,
          -11.892495155334473,
          -8.723604202270508,
          7.341563701629639,
          9.251463890075684,
          4.744233131408691,
          9.34277629852295,
          -11.222455978393555,
          -10.481199264526367,
          -3.8055756092071533,
          -9.924627304077148,
          -9.55046558380127,
          -9.533495903015137,
          1.4132462739944458,
          11.71183967590332,
          6.585490703582764,
          1.6715235710144043,
          -7.506002426147461,
          15.106096267700195,
          -2.3250842094421387,
          -7.4361066818237305,
          11.49244499206543,
          0.4919896125793457,
          0.8838197588920593,
          12.300495147705078,
          8.223352432250977,
          -9.806839942932129,
          -16.087846755981445,
          5.1244797706604,
          -2.134033679962158,
          1.296218991279602,
          1.9971879720687866,
          -8.437722206115723,
          -6.124058723449707,
          -14.577545166015625,
          -15.111282348632812,
          8.980438232421875,
          9.908923149108887,
          -9.175273895263672,
          -12.887225151062012,
          -4.6256818771362305,
          -0.4108520746231079,
          -8.996246337890625,
          1.0217435359954834,
          -8.938532829284668,
          11.232595443725586,
          1.973278522491455,
          0.5089882016181946,
          -8.096863746643066,
          -3.7386274337768555,
          8.343446731567383,
          -5.827971458435059,
          -3.3060059547424316,
          17.87543296813965,
          13.621416091918945,
          -11.005385398864746,
          6.690161228179932,
          -4.293231010437012,
          -11.530797958374023,
          17.67885398864746,
          -1.515480637550354,
          12.015728950500488,
          -7.393927574157715,
          -0.11868074536323547,
          -14.540918350219727,
          -8.007464408874512,
          6.867105484008789,
          8.745373725891113,
          -8.059172630310059,
          5.43930196762085,
          9.447944641113281,
          -6.01650857925415,
          11.093259811401367,
          -2.4906609058380127,
          1.7944018840789795,
          9.895149230957031,
          0.14397211372852325,
          1.4771255254745483,
          -11.914064407348633,
          2.705981731414795,
          -4.83404016494751,
          9.318451881408691,
          9.980239868164062,
          7.213718891143799,
          14.817612648010254,
          2.2673158645629883,
          9.783411979675293,
          -2.80234694480896,
          7.206722736358643,
          -6.733903884887695,
          -1.7285096645355225,
          -1.0217928886413574,
          8.803303718566895,
          6.1783952713012695,
          4.751547336578369,
          10.62311840057373,
          -10.791923522949219,
          -1.43061363697052,
          5.866163730621338,
          -15.142498970031738,
          -10.279741287231445,
          -0.2586829662322998,
          5.256379127502441,
          -10.133078575134277,
          4.508350372314453,
          -12.292037963867188,
          -9.850540161132812,
          -15.46102237701416,
          14.589329719543457,
          8.980895042419434,
          -0.33631816506385803,
          -6.892606258392334,
          3.1017720699310303,
          15.519739151000977,
          4.209674835205078,
          -7.498526573181152,
          -2.4908082485198975,
          3.862856149673462,
          -4.795619487762451,
          -0.3133515417575836,
          -16.770727157592773,
          -4.9192070960998535,
          6.433640003204346,
          -10.986416816711426,
          14.024518013000488,
          -3.447218656539917,
          5.884795188903809,
          -9.403069496154785,
          -7.675807476043701,
          -6.880568027496338,
          2.2290966510772705,
          -5.9040846824646,
          4.8052191734313965,
          -14.53839111328125,
          -5.124378681182861,
          0.9317021369934082,
          -9.026190757751465,
          -5.274500846862793,
          7.208499908447266,
          12.341047286987305,
          6.682532787322998,
          -5.297523021697998,
          14.838839530944824,
          -9.166841506958008,
          -0.49153974652290344,
          9.8491849899292,
          -14.908615112304688,
          -3.4468367099761963,
          9.132806777954102,
          -18.27114486694336,
          -2.6616573333740234,
          0.2541412115097046,
          3.1829748153686523,
          11.901595115661621,
          -5.147511959075928,
          -1.1772428750991821,
          1.4068950414657593,
          0.7180430889129639,
          11.295411109924316,
          -9.664319038391113,
          -5.5128912925720215,
          8.327522277832031,
          -7.9937520027160645,
          -4.339263439178467,
          -11.437460899353027,
          -2.9825539588928223,
          4.982053756713867,
          -4.162691593170166,
          5.255795955657959,
          4.3424577713012695,
          11.85971736907959,
          17.518627166748047,
          5.860407829284668,
          -9.381667137145996,
          5.181180953979492,
          14.733750343322754,
          11.192750930786133,
          11.993136405944824,
          11.858562469482422,
          -4.953324794769287,
          7.202021598815918,
          6.027351379394531,
          -4.662507057189941,
          -11.089214324951172,
          6.267599105834961,
          11.53318977355957,
          11.659629821777344,
          5.693190097808838,
          6.409750461578369,
          14.691827774047852,
          7.780330657958984,
          7.0528459548950195,
          -4.9320759773254395,
          -17.131746292114258,
          4.074521064758301,
          -6.4232401847839355,
          -9.09062671661377,
          8.429652214050293,
          7.2846198081970215,
          -0.1779319792985916,
          -9.479060173034668,
          -9.084467887878418,
          5.858414173126221,
          -4.694237232208252,
          -2.4724180698394775,
          -9.908690452575684,
          -6.977505207061768,
          2.842435598373413,
          -4.676089763641357,
          -11.402389526367188,
          -1.8173649311065674,
          0.12999151647090912,
          -4.751136779785156,
          -7.005505561828613,
          -12.451922416687012,
          12.917262077331543,
          -1.4340381622314453,
          3.5157997608184814,
          13.761963844299316,
          -3.4185564517974854,
          12.304695129394531,
          9.172996520996094,
          -10.252726554870605,
          11.756779670715332,
          5.999253749847412,
          7.459768295288086,
          7.935827732086182,
          12.511758804321289,
          -12.57142448425293,
          -0.8664286136627197,
          -10.182438850402832,
          5.405409336090088,
          -11.380739212036133,
          -15.953611373901367,
          -0.797889232635498,
          9.395697593688965,
          7.62245512008667,
          9.26020622253418,
          -9.052653312683105,
          -6.557555198669434,
          8.694198608398438,
          -9.28252124786377,
          -6.1327972412109375,
          -7.271217346191406,
          -8.578975677490234,
          -4.17085075378418,
          7.0400896072387695,
          7.220699310302734,
          -8.329813957214355,
          6.230486869812012,
          4.004016876220703,
          12.82097339630127,
          -11.552265167236328,
          -17.444801330566406,
          11.133119583129883,
          15.010709762573242,
          0.8357235193252563,
          -0.9557690620422363,
          -12.95401382446289,
          11.31199836730957,
          -8.732776641845703,
          9.152359962463379,
          -17.538677215576172,
          16.88376808166504,
          -15.07053279876709,
          2.555460214614868,
          -10.573494911193848,
          -14.503870964050293,
          7.355015754699707,
          -4.3880085945129395,
          -4.274672031402588,
          -3.759962797164917,
          15.121347427368164,
          -10.149602890014648,
          9.649264335632324,
          -0.09356459975242615,
          -9.441835403442383,
          15.259230613708496,
          -9.963016510009766,
          5.675097942352295,
          -5.897468090057373,
          -5.027379035949707,
          -0.23538757860660553,
          -11.288521766662598,
          -11.768070220947266,
          -3.8082022666931152,
          11.1473970413208,
          -8.707330703735352,
          4.605803489685059,
          -12.824867248535156,
          10.086736679077148,
          9.363017082214355,
          -7.817596435546875,
          -8.266312599182129,
          0.6212255954742432,
          -4.169144153594971,
          6.906315803527832,
          2.975517511367798,
          1.5999798774719238,
          6.696942329406738,
          -8.959351539611816,
          -16.196889877319336,
          -14.75308609008789,
          5.859718322753906,
          -14.646035194396973,
          4.307990074157715,
          -2.7925846576690674,
          -14.9850435256958,
          -8.769428253173828,
          -18.080678939819336,
          -15.893736839294434,
          8.13776969909668,
          6.41860818862915,
          16.901165008544922,
          -14.881601333618164,
          -6.642727851867676,
          -1.7595672607421875,
          -2.843412399291992,
          0.06910641491413116,
          -18.108659744262695,
          -9.927741050720215,
          -3.3109335899353027,
          -5.045262813568115,
          -5.4822001457214355,
          13.210531234741211,
          -0.7049364447593689,
          -0.042084239423274994,
          -2.897596597671509,
          2.6978847980499268,
          2.417484760284424,
          2.3482961654663086,
          7.4932098388671875,
          0.21731750667095184,
          9.010523796081543,
          -1.762762427330017,
          -11.80621337890625,
          -0.7935073375701904,
          -9.045191764831543,
          4.1081342697143555,
          -5.647268295288086,
          -5.867690086364746,
          9.140800476074219,
          13.010396003723145,
          -17.435361862182617,
          -1.395017385482788,
          3.007018804550171,
          -7.718686103820801,
          -6.094100475311279,
          2.2614641189575195,
          -4.234458923339844,
          -11.149979591369629,
          -0.5403407216072083,
          8.767990112304688,
          -17.746477127075195,
          -14.986052513122559,
          9.825052261352539,
          -6.36165189743042,
          -4.367395877838135,
          18.202072143554688,
          -8.045852661132812,
          -6.742228984832764,
          6.080353736877441,
          -10.351301193237305,
          -0.846476674079895,
          -15.034952163696289,
          -8.893338203430176,
          11.397933006286621,
          -7.297755718231201,
          2.3492825031280518,
          -17.335296630859375,
          -7.834744930267334,
          -15.613069534301758,
          -5.481755256652832,
          -7.437228679656982,
          2.428358793258667,
          -2.0567572116851807,
          -12.5050048828125,
          11.843433380126953,
          -8.721543312072754,
          6.61614990234375,
          0.640494704246521,
          1.8804608583450317,
          13.117514610290527,
          6.736603736877441,
          6.068403720855713,
          -7.83576774597168,
          11.540634155273438,
          -9.442755699157715,
          3.939129590988159,
          0.010439770296216011,
          -8.419673919677734,
          6.413331508636475,
          10.062808990478516,
          -17.688228607177734,
          -7.890502452850342,
          2.763794422149658,
          6.6281657218933105,
          6.887154579162598,
          -1.675457239151001,
          -12.7361421585083,
          0.23787789046764374,
          5.41867733001709,
          -17.501934051513672,
          -11.524617195129395,
          1.6653505563735962,
          0.6723414063453674,
          7.75189208984375,
          1.8617095947265625,
          16.486576080322266,
          -13.950456619262695,
          -6.3764328956604,
          15.003159523010254,
          -9.57149600982666,
          7.509701728820801,
          -7.714623928070068,
          14.85564136505127,
          -15.081538200378418,
          2.740025043487549,
          -5.671654224395752,
          -13.807782173156738,
          8.529792785644531,
          -9.67606258392334,
          8.118402481079102,
          -7.006603240966797,
          -2.0877654552459717,
          -9.419757843017578,
          12.99908447265625,
          8.955533027648926,
          -12.964122772216797,
          0.9346981048583984,
          -0.21669428050518036,
          5.364831924438477,
          4.915407180786133,
          -6.989688396453857,
          16.958343505859375,
          0.9334611892700195,
          5.855199337005615,
          -2.4930927753448486,
          -4.705615520477295,
          0.704547643661499,
          8.736703872680664,
          8.163566589355469,
          15.45091724395752,
          -2.721696376800537,
          8.985279083251953,
          -10.08769416809082,
          -1.4166858196258545,
          1.9193474054336548,
          -11.48951244354248,
          -1.0001552104949951,
          -2.9149537086486816,
          7.338978290557861,
          6.404402256011963,
          -5.545724391937256,
          -1.182737946510315,
          -5.660250663757324,
          6.609914302825928,
          1.3448692560195923,
          -8.915040016174316,
          8.447587966918945,
          11.506216049194336,
          -8.569181442260742,
          11.559971809387207,
          8.295520782470703,
          9.381207466125488,
          -6.333398818969727,
          -5.018125534057617,
          17.539583206176758,
          6.972046375274658,
          -5.123291969299316,
          14.972566604614258,
          7.676483631134033,
          -14.733268737792969,
          -11.234562873840332,
          7.88869571685791,
          -6.869588851928711,
          8.769164085388184,
          10.325042724609375,
          1.343901515007019,
          6.2294158935546875,
          9.211024284362793,
          6.142341136932373,
          6.919541835784912,
          9.25423526763916,
          12.194937705993652,
          -1.4813940525054932,
          -0.8375797867774963,
          1.63401460647583,
          6.597892761230469
         ],
         "y": [
          14.856799125671387,
          -10.140517234802246,
          -4.186206340789795,
          7.005539417266846,
          -1.6187777519226074,
          3.796809434890747,
          4.303155899047852,
          3.1078031063079834,
          -3.3197708129882812,
          9.11724853515625,
          1.6077979803085327,
          9.820249557495117,
          4.102679252624512,
          -8.77369499206543,
          15.430215835571289,
          -7.47951602935791,
          1.9010690450668335,
          -7.108524799346924,
          -0.19497022032737732,
          6.610809803009033,
          12.288765907287598,
          11.158320426940918,
          -4.8257598876953125,
          14.031877517700195,
          -4.146047115325928,
          1.3644154071807861,
          -11.278936386108398,
          15.607632637023926,
          -1.1796295642852783,
          -2.995539903640747,
          9.582974433898926,
          9.199840545654297,
          12.870969772338867,
          -7.159794330596924,
          -9.40731430053711,
          3.68039608001709,
          -2.9615418910980225,
          2.2950103282928467,
          3.6567227840423584,
          -4.555636882781982,
          14.155014991760254,
          -6.4253010749816895,
          10.59835147857666,
          -4.367478370666504,
          4.57060432434082,
          11.2388916015625,
          -3.8937618732452393,
          12.427218437194824,
          -5.128378868103027,
          -10.592164993286133,
          -11.280055046081543,
          -6.405521869659424,
          14.847753524780273,
          -13.395054817199707,
          1.287976622581482,
          7.3159990310668945,
          6.90742826461792,
          13.014609336853027,
          -2.733473300933838,
          0.1806226521730423,
          -6.349509239196777,
          -3.5394251346588135,
          5.675591945648193,
          -8.884474754333496,
          7.368627071380615,
          -5.110060691833496,
          1.8591381311416626,
          -10.400513648986816,
          -7.90696907043457,
          -13.665178298950195,
          -1.068945288658142,
          -1.0998430252075195,
          -3.565765380859375,
          15.40745735168457,
          11.133216857910156,
          9.742873191833496,
          -4.964789867401123,
          -2.2329764366149902,
          0.706143319606781,
          -1.8357106447219849,
          -12.04248332977295,
          -9.09959888458252,
          12.29421329498291,
          12.1454439163208,
          -5.139737606048584,
          -0.07985668629407883,
          -7.759886264801025,
          -4.485044479370117,
          -2.487729549407959,
          13.014605522155762,
          2.1637628078460693,
          8.506638526916504,
          -9.111309051513672,
          -6.8352952003479,
          -0.8804931640625,
          3.050827741622925,
          6.064876556396484,
          -8.228903770446777,
          0.5590702891349792,
          -8.211426734924316,
          -1.5542876720428467,
          -5.210460662841797,
          -1.115760326385498,
          1.4858146905899048,
          2.9459493160247803,
          8.60702133178711,
          -1.8553448915481567,
          13.62621021270752,
          -2.8164255619049072,
          4.1106486320495605,
          4.357767581939697,
          4.144750118255615,
          11.574728012084961,
          1.5671489238739014,
          9.505375862121582,
          -0.7887557744979858,
          -13.50768756866455,
          2.1264166831970215,
          -14.853275299072266,
          -7.613823890686035,
          6.8389363288879395,
          -14.965853691101074,
          -9.414350509643555,
          -8.611515045166016,
          -5.157565593719482,
          -0.11031774431467056,
          2.618759870529175,
          -4.4804511070251465,
          -0.24549591541290283,
          -4.793093681335449,
          -6.294749736785889,
          1.1228379011154175,
          -8.10738754272461,
          9.494171142578125,
          0.9231507182121277,
          0.20141379535198212,
          -7.5792036056518555,
          1.892709732055664,
          13.99402904510498,
          10.202662467956543,
          -8.356759071350098,
          -14.703920364379883,
          7.779310703277588,
          -7.983145713806152,
          -2.500143051147461,
          11.744630813598633,
          12.441012382507324,
          3.2378814220428467,
          11.399048805236816,
          11.4517183303833,
          7.878658294677734,
          -6.381869316101074,
          8.769972801208496,
          -2.955777883529663,
          -4.345005989074707,
          11.143265724182129,
          4.386018753051758,
          -11.465948104858398,
          1.3934588432312012,
          10.218940734863281,
          6.849555015563965,
          0.1037493348121643,
          -8.488932609558105,
          11.921041488647461,
          12.297446250915527,
          -6.724823474884033,
          -0.07123461365699768,
          0.20501311123371124,
          -11.39744758605957,
          7.383530139923096,
          2.078167200088501,
          -1.697400450706482,
          -2.7225568294525146,
          -4.083564758300781,
          -10.9196195602417,
          -10.252222061157227,
          -7.075404167175293,
          15.640477180480957,
          -4.965664863586426,
          -14.608475685119629,
          11.654622077941895,
          -11.45669937133789,
          11.819011688232422,
          -0.6129047870635986,
          8.964075088500977,
          1.868390679359436,
          -8.22232437133789,
          13.637507438659668,
          -9.530850410461426,
          1.764715552330017,
          -7.353168487548828,
          -14.0193510055542,
          8.233270645141602,
          -14.162485122680664,
          -7.133681774139404,
          -11.495766639709473,
          3.076664686203003,
          -3.1829123497009277,
          7.446928977966309,
          1.1929596662521362,
          -9.227997779846191,
          0.4383867383003235,
          1.2140507698059082,
          12.268041610717773,
          -6.29285192489624,
          -4.608895778656006,
          -5.446059703826904,
          0.7070026993751526,
          3.2578470706939697,
          8.101163864135742,
          -5.840025424957275,
          6.338959217071533,
          11.46565055847168,
          0.6298618912696838,
          -2.513887882232666,
          -5.4128265380859375,
          1.6290953159332275,
          -0.4975671172142029,
          0.5392455458641052,
          -0.038370899856090546,
          6.859678745269775,
          3.825319528579712,
          6.858345985412598,
          2.8745033740997314,
          4.304337501525879,
          -1.984769582748413,
          -7.594272613525391,
          6.6959547996521,
          4.447481632232666,
          -3.5819265842437744,
          0.8762304186820984,
          12.033288955688477,
          -8.147334098815918,
          11.797948837280273,
          -15.383123397827148,
          9.0458345413208,
          -0.41964542865753174,
          11.92344856262207,
          11.020482063293457,
          4.1542768478393555,
          11.287396430969238,
          -7.956297397613525,
          -7.040772438049316,
          -2.3983371257781982,
          -8.598565101623535,
          -2.390770435333252,
          14.55335521697998,
          -2.632253408432007,
          -2.031278371810913,
          -9.267281532287598,
          3.555795192718506,
          -2.4963324069976807,
          15.447638511657715,
          -1.8175508975982666,
          -11.693266868591309,
          -6.101548194885254,
          12.972430229187012,
          15.553894996643066,
          -0.5892366766929626,
          4.681410789489746,
          13.426920890808105,
          14.945594787597656,
          11.514187812805176,
          7.321231365203857,
          -9.977814674377441,
          -4.431750297546387,
          -3.7164669036865234,
          13.347713470458984,
          6.503114223480225,
          -15.380046844482422,
          -7.184317588806152,
          -11.140530586242676,
          11.758471488952637,
          -1.802258849143982,
          -2.0277798175811768,
          -8.273255348205566,
          5.748297214508057,
          -4.524686813354492,
          6.993788719177246,
          -10.896851539611816,
          3.7776713371276855,
          -2.536449909210205,
          -10.878015518188477,
          -12.086834907531738,
          11.19053840637207,
          -2.2771167755126953,
          0.20479221642017365,
          6.976328372955322,
          3.546121597290039,
          3.428981304168701,
          -9.102849960327148,
          12.564436912536621,
          -11.591964721679688,
          -9.072004318237305,
          -10.195953369140625,
          3.885164499282837,
          -12.888188362121582,
          -2.9623963832855225,
          10.789426803588867,
          15.265607833862305,
          -2.569929599761963,
          -1.1946758031845093,
          12.633068084716797,
          2.2562050819396973,
          3.6955320835113525,
          14.831460952758789,
          -7.7969279289245605,
          -5.510681629180908,
          16.016128540039062,
          -10.45957088470459,
          -8.719841003417969,
          11.811359405517578,
          -0.0011300374753773212,
          5.616460800170898,
          0.18759848177433014,
          -7.860841274261475,
          -0.6677882671356201,
          -9.222649574279785,
          -0.10271082818508148,
          -5.05211877822876,
          11.458165168762207,
          0.7960203289985657,
          12.250682830810547,
          -3.200634002685547,
          -11.171806335449219,
          -14.51068115234375,
          15.28718090057373,
          -4.295629501342773,
          -0.1931636482477188,
          11.705382347106934,
          1.675538182258606,
          3.4609270095825195,
          2.4244937896728516,
          6.065710067749023,
          -3.482201337814331,
          -1.7484067678451538,
          -3.475097894668579,
          3.4989206790924072,
          -7.131512641906738,
          -12.034098625183105,
          10.701878547668457,
          3.4582629203796387,
          -5.558635711669922,
          -0.5228066444396973,
          0.35690903663635254,
          -0.4571973383426666,
          2.799165725708008,
          2.623828411102295,
          2.6052308082580566,
          -7.823202133178711,
          1.397187352180481,
          -8.50927734375,
          -4.172584056854248,
          -9.717724800109863,
          -10.497467994689941,
          7.8184733390808105,
          7.540618896484375,
          -8.868663787841797,
          1.8818438053131104,
          2.6083896160125732,
          9.551396369934082,
          7.062798500061035,
          -8.584644317626953,
          -7.983153343200684,
          -6.480806827545166,
          -6.346162796020508,
          9.619513511657715,
          15.45891284942627,
          -12.98343276977539,
          4.326709747314453,
          15.421480178833008,
          2.1643247604370117,
          8.554511070251465,
          5.846067428588867,
          -6.3515520095825195,
          -8.079252243041992,
          6.368407726287842,
          -14.74128532409668,
          -5.060129165649414,
          -10.043323516845703,
          -9.30981731414795,
          -10.513068199157715,
          4.709891319274902,
          -3.500805377960205,
          -1.4670181274414062,
          1.4861241579055786,
          -8.416248321533203,
          -5.376251220703125,
          -5.200316905975342,
          -10.29964828491211,
          2.746192693710327,
          0.6188154220581055,
          -8.273971557617188,
          -5.903938293457031,
          9.989757537841797,
          6.911594867706299,
          -8.763737678527832,
          -0.6878026127815247,
          2.510545492172241,
          -10.511435508728027,
          3.395843744277954,
          7.949802875518799,
          -5.40683650970459,
          5.912298679351807,
          -5.443821907043457,
          11.606945991516113,
          1.357270359992981,
          11.75796890258789,
          5.0262131690979,
          2.6026244163513184,
          -4.120051860809326,
          -4.989833831787109,
          -1.5263696908950806,
          -1.4103962182998657,
          7.046867370605469,
          -6.954690933227539,
          -7.241095066070557,
          -7.744551658630371,
          -9.822577476501465,
          7.448030948638916,
          -12.252182006835938,
          -14.177435874938965,
          1.9070496559143066,
          10.346061706542969,
          6.13855504989624,
          6.4833879470825195,
          -7.745394706726074,
          13.588719367980957,
          8.52989673614502,
          -3.3852338790893555,
          11.26614761352539,
          -7.188872814178467,
          2.510801076889038,
          -0.3671199381351471,
          -4.030024528503418,
          9.730002403259277,
          3.435230016708374,
          -2.340324878692627,
          -9.859825134277344,
          3.2259163856506348,
          -10.032947540283203,
          9.239025115966797,
          1.184208869934082,
          12.511908531188965,
          16.139366149902344,
          16.096847534179688,
          -0.5707071423530579,
          10.017731666564941,
          -7.146614074707031,
          0.44397711753845215,
          -10.337859153747559,
          -1.6564743518829346,
          2.61427640914917,
          1.3551050424575806,
          -10.492350578308105,
          -1.550511360168457,
          8.136703491210938,
          9.843984603881836,
          0.882966160774231,
          5.200610160827637,
          -2.7924766540527344,
          11.549250602722168,
          2.037006378173828,
          -15.640310287475586,
          15.299126625061035,
          -8.742450714111328,
          -6.037363529205322,
          2.4951226711273193,
          -1.3742468357086182,
          11.421806335449219,
          -8.561586380004883,
          4.496555328369141,
          6.587756156921387,
          -10.640819549560547,
          4.2188029289245605,
          7.114371299743652,
          -10.579130172729492,
          7.308156967163086,
          -3.6219027042388916,
          11.373828887939453,
          2.9316885471343994,
          0.8508215546607971,
          -7.8231282234191895,
          12.433372497558594,
          0.502244234085083,
          -11.242999076843262,
          7.547539234161377,
          -3.8946027755737305,
          14.0391206741333,
          -3.557758092880249,
          -11.40853214263916,
          -1.640945315361023,
          9.295199394226074,
          -10.41041088104248,
          10.498955726623535,
          -4.6017327308654785,
          -2.9246344566345215,
          6.8152923583984375,
          -5.916639804840088,
          7.230512619018555,
          10.846020698547363,
          -3.1089284420013428,
          -5.055365562438965,
          -8.239432334899902,
          7.349873065948486,
          2.79300594329834,
          -8.515220642089844,
          -10.427109718322754,
          -15.183229446411133,
          1.8762617111206055,
          3.8712143898010254,
          -5.335301876068115,
          7.463271141052246,
          1.1673977375030518,
          -14.077122688293457,
          11.91071891784668,
          11.009775161743164,
          10.491055488586426,
          -2.1236979961395264,
          -4.631881237030029,
          -5.177718639373779,
          -9.553389549255371,
          12.086282730102539,
          -8.690192222595215,
          -3.827969551086426,
          3.268627166748047,
          -7.630489826202393,
          14.776546478271484,
          1.0782859325408936,
          14.929668426513672,
          -2.313053846359253,
          -9.478629112243652,
          -9.178095817565918,
          -3.209073543548584,
          -7.339932441711426,
          -4.644200325012207,
          -9.558707237243652,
          13.203812599182129,
          10.225780487060547,
          10.960744857788086,
          13.040046691894531,
          -4.223277568817139,
          2.3855838775634766,
          -7.707764625549316,
          -2.9054198265075684,
          14.516916275024414,
          -6.233128547668457,
          9.703168869018555,
          -3.1248576641082764,
          -10.796958923339844,
          2.479214906692505,
          1.0577605962753296,
          -4.389224529266357,
          13.408675193786621,
          -2.1582601070404053,
          1.8188060522079468,
          15.432966232299805,
          -2.314275026321411,
          10.792374610900879,
          1.363279104232788,
          -8.293449401855469,
          6.552560806274414,
          9.535202980041504,
          -1.9457403421401978,
          -3.893799304962158,
          -3.214921712875366,
          1.7445002794265747,
          3.2507717609405518,
          1.6602741479873657,
          9.150447845458984,
          -3.951385021209717,
          2.204761505126953,
          2.1187903881073,
          11.415850639343262,
          -11.570595741271973,
          -2.806474447250366,
          9.234383583068848,
          7.029176235198975,
          14.799432754516602,
          -10.218353271484375,
          1.1871017217636108,
          -2.4496750831604004,
          -2.4964051246643066,
          1.6980534791946411,
          -12.21052360534668,
          2.410133123397827,
          13.492471694946289,
          -0.9772496819496155,
          4.451058387756348,
          0.7111201286315918,
          -10.41512393951416,
          -8.357054710388184,
          0.09842248260974884,
          -6.587025165557861,
          12.796536445617676,
          -0.13962621986865997,
          -5.342586040496826,
          2.948329448699951,
          -5.5614824295043945,
          3.848419189453125,
          13.653641700744629,
          5.346018314361572,
          -1.797261118888855,
          -13.700450897216797,
          -1.8282753229141235,
          0.6566506028175354,
          -2.825467109680176,
          12.213669776916504,
          -6.390973091125488,
          -8.741140365600586,
          11.377135276794434,
          14.015456199645996,
          -8.94705581665039,
          11.550475120544434,
          -11.729511260986328,
          9.366482734680176,
          -6.954688549041748,
          -12.991156578063965,
          -5.207305908203125,
          -9.197364807128906,
          -6.086158752441406,
          2.3524980545043945,
          -1.2342610359191895,
          9.631538391113281,
          9.367297172546387,
          -3.2208807468414307,
          4.660882949829102,
          8.718878746032715,
          6.970423221588135,
          10.416289329528809,
          -7.728285312652588,
          2.6501619815826416,
          12.161622047424316,
          -7.608154296875,
          3.612912893295288,
          12.117260932922363,
          4.48020076751709,
          15.751317977905273,
          -8.93466854095459,
          13.877854347229004,
          0.5808185935020447,
          -12.963043212890625,
          -0.26842615008354187,
          -3.954509735107422,
          1.410732388496399,
          -7.80958890914917,
          8.008919715881348,
          -10.615134239196777,
          4.669322967529297,
          -6.728626251220703,
          0.24952015280723572,
          5.690489768981934,
          3.854470729827881,
          3.9015116691589355,
          2.6019601821899414,
          6.131388187408447,
          8.116462707519531,
          7.284184455871582,
          5.608254432678223,
          13.799588203430176,
          0.22451251745224,
          3.5956432819366455,
          8.184819221496582,
          -6.065852642059326,
          10.513513565063477,
          -4.00262975692749,
          -7.005407333374023,
          8.115683555603027,
          13.08668327331543,
          2.6035349369049072,
          2.794437885284424,
          9.97994327545166,
          11.85425090789795,
          -8.336479187011719,
          -7.212947845458984,
          11.968609809875488,
          -9.362217903137207,
          -10.02977466583252,
          3.837414264678955,
          0.9744189977645874,
          -5.134309768676758,
          4.331732273101807,
          -8.923442840576172,
          2.851961612701416,
          12.97414779663086,
          -6.326455116271973,
          0.07586729526519775,
          5.042262554168701,
          4.206811428070068,
          -2.929759979248047,
          5.4890456199646,
          13.722726821899414,
          6.757928371429443,
          6.662303924560547,
          -11.880192756652832,
          2.0300331115722656,
          -3.8607373237609863,
          -11.8735933303833,
          9.87480640411377,
          -2.1829898357391357,
          -5.93764066696167,
          -7.828567981719971,
          -15.496135711669922,
          6.601828098297119,
          0.9883156418800354,
          -2.553208827972412,
          -13.702098846435547,
          -3.788851261138916,
          -3.0028417110443115,
          -6.0261383056640625,
          16.969337463378906,
          13.490854263305664,
          -10.061323165893555,
          -8.524307250976562,
          5.761051654815674,
          -10.444442749023438,
          13.62257194519043,
          -3.135843276977539,
          13.372855186462402,
          -12.127842903137207,
          -4.215512275695801,
          -5.117199420928955,
          -3.308157444000244,
          -4.020524024963379,
          -4.224709987640381,
          -9.233842849731445,
          -4.868563652038574,
          -5.126770496368408,
          -10.098383903503418,
          12.627588272094727,
          6.845678806304932,
          -6.132326602935791,
          -1.3954256772994995,
          15.01328182220459,
          -10.375129699707031,
          11.83161735534668,
          1.0202584266662598,
          -3.0312511920928955,
          16.840919494628906,
          -6.049444198608398,
          -1.8907212018966675,
          3.858959674835205,
          -2.7725343704223633,
          -1.7550709247589111,
          -12.962722778320312,
          -11.366189002990723,
          -4.073770523071289,
          1.722007393836975,
          -8.546053886413574,
          -1.8616119623184204,
          -1.1007938385009766,
          8.807336807250977,
          -7.923713207244873,
          9.225321769714355,
          0.5172982811927795,
          -7.889649868011475,
          -5.983597278594971,
          -5.013800621032715,
          -9.484280586242676,
          -4.043633937835693,
          -3.7900049686431885,
          0.3823238015174866,
          10.303104400634766,
          -10.539416313171387,
          -4.898497104644775,
          -0.4883810579776764,
          16.014522552490234,
          -2.5428695678710938,
          -0.8118561506271362,
          7.321621894836426,
          6.293798923492432,
          0.8739219903945923,
          9.726849555969238,
          13.581863403320312,
          -9.740416526794434,
          -4.632513999938965,
          -2.911987781524658,
          -14.666275024414062,
          9.401832580566406,
          -1.5841127634048462,
          -1.4411650896072388,
          9.524103164672852,
          9.98340892791748,
          11.954087257385254,
          -0.9728601574897766,
          11.457916259765625,
          -7.7870917320251465,
          5.69808292388916,
          6.804479122161865,
          10.610448837280273,
          1.574819564819336,
          -3.299232244491577,
          -5.801819324493408,
          1.6577919721603394,
          -10.846097946166992,
          -8.592729568481445,
          -11.487968444824219,
          -2.049191951751709,
          -9.607332229614258,
          7.432751178741455,
          -0.3736369013786316,
          1.7570152282714844,
          0.3958738148212433,
          -9.849343299865723,
          2.7905237674713135,
          -5.318783760070801,
          -6.963234901428223,
          6.094028472900391,
          6.955753803253174,
          -5.753591060638428,
          1.1473067998886108,
          7.727834224700928,
          0.8031139373779297,
          8.987205505371094,
          1.156859040260315,
          0.6120830774307251,
          -8.428152084350586,
          4.348036766052246,
          -12.687873840332031,
          8.422792434692383,
          -3.275233507156372,
          -8.51099967956543,
          7.923505783081055,
          1.6470342874526978,
          -3.1736795902252197,
          -12.943990707397461,
          -8.314859390258789,
          -8.868983268737793,
          -7.973788261413574,
          -2.74910306930542,
          -4.570282459259033,
          9.062085151672363,
          -13.8276948928833,
          -13.691571235656738,
          -7.301751136779785,
          -11.298120498657227,
          -9.866902351379395,
          -2.363077402114868,
          6.077183723449707,
          2.24560546875,
          -1.4766855239868164,
          0.5947293043136597,
          1.7561339139938354,
          4.660640716552734,
          3.0691237449645996,
          -4.046290397644043,
          6.7271904945373535,
          0.6428781151771545,
          -1.8691052198410034,
          -1.9989254474639893,
          -10.411401748657227,
          1.8231749534606934,
          12.285077095031738,
          1.076906681060791,
          11.361085891723633,
          10.308371543884277,
          -0.4838462471961975,
          -2.9694106578826904,
          0.9552983641624451,
          14.409178733825684,
          -2.6795947551727295,
          -6.318866729736328,
          -7.962649345397949,
          -8.437601089477539,
          9.554012298583984,
          -7.237070560455322,
          -7.069828033447266,
          -12.798494338989258,
          10.950484275817871,
          5.495744705200195,
          -9.808300018310547,
          1.1894776821136475,
          -8.020100593566895,
          1.1361045837402344,
          16.610902786254883,
          -13.588180541992188,
          8.06743335723877,
          -1.3219919204711914,
          -10.059913635253906,
          -4.168193340301514,
          6.947581768035889,
          10.545607566833496,
          10.050922393798828,
          11.970497131347656,
          -2.397026300430298,
          -2.130330801010132,
          -6.7864909172058105,
          -2.2904582023620605,
          -11.31929874420166,
          -4.353515148162842,
          -0.9398114681243896,
          5.186185359954834,
          -9.839584350585938,
          15.341157913208008,
          14.804465293884277,
          -10.468615531921387,
          -2.6357669830322266,
          8.07531452178955,
          -7.635086536407471,
          1.3522167205810547,
          -8.325559616088867,
          1.8856500387191772,
          -4.718980312347412,
          -2.4802281856536865,
          3.5742127895355225,
          -0.3637678027153015,
          2.9784433841705322,
          -2.9120430946350098,
          -0.010552503168582916,
          12.703225135803223,
          -2.3145923614501953,
          -0.4307289719581604,
          7.445799827575684,
          10.02695369720459,
          -2.76531720161438,
          2.189607858657837,
          -10.735105514526367,
          3.2422454357147217,
          2.9770913124084473,
          -7.920917987823486,
          -7.735258102416992,
          12.216832160949707,
          -10.986014366149902,
          -12.069803237915039,
          10.291025161743164,
          0.7387804388999939,
          4.742997646331787,
          -2.3242952823638916,
          -5.293104648590088,
          -4.343122959136963,
          7.199961185455322,
          0.81367427110672,
          -2.2340505123138428,
          -11.167640686035156,
          -3.1585402488708496,
          1.577913761138916,
          10.016048431396484,
          5.535690784454346,
          -7.3855061531066895,
          6.235346794128418,
          -9.871620178222656,
          6.960589408874512,
          1.3042672872543335,
          -14.391582489013672,
          14.28303050994873,
          -7.306377410888672,
          3.303616523742676,
          -4.100131511688232,
          1.4689507484436035,
          -3.530916929244995,
          -15.185038566589355,
          10.725641250610352,
          0.29868555068969727,
          0.6507846117019653,
          -1.6755039691925049,
          3.5728275775909424,
          -8.740633964538574,
          -2.3962395191192627,
          -10.846638679504395,
          -2.8967394828796387,
          -2.7487926483154297,
          7.2147932052612305,
          0.5159550309181213,
          -6.331909656524658,
          -2.5112433433532715,
          9.168251991271973,
          11.845894813537598,
          -8.64599323272705,
          13.49328327178955,
          12.220446586608887,
          8.175196647644043,
          -0.04157649353146553,
          -10.76577377319336,
          -13.122618675231934,
          3.6250550746917725,
          11.904291152954102,
          1.4303219318389893,
          -10.431671142578125,
          -5.90521240234375,
          -0.13886375725269318,
          15.290460586547852,
          -7.166694641113281,
          -2.2568275928497314,
          0.8887178301811218,
          14.450220108032227,
          7.127048015594482,
          -9.171489715576172,
          9.688943862915039,
          13.132440567016602,
          -8.182230949401855,
          12.638854026794434,
          6.709958553314209,
          -2.0771822929382324,
          -6.722634315490723,
          -10.52108383178711,
          -2.3792760372161865,
          12.831974029541016,
          -2.7483720779418945,
          8.74242877960205,
          -8.382132530212402,
          12.141364097595215,
          -6.371586322784424,
          15.280664443969727,
          -12.842405319213867,
          -5.429560661315918,
          -15.8534574508667,
          8.873821258544922,
          -7.790168285369873,
          13.297835350036621,
          1.7028286457061768,
          2.923135995864868,
          -5.089568614959717,
          -7.4556450843811035,
          -1.4538769721984863,
          -11.112872123718262,
          2.501364231109619,
          -8.380057334899902,
          -1.8831390142440796,
          -6.415582180023193,
          -2.353884220123291,
          -5.451275825500488,
          -3.289259433746338,
          1.636330485343933,
          -9.432229042053223,
          2.5588724613189697,
          -14.001473426818848
         ],
         "z": [
          -3.3940389156341553,
          -5.451228141784668,
          -1.651016116142273,
          5.981407165527344,
          -10.010669708251953,
          6.625559329986572,
          -1.7504338026046753,
          -1.2061892747879028,
          -7.601548194885254,
          10.868751525878906,
          -2.2056198120117188,
          3.7229161262512207,
          3.3426096439361572,
          -6.706940174102783,
          9.860515594482422,
          0.5058963298797607,
          5.410688877105713,
          -6.34042501449585,
          6.008306503295898,
          7.014814853668213,
          4.132057189941406,
          0.10617243498563766,
          -6.289437294006348,
          -3.180232048034668,
          -9.193207740783691,
          -0.47574102878570557,
          -0.5185838341712952,
          8.747563362121582,
          2.8757951259613037,
          -8.357844352722168,
          4.669114589691162,
          7.243142127990723,
          3.9785075187683105,
          -11.858929634094238,
          -1.614723563194275,
          6.903937816619873,
          -8.343984603881836,
          0.53709477186203,
          5.47257661819458,
          -7.599567890167236,
          -2.7386465072631836,
          -12.26466178894043,
          7.7279534339904785,
          -4.512296676635742,
          -2.001124620437622,
          -0.7883065342903137,
          5.721845626831055,
          7.045929431915283,
          -9.438420295715332,
          -6.693472385406494,
          -0.34877246618270874,
          -3.171534776687622,
          0.3272137939929962,
          -10.983443260192871,
          5.318188190460205,
          5.926153182983398,
          11.702879905700684,
          7.111202239990234,
          -9.843966484069824,
          -1.367260217666626,
          -2.9743058681488037,
          -10.059309959411621,
          11.670520782470703,
          -6.651038646697998,
          5.092700958251953,
          -5.676702976226807,
          -3.732924699783325,
          -9.114336013793945,
          -11.128799438476562,
          -3.361950159072876,
          -3.673997402191162,
          1.7599643468856812,
          0.6146231889724731,
          1.1531248092651367,
          -1.8187463283538818,
          4.838895797729492,
          -6.503594875335693,
          -5.425576686859131,
          -1.9480594396591187,
          -5.642410755157471,
          -3.887437105178833,
          1.6542856693267822,
          -0.4074973165988922,
          4.3363542556762695,
          5.409459114074707,
          5.952626705169678,
          -11.319051742553711,
          4.507818698883057,
          -7.744320392608643,
          -1.7629834413528442,
          8.922614097595215,
          3.4752278327941895,
          -6.195519924163818,
          -2.948932409286499,
          5.235111236572266,
          -3.361387252807617,
          8.487570762634277,
          -11.488566398620605,
          1.2215396165847778,
          -0.9792466163635254,
          -2.943420171737671,
          -9.063762664794922,
          -3.873723030090332,
          2.6698460578918457,
          4.372077465057373,
          2.2100186347961426,
          -8.937546730041504,
          5.612493515014648,
          -6.5064520835876465,
          11.799236297607422,
          3.6695187091827393,
          -1.9336459636688232,
          6.378633499145508,
          -1.9008152484893799,
          0.43449676036834717,
          -4.634675025939941,
          -10.628482818603516,
          5.438244819641113,
          -11.890213966369629,
          -9.402888298034668,
          5.579063892364502,
          -8.906673431396484,
          1.7216553688049316,
          -12.997215270996094,
          -8.584061622619629,
          1.7722419500350952,
          1.6114897727966309,
          -10.39249038696289,
          2.803142547607422,
          -6.380761623382568,
          -11.236435890197754,
          3.4126007556915283,
          -10.531672477722168,
          4.440788745880127,
          -6.874407768249512,
          -5.853826999664307,
          -11.890625953674316,
          -2.161503553390503,
          -5.664045333862305,
          5.0839009284973145,
          -1.3832767009735107,
          -11.827268600463867,
          11.389053344726562,
          -11.70186996459961,
          -11.593423843383789,
          5.456673622131348,
          6.534626483917236,
          -3.0929601192474365,
          5.367040634155273,
          3.976776599884033,
          6.074134349822998,
          -11.327634811401367,
          10.884336471557617,
          -0.5004744529724121,
          5.403183460235596,
          2.1906018257141113,
          5.682000160217285,
          -10.373713493347168,
          -2.009711742401123,
          4.876094341278076,
          11.696871757507324,
          -7.591030597686768,
          -2.8079967498779297,
          4.279251575469971,
          0.5607405304908752,
          -3.9153857231140137,
          5.451955795288086,
          1.391822338104248,
          -2.997520923614502,
          7.192762851715088,
          6.4124016761779785,
          -9.576969146728516,
          -1.1530790328979492,
          -9.437121391296387,
          1.9380533695220947,
          1.000565767288208,
          -2.0730338096618652,
          -3.3578240871429443,
          -12.663494110107422,
          -8.3768949508667,
          0.1364750862121582,
          -10.069385528564453,
          0.8725880980491638,
          -4.916244029998779,
          -0.47428038716316223,
          6.253154277801514,
          -13.162315368652344,
          -6.36519193649292,
          -5.821199893951416,
          7.9357008934021,
          -11.184957504272461,
          -0.78823322057724,
          7.06550407409668,
          -8.411953926086426,
          -0.5933781862258911,
          -10.39567756652832,
          -3.2383763790130615,
          2.769590139389038,
          5.571293830871582,
          10.63087272644043,
          -0.5969471335411072,
          2.6004605293273926,
          8.415865898132324,
          3.2932121753692627,
          -3.840442419052124,
          -1.1053266525268555,
          -12.354825973510742,
          -1.4663417339324951,
          -3.6270484924316406,
          7.038254261016846,
          -12.868531227111816,
          6.090926170349121,
          10.212772369384766,
          -7.824854850769043,
          4.889669895172119,
          -12.305137634277344,
          0.2687405049800873,
          3.816937208175659,
          1.2722171545028687,
          -1.7815446853637695,
          4.87423849105835,
          4.0711212158203125,
          4.92990779876709,
          5.756862640380859,
          5.344522476196289,
          5.699515342712402,
          0.6201944947242737,
          6.8093671798706055,
          5.811380386352539,
          -2.7540838718414307,
          6.644396781921387,
          -0.6238876581192017,
          2.729829788208008,
          4.0853118896484375,
          -8.969656944274902,
          2.76419997215271,
          -4.3456315994262695,
          -2.0575132369995117,
          -0.46806657314300537,
          -1.5563102960586548,
          6.7361884117126465,
          3.129939317703247,
          -6.319852828979492,
          5.5530853271484375,
          -13.627115249633789,
          -9.349353790283203,
          9.332701683044434,
          4.2356061935424805,
          4.331360340118408,
          -6.2621636390686035,
          8.216228485107422,
          5.636098861694336,
          -3.621830940246582,
          5.588164806365967,
          -2.9928054809570312,
          -4.202383995056152,
          7.135797023773193,
          9.599431037902832,
          3.891329050064087,
          11.314364433288574,
          0.7823782563209534,
          -4.258764266967773,
          3.575615882873535,
          7.012925148010254,
          -1.284788727760315,
          6.108315944671631,
          -5.510308742523193,
          10.817608833312988,
          6.947365760803223,
          -0.9511116743087769,
          -13.101129531860352,
          -10.206424713134766,
          -1.0303400754928589,
          6.479263782501221,
          6.487508296966553,
          -3.5567023754119873,
          8.322997093200684,
          -6.411818981170654,
          7.3810248374938965,
          -2.8009603023529053,
          6.873301982879639,
          -8.924195289611816,
          -5.949254989624023,
          -1.8189343214035034,
          5.287169933319092,
          6.513836860656738,
          0.35959357023239136,
          -0.06014091894030571,
          8.3228759765625,
          2.989278793334961,
          1.5260125398635864,
          -3.480994701385498,
          -3.55784010887146,
          1.4409666061401367,
          -9.031975746154785,
          4.056694984436035,
          -2.8709428310394287,
          -2.63826847076416,
          7.372014045715332,
          0.8758226037025452,
          -5.3393964767456055,
          -3.6720693111419678,
          1.3845418691635132,
          -1.6373271942138672,
          10.931357383728027,
          9.58008861541748,
          3.23698091506958,
          -8.06267261505127,
          9.913135528564453,
          -6.516046047210693,
          0.6168818473815918,
          9.672317504882812,
          5.79968786239624,
          4.9446234703063965,
          -7.461601257324219,
          -8.501115798950195,
          2.9379823207855225,
          3.1963491439819336,
          -1.6479970216751099,
          -10.418478965759277,
          0.5139409899711609,
          2.581789255142212,
          5.326516628265381,
          5.2420573234558105,
          -3.278594732284546,
          -12.364527702331543,
          -4.643575191497803,
          -6.563608169555664,
          -6.703793048858643,
          6.584439754486084,
          0.8913801908493042,
          7.002155303955078,
          1.5579026937484741,
          11.174408912658691,
          -6.888216972351074,
          -9.505143165588379,
          0.3148699998855591,
          -3.772155523300171,
          -11.449996948242188,
          -1.0914180278778076,
          2.463728427886963,
          5.445258140563965,
          -5.385644912719727,
          0.2058599442243576,
          1.920174241065979,
          5.134912967681885,
          6.062955856323242,
          5.6473236083984375,
          -1.6985327005386353,
          2.7742621898651123,
          -0.5886881947517395,
          -13.40442943572998,
          0.4718949496746063,
          -1.2427120208740234,
          -9.893260955810547,
          10.908458709716797,
          6.577891826629639,
          -4.2643303871154785,
          -0.8095124959945679,
          6.7883830070495605,
          -2.6437089443206787,
          10.87655258178711,
          2.3526077270507812,
          2.0769758224487305,
          -8.91819953918457,
          -3.9673283100128174,
          0.05695808678865433,
          -4.165024280548096,
          -11.242963790893555,
          11.291863441467285,
          8.676664352416992,
          2.062974214553833,
          2.1450047492980957,
          11.24982738494873,
          -12.198530197143555,
          0.5992251634597778,
          5.679804801940918,
          -8.389201164245605,
          -5.33939790725708,
          -9.167825698852539,
          -6.030591011047363,
          -2.4372646808624268,
          -1.8187206983566284,
          0.07095463573932648,
          -9.613314628601074,
          7.697320461273193,
          -1.4322454929351807,
          -7.062516689300537,
          -12.984807014465332,
          -9.046850204467773,
          -2.9098503589630127,
          11.038982391357422,
          -5.317121505737305,
          -5.357202053070068,
          1.7620395421981812,
          10.933871269226074,
          -6.722992897033691,
          4.104916572570801,
          6.338277816772461,
          -6.423749923706055,
          8.375774383544922,
          6.468127250671387,
          -14.61489486694336,
          7.83094596862793,
          -8.49983024597168,
          6.374205589294434,
          12.354072570800781,
          6.184358596801758,
          7.205070972442627,
          -2.381382703781128,
          -9.057425498962402,
          -11.589744567871094,
          1.4718204736709595,
          2.9843077659606934,
          6.340641498565674,
          -11.243040084838867,
          -8.506813049316406,
          -4.445727348327637,
          -1.419203281402588,
          4.8198628425598145,
          -1.8784745931625366,
          -8.148138999938965,
          -4.553062915802002,
          5.2294697761535645,
          3.422060966491699,
          4.630681991577148,
          -0.3232001066207886,
          -6.320294380187988,
          2.1855576038360596,
          -9.458505630493164,
          6.274947643280029,
          0.4325352609157562,
          4.361977577209473,
          3.3678624629974365,
          -6.681859493255615,
          5.727221965789795,
          5.436156749725342,
          5.005722522735596,
          -6.1671833992004395,
          10.232396125793457,
          -7.0985002517700195,
          11.4395751953125,
          12.850814819335938,
          3.346243143081665,
          -3.790037155151367,
          9.410358428955078,
          6.14927339553833,
          7.5043439865112305,
          -11.436753273010254,
          4.1524224281311035,
          -6.008432388305664,
          2.205538034439087,
          -2.8963589668273926,
          5.0277533531188965,
          -2.7663590908050537,
          -9.592488288879395,
          3.1828744411468506,
          10.868640899658203,
          7.027345180511475,
          4.609015464782715,
          2.783076286315918,
          3.516964912414551,
          -2.4340646266937256,
          -1.0630273818969727,
          9.15383243560791,
          -1.0000532865524292,
          -11.838987350463867,
          8.828076362609863,
          1.29702889919281,
          -0.2045890986919403,
          -10.324061393737793,
          4.594793796539307,
          4.897993087768555,
          -5.699281215667725,
          7.804032802581787,
          3.813164234161377,
          -9.933877944946289,
          6.279008388519287,
          -2.63407564163208,
          5.3426618576049805,
          4.363821506500244,
          10.119114875793457,
          -4.470968246459961,
          -3.5109338760375977,
          1.5774405002593994,
          -0.4671631157398224,
          6.1823811531066895,
          -1.7952992916107178,
          -5.546650409698486,
          -6.49949312210083,
          -3.1348228454589844,
          -4.101949214935303,
          4.401959419250488,
          -2.9405529499053955,
          1.4270907640457153,
          -1.305146336555481,
          -0.8137691020965576,
          8.206897735595703,
          -4.494295597076416,
          5.984507083892822,
          0.18519911170005798,
          -9.189973831176758,
          -11.69821834564209,
          0.7089349627494812,
          3.7829654216766357,
          10.326260566711426,
          0.20508620142936707,
          -6.029279708862305,
          -9.019351959228516,
          -6.851484775543213,
          4.335725784301758,
          -6.550265789031982,
          5.839200973510742,
          -7.689195156097412,
          -0.7819299101829529,
          6.807515621185303,
          -0.7125350832939148,
          7.575974941253662,
          -8.948098182678223,
          -12.129378318786621,
          -6.081069469451904,
          -0.4345303177833557,
          -2.6841156482696533,
          -1.0303773880004883,
          0.023051850497722626,
          -5.369608402252197,
          -8.59184741973877,
          9.224618911743164,
          7.252804756164551,
          -0.4947039484977722,
          -9.646368026733398,
          -1.3077489137649536,
          1.076124906539917,
          -9.353475570678711,
          -0.8768452405929565,
          5.910539150238037,
          -1.9737896919250488,
          -0.7665109038352966,
          7.179969787597656,
          5.5890583992004395,
          1.1960704326629639,
          -12.357685089111328,
          0.06954413652420044,
          -11.696109771728516,
          -2.053983211517334,
          9.755600929260254,
          -11.78013801574707,
          4.018128395080566,
          -4.850805282592773,
          -5.8844780921936035,
          9.815422058105469,
          -7.441464900970459,
          -10.31287670135498,
          10.724075317382812,
          -3.3262131214141846,
          -6.905381202697754,
          1.547859787940979,
          4.309492588043213,
          0.3231860399246216,
          2.4776248931884766,
          -5.16419792175293,
          5.918213367462158,
          -1.4899790287017822,
          2.858393907546997,
          5.719260215759277,
          2.8724679946899414,
          -2.2148730754852295,
          10.405526161193848,
          9.306788444519043,
          0.6003825664520264,
          5.899235248565674,
          -4.306742191314697,
          8.820568084716797,
          5.320852756500244,
          -3.8307132720947266,
          3.4994146823883057,
          4.811322212219238,
          11.310822486877441,
          -4.453015327453613,
          -5.996972560882568,
          3.5679776668548584,
          -9.72786808013916,
          -9.174442291259766,
          9.323164939880371,
          -3.673503875732422,
          5.765833377838135,
          -0.04384434223175049,
          -4.522461414337158,
          7.967312812805176,
          10.983654022216797,
          -5.7010178565979,
          -1.429855227470398,
          1.4727576971054077,
          -14.09281063079834,
          -1.571679949760437,
          4.670441150665283,
          -7.9484663009643555,
          -1.444817304611206,
          -12.05237865447998,
          4.879650115966797,
          -6.451373100280762,
          4.591557502746582,
          -5.821612358093262,
          -10.287489891052246,
          -3.5075714588165283,
          2.6020350456237793,
          5.648903846740723,
          0.583507239818573,
          -11.780797004699707,
          -14.376660346984863,
          10.365015983581543,
          -5.632478713989258,
          -5.910751819610596,
          6.491066932678223,
          -0.6568464040756226,
          3.6870810985565186,
          -0.2263796031475067,
          -0.5822159647941589,
          -11.648276329040527,
          0.7648358345031738,
          -5.3234076499938965,
          -2.545565605163574,
          -3.5073771476745605,
          -2.800847053527832,
          11.210558891296387,
          -12.60293960571289,
          11.216208457946777,
          6.993834495544434,
          3.4542863368988037,
          -2.1761395931243896,
          -9.698740005493164,
          -0.1431567668914795,
          3.788538932800293,
          1.7354525327682495,
          -2.6901073455810547,
          -0.2684890329837799,
          3.417600393295288,
          8.250833511352539,
          -0.3005216121673584,
          5.858047962188721,
          6.759389400482178,
          -11.195887565612793,
          0.5134155750274658,
          -4.200323104858398,
          7.680262088775635,
          -8.552206993103027,
          6.069788455963135,
          -2.4397475719451904,
          12.027697563171387,
          -1.664469838142395,
          -6.095881462097168,
          5.261247158050537,
          4.883162975311279,
          7.448575496673584,
          5.748758316040039,
          3.1441378593444824,
          3.1510605812072754,
          6.1691741943359375,
          11.396297454833984,
          6.234375953674316,
          5.540517330169678,
          -3.5867486000061035,
          3.966796636581421,
          -9.268583297729492,
          5.50722074508667,
          4.984942436218262,
          -11.519343376159668,
          7.057592391967773,
          -1.4637216329574585,
          -0.07767921686172485,
          10.16295051574707,
          10.877118110656738,
          9.714537620544434,
          -1.3870353698730469,
          -11.475143432617188,
          6.753944396972656,
          -1.4615232944488525,
          0.5809316039085388,
          10.931253433227539,
          -7.768387317657471,
          -7.969708442687988,
          -1.6603903770446777,
          -6.23188591003418,
          1.9673447608947754,
          7.156472682952881,
          -9.034602165222168,
          4.146466255187988,
          7.206057548522949,
          11.585472106933594,
          -0.789329469203949,
          5.595078945159912,
          -0.22391484677791595,
          3.499911308288574,
          6.863139629364014,
          -4.01325798034668,
          -7.070310115814209,
          -11.13593864440918,
          -0.6904396414756775,
          -1.8199076652526855,
          -10.306211471557617,
          -12.318864822387695,
          1.1657848358154297,
          -0.9768354296684265,
          4.736256122589111,
          11.029708862304688,
          2.9425785541534424,
          -3.3873708248138428,
          -9.797857284545898,
          -8.356415748596191,
          -13.156670570373535,
          8.74726676940918,
          5.612804412841797,
          -9.171368598937988,
          -6.159970283508301,
          5.559242248535156,
          -2.438805341720581,
          -0.2683272659778595,
          -12.469582557678223,
          5.06376314163208,
          -0.7945714592933655,
          -4.447226524353027,
          -14.52667236328125,
          -12.147005081176758,
          -9.306594848632812,
          -6.6791672706604,
          -6.325859069824219,
          -4.876028060913086,
          5.310471057891846,
          -2.6478419303894043,
          -2.7055649757385254,
          7.207180500030518,
          -4.076074123382568,
          -9.84786605834961,
          9.623519897460938,
          -1.1659938097000122,
          5.633425712585449,
          6.84251070022583,
          -10.157220840454102,
          8.607934951782227,
          -9.002909660339355,
          -7.254614353179932,
          6.68934965133667,
          -2.619986057281494,
          -3.45046329498291,
          -2.648625373840332,
          -0.8357123136520386,
          -2.578402280807495,
          -1.783044457435608,
          -4.4724884033203125,
          -7.275790691375732,
          -6.07780122756958,
          3.9526021480560303,
          -5.261608600616455,
          7.287769794464111,
          0.8170315623283386,
          -4.792855739593506,
          -12.871253967285156,
          -11.749627113342285,
          -5.672546863555908,
          -2.779322385787964,
          -11.828909873962402,
          2.3083860874176025,
          -1.3192024230957031,
          -2.207160711288452,
          -9.903521537780762,
          0.24837753176689148,
          -3.333332061767578,
          3.093376636505127,
          2.8115718364715576,
          7.127635955810547,
          7.735971450805664,
          6.338586807250977,
          -2.5763285160064697,
          5.9717631340026855,
          -6.1212239265441895,
          4.559586524963379,
          -8.099011421203613,
          -12.522253036499023,
          4.3352885246276855,
          -3.7198777198791504,
          -5.68195104598999,
          1.8283385038375854,
          10.677788734436035,
          4.775269031524658,
          -9.772072792053223,
          5.538401126861572,
          3.33392333984375,
          5.2788166999816895,
          4.586295127868652,
          7.3382158279418945,
          5.2477192878723145,
          -6.593209266662598,
          -5.456307411193848,
          -1.1462924480438232,
          -2.3189280033111572,
          1.8274186849594116,
          -10.382229804992676,
          3.50992488861084,
          -5.661189556121826,
          5.668276786804199,
          -4.773460388183594,
          2.2485291957855225,
          -0.0427594818174839,
          -6.611252784729004,
          10.258689880371094,
          -5.398802757263184,
          -11.667668342590332,
          3.5216383934020996,
          3.0318593978881836,
          -4.461491584777832,
          8.421247482299805,
          5.866635799407959,
          3.108035087585449,
          4.234827041625977,
          -6.141231536865234,
          6.9648237228393555,
          -11.55305004119873,
          8.086244583129883,
          -1.3578113317489624,
          2.9570086002349854,
          -2.3204641342163086,
          1.9685285091400146,
          4.295694828033447,
          -7.37681770324707,
          -10.47375202178955,
          -10.502142906188965,
          1.0601305961608887,
          -13.356141090393066,
          -10.646650314331055,
          -5.229562759399414,
          4.678900718688965,
          2.7593588829040527,
          -1.1032377481460571,
          -10.289566993713379,
          -3.250779867172241,
          -1.0815715789794922,
          2.4669582843780518,
          3.61887788772583,
          8.672759056091309,
          -4.289546489715576,
          3.028132200241089,
          -4.581437587738037,
          0.3487853407859802,
          4.4932684898376465,
          2.631727695465088,
          4.9212470054626465,
          6.095947265625,
          -1.649610161781311,
          5.713623523712158,
          2.9128260612487793,
          -5.990609169006348,
          1.580892562866211,
          3.245429277420044,
          12.953317642211914,
          10.130424499511719,
          5.217965602874756,
          4.738890171051025,
          -5.410638332366943,
          9.94523811340332,
          -2.2212347984313965,
          -7.263923168182373,
          -11.412179946899414,
          -2.688873052597046,
          -0.21564394235610962,
          10.98828125,
          -2.1881699562072754,
          -6.338315486907959,
          -2.453087568283081,
          -1.5255718231201172,
          11.547805786132812,
          -0.23985490202903748,
          -0.44996389746665955,
          1.78424072265625,
          7.138061046600342,
          7.906318664550781,
          -3.282789945602417,
          6.53892183303833,
          -3.7955374717712402,
          -0.5448257327079773,
          -6.060173988342285,
          6.151213645935059,
          7.639273643493652,
          7.507206439971924,
          6.254230976104736,
          4.954892635345459,
          1.934942364692688,
          -12.49829387664795,
          5.497775554656982,
          -3.500967264175415,
          5.726127624511719,
          4.470328330993652,
          4.420775413513184,
          -13.164721488952637,
          0.23683865368366241,
          -1.8628848791122437,
          -6.419922828674316,
          -9.258732795715332,
          10.974886894226074,
          -9.62642765045166,
          8.138090133666992,
          -3.7893788814544678,
          2.656871795654297,
          -7.154143333435059,
          -12.0355806350708,
          4.987723350524902,
          -4.435656547546387,
          5.94290018081665,
          -9.852509498596191,
          5.767032146453857,
          6.281487464904785,
          -3.284558057785034,
          -4.419586181640625,
          6.897276878356934,
          4.721487045288086,
          -11.633413314819336,
          0.5973617434501648,
          0.2848520576953888,
          10.265369415283203,
          -1.3631304502487183,
          -5.204779148101807,
          -14.14339828491211,
          6.8855061531066895,
          -6.009937286376953,
          -3.088024139404297,
          4.382157802581787,
          0.9809208512306213,
          -1.8409841060638428,
          -2.934645175933838,
          -6.103545665740967,
          -1.4749454259872437,
          5.390644550323486,
          2.6244781017303467,
          -2.252256155014038,
          1.550399899482727,
          6.124722957611084,
          12.072714805603027,
          6.4185895919799805,
          11.530123710632324,
          -11.03220272064209,
          7.0919647216796875,
          -6.269359111785889,
          -0.07183176279067993,
          -1.3998961448669434,
          -11.143594741821289,
          9.699725151062012,
          -8.491486549377441,
          -5.397246837615967,
          5.531633377075195,
          -7.381528377532959,
          -2.6342933177948,
          -9.079336166381836,
          2.4100606441497803,
          -7.330042362213135,
          2.0586650371551514,
          2.3183069229125977,
          10.838793754577637,
          0.8992428779602051,
          5.8798980712890625,
          -6.412978172302246,
          -3.004119634628296,
          -7.831452369689941,
          7.086252689361572,
          1.8936761617660522,
          -11.347442626953125,
          -2.8493757247924805,
          5.716588020324707,
          9.698765754699707,
          -4.656311511993408,
          6.541315078735352,
          7.313878059387207,
          10.446951866149902,
          -4.432336330413818,
          -0.07060045748949051,
          -10.018585205078125,
          4.493275165557861,
          -3.781064033508301,
          2.653510808944702,
          -1.2691760063171387,
          -4.077338218688965,
          -6.341088771820068,
          1.2109853029251099,
          -8.97331714630127,
          2.962188959121704,
          6.576986312866211,
          9.474528312683105,
          4.450641632080078,
          -6.525400638580322,
          4.421370506286621,
          1.5346243381500244,
          -9.651832580566406,
          6.276519775390625,
          3.4870307445526123,
          -7.512052536010742,
          -13.306466102600098,
          -0.4651302695274353,
          -10.50027084350586,
          0.9313096404075623,
          -6.306340217590332,
          -0.017998259514570236,
          -5.900737285614014,
          6.075528621673584,
          -3.4338624477386475,
          0.15163785219192505,
          -0.7340207695960999,
          -8.018561363220215,
          -9.579370498657227,
          11.256296157836914,
          -8.512181282043457,
          5.309516906738281,
          -3.8635129928588867,
          4.367371082305908,
          5.4161248207092285,
          -11.974405288696289,
          -3.808415412902832,
          -10.264004707336426,
          9.761576652526855,
          2.0675911903381348,
          -3.0743205547332764,
          -10.861495018005371,
          -9.97499942779541,
          -11.501154899597168,
          -6.164927005767822,
          12.115222930908203,
          -0.5082606673240662,
          -1.5761579275131226,
          -10.833537101745605
         ]
        }
       ],
       "layout": {
        "coloraxis": {
         "colorbar": {
          "title": {
           "text": "Label"
          }
         },
         "colorscale": [
          [
           0,
           "#0d0887"
          ],
          [
           0.1111111111111111,
           "#46039f"
          ],
          [
           0.2222222222222222,
           "#7201a8"
          ],
          [
           0.3333333333333333,
           "#9c179e"
          ],
          [
           0.4444444444444444,
           "#bd3786"
          ],
          [
           0.5555555555555556,
           "#d8576b"
          ],
          [
           0.6666666666666666,
           "#ed7953"
          ],
          [
           0.7777777777777778,
           "#fb9f3a"
          ],
          [
           0.8888888888888888,
           "#fdca26"
          ],
          [
           1,
           "#f0f921"
          ]
         ]
        },
        "height": 800,
        "legend": {
         "tracegroupgap": 0
        },
        "scene": {
         "domain": {
          "x": [
           0,
           1
          ],
          "y": [
           0,
           1
          ]
         },
         "xaxis": {
          "title": {
           "text": "0"
          }
         },
         "yaxis": {
          "title": {
           "text": "1"
          }
         },
         "zaxis": {
          "title": {
           "text": "2"
          }
         }
        },
        "template": {
         "data": {
          "bar": [
           {
            "error_x": {
             "color": "#2a3f5f"
            },
            "error_y": {
             "color": "#2a3f5f"
            },
            "marker": {
             "line": {
              "color": "#E5ECF6",
              "width": 0.5
             }
            },
            "type": "bar"
           }
          ],
          "barpolar": [
           {
            "marker": {
             "line": {
              "color": "#E5ECF6",
              "width": 0.5
             }
            },
            "type": "barpolar"
           }
          ],
          "carpet": [
           {
            "aaxis": {
             "endlinecolor": "#2a3f5f",
             "gridcolor": "white",
             "linecolor": "white",
             "minorgridcolor": "white",
             "startlinecolor": "#2a3f5f"
            },
            "baxis": {
             "endlinecolor": "#2a3f5f",
             "gridcolor": "white",
             "linecolor": "white",
             "minorgridcolor": "white",
             "startlinecolor": "#2a3f5f"
            },
            "type": "carpet"
           }
          ],
          "choropleth": [
           {
            "colorbar": {
             "outlinewidth": 0,
             "ticks": ""
            },
            "type": "choropleth"
           }
          ],
          "contour": [
           {
            "colorbar": {
             "outlinewidth": 0,
             "ticks": ""
            },
            "colorscale": [
             [
              0,
              "#0d0887"
             ],
             [
              0.1111111111111111,
              "#46039f"
             ],
             [
              0.2222222222222222,
              "#7201a8"
             ],
             [
              0.3333333333333333,
              "#9c179e"
             ],
             [
              0.4444444444444444,
              "#bd3786"
             ],
             [
              0.5555555555555556,
              "#d8576b"
             ],
             [
              0.6666666666666666,
              "#ed7953"
             ],
             [
              0.7777777777777778,
              "#fb9f3a"
             ],
             [
              0.8888888888888888,
              "#fdca26"
             ],
             [
              1,
              "#f0f921"
             ]
            ],
            "type": "contour"
           }
          ],
          "contourcarpet": [
           {
            "colorbar": {
             "outlinewidth": 0,
             "ticks": ""
            },
            "type": "contourcarpet"
           }
          ],
          "heatmap": [
           {
            "colorbar": {
             "outlinewidth": 0,
             "ticks": ""
            },
            "colorscale": [
             [
              0,
              "#0d0887"
             ],
             [
              0.1111111111111111,
              "#46039f"
             ],
             [
              0.2222222222222222,
              "#7201a8"
             ],
             [
              0.3333333333333333,
              "#9c179e"
             ],
             [
              0.4444444444444444,
              "#bd3786"
             ],
             [
              0.5555555555555556,
              "#d8576b"
             ],
             [
              0.6666666666666666,
              "#ed7953"
             ],
             [
              0.7777777777777778,
              "#fb9f3a"
             ],
             [
              0.8888888888888888,
              "#fdca26"
             ],
             [
              1,
              "#f0f921"
             ]
            ],
            "type": "heatmap"
           }
          ],
          "heatmapgl": [
           {
            "colorbar": {
             "outlinewidth": 0,
             "ticks": ""
            },
            "colorscale": [
             [
              0,
              "#0d0887"
             ],
             [
              0.1111111111111111,
              "#46039f"
             ],
             [
              0.2222222222222222,
              "#7201a8"
             ],
             [
              0.3333333333333333,
              "#9c179e"
             ],
             [
              0.4444444444444444,
              "#bd3786"
             ],
             [
              0.5555555555555556,
              "#d8576b"
             ],
             [
              0.6666666666666666,
              "#ed7953"
             ],
             [
              0.7777777777777778,
              "#fb9f3a"
             ],
             [
              0.8888888888888888,
              "#fdca26"
             ],
             [
              1,
              "#f0f921"
             ]
            ],
            "type": "heatmapgl"
           }
          ],
          "histogram": [
           {
            "marker": {
             "colorbar": {
              "outlinewidth": 0,
              "ticks": ""
             }
            },
            "type": "histogram"
           }
          ],
          "histogram2d": [
           {
            "colorbar": {
             "outlinewidth": 0,
             "ticks": ""
            },
            "colorscale": [
             [
              0,
              "#0d0887"
             ],
             [
              0.1111111111111111,
              "#46039f"
             ],
             [
              0.2222222222222222,
              "#7201a8"
             ],
             [
              0.3333333333333333,
              "#9c179e"
             ],
             [
              0.4444444444444444,
              "#bd3786"
             ],
             [
              0.5555555555555556,
              "#d8576b"
             ],
             [
              0.6666666666666666,
              "#ed7953"
             ],
             [
              0.7777777777777778,
              "#fb9f3a"
             ],
             [
              0.8888888888888888,
              "#fdca26"
             ],
             [
              1,
              "#f0f921"
             ]
            ],
            "type": "histogram2d"
           }
          ],
          "histogram2dcontour": [
           {
            "colorbar": {
             "outlinewidth": 0,
             "ticks": ""
            },
            "colorscale": [
             [
              0,
              "#0d0887"
             ],
             [
              0.1111111111111111,
              "#46039f"
             ],
             [
              0.2222222222222222,
              "#7201a8"
             ],
             [
              0.3333333333333333,
              "#9c179e"
             ],
             [
              0.4444444444444444,
              "#bd3786"
             ],
             [
              0.5555555555555556,
              "#d8576b"
             ],
             [
              0.6666666666666666,
              "#ed7953"
             ],
             [
              0.7777777777777778,
              "#fb9f3a"
             ],
             [
              0.8888888888888888,
              "#fdca26"
             ],
             [
              1,
              "#f0f921"
             ]
            ],
            "type": "histogram2dcontour"
           }
          ],
          "mesh3d": [
           {
            "colorbar": {
             "outlinewidth": 0,
             "ticks": ""
            },
            "type": "mesh3d"
           }
          ],
          "parcoords": [
           {
            "line": {
             "colorbar": {
              "outlinewidth": 0,
              "ticks": ""
             }
            },
            "type": "parcoords"
           }
          ],
          "pie": [
           {
            "automargin": true,
            "type": "pie"
           }
          ],
          "scatter": [
           {
            "marker": {
             "colorbar": {
              "outlinewidth": 0,
              "ticks": ""
             }
            },
            "type": "scatter"
           }
          ],
          "scatter3d": [
           {
            "line": {
             "colorbar": {
              "outlinewidth": 0,
              "ticks": ""
             }
            },
            "marker": {
             "colorbar": {
              "outlinewidth": 0,
              "ticks": ""
             }
            },
            "type": "scatter3d"
           }
          ],
          "scattercarpet": [
           {
            "marker": {
             "colorbar": {
              "outlinewidth": 0,
              "ticks": ""
             }
            },
            "type": "scattercarpet"
           }
          ],
          "scattergeo": [
           {
            "marker": {
             "colorbar": {
              "outlinewidth": 0,
              "ticks": ""
             }
            },
            "type": "scattergeo"
           }
          ],
          "scattergl": [
           {
            "marker": {
             "colorbar": {
              "outlinewidth": 0,
              "ticks": ""
             }
            },
            "type": "scattergl"
           }
          ],
          "scattermapbox": [
           {
            "marker": {
             "colorbar": {
              "outlinewidth": 0,
              "ticks": ""
             }
            },
            "type": "scattermapbox"
           }
          ],
          "scatterpolar": [
           {
            "marker": {
             "colorbar": {
              "outlinewidth": 0,
              "ticks": ""
             }
            },
            "type": "scatterpolar"
           }
          ],
          "scatterpolargl": [
           {
            "marker": {
             "colorbar": {
              "outlinewidth": 0,
              "ticks": ""
             }
            },
            "type": "scatterpolargl"
           }
          ],
          "scatterternary": [
           {
            "marker": {
             "colorbar": {
              "outlinewidth": 0,
              "ticks": ""
             }
            },
            "type": "scatterternary"
           }
          ],
          "surface": [
           {
            "colorbar": {
             "outlinewidth": 0,
             "ticks": ""
            },
            "colorscale": [
             [
              0,
              "#0d0887"
             ],
             [
              0.1111111111111111,
              "#46039f"
             ],
             [
              0.2222222222222222,
              "#7201a8"
             ],
             [
              0.3333333333333333,
              "#9c179e"
             ],
             [
              0.4444444444444444,
              "#bd3786"
             ],
             [
              0.5555555555555556,
              "#d8576b"
             ],
             [
              0.6666666666666666,
              "#ed7953"
             ],
             [
              0.7777777777777778,
              "#fb9f3a"
             ],
             [
              0.8888888888888888,
              "#fdca26"
             ],
             [
              1,
              "#f0f921"
             ]
            ],
            "type": "surface"
           }
          ],
          "table": [
           {
            "cells": {
             "fill": {
              "color": "#EBF0F8"
             },
             "line": {
              "color": "white"
             }
            },
            "header": {
             "fill": {
              "color": "#C8D4E3"
             },
             "line": {
              "color": "white"
             }
            },
            "type": "table"
           }
          ]
         },
         "layout": {
          "annotationdefaults": {
           "arrowcolor": "#2a3f5f",
           "arrowhead": 0,
           "arrowwidth": 1
          },
          "coloraxis": {
           "colorbar": {
            "outlinewidth": 0,
            "ticks": ""
           }
          },
          "colorscale": {
           "diverging": [
            [
             0,
             "#8e0152"
            ],
            [
             0.1,
             "#c51b7d"
            ],
            [
             0.2,
             "#de77ae"
            ],
            [
             0.3,
             "#f1b6da"
            ],
            [
             0.4,
             "#fde0ef"
            ],
            [
             0.5,
             "#f7f7f7"
            ],
            [
             0.6,
             "#e6f5d0"
            ],
            [
             0.7,
             "#b8e186"
            ],
            [
             0.8,
             "#7fbc41"
            ],
            [
             0.9,
             "#4d9221"
            ],
            [
             1,
             "#276419"
            ]
           ],
           "sequential": [
            [
             0,
             "#0d0887"
            ],
            [
             0.1111111111111111,
             "#46039f"
            ],
            [
             0.2222222222222222,
             "#7201a8"
            ],
            [
             0.3333333333333333,
             "#9c179e"
            ],
            [
             0.4444444444444444,
             "#bd3786"
            ],
            [
             0.5555555555555556,
             "#d8576b"
            ],
            [
             0.6666666666666666,
             "#ed7953"
            ],
            [
             0.7777777777777778,
             "#fb9f3a"
            ],
            [
             0.8888888888888888,
             "#fdca26"
            ],
            [
             1,
             "#f0f921"
            ]
           ],
           "sequentialminus": [
            [
             0,
             "#0d0887"
            ],
            [
             0.1111111111111111,
             "#46039f"
            ],
            [
             0.2222222222222222,
             "#7201a8"
            ],
            [
             0.3333333333333333,
             "#9c179e"
            ],
            [
             0.4444444444444444,
             "#bd3786"
            ],
            [
             0.5555555555555556,
             "#d8576b"
            ],
            [
             0.6666666666666666,
             "#ed7953"
            ],
            [
             0.7777777777777778,
             "#fb9f3a"
            ],
            [
             0.8888888888888888,
             "#fdca26"
            ],
            [
             1,
             "#f0f921"
            ]
           ]
          },
          "colorway": [
           "#636efa",
           "#EF553B",
           "#00cc96",
           "#ab63fa",
           "#FFA15A",
           "#19d3f3",
           "#FF6692",
           "#B6E880",
           "#FF97FF",
           "#FECB52"
          ],
          "font": {
           "color": "#2a3f5f"
          },
          "geo": {
           "bgcolor": "white",
           "lakecolor": "white",
           "landcolor": "#E5ECF6",
           "showlakes": true,
           "showland": true,
           "subunitcolor": "white"
          },
          "hoverlabel": {
           "align": "left"
          },
          "hovermode": "closest",
          "mapbox": {
           "style": "light"
          },
          "paper_bgcolor": "white",
          "plot_bgcolor": "#E5ECF6",
          "polar": {
           "angularaxis": {
            "gridcolor": "white",
            "linecolor": "white",
            "ticks": ""
           },
           "bgcolor": "#E5ECF6",
           "radialaxis": {
            "gridcolor": "white",
            "linecolor": "white",
            "ticks": ""
           }
          },
          "scene": {
           "xaxis": {
            "backgroundcolor": "#E5ECF6",
            "gridcolor": "white",
            "gridwidth": 2,
            "linecolor": "white",
            "showbackground": true,
            "ticks": "",
            "zerolinecolor": "white"
           },
           "yaxis": {
            "backgroundcolor": "#E5ECF6",
            "gridcolor": "white",
            "gridwidth": 2,
            "linecolor": "white",
            "showbackground": true,
            "ticks": "",
            "zerolinecolor": "white"
           },
           "zaxis": {
            "backgroundcolor": "#E5ECF6",
            "gridcolor": "white",
            "gridwidth": 2,
            "linecolor": "white",
            "showbackground": true,
            "ticks": "",
            "zerolinecolor": "white"
           }
          },
          "shapedefaults": {
           "line": {
            "color": "#2a3f5f"
           }
          },
          "ternary": {
           "aaxis": {
            "gridcolor": "white",
            "linecolor": "white",
            "ticks": ""
           },
           "baxis": {
            "gridcolor": "white",
            "linecolor": "white",
            "ticks": ""
           },
           "bgcolor": "#E5ECF6",
           "caxis": {
            "gridcolor": "white",
            "linecolor": "white",
            "ticks": ""
           }
          },
          "title": {
           "x": 0.05
          },
          "xaxis": {
           "automargin": true,
           "gridcolor": "white",
           "linecolor": "white",
           "ticks": "",
           "title": {
            "standoff": 15
           },
           "zerolinecolor": "white",
           "zerolinewidth": 2
          },
          "yaxis": {
           "automargin": true,
           "gridcolor": "white",
           "linecolor": "white",
           "ticks": "",
           "title": {
            "standoff": 15
           },
           "zerolinecolor": "white",
           "zerolinewidth": 2
          }
         }
        },
        "title": {
         "text": "3d TSNE Plot for Outliers"
        },
        "width": 900
       }
      },
      "text/html": [
       "<div>\n",
       "        \n",
       "        \n",
       "            <div id=\"8b12d5c6-dfdb-42c8-952e-6286659744f6\" class=\"plotly-graph-div\" style=\"height:800px; width:900px;\"></div>\n",
       "            <script type=\"text/javascript\">\n",
       "                require([\"plotly\"], function(Plotly) {\n",
       "                    window.PLOTLYENV=window.PLOTLYENV || {};\n",
       "                    \n",
       "                if (document.getElementById(\"8b12d5c6-dfdb-42c8-952e-6286659744f6\")) {\n",
       "                    Plotly.newPlot(\n",
       "                        '8b12d5c6-dfdb-42c8-952e-6286659744f6',\n",
       "                        [{\"customdata\": [[\"50810F_4\"], [\"3516_9\"], [\"3411_12\"], [\"3416_4\"], [\"J1291_2\"], [\"3429_2\"], [\"3491_2\"], [\"3491_4\"], [\"J3295_7\"], [\"50810C_9\"], [\"3525_14\"], [\"3414_12\"], [\"3504_5\"], [\"294_9\"], [\"3484_6\"], [\"3422_14\"], [\"3479_4\"], [\"3488_1\"], [\"50810B_13\"], [\"3498_9\"], [\"321_12\"], [\"322_11\"], [\"3481_6\"], [\"3497_14\"], [\"3490_4\"], [\"3426_13\"], [\"3606_13\"], [\"3484_12\"], [\"3517_10\"], [\"3501_11\"], [\"3505_12\"], [\"361_5\"], [\"321_7\"], [\"364_8\"], [\"3412_10\"], [\"3429_3\"], [\"3501_12\"], [\"3415_12\"], [\"3477_10\"], [\"J3295_12\"], [\"3497_15\"], [\"293_2\"], [\"361_3\"], [\"3421_10\"], [\"3491_3\"], [\"3507_5\"], [\"3415_14\"], [\"320_2\"], [\"3530_8\"], [\"3516_4\"], [\"3413_13\"], [\"3481_14\"], [\"3497_7\"], [\"3419_5\"], [\"3429_7\"], [\"18899_5\"], [\"50810E_4\"], [\"3522_1\"], [\"3423_4\"], [\"3483_13\"], [\"3422_6\"], [\"J1291_13\"], [\"363_3\"], [\"365_5\"], [\"18899_15\"], [\"3605_10\"], [\"3483_7\"], [\"3424_13\"], [\"3490_7\"], [\"3606_1\"], [\"J2292_6\"], [\"3513_10\"], [\"3416_12\"], [\"3497_3\"], [\"3507_9\"], [\"3414_9\"], [\"J3295_10\"], [\"3421_5\"], [\"3483_12\"], [\"3421_1\"], [\"362_2\"], [\"3417_12\"], [\"3507_3\"], [\"321_15\"], [\"3418_12\"], [\"3480_7\"], [\"293_14\"], [\"50810A_15\"], [\"J3295_5\"], [\"311_9\"], [\"50810B_5\"], [\"3521_7\"], [\"3488_7\"], [\"3422_5\"], [\"3480_11\"], [\"3525_5\"], [\"3498_3\"], [\"3423_15\"], [\"3499_12\"], [\"3412_14\"], [\"J2292_7\"], [\"3530_9\"], [\"3425_1\"], [\"3491_10\"], [\"3479_7\"], [\"3414_15\"], [\"3490_3\"], [\"321_5\"], [\"3605_2\"], [\"363_6\"], [\"3504_4\"], [\"3426_6\"], [\"3415_2\"], [\"3426_11\"], [\"309_11\"], [\"3411_1\"], [\"3419_4\"], [\"3479_5\"], [\"3419_14\"], [\"365_6\"], [\"18899_8\"], [\"3420_9\"], [\"3503_8\"], [\"3489_14\"], [\"3424_3\"], [\"3499_7\"], [\"3415_9\"], [\"3423_9\"], [\"3517_4\"], [\"3605_7\"], [\"293_9\"], [\"3491_14\"], [\"365_8\"], [\"3521_5\"], [\"3501_9\"], [\"3502_10\"], [\"293_11\"], [\"3525_12\"], [\"50810F_13\"], [\"3415_4\"], [\"3490_14\"], [\"3419_15\"], [\"50810C_10\"], [\"3423_13\"], [\"3534_2\"], [\"320_10\"], [\"320_1\"], [\"3525_7\"], [\"3521_2\"], [\"321_10\"], [\"18899_2\"], [\"364_4\"], [\"50810C_8\"], [\"J2292_14\"], [\"50810A_9\"], [\"309_4\"], [\"3477_8\"], [\"365_14\"], [\"3525_15\"], [\"3505_11\"], [\"50810E_5\"], [\"3501_7\"], [\"3488_13\"], [\"321_14\"], [\"322_4\"], [\"3422_1\"], [\"3480_8\"], [\"3499_11\"], [\"3412_4\"], [\"3416_3\"], [\"3479_3\"], [\"J1291_5\"], [\"J2292_12\"], [\"3490_5\"], [\"3503_4\"], [\"3503_5\"], [\"3422_8\"], [\"50810F_1\"], [\"3489_4\"], [\"3420_1\"], [\"322_7\"], [\"365_10\"], [\"322_8\"], [\"3502_13\"], [\"309_13\"], [\"3479_2\"], [\"3489_13\"], [\"50810F_11\"], [\"3516_15\"], [\"50810B_9\"], [\"293_12\"], [\"3413_5\"], [\"3478_5\"], [\"3420_6\"], [\"3422_11\"], [\"365_15\"], [\"3525_3\"], [\"3517_14\"], [\"18899_9\"], [\"3476_15\"], [\"3500_7\"], [\"3517_1\"], [\"3480_2\"], [\"309_3\"], [\"3481_15\"], [\"3411_13\"], [\"3534_7\"], [\"3483_10\"], [\"3525_2\"], [\"3478_4\"], [\"3489_7\"], [\"18899_4\"], [\"50810C_2\"], [\"3501_4\"], [\"50810D_5\"], [\"364_6\"], [\"3513_5\"], [\"3429_14\"], [\"3504_15\"], [\"3483_15\"], [\"3416_7\"], [\"3479_13\"], [\"18899_14\"], [\"3477_13\"], [\"3477_9\"], [\"3418_2\"], [\"3500_13\"], [\"3478_9\"], [\"3477_7\"], [\"3425_9\"], [\"3480_6\"], [\"3507_2\"], [\"3417_6\"], [\"321_11\"], [\"3420_4\"], [\"3520_1\"], [\"J2292_3\"], [\"311_11\"], [\"322_13\"], [\"3491_1\"], [\"320_15\"], [\"3417_3\"], [\"3488_3\"], [\"3418_6\"], [\"364_11\"], [\"J1291_4\"], [\"50810A_1\"], [\"50810D_9\"], [\"50810D_7\"], [\"365_2\"], [\"3478_14\"], [\"3418_5\"], [\"50810F_5\"], [\"3418_3\"], [\"362_6\"], [\"3481_11\"], [\"3522_2\"], [\"3484_2\"], [\"3480_15\"], [\"50810E_11\"], [\"322_1\"], [\"50810F_9\"], [\"3499_3\"], [\"361_8\"], [\"362_11\"], [\"3418_11\"], [\"3421_15\"], [\"50810A_5\"], [\"3478_7\"], [\"3413_3\"], [\"3489_10\"], [\"365_12\"], [\"3507_6\"], [\"50810B_12\"], [\"50810B_11\"], [\"3488_12\"], [\"3498_1\"], [\"3605_8\"], [\"3416_1\"], [\"362_7\"], [\"361_14\"], [\"3490_1\"], [\"3516_2\"], [\"3606_8\"], [\"3521_3\"], [\"50810B_10\"], [\"3513_9\"], [\"3476_1\"], [\"3478_13\"], [\"3504_7\"], [\"3417_15\"], [\"311_15\"], [\"3412_1\"], [\"3503_9\"], [\"3424_14\"], [\"3479_15\"], [\"3606_4\"], [\"3411_9\"], [\"3414_3\"], [\"3497_6\"], [\"3421_9\"], [\"J2292_4\"], [\"322_6\"], [\"3426_8\"], [\"50810E_14\"], [\"3484_8\"], [\"3503_15\"], [\"3501_13\"], [\"3484_3\"], [\"3420_12\"], [\"3500_11\"], [\"50810D_1\"], [\"50810B_14\"], [\"3477_6\"], [\"3501_8\"], [\"3530_11\"], [\"3517_7\"], [\"3503_10\"], [\"3483_14\"], [\"3423_8\"], [\"322_12\"], [\"3499_5\"], [\"320_4\"], [\"3418_7\"], [\"362_5\"], [\"3419_10\"], [\"50810F_8\"], [\"3605_4\"], [\"3502_7\"], [\"3415_3\"], [\"3415_10\"], [\"3429_1\"], [\"3415_8\"], [\"50810E_9\"], [\"3481_3\"], [\"J1291_1\"], [\"3416_10\"], [\"3525_1\"], [\"3534_15\"], [\"3606_10\"], [\"309_6\"], [\"3477_11\"], [\"3605_14\"], [\"3499_15\"], [\"3499_8\"], [\"3480_10\"], [\"3429_6\"], [\"3477_15\"], [\"3426_9\"], [\"3417_2\"], [\"3426_14\"], [\"364_12\"], [\"3416_15\"], [\"362_12\"], [\"3490_12\"], [\"50810C_11\"], [\"3522_6\"], [\"3488_10\"], [\"3491_7\"], [\"3416_13\"], [\"3507_14\"], [\"50810C_14\"], [\"3503_11\"], [\"3417_5\"], [\"365_1\"], [\"3422_2\"], [\"309_10\"], [\"50810F_6\"], [\"3419_2\"], [\"363_5\"], [\"3484_11\"], [\"3415_7\"], [\"3414_14\"], [\"50810E_8\"], [\"293_7\"], [\"3500_15\"], [\"18899_7\"], [\"3420_2\"], [\"3605_11\"], [\"3424_11\"], [\"3516_12\"], [\"3500_3\"], [\"3426_2\"], [\"3416_11\"], [\"3423_2\"], [\"50810B_8\"], [\"3412_13\"], [\"J3295_14\"], [\"3489_5\"], [\"3424_15\"], [\"3525_6\"], [\"3476_10\"], [\"3488_5\"], [\"3481_7\"], [\"309_8\"], [\"50810C_13\"], [\"294_6\"], [\"3480_13\"], [\"3429_4\"], [\"3420_14\"], [\"3478_15\"], [\"3522_5\"], [\"3489_9\"], [\"3498_4\"], [\"3424_1\"], [\"3505_6\"], [\"3476_7\"], [\"3505_5\"], [\"361_10\"], [\"3525_9\"], [\"3530_6\"], [\"3490_9\"], [\"3513_11\"], [\"3517_9\"], [\"3522_9\"], [\"3534_14\"], [\"3530_14\"], [\"294_14\"], [\"3500_4\"], [\"3416_9\"], [\"3606_9\"], [\"3420_3\"], [\"3483_5\"], [\"3415_5\"], [\"3521_14\"], [\"3477_3\"], [\"3422_13\"], [\"50810F_10\"], [\"3414_13\"], [\"3490_6\"], [\"320_14\"], [\"3422_15\"], [\"3520_14\"], [\"3429_15\"], [\"3481_2\"], [\"3414_6\"], [\"3477_12\"], [\"50810D_4\"], [\"3516_6\"], [\"363_8\"], [\"3516_10\"], [\"50810E_1\"], [\"3476_5\"], [\"309_1\"], [\"50810F_3\"], [\"3484_1\"], [\"3497_8\"], [\"3478_2\"], [\"3534_13\"], [\"3429_12\"], [\"3516_13\"], [\"3513_13\"], [\"3525_8\"], [\"3429_8\"], [\"3412_8\"], [\"3423_1\"], [\"3520_6\"], [\"50810C_4\"], [\"3522_14\"], [\"3504_2\"], [\"3517_13\"], [\"3499_1\"], [\"3525_13\"], [\"3413_2\"], [\"3484_4\"], [\"3490_10\"], [\"364_5\"], [\"50810B_4\"], [\"3513_12\"], [\"322_10\"], [\"365_7\"], [\"3520_12\"], [\"3477_1\"], [\"3516_3\"], [\"3478_12\"], [\"3521_10\"], [\"3490_15\"], [\"3522_8\"], [\"3425_11\"], [\"3521_1\"], [\"3479_9\"], [\"3476_13\"], [\"294_15\"], [\"311_14\"], [\"3504_14\"], [\"3413_14\"], [\"3522_7\"], [\"3411_11\"], [\"50810F_14\"], [\"3605_5\"], [\"3412_5\"], [\"3411_3\"], [\"3521_6\"], [\"3412_9\"], [\"309_7\"], [\"3411_15\"], [\"J2292_13\"], [\"3498_5\"], [\"3481_12\"], [\"3416_5\"], [\"322_14\"], [\"3530_2\"], [\"3490_8\"], [\"3500_14\"], [\"3521_11\"], [\"50810B_3\"], [\"3500_10\"], [\"3420_11\"], [\"3420_5\"], [\"3501_6\"], [\"3520_13\"], [\"J3295_13\"], [\"3416_6\"], [\"3501_1\"], [\"3413_6\"], [\"320_12\"], [\"3507_4\"], [\"361_1\"], [\"3490_2\"], [\"3534_4\"], [\"3481_4\"], [\"3424_4\"], [\"311_10\"], [\"3490_11\"], [\"3416_14\"], [\"3483_3\"], [\"3530_13\"], [\"3484_7\"], [\"3522_11\"], [\"3497_9\"], [\"3423_5\"], [\"362_10\"], [\"3417_14\"], [\"3530_1\"], [\"3422_10\"], [\"50810A_6\"], [\"3412_12\"], [\"311_4\"], [\"3414_1\"], [\"3505_8\"], [\"322_2\"], [\"364_3\"], [\"3513_1\"], [\"364_9\"], [\"3425_13\"], [\"3484_9\"], [\"293_3\"], [\"3505_13\"], [\"3421_8\"], [\"3516_8\"], [\"363_11\"], [\"3501_5\"], [\"3423_7\"], [\"50810A_4\"], [\"3425_5\"], [\"3502_3\"], [\"3497_1\"], [\"50810D_8\"], [\"322_15\"], [\"3491_12\"], [\"3488_6\"], [\"18899_12\"], [\"3507_10\"], [\"50810D_13\"], [\"3415_15\"], [\"3517_15\"], [\"3426_12\"], [\"363_7\"], [\"363_14\"], [\"309_12\"], [\"50810A_7\"], [\"3483_6\"], [\"50810B_6\"], [\"320_13\"], [\"3412_3\"], [\"50810D_12\"], [\"3414_7\"], [\"50810E_6\"], [\"50810F_7\"], [\"3516_5\"], [\"3491_13\"], [\"J1291_11\"], [\"3530_3\"], [\"363_15\"], [\"362_3\"], [\"3479_6\"], [\"311_1\"], [\"3411_2\"], [\"3478_10\"], [\"3476_11\"], [\"3420_13\"], [\"3412_15\"], [\"3499_10\"], [\"3489_12\"], [\"311_8\"], [\"3480_12\"], [\"3501_15\"], [\"3426_7\"], [\"3534_9\"], [\"3479_11\"], [\"50810F_12\"], [\"3504_1\"], [\"3421_6\"], [\"3419_9\"], [\"3411_4\"], [\"3499_4\"], [\"3418_9\"], [\"322_9\"], [\"293_10\"], [\"364_15\"], [\"50810C_1\"], [\"50810F_15\"], [\"294_4\"], [\"3415_1\"], [\"3606_12\"], [\"3414_11\"], [\"3422_12\"], [\"3413_9\"], [\"364_2\"], [\"3500_12\"], [\"3481_8\"], [\"3525_11\"], [\"J2292_5\"], [\"3507_13\"], [\"50810E_2\"], [\"3489_3\"], [\"50810E_10\"], [\"361_4\"], [\"3520_7\"], [\"3507_12\"], [\"3424_9\"], [\"3513_3\"], [\"321_13\"], [\"3417_4\"], [\"3426_5\"], [\"3507_1\"], [\"3504_6\"], [\"3484_10\"], [\"362_14\"], [\"321_2\"], [\"3480_5\"], [\"3419_1\"], [\"3499_13\"], [\"3421_7\"], [\"50810B_7\"], [\"3530_10\"], [\"18899_3\"], [\"362_9\"], [\"50810E_12\"], [\"3422_9\"], [\"3502_9\"], [\"3477_5\"], [\"3479_12\"], [\"361_15\"], [\"3477_14\"], [\"3521_15\"], [\"3520_5\"], [\"3498_12\"], [\"50810E_7\"], [\"321_6\"], [\"3480_9\"], [\"3525_4\"], [\"3521_8\"], [\"3424_6\"], [\"3505_9\"], [\"50810A_10\"], [\"293_13\"], [\"3478_6\"], [\"311_5\"], [\"3513_2\"], [\"50810B_1\"], [\"50810C_6\"], [\"50810D_3\"], [\"3490_13\"], [\"293_8\"], [\"320_9\"], [\"3412_11\"], [\"3503_6\"], [\"50810E_15\"], [\"3502_1\"], [\"J3295_15\"], [\"3426_4\"], [\"294_5\"], [\"3504_9\"], [\"3522_3\"], [\"365_3\"], [\"3429_11\"], [\"361_11\"], [\"363_4\"], [\"J2292_15\"], [\"18899_10\"], [\"311_3\"], [\"3520_8\"], [\"3478_8\"], [\"362_1\"], [\"3501_3\"], [\"J1291_14\"], [\"3413_11\"], [\"3507_11\"], [\"J1291_9\"], [\"293_4\"], [\"3417_7\"], [\"3413_1\"], [\"3477_2\"], [\"3476_12\"], [\"3517_12\"], [\"3606_3\"], [\"3530_4\"], [\"3501_10\"], [\"3489_8\"], [\"3484_13\"], [\"321_1\"], [\"3424_12\"], [\"294_8\"], [\"18899_11\"], [\"3412_7\"], [\"311_2\"], [\"3489_2\"], [\"321_4\"], [\"3413_12\"], [\"3421_14\"], [\"3489_6\"], [\"3534_6\"], [\"3530_5\"], [\"3481_1\"], [\"364_14\"], [\"3605_12\"], [\"3418_15\"], [\"3500_1\"], [\"311_12\"], [\"3498_8\"], [\"3422_3\"], [\"J1291_3\"], [\"3484_5\"], [\"3500_5\"], [\"320_8\"], [\"3522_10\"], [\"J1291_15\"], [\"3484_15\"], [\"3424_5\"], [\"J3295_1\"], [\"361_13\"], [\"3425_10\"], [\"3425_4\"], [\"3606_6\"], [\"3413_15\"], [\"3425_15\"], [\"3426_10\"], [\"3488_9\"], [\"J3295_2\"], [\"3421_3\"], [\"3414_10\"], [\"294_11\"], [\"361_6\"], [\"3513_8\"], [\"294_13\"], [\"293_1\"], [\"3534_8\"], [\"294_3\"], [\"3425_12\"], [\"3534_5\"], [\"3517_3\"], [\"3507_7\"], [\"3500_2\"], [\"3530_7\"], [\"3499_14\"], [\"50810F_2\"], [\"50810D_15\"], [\"3517_5\"], [\"3416_2\"], [\"3498_6\"], [\"3522_13\"], [\"3507_15\"], [\"321_9\"], [\"294_2\"], [\"50810A_14\"], [\"J3295_8\"], [\"3419_13\"], [\"3505_14\"], [\"3425_3\"], [\"3421_2\"], [\"309_9\"], [\"50810C_5\"], [\"320_7\"], [\"3423_3\"], [\"3505_7\"], [\"3503_14\"], [\"3477_4\"], [\"18899_13\"], [\"3414_2\"], [\"3429_9\"], [\"3605_1\"], [\"3605_13\"], [\"3491_8\"], [\"362_8\"], [\"3417_11\"], [\"365_13\"], [\"50810D_10\"], [\"294_1\"], [\"3498_14\"], [\"3502_14\"], [\"3504_11\"], [\"3513_6\"], [\"3516_11\"], [\"50810B_2\"], [\"3481_9\"], [\"293_6\"], [\"3521_13\"], [\"3521_12\"], [\"3605_15\"], [\"3480_1\"], [\"18899_6\"], [\"3491_15\"], [\"3505_15\"], [\"3502_6\"], [\"3480_4\"], [\"3423_14\"], [\"3478_11\"], [\"3413_7\"], [\"3520_4\"], [\"3425_14\"], [\"3417_9\"], [\"3521_9\"], [\"3501_2\"], [\"J1291_10\"], [\"3419_3\"], [\"3417_10\"], [\"364_10\"], [\"365_9\"], [\"3421_4\"], [\"50810A_11\"], [\"3520_3\"], [\"3413_4\"], [\"3419_8\"], [\"3422_4\"], [\"3606_11\"], [\"3503_7\"], [\"50810D_11\"], [\"3498_2\"], [\"3483_4\"], [\"3517_8\"], [\"3483_8\"], [\"3513_4\"], [\"3520_10\"], [\"3504_8\"], [\"50810A_13\"], [\"3498_10\"], [\"3483_11\"], [\"3418_1\"], [\"3517_11\"], [\"3420_10\"], [\"3504_12\"], [\"309_2\"], [\"3476_4\"], [\"50810C_3\"], [\"3415_6\"], [\"3429_10\"], [\"3421_12\"], [\"3476_14\"], [\"3497_12\"], [\"J3295_4\"], [\"3534_12\"], [\"3488_15\"], [\"362_13\"], [\"50810E_3\"], [\"3422_7\"], [\"3488_2\"], [\"3606_5\"], [\"3507_8\"], [\"363_2\"], [\"3500_8\"], [\"3426_15\"], [\"3417_8\"], [\"3522_12\"], [\"3484_14\"], [\"3606_2\"], [\"3522_4\"], [\"3425_2\"], [\"3500_9\"], [\"3605_9\"], [\"3498_11\"], [\"361_2\"], [\"3478_3\"], [\"3505_4\"], [\"50810D_6\"], [\"3513_15\"], [\"293_5\"], [\"3480_14\"], [\"362_4\"], [\"3418_10\"], [\"3429_13\"], [\"3504_3\"], [\"364_13\"], [\"3497_2\"], [\"3497_10\"], [\"3420_15\"], [\"J1291_7\"], [\"50810C_12\"], [\"3424_8\"], [\"3480_3\"], [\"3488_11\"], [\"3504_10\"], [\"J3295_11\"], [\"3534_3\"], [\"3479_10\"], [\"J2292_1\"], [\"3429_5\"], [\"J1291_8\"], [\"50810B_15\"], [\"3505_1\"], [\"3425_6\"], [\"J2292_2\"], [\"361_7\"], [\"3414_8\"], [\"3534_1\"], [\"3415_11\"], [\"3503_3\"], [\"363_9\"], [\"3491_5\"], [\"294_10\"], [\"3489_15\"], [\"320_6\"], [\"3516_1\"], [\"3412_6\"], [\"3505_10\"], [\"3513_7\"], [\"3426_3\"], [\"3425_7\"], [\"3481_5\"], [\"3411_14\"], [\"3498_15\"], [\"3499_6\"], [\"J2292_9\"], [\"3503_1\"], [\"3418_8\"], [\"3476_9\"], [\"3414_5\"], [\"363_1\"], [\"3423_11\"], [\"3498_7\"], [\"3516_14\"], [\"3476_3\"], [\"3491_9\"], [\"3419_12\"], [\"50810A_3\"], [\"3530_15\"], [\"3483_1\"], [\"50810A_8\"], [\"3502_2\"], [\"3425_8\"], [\"3420_8\"], [\"309_5\"], [\"3502_4\"], [\"3504_13\"], [\"3513_14\"], [\"50810E_13\"], [\"3417_13\"], [\"3418_4\"], [\"3516_7\"], [\"3411_6\"], [\"J3295_9\"], [\"361_9\"], [\"3499_9\"], [\"3534_10\"], [\"3411_8\"], [\"3414_4\"], [\"50810D_2\"], [\"3488_8\"], [\"321_3\"], [\"320_3\"], [\"50810C_15\"], [\"3502_15\"], [\"3606_15\"], [\"3419_6\"], [\"3520_15\"], [\"311_13\"], [\"3491_11\"], [\"3500_6\"], [\"3481_10\"], [\"3502_8\"], [\"3497_4\"], [\"365_4\"], [\"50810D_14\"], [\"3522_15\"], [\"50810A_2\"], [\"3416_8\"], [\"3488_4\"], [\"3521_4\"], [\"322_3\"], [\"3424_7\"], [\"3505_3\"], [\"3520_9\"], [\"J3295_6\"], [\"3489_11\"], [\"3606_14\"], [\"J1291_12\"], [\"322_5\"], [\"3605_3\"], [\"309_15\"], [\"294_7\"], [\"320_11\"], [\"3481_13\"], [\"3497_5\"], [\"3413_8\"], [\"3501_14\"], [\"3420_7\"], [\"50810C_7\"], [\"3530_12\"], [\"321_8\"], [\"3483_9\"], [\"3479_8\"], [\"3418_14\"], [\"293_15\"], [\"3411_5\"], [\"365_11\"], [\"363_12\"], [\"3503_12\"], [\"3411_7\"], [\"3423_12\"], [\"3423_6\"], [\"364_1\"], [\"3605_6\"], [\"3476_8\"], [\"362_15\"], [\"3491_6\"], [\"3419_7\"]], \"hoverlabel\": {\"namelength\": 0}, \"hovertemplate\": \"0=%{x}<br>1=%{y}<br>2=%{z}<br>Feature=%{customdata[0]}<br>Label=%{marker.color}\", \"legendgroup\": \"\", \"marker\": {\"color\": [0, 0, 0, 0, 0, 0, 0, 0, 0, 0, 0, 0, 0, 0, 1, 0, 0, 0, 0, 0, 0, 0, 0, 0, 0, 0, 0, 0, 1, 0, 0, 0, 0, 0, 0, 0, 0, 0, 0, 0, 0, 0, 0, 1, 0, 0, 1, 1, 0, 0, 1, 0, 0, 0, 0, 0, 0, 0, 0, 0, 0, 0, 0, 0, 1, 0, 0, 0, 0, 0, 0, 0, 0, 0, 0, 0, 0, 0, 0, 0, 0, 0, 0, 0, 0, 0, 0, 0, 0, 0, 0, 0, 0, 0, 0, 0, 0, 0, 0, 0, 0, 0, 0, 0, 0, 0, 0, 0, 0, 0, 0, 0, 0, 0, 0, 0, 0, 0, 0, 0, 0, 0, 0, 0, 0, 0, 0, 0, 0, 0, 0, 0, 0, 0, 0, 0, 0, 0, 0, 0, 0, 0, 0, 0, 0, 0, 0, 0, 0, 0, 0, 0, 0, 0, 0, 0, 0, 0, 0, 0, 0, 0, 0, 0, 0, 0, 0, 0, 0, 0, 0, 0, 0, 0, 0, 0, 0, 0, 0, 0, 0, 0, 0, 1, 0, 0, 0, 0, 1, 0, 0, 0, 0, 0, 0, 0, 1, 1, 0, 0, 0, 0, 0, 0, 0, 0, 0, 0, 1, 0, 0, 0, 0, 0, 0, 0, 0, 0, 0, 0, 0, 0, 0, 0, 0, 0, 0, 0, 0, 0, 0, 0, 0, 0, 0, 0, 0, 1, 0, 0, 0, 0, 0, 0, 0, 0, 1, 0, 0, 0, 0, 0, 0, 0, 0, 0, 0, 1, 0, 0, 0, 0, 0, 0, 0, 0, 0, 0, 0, 0, 0, 0, 0, 0, 1, 0, 0, 0, 0, 0, 0, 0, 0, 0, 0, 1, 0, 0, 0, 0, 0, 0, 0, 0, 0, 0, 0, 0, 0, 0, 0, 0, 0, 0, 0, 0, 0, 0, 1, 0, 0, 0, 0, 0, 0, 0, 1, 0, 1, 0, 0, 0, 0, 0, 0, 0, 0, 0, 0, 0, 0, 0, 0, 0, 0, 0, 0, 0, 0, 0, 0, 0, 0, 0, 0, 0, 0, 0, 0, 0, 0, 0, 0, 0, 0, 0, 0, 0, 0, 0, 0, 0, 0, 0, 0, 0, 0, 0, 0, 0, 0, 0, 0, 0, 0, 0, 0, 0, 0, 0, 1, 0, 0, 0, 0, 0, 0, 1, 0, 0, 0, 0, 0, 0, 0, 0, 0, 0, 0, 1, 0, 0, 0, 0, 0, 0, 0, 0, 0, 0, 0, 0, 0, 0, 0, 0, 0, 0, 0, 0, 0, 0, 0, 0, 0, 0, 0, 0, 0, 0, 0, 0, 0, 0, 0, 0, 0, 0, 0, 0, 0, 0, 0, 0, 0, 1, 0, 0, 0, 0, 1, 0, 0, 0, 0, 0, 0, 0, 0, 0, 1, 0, 0, 0, 1, 0, 0, 0, 0, 0, 0, 0, 0, 0, 0, 0, 0, 0, 0, 0, 0, 0, 0, 0, 0, 0, 0, 0, 0, 0, 0, 0, 0, 0, 0, 0, 0, 0, 0, 0, 0, 0, 0, 0, 0, 0, 0, 0, 0, 0, 0, 1, 0, 0, 0, 0, 0, 0, 0, 0, 0, 0, 0, 0, 0, 0, 0, 0, 0, 0, 0, 0, 0, 0, 0, 0, 0, 0, 0, 0, 0, 0, 0, 0, 0, 1, 0, 0, 0, 0, 0, 0, 0, 0, 0, 1, 1, 0, 0, 0, 0, 0, 0, 0, 1, 0, 0, 0, 0, 0, 0, 0, 0, 0, 0, 0, 0, 0, 0, 0, 0, 0, 0, 0, 0, 0, 0, 0, 0, 0, 1, 0, 0, 0, 0, 0, 0, 0, 0, 0, 0, 0, 0, 0, 0, 0, 0, 0, 0, 0, 0, 0, 0, 0, 0, 0, 0, 0, 0, 0, 0, 0, 0, 0, 0, 0, 0, 0, 0, 0, 0, 0, 0, 0, 0, 0, 0, 1, 0, 0, 0, 0, 0, 0, 0, 0, 0, 0, 0, 0, 0, 0, 0, 0, 0, 0, 0, 0, 0, 0, 0, 0, 0, 0, 0, 0, 0, 0, 0, 0, 0, 0, 0, 0, 0, 0, 0, 0, 0, 0, 0, 0, 0, 0, 0, 0, 0, 0, 0, 0, 0, 0, 0, 0, 0, 0, 0, 0, 0, 0, 0, 0, 0, 0, 0, 0, 0, 0, 0, 0, 1, 0, 0, 0, 0, 0, 0, 0, 0, 0, 1, 0, 0, 0, 0, 0, 0, 0, 0, 0, 0, 0, 0, 0, 0, 0, 0, 0, 1, 0, 0, 0, 0, 0, 0, 0, 1, 0, 0, 0, 0, 0, 0, 0, 0, 0, 0, 0, 0, 0, 0, 0, 0, 0, 0, 0, 0, 0, 0, 0, 0, 0, 0, 0, 0, 0, 0, 0, 0, 0, 0, 0, 0, 0, 0, 0, 0, 0, 1, 0, 0, 0, 0, 0, 0, 0, 0, 0, 0, 0, 0, 0, 0, 0, 0, 0, 0, 0, 0, 0, 0, 0, 0, 0, 0, 0, 0, 0, 0, 0, 0, 0, 0, 0, 0, 0, 0, 0, 0, 0, 0, 0, 0, 0, 0, 0, 0, 0, 0, 0, 0, 0, 0, 0, 0, 0, 0, 0, 0, 0, 0, 0, 0, 0, 0, 0, 0, 0, 0, 0, 0, 0, 0, 0, 0, 0, 0, 0, 0, 0, 0, 0, 0, 0, 1, 0, 0, 0, 0, 0, 0, 0, 0, 0, 0, 0, 0, 0, 0, 1, 0, 0, 0, 0, 0, 1, 0, 0, 0, 0, 0, 0, 0, 0, 0, 0, 0, 0, 0, 1, 0, 0, 0, 0, 0, 0, 0, 0, 0, 0, 0, 0, 0, 0, 0, 0, 0, 0, 0, 0, 0, 0, 0, 0, 0, 0, 0, 0, 0, 0, 1, 0, 0, 0, 1, 0, 1, 0, 0, 0, 0, 0, 0, 0, 0, 0, 0, 0, 0, 0, 0, 0, 0, 0, 0, 0, 0, 0, 0, 1, 0, 1, 0, 0, 0, 1, 0, 0, 0, 0, 1, 0, 0, 0, 1, 0, 0, 0, 0, 0, 0, 0, 0, 0, 0, 0, 0, 0, 0, 0, 0, 0, 0, 0, 0, 0, 0, 0, 0, 0, 0, 1, 0, 0, 0, 0, 0, 0, 0, 0, 0, 0, 0, 0, 0, 0], \"coloraxis\": \"coloraxis\", \"opacity\": 0.7, \"symbol\": \"circle\"}, \"mode\": \"markers\", \"name\": \"\", \"scene\": \"scene\", \"showlegend\": false, \"type\": \"scatter3d\", \"x\": [-0.6745874881744385, -9.780462265014648, 9.199338912963867, -11.579582214355469, -6.324477195739746, -17.054500579833984, 2.4892494678497314, 2.0258545875549316, -6.838245868682861, -5.820317268371582, 15.599433898925781, -11.893024444580078, -14.962936401367188, 10.781237602233887, -9.368782997131348, 1.8215484619140625, -8.192585945129395, 2.3594515323638916, -15.795207023620605, -16.51409912109375, 9.591821670532227, 9.997199058532715, 6.464047908782959, -6.498048782348633, 4.17114782333374, -1.8611068725585938, 0.6163251996040344, -10.474899291992188, 7.7246012687683105, 17.52540397644043, -9.798848152160645, -1.50156831741333, 8.136309623718262, 9.515408515930176, 12.465201377868652, -16.970670700073242, 17.530353546142578, -8.605352401733398, 3.5335521697998047, -8.733776092529297, -5.13344144821167, -3.6808974742889404, -1.100051999092102, -10.755851745605469, 2.6723058223724365, 6.399418830871582, -16.08972930908203, 4.78361177444458, 12.686535835266113, -8.860715866088867, -5.965208530426025, 9.020454406738281, -3.302283525466919, 5.377108097076416, -17.869728088378906, 9.85891056060791, -3.8952603340148926, -3.556262731552124, 6.72998571395874, -15.700568199157715, 3.6993701457977295, -9.299324035644531, 0.1804368942975998, 7.05826473236084, 13.122213363647461, 14.370481491088867, -14.953438758850098, 15.432329177856445, 2.6019668579101562, 4.277984619140625, 2.357954263687134, 3.124467134475708, -14.460832595825195, -3.8897852897644043, 7.415836334228516, -12.263906478881836, -9.34339427947998, -8.13201904296875, -15.608111381530762, -7.153604507446289, 0.8848925828933716, -12.770760536193848, 5.600529670715332, 10.708545684814453, 8.146076202392578, -10.775752067565918, -6.925493240356445, -9.115135192871094, -5.639745712280273, -5.691976547241211, -14.9714937210083, -3.6858956813812256, -0.9216414093971252, 3.3933792114257812, -11.287973403930664, 13.614398956298828, -15.569130897521973, 5.780691146850586, -10.450397491455078, 13.602580070495605, 2.30627703666687, 12.532188415527344, -5.48505163192749, 1.1583104133605957, -11.195992469787598, -13.250524520874023, 4.733022212982178, 6.365011692047119, 11.461459159851074, 0.0785093829035759, -14.63939380645752, -0.7027133107185364, 0.3019355535507202, -2.488180160522461, -8.164068222045898, 8.375065803527832, 5.370474815368652, -8.049057960510254, 8.570002555847168, 9.221023559570312, 10.733704566955566, 7.678958892822266, 6.516507148742676, 7.187032699584961, 5.761350631713867, -10.064826965332031, -7.264946460723877, 6.661154747009277, 6.881186485290527, 12.459339141845703, -5.184098243713379, 0.5774304866790771, 9.30300521850586, -2.796184778213501, 12.591150283813477, 16.383544921875, -6.12700891494751, 14.3961763381958, 1.7440590858459473, -0.28162410855293274, -8.994425773620605, 8.536752700805664, -6.05625057220459, 6.254229545593262, 11.48507022857666, 8.107515335083008, 4.737055778503418, 14.836372375488281, -2.9832024574279785, 9.514535903930664, 9.073745727539062, 9.336066246032715, -5.218508720397949, 3.395725965499878, -6.200413227081299, -7.436612129211426, 3.7970130443573, 12.531659126281738, 15.2860107421875, -8.751995086669922, -3.9805877208709717, 12.435481071472168, -1.1606886386871338, 10.671151161193848, 8.094766616821289, 3.6516239643096924, -10.606834411621094, -10.895729064941406, 11.033196449279785, -11.259834289550781, -8.729769706726074, -7.438216209411621, 3.207916259765625, 4.301314353942871, 6.667912483215332, 6.451150417327881, 2.762467622756958, -1.2224153280258179, 6.419442176818848, 5.617603302001953, 9.110673904418945, 9.70669174194336, 9.346729278564453, 16.88326644897461, -8.247248649597168, -8.811691284179688, 7.068770408630371, 0.0759073793888092, -11.554579734802246, -15.333566665649414, -6.052574157714844, -4.008359909057617, 1.9042268991470337, 6.997808456420898, 2.4782400131225586, 11.591839790344238, 12.217996597290039, 6.173831939697266, 10.612768173217773, -4.466335296630859, 8.140028953552246, 7.1402997970581055, -10.175657272338867, -6.674345970153809, 9.693398475646973, 9.918447494506836, 12.039210319519043, -16.20095443725586, 12.565890312194824, 1.6524202823638916, 6.385238170623779, 10.242636680603027, -2.62703275680542, 11.528156280517578, -6.329526424407959, 9.52743148803711, 3.998824119567871, -17.758285522460938, -14.834460258483887, -15.03493881225586, -11.483428001403809, -10.049565315246582, 12.680373191833496, 3.2517573833465576, 5.006497383117676, 7.491693496704102, 9.95830249786377, 1.7792701721191406, 3.206590414047241, -9.314478874206543, -10.392745018005371, 5.619198322296143, -10.960886001586914, 9.63781452178955, 6.140185356140137, 0.4432184398174286, 2.3127315044403076, -3.2046098709106445, 11.173810005187988, 2.4139723777770996, 8.933928489685059, -10.408273696899414, 2.4591901302337646, 6.139120578765869, 10.366252899169922, -7.192076683044434, 1.9570590257644653, -7.718961715698242, -7.12077522277832, 6.304406642913818, -4.944519996643066, 6.8882246017456055, -0.16428640484809875, 6.751400470733643, -0.34098830819129944, 8.506564140319824, -3.4890973567962646, -8.174043655395508, -12.357095718383789, -6.706705570220947, 7.494643688201904, 0.0933503657579422, -0.3887496590614319, -2.05828595161438, -0.5650946497917175, 7.9246344566345215, -10.76827621459961, 1.6587580442428589, 0.8607884645462036, -3.081676959991455, 6.874375343322754, 10.125808715820312, 6.379756927490234, -16.014089584350586, -16.10333251953125, -0.49909040331840515, -16.500417709350586, 12.946918487548828, -11.60258960723877, -1.1418702602386475, -2.4363770484924316, 4.315828323364258, -7.883555889129639, 1.594409465789795, -2.8738276958465576, -16.176055908203125, 2.770045042037964, 1.665036916732788, -5.250868320465088, -14.905024528503418, -13.69996452331543, -5.169816017150879, 10.306869506835938, 6.547884464263916, 15.775764465332031, -9.955794334411621, 2.726365566253662, 8.630349159240723, -11.313307762145996, -3.9247634410858154, -9.334490776062012, 1.407970905303955, 8.204397201538086, -2.5674116611480713, -5.491124153137207, -10.2373046875, 6.225759506225586, 17.440673828125, -8.277165412902832, 16.9863338470459, 9.97973918914795, 0.9130895733833313, -15.78361988067627, 5.087759017944336, 12.519580841064453, 14.566067695617676, 7.546350955963135, 6.841245174407959, -15.039346694946289, 6.485072135925293, 10.373714447021484, -7.994637966156006, 6.021359443664551, 7.408901214599609, -0.0002858292427845299, 8.083576202392578, -0.11960961669683456, 11.756087303161621, 15.259552001953125, 0.4008685350418091, -9.260406494140625, -17.464393615722656, -7.586733341217041, -5.427176475524902, 5.748091220855713, -6.471006870269775, -14.203639030456543, 13.154898643493652, 14.410842895507812, 1.0179449319839478, -7.819669723510742, 4.104645252227783, 15.179768562316895, -12.601442337036133, -10.046538352966309, -11.853959083557129, -17.124065399169922, 4.6436767578125, -1.9311752319335938, -10.421732902526855, -1.8848122358322144, 10.079595565795898, -13.908251762390137, -1.1482818126678467, 8.111105918884277, -5.706547737121582, -5.874963283538818, -0.8523921370506287, 1.017657995223999, -3.045278310775757, 9.323893547058105, -6.795143127441406, 6.359271049499512, -10.804359436035156, 9.083823204040527, 3.9115402698516846, -7.964641571044922, -0.891729474067688, 4.52763032913208, 0.38882485032081604, -10.615572929382324, -7.49802303314209, -13.325793266296387, -4.920616626739502, -5.198140621185303, 10.582433700561523, 10.75026798248291, 5.759144306182861, 14.414153099060059, 14.756278038024902, -10.828757286071777, 7.813228607177734, -0.1035512313246727, -14.119083404541016, 6.804418087005615, -15.340346336364746, 13.561918258666992, -9.707953453063965, 5.962305545806885, 15.694769859313965, 12.86890983581543, -3.165975570678711, 0.9269378781318665, 7.256518840789795, -8.204926490783691, -6.942685604095459, 9.803751945495605, -12.20401668548584, -17.705730438232422, 18.064491271972656, -4.673574447631836, -5.714602947235107, 6.2700886726379395, -17.266443252563477, 5.645969867706299, -8.3203763961792, -1.7152745723724365, -8.001422882080078, -2.6976025104522705, 13.747610092163086, 11.990656852722168, 4.7130537033081055, 2.1062333583831787, 5.1963934898376465, -6.790245056152344, 14.601187705993652, 16.66404151916504, 14.49150562286377, 7.712371826171875, -11.130393981933594, 1.9256629943847656, 6.301626205444336, -14.537755012512207, 0.028395669534802437, -4.241994380950928, 5.326416492462158, 1.1504490375518799, 0.210265651345253, -13.330238342285156, 4.624341011047363, 9.223647117614746, 1.941338300704956, -2.1475653648376465, -17.364953994750977, 5.737966537475586, -12.367537498474121, 4.798008441925049, -5.942163467407227, -9.101890563964844, 0.9270628094673157, -10.571772575378418, -2.6579606533050537, -1.7048169374465942, -6.431792259216309, -0.9598199129104614, -8.034295082092285, -13.71217155456543, 2.9288692474365234, 14.428092956542969, -18.164777755737305, -11.265969276428223, 3.1402459144592285, 14.194713592529297, -17.505599975585938, 11.778511047363281, 6.51520299911499, -0.1293143481016159, -4.006763458251953, -1.6828525066375732, -14.800348281860352, 6.9345831871032715, -0.40260690450668335, 15.778681755065918, -3.0227999687194824, -8.967547416687012, -8.563671112060547, 9.435450553894043, -15.131674766540527, 2.2681422233581543, 10.189151763916016, 9.310912132263184, -2.788565158843994, 4.510277271270752, -8.06503677368164, -5.283576965332031, -3.9717907905578613, 8.177212715148926, -6.5470290184021, -10.430586814880371, -3.0013186931610107, -11.226816177368164, -3.520711660385132, 14.397757530212402, -4.906106472015381, -14.970367431640625, -5.566763877868652, -6.500296115875244, 9.41446590423584, 1.7400236129760742, 12.306056022644043, 10.994514465332031, 8.130722045898438, -2.90187668800354, 12.017373085021973, -7.789721488952637, 9.577974319458008, 3.1784534454345703, -16.44182586669922, 8.776613235473633, -11.176980972290039, 11.429697036743164, 11.109834671020508, 4.6752777099609375, 10.533586502075195, -3.604192018508911, -14.491442680358887, 9.25998306274414, 17.208518981933594, 6.123148441314697, 11.958305358886719, -2.542849063873291, -9.759958267211914, -10.98819637298584, 11.074732780456543, -4.049746513366699, 8.062947273254395, 6.480865955352783, -1.6340562105178833, 4.650523662567139, 11.8375825881958, 6.205318450927734, -7.888572692871094, -4.164538383483887, -8.604866981506348, -13.875428199768066, -13.968368530273438, 16.2958984375, -10.009354591369629, -0.6469970345497131, -4.6981987953186035, 7.019559383392334, -0.1988884061574936, -13.704273223876953, 11.109395980834961, 2.048072576522827, -5.430660724639893, 12.359102249145508, -4.012368679046631, -11.892495155334473, -8.723604202270508, 7.341563701629639, 9.251463890075684, 4.744233131408691, 9.34277629852295, -11.222455978393555, -10.481199264526367, -3.8055756092071533, -9.924627304077148, -9.55046558380127, -9.533495903015137, 1.4132462739944458, 11.71183967590332, 6.585490703582764, 1.6715235710144043, -7.506002426147461, 15.106096267700195, -2.3250842094421387, -7.4361066818237305, 11.49244499206543, 0.4919896125793457, 0.8838197588920593, 12.300495147705078, 8.223352432250977, -9.806839942932129, -16.087846755981445, 5.1244797706604, -2.134033679962158, 1.296218991279602, 1.9971879720687866, -8.437722206115723, -6.124058723449707, -14.577545166015625, -15.111282348632812, 8.980438232421875, 9.908923149108887, -9.175273895263672, -12.887225151062012, -4.6256818771362305, -0.4108520746231079, -8.996246337890625, 1.0217435359954834, -8.938532829284668, 11.232595443725586, 1.973278522491455, 0.5089882016181946, -8.096863746643066, -3.7386274337768555, 8.343446731567383, -5.827971458435059, -3.3060059547424316, 17.87543296813965, 13.621416091918945, -11.005385398864746, 6.690161228179932, -4.293231010437012, -11.530797958374023, 17.67885398864746, -1.515480637550354, 12.015728950500488, -7.393927574157715, -0.11868074536323547, -14.540918350219727, -8.007464408874512, 6.867105484008789, 8.745373725891113, -8.059172630310059, 5.43930196762085, 9.447944641113281, -6.01650857925415, 11.093259811401367, -2.4906609058380127, 1.7944018840789795, 9.895149230957031, 0.14397211372852325, 1.4771255254745483, -11.914064407348633, 2.705981731414795, -4.83404016494751, 9.318451881408691, 9.980239868164062, 7.213718891143799, 14.817612648010254, 2.2673158645629883, 9.783411979675293, -2.80234694480896, 7.206722736358643, -6.733903884887695, -1.7285096645355225, -1.0217928886413574, 8.803303718566895, 6.1783952713012695, 4.751547336578369, 10.62311840057373, -10.791923522949219, -1.43061363697052, 5.866163730621338, -15.142498970031738, -10.279741287231445, -0.2586829662322998, 5.256379127502441, -10.133078575134277, 4.508350372314453, -12.292037963867188, -9.850540161132812, -15.46102237701416, 14.589329719543457, 8.980895042419434, -0.33631816506385803, -6.892606258392334, 3.1017720699310303, 15.519739151000977, 4.209674835205078, -7.498526573181152, -2.4908082485198975, 3.862856149673462, -4.795619487762451, -0.3133515417575836, -16.770727157592773, -4.9192070960998535, 6.433640003204346, -10.986416816711426, 14.024518013000488, -3.447218656539917, 5.884795188903809, -9.403069496154785, -7.675807476043701, -6.880568027496338, 2.2290966510772705, -5.9040846824646, 4.8052191734313965, -14.53839111328125, -5.124378681182861, 0.9317021369934082, -9.026190757751465, -5.274500846862793, 7.208499908447266, 12.341047286987305, 6.682532787322998, -5.297523021697998, 14.838839530944824, -9.166841506958008, -0.49153974652290344, 9.8491849899292, -14.908615112304688, -3.4468367099761963, 9.132806777954102, -18.27114486694336, -2.6616573333740234, 0.2541412115097046, 3.1829748153686523, 11.901595115661621, -5.147511959075928, -1.1772428750991821, 1.4068950414657593, 0.7180430889129639, 11.295411109924316, -9.664319038391113, -5.5128912925720215, 8.327522277832031, -7.9937520027160645, -4.339263439178467, -11.437460899353027, -2.9825539588928223, 4.982053756713867, -4.162691593170166, 5.255795955657959, 4.3424577713012695, 11.85971736907959, 17.518627166748047, 5.860407829284668, -9.381667137145996, 5.181180953979492, 14.733750343322754, 11.192750930786133, 11.993136405944824, 11.858562469482422, -4.953324794769287, 7.202021598815918, 6.027351379394531, -4.662507057189941, -11.089214324951172, 6.267599105834961, 11.53318977355957, 11.659629821777344, 5.693190097808838, 6.409750461578369, 14.691827774047852, 7.780330657958984, 7.0528459548950195, -4.9320759773254395, -17.131746292114258, 4.074521064758301, -6.4232401847839355, -9.09062671661377, 8.429652214050293, 7.2846198081970215, -0.1779319792985916, -9.479060173034668, -9.084467887878418, 5.858414173126221, -4.694237232208252, -2.4724180698394775, -9.908690452575684, -6.977505207061768, 2.842435598373413, -4.676089763641357, -11.402389526367188, -1.8173649311065674, 0.12999151647090912, -4.751136779785156, -7.005505561828613, -12.451922416687012, 12.917262077331543, -1.4340381622314453, 3.5157997608184814, 13.761963844299316, -3.4185564517974854, 12.304695129394531, 9.172996520996094, -10.252726554870605, 11.756779670715332, 5.999253749847412, 7.459768295288086, 7.935827732086182, 12.511758804321289, -12.57142448425293, -0.8664286136627197, -10.182438850402832, 5.405409336090088, -11.380739212036133, -15.953611373901367, -0.797889232635498, 9.395697593688965, 7.62245512008667, 9.26020622253418, -9.052653312683105, -6.557555198669434, 8.694198608398438, -9.28252124786377, -6.1327972412109375, -7.271217346191406, -8.578975677490234, -4.17085075378418, 7.0400896072387695, 7.220699310302734, -8.329813957214355, 6.230486869812012, 4.004016876220703, 12.82097339630127, -11.552265167236328, -17.444801330566406, 11.133119583129883, 15.010709762573242, 0.8357235193252563, -0.9557690620422363, -12.95401382446289, 11.31199836730957, -8.732776641845703, 9.152359962463379, -17.538677215576172, 16.88376808166504, -15.07053279876709, 2.555460214614868, -10.573494911193848, -14.503870964050293, 7.355015754699707, -4.3880085945129395, -4.274672031402588, -3.759962797164917, 15.121347427368164, -10.149602890014648, 9.649264335632324, -0.09356459975242615, -9.441835403442383, 15.259230613708496, -9.963016510009766, 5.675097942352295, -5.897468090057373, -5.027379035949707, -0.23538757860660553, -11.288521766662598, -11.768070220947266, -3.8082022666931152, 11.1473970413208, -8.707330703735352, 4.605803489685059, -12.824867248535156, 10.086736679077148, 9.363017082214355, -7.817596435546875, -8.266312599182129, 0.6212255954742432, -4.169144153594971, 6.906315803527832, 2.975517511367798, 1.5999798774719238, 6.696942329406738, -8.959351539611816, -16.196889877319336, -14.75308609008789, 5.859718322753906, -14.646035194396973, 4.307990074157715, -2.7925846576690674, -14.9850435256958, -8.769428253173828, -18.080678939819336, -15.893736839294434, 8.13776969909668, 6.41860818862915, 16.901165008544922, -14.881601333618164, -6.642727851867676, -1.7595672607421875, -2.843412399291992, 0.06910641491413116, -18.108659744262695, -9.927741050720215, -3.3109335899353027, -5.045262813568115, -5.4822001457214355, 13.210531234741211, -0.7049364447593689, -0.042084239423274994, -2.897596597671509, 2.6978847980499268, 2.417484760284424, 2.3482961654663086, 7.4932098388671875, 0.21731750667095184, 9.010523796081543, -1.762762427330017, -11.80621337890625, -0.7935073375701904, -9.045191764831543, 4.1081342697143555, -5.647268295288086, -5.867690086364746, 9.140800476074219, 13.010396003723145, -17.435361862182617, -1.395017385482788, 3.007018804550171, -7.718686103820801, -6.094100475311279, 2.2614641189575195, -4.234458923339844, -11.149979591369629, -0.5403407216072083, 8.767990112304688, -17.746477127075195, -14.986052513122559, 9.825052261352539, -6.36165189743042, -4.367395877838135, 18.202072143554688, -8.045852661132812, -6.742228984832764, 6.080353736877441, -10.351301193237305, -0.846476674079895, -15.034952163696289, -8.893338203430176, 11.397933006286621, -7.297755718231201, 2.3492825031280518, -17.335296630859375, -7.834744930267334, -15.613069534301758, -5.481755256652832, -7.437228679656982, 2.428358793258667, -2.0567572116851807, -12.5050048828125, 11.843433380126953, -8.721543312072754, 6.61614990234375, 0.640494704246521, 1.8804608583450317, 13.117514610290527, 6.736603736877441, 6.068403720855713, -7.83576774597168, 11.540634155273438, -9.442755699157715, 3.939129590988159, 0.010439770296216011, -8.419673919677734, 6.413331508636475, 10.062808990478516, -17.688228607177734, -7.890502452850342, 2.763794422149658, 6.6281657218933105, 6.887154579162598, -1.675457239151001, -12.7361421585083, 0.23787789046764374, 5.41867733001709, -17.501934051513672, -11.524617195129395, 1.6653505563735962, 0.6723414063453674, 7.75189208984375, 1.8617095947265625, 16.486576080322266, -13.950456619262695, -6.3764328956604, 15.003159523010254, -9.57149600982666, 7.509701728820801, -7.714623928070068, 14.85564136505127, -15.081538200378418, 2.740025043487549, -5.671654224395752, -13.807782173156738, 8.529792785644531, -9.67606258392334, 8.118402481079102, -7.006603240966797, -2.0877654552459717, -9.419757843017578, 12.99908447265625, 8.955533027648926, -12.964122772216797, 0.9346981048583984, -0.21669428050518036, 5.364831924438477, 4.915407180786133, -6.989688396453857, 16.958343505859375, 0.9334611892700195, 5.855199337005615, -2.4930927753448486, -4.705615520477295, 0.704547643661499, 8.736703872680664, 8.163566589355469, 15.45091724395752, -2.721696376800537, 8.985279083251953, -10.08769416809082, -1.4166858196258545, 1.9193474054336548, -11.48951244354248, -1.0001552104949951, -2.9149537086486816, 7.338978290557861, 6.404402256011963, -5.545724391937256, -1.182737946510315, -5.660250663757324, 6.609914302825928, 1.3448692560195923, -8.915040016174316, 8.447587966918945, 11.506216049194336, -8.569181442260742, 11.559971809387207, 8.295520782470703, 9.381207466125488, -6.333398818969727, -5.018125534057617, 17.539583206176758, 6.972046375274658, -5.123291969299316, 14.972566604614258, 7.676483631134033, -14.733268737792969, -11.234562873840332, 7.88869571685791, -6.869588851928711, 8.769164085388184, 10.325042724609375, 1.343901515007019, 6.2294158935546875, 9.211024284362793, 6.142341136932373, 6.919541835784912, 9.25423526763916, 12.194937705993652, -1.4813940525054932, -0.8375797867774963, 1.63401460647583, 6.597892761230469], \"y\": [14.856799125671387, -10.140517234802246, -4.186206340789795, 7.005539417266846, -1.6187777519226074, 3.796809434890747, 4.303155899047852, 3.1078031063079834, -3.3197708129882812, 9.11724853515625, 1.6077979803085327, 9.820249557495117, 4.102679252624512, -8.77369499206543, 15.430215835571289, -7.47951602935791, 1.9010690450668335, -7.108524799346924, -0.19497022032737732, 6.610809803009033, 12.288765907287598, 11.158320426940918, -4.8257598876953125, 14.031877517700195, -4.146047115325928, 1.3644154071807861, -11.278936386108398, 15.607632637023926, -1.1796295642852783, -2.995539903640747, 9.582974433898926, 9.199840545654297, 12.870969772338867, -7.159794330596924, -9.40731430053711, 3.68039608001709, -2.9615418910980225, 2.2950103282928467, 3.6567227840423584, -4.555636882781982, 14.155014991760254, -6.4253010749816895, 10.59835147857666, -4.367478370666504, 4.57060432434082, 11.2388916015625, -3.8937618732452393, 12.427218437194824, -5.128378868103027, -10.592164993286133, -11.280055046081543, -6.405521869659424, 14.847753524780273, -13.395054817199707, 1.287976622581482, 7.3159990310668945, 6.90742826461792, 13.014609336853027, -2.733473300933838, 0.1806226521730423, -6.349509239196777, -3.5394251346588135, 5.675591945648193, -8.884474754333496, 7.368627071380615, -5.110060691833496, 1.8591381311416626, -10.400513648986816, -7.90696907043457, -13.665178298950195, -1.068945288658142, -1.0998430252075195, -3.565765380859375, 15.40745735168457, 11.133216857910156, 9.742873191833496, -4.964789867401123, -2.2329764366149902, 0.706143319606781, -1.8357106447219849, -12.04248332977295, -9.09959888458252, 12.29421329498291, 12.1454439163208, -5.139737606048584, -0.07985668629407883, -7.759886264801025, -4.485044479370117, -2.487729549407959, 13.014605522155762, 2.1637628078460693, 8.506638526916504, -9.111309051513672, -6.8352952003479, -0.8804931640625, 3.050827741622925, 6.064876556396484, -8.228903770446777, 0.5590702891349792, -8.211426734924316, -1.5542876720428467, -5.210460662841797, -1.115760326385498, 1.4858146905899048, 2.9459493160247803, 8.60702133178711, -1.8553448915481567, 13.62621021270752, -2.8164255619049072, 4.1106486320495605, 4.357767581939697, 4.144750118255615, 11.574728012084961, 1.5671489238739014, 9.505375862121582, -0.7887557744979858, -13.50768756866455, 2.1264166831970215, -14.853275299072266, -7.613823890686035, 6.8389363288879395, -14.965853691101074, -9.414350509643555, -8.611515045166016, -5.157565593719482, -0.11031774431467056, 2.618759870529175, -4.4804511070251465, -0.24549591541290283, -4.793093681335449, -6.294749736785889, 1.1228379011154175, -8.10738754272461, 9.494171142578125, 0.9231507182121277, 0.20141379535198212, -7.5792036056518555, 1.892709732055664, 13.99402904510498, 10.202662467956543, -8.356759071350098, -14.703920364379883, 7.779310703277588, -7.983145713806152, -2.500143051147461, 11.744630813598633, 12.441012382507324, 3.2378814220428467, 11.399048805236816, 11.4517183303833, 7.878658294677734, -6.381869316101074, 8.769972801208496, -2.955777883529663, -4.345005989074707, 11.143265724182129, 4.386018753051758, -11.465948104858398, 1.3934588432312012, 10.218940734863281, 6.849555015563965, 0.1037493348121643, -8.488932609558105, 11.921041488647461, 12.297446250915527, -6.724823474884033, -0.07123461365699768, 0.20501311123371124, -11.39744758605957, 7.383530139923096, 2.078167200088501, -1.697400450706482, -2.7225568294525146, -4.083564758300781, -10.9196195602417, -10.252222061157227, -7.075404167175293, 15.640477180480957, -4.965664863586426, -14.608475685119629, 11.654622077941895, -11.45669937133789, 11.819011688232422, -0.6129047870635986, 8.964075088500977, 1.868390679359436, -8.22232437133789, 13.637507438659668, -9.530850410461426, 1.764715552330017, -7.353168487548828, -14.0193510055542, 8.233270645141602, -14.162485122680664, -7.133681774139404, -11.495766639709473, 3.076664686203003, -3.1829123497009277, 7.446928977966309, 1.1929596662521362, -9.227997779846191, 0.4383867383003235, 1.2140507698059082, 12.268041610717773, -6.29285192489624, -4.608895778656006, -5.446059703826904, 0.7070026993751526, 3.2578470706939697, 8.101163864135742, -5.840025424957275, 6.338959217071533, 11.46565055847168, 0.6298618912696838, -2.513887882232666, -5.4128265380859375, 1.6290953159332275, -0.4975671172142029, 0.5392455458641052, -0.038370899856090546, 6.859678745269775, 3.825319528579712, 6.858345985412598, 2.8745033740997314, 4.304337501525879, -1.984769582748413, -7.594272613525391, 6.6959547996521, 4.447481632232666, -3.5819265842437744, 0.8762304186820984, 12.033288955688477, -8.147334098815918, 11.797948837280273, -15.383123397827148, 9.0458345413208, -0.41964542865753174, 11.92344856262207, 11.020482063293457, 4.1542768478393555, 11.287396430969238, -7.956297397613525, -7.040772438049316, -2.3983371257781982, -8.598565101623535, -2.390770435333252, 14.55335521697998, -2.632253408432007, -2.031278371810913, -9.267281532287598, 3.555795192718506, -2.4963324069976807, 15.447638511657715, -1.8175508975982666, -11.693266868591309, -6.101548194885254, 12.972430229187012, 15.553894996643066, -0.5892366766929626, 4.681410789489746, 13.426920890808105, 14.945594787597656, 11.514187812805176, 7.321231365203857, -9.977814674377441, -4.431750297546387, -3.7164669036865234, 13.347713470458984, 6.503114223480225, -15.380046844482422, -7.184317588806152, -11.140530586242676, 11.758471488952637, -1.802258849143982, -2.0277798175811768, -8.273255348205566, 5.748297214508057, -4.524686813354492, 6.993788719177246, -10.896851539611816, 3.7776713371276855, -2.536449909210205, -10.878015518188477, -12.086834907531738, 11.19053840637207, -2.2771167755126953, 0.20479221642017365, 6.976328372955322, 3.546121597290039, 3.428981304168701, -9.102849960327148, 12.564436912536621, -11.591964721679688, -9.072004318237305, -10.195953369140625, 3.885164499282837, -12.888188362121582, -2.9623963832855225, 10.789426803588867, 15.265607833862305, -2.569929599761963, -1.1946758031845093, 12.633068084716797, 2.2562050819396973, 3.6955320835113525, 14.831460952758789, -7.7969279289245605, -5.510681629180908, 16.016128540039062, -10.45957088470459, -8.719841003417969, 11.811359405517578, -0.0011300374753773212, 5.616460800170898, 0.18759848177433014, -7.860841274261475, -0.6677882671356201, -9.222649574279785, -0.10271082818508148, -5.05211877822876, 11.458165168762207, 0.7960203289985657, 12.250682830810547, -3.200634002685547, -11.171806335449219, -14.51068115234375, 15.28718090057373, -4.295629501342773, -0.1931636482477188, 11.705382347106934, 1.675538182258606, 3.4609270095825195, 2.4244937896728516, 6.065710067749023, -3.482201337814331, -1.7484067678451538, -3.475097894668579, 3.4989206790924072, -7.131512641906738, -12.034098625183105, 10.701878547668457, 3.4582629203796387, -5.558635711669922, -0.5228066444396973, 0.35690903663635254, -0.4571973383426666, 2.799165725708008, 2.623828411102295, 2.6052308082580566, -7.823202133178711, 1.397187352180481, -8.50927734375, -4.172584056854248, -9.717724800109863, -10.497467994689941, 7.8184733390808105, 7.540618896484375, -8.868663787841797, 1.8818438053131104, 2.6083896160125732, 9.551396369934082, 7.062798500061035, -8.584644317626953, -7.983153343200684, -6.480806827545166, -6.346162796020508, 9.619513511657715, 15.45891284942627, -12.98343276977539, 4.326709747314453, 15.421480178833008, 2.1643247604370117, 8.554511070251465, 5.846067428588867, -6.3515520095825195, -8.079252243041992, 6.368407726287842, -14.74128532409668, -5.060129165649414, -10.043323516845703, -9.30981731414795, -10.513068199157715, 4.709891319274902, -3.500805377960205, -1.4670181274414062, 1.4861241579055786, -8.416248321533203, -5.376251220703125, -5.200316905975342, -10.29964828491211, 2.746192693710327, 0.6188154220581055, -8.273971557617188, -5.903938293457031, 9.989757537841797, 6.911594867706299, -8.763737678527832, -0.6878026127815247, 2.510545492172241, -10.511435508728027, 3.395843744277954, 7.949802875518799, -5.40683650970459, 5.912298679351807, -5.443821907043457, 11.606945991516113, 1.357270359992981, 11.75796890258789, 5.0262131690979, 2.6026244163513184, -4.120051860809326, -4.989833831787109, -1.5263696908950806, -1.4103962182998657, 7.046867370605469, -6.954690933227539, -7.241095066070557, -7.744551658630371, -9.822577476501465, 7.448030948638916, -12.252182006835938, -14.177435874938965, 1.9070496559143066, 10.346061706542969, 6.13855504989624, 6.4833879470825195, -7.745394706726074, 13.588719367980957, 8.52989673614502, -3.3852338790893555, 11.26614761352539, -7.188872814178467, 2.510801076889038, -0.3671199381351471, -4.030024528503418, 9.730002403259277, 3.435230016708374, -2.340324878692627, -9.859825134277344, 3.2259163856506348, -10.032947540283203, 9.239025115966797, 1.184208869934082, 12.511908531188965, 16.139366149902344, 16.096847534179688, -0.5707071423530579, 10.017731666564941, -7.146614074707031, 0.44397711753845215, -10.337859153747559, -1.6564743518829346, 2.61427640914917, 1.3551050424575806, -10.492350578308105, -1.550511360168457, 8.136703491210938, 9.843984603881836, 0.882966160774231, 5.200610160827637, -2.7924766540527344, 11.549250602722168, 2.037006378173828, -15.640310287475586, 15.299126625061035, -8.742450714111328, -6.037363529205322, 2.4951226711273193, -1.3742468357086182, 11.421806335449219, -8.561586380004883, 4.496555328369141, 6.587756156921387, -10.640819549560547, 4.2188029289245605, 7.114371299743652, -10.579130172729492, 7.308156967163086, -3.6219027042388916, 11.373828887939453, 2.9316885471343994, 0.8508215546607971, -7.8231282234191895, 12.433372497558594, 0.502244234085083, -11.242999076843262, 7.547539234161377, -3.8946027755737305, 14.0391206741333, -3.557758092880249, -11.40853214263916, -1.640945315361023, 9.295199394226074, -10.41041088104248, 10.498955726623535, -4.6017327308654785, -2.9246344566345215, 6.8152923583984375, -5.916639804840088, 7.230512619018555, 10.846020698547363, -3.1089284420013428, -5.055365562438965, -8.239432334899902, 7.349873065948486, 2.79300594329834, -8.515220642089844, -10.427109718322754, -15.183229446411133, 1.8762617111206055, 3.8712143898010254, -5.335301876068115, 7.463271141052246, 1.1673977375030518, -14.077122688293457, 11.91071891784668, 11.009775161743164, 10.491055488586426, -2.1236979961395264, -4.631881237030029, -5.177718639373779, -9.553389549255371, 12.086282730102539, -8.690192222595215, -3.827969551086426, 3.268627166748047, -7.630489826202393, 14.776546478271484, 1.0782859325408936, 14.929668426513672, -2.313053846359253, -9.478629112243652, -9.178095817565918, -3.209073543548584, -7.339932441711426, -4.644200325012207, -9.558707237243652, 13.203812599182129, 10.225780487060547, 10.960744857788086, 13.040046691894531, -4.223277568817139, 2.3855838775634766, -7.707764625549316, -2.9054198265075684, 14.516916275024414, -6.233128547668457, 9.703168869018555, -3.1248576641082764, -10.796958923339844, 2.479214906692505, 1.0577605962753296, -4.389224529266357, 13.408675193786621, -2.1582601070404053, 1.8188060522079468, 15.432966232299805, -2.314275026321411, 10.792374610900879, 1.363279104232788, -8.293449401855469, 6.552560806274414, 9.535202980041504, -1.9457403421401978, -3.893799304962158, -3.214921712875366, 1.7445002794265747, 3.2507717609405518, 1.6602741479873657, 9.150447845458984, -3.951385021209717, 2.204761505126953, 2.1187903881073, 11.415850639343262, -11.570595741271973, -2.806474447250366, 9.234383583068848, 7.029176235198975, 14.799432754516602, -10.218353271484375, 1.1871017217636108, -2.4496750831604004, -2.4964051246643066, 1.6980534791946411, -12.21052360534668, 2.410133123397827, 13.492471694946289, -0.9772496819496155, 4.451058387756348, 0.7111201286315918, -10.41512393951416, -8.357054710388184, 0.09842248260974884, -6.587025165557861, 12.796536445617676, -0.13962621986865997, -5.342586040496826, 2.948329448699951, -5.5614824295043945, 3.848419189453125, 13.653641700744629, 5.346018314361572, -1.797261118888855, -13.700450897216797, -1.8282753229141235, 0.6566506028175354, -2.825467109680176, 12.213669776916504, -6.390973091125488, -8.741140365600586, 11.377135276794434, 14.015456199645996, -8.94705581665039, 11.550475120544434, -11.729511260986328, 9.366482734680176, -6.954688549041748, -12.991156578063965, -5.207305908203125, -9.197364807128906, -6.086158752441406, 2.3524980545043945, -1.2342610359191895, 9.631538391113281, 9.367297172546387, -3.2208807468414307, 4.660882949829102, 8.718878746032715, 6.970423221588135, 10.416289329528809, -7.728285312652588, 2.6501619815826416, 12.161622047424316, -7.608154296875, 3.612912893295288, 12.117260932922363, 4.48020076751709, 15.751317977905273, -8.93466854095459, 13.877854347229004, 0.5808185935020447, -12.963043212890625, -0.26842615008354187, -3.954509735107422, 1.410732388496399, -7.80958890914917, 8.008919715881348, -10.615134239196777, 4.669322967529297, -6.728626251220703, 0.24952015280723572, 5.690489768981934, 3.854470729827881, 3.9015116691589355, 2.6019601821899414, 6.131388187408447, 8.116462707519531, 7.284184455871582, 5.608254432678223, 13.799588203430176, 0.22451251745224, 3.5956432819366455, 8.184819221496582, -6.065852642059326, 10.513513565063477, -4.00262975692749, -7.005407333374023, 8.115683555603027, 13.08668327331543, 2.6035349369049072, 2.794437885284424, 9.97994327545166, 11.85425090789795, -8.336479187011719, -7.212947845458984, 11.968609809875488, -9.362217903137207, -10.02977466583252, 3.837414264678955, 0.9744189977645874, -5.134309768676758, 4.331732273101807, -8.923442840576172, 2.851961612701416, 12.97414779663086, -6.326455116271973, 0.07586729526519775, 5.042262554168701, 4.206811428070068, -2.929759979248047, 5.4890456199646, 13.722726821899414, 6.757928371429443, 6.662303924560547, -11.880192756652832, 2.0300331115722656, -3.8607373237609863, -11.8735933303833, 9.87480640411377, -2.1829898357391357, -5.93764066696167, -7.828567981719971, -15.496135711669922, 6.601828098297119, 0.9883156418800354, -2.553208827972412, -13.702098846435547, -3.788851261138916, -3.0028417110443115, -6.0261383056640625, 16.969337463378906, 13.490854263305664, -10.061323165893555, -8.524307250976562, 5.761051654815674, -10.444442749023438, 13.62257194519043, -3.135843276977539, 13.372855186462402, -12.127842903137207, -4.215512275695801, -5.117199420928955, -3.308157444000244, -4.020524024963379, -4.224709987640381, -9.233842849731445, -4.868563652038574, -5.126770496368408, -10.098383903503418, 12.627588272094727, 6.845678806304932, -6.132326602935791, -1.3954256772994995, 15.01328182220459, -10.375129699707031, 11.83161735534668, 1.0202584266662598, -3.0312511920928955, 16.840919494628906, -6.049444198608398, -1.8907212018966675, 3.858959674835205, -2.7725343704223633, -1.7550709247589111, -12.962722778320312, -11.366189002990723, -4.073770523071289, 1.722007393836975, -8.546053886413574, -1.8616119623184204, -1.1007938385009766, 8.807336807250977, -7.923713207244873, 9.225321769714355, 0.5172982811927795, -7.889649868011475, -5.983597278594971, -5.013800621032715, -9.484280586242676, -4.043633937835693, -3.7900049686431885, 0.3823238015174866, 10.303104400634766, -10.539416313171387, -4.898497104644775, -0.4883810579776764, 16.014522552490234, -2.5428695678710938, -0.8118561506271362, 7.321621894836426, 6.293798923492432, 0.8739219903945923, 9.726849555969238, 13.581863403320312, -9.740416526794434, -4.632513999938965, -2.911987781524658, -14.666275024414062, 9.401832580566406, -1.5841127634048462, -1.4411650896072388, 9.524103164672852, 9.98340892791748, 11.954087257385254, -0.9728601574897766, 11.457916259765625, -7.7870917320251465, 5.69808292388916, 6.804479122161865, 10.610448837280273, 1.574819564819336, -3.299232244491577, -5.801819324493408, 1.6577919721603394, -10.846097946166992, -8.592729568481445, -11.487968444824219, -2.049191951751709, -9.607332229614258, 7.432751178741455, -0.3736369013786316, 1.7570152282714844, 0.3958738148212433, -9.849343299865723, 2.7905237674713135, -5.318783760070801, -6.963234901428223, 6.094028472900391, 6.955753803253174, -5.753591060638428, 1.1473067998886108, 7.727834224700928, 0.8031139373779297, 8.987205505371094, 1.156859040260315, 0.6120830774307251, -8.428152084350586, 4.348036766052246, -12.687873840332031, 8.422792434692383, -3.275233507156372, -8.51099967956543, 7.923505783081055, 1.6470342874526978, -3.1736795902252197, -12.943990707397461, -8.314859390258789, -8.868983268737793, -7.973788261413574, -2.74910306930542, -4.570282459259033, 9.062085151672363, -13.8276948928833, -13.691571235656738, -7.301751136779785, -11.298120498657227, -9.866902351379395, -2.363077402114868, 6.077183723449707, 2.24560546875, -1.4766855239868164, 0.5947293043136597, 1.7561339139938354, 4.660640716552734, 3.0691237449645996, -4.046290397644043, 6.7271904945373535, 0.6428781151771545, -1.8691052198410034, -1.9989254474639893, -10.411401748657227, 1.8231749534606934, 12.285077095031738, 1.076906681060791, 11.361085891723633, 10.308371543884277, -0.4838462471961975, -2.9694106578826904, 0.9552983641624451, 14.409178733825684, -2.6795947551727295, -6.318866729736328, -7.962649345397949, -8.437601089477539, 9.554012298583984, -7.237070560455322, -7.069828033447266, -12.798494338989258, 10.950484275817871, 5.495744705200195, -9.808300018310547, 1.1894776821136475, -8.020100593566895, 1.1361045837402344, 16.610902786254883, -13.588180541992188, 8.06743335723877, -1.3219919204711914, -10.059913635253906, -4.168193340301514, 6.947581768035889, 10.545607566833496, 10.050922393798828, 11.970497131347656, -2.397026300430298, -2.130330801010132, -6.7864909172058105, -2.2904582023620605, -11.31929874420166, -4.353515148162842, -0.9398114681243896, 5.186185359954834, -9.839584350585938, 15.341157913208008, 14.804465293884277, -10.468615531921387, -2.6357669830322266, 8.07531452178955, -7.635086536407471, 1.3522167205810547, -8.325559616088867, 1.8856500387191772, -4.718980312347412, -2.4802281856536865, 3.5742127895355225, -0.3637678027153015, 2.9784433841705322, -2.9120430946350098, -0.010552503168582916, 12.703225135803223, -2.3145923614501953, -0.4307289719581604, 7.445799827575684, 10.02695369720459, -2.76531720161438, 2.189607858657837, -10.735105514526367, 3.2422454357147217, 2.9770913124084473, -7.920917987823486, -7.735258102416992, 12.216832160949707, -10.986014366149902, -12.069803237915039, 10.291025161743164, 0.7387804388999939, 4.742997646331787, -2.3242952823638916, -5.293104648590088, -4.343122959136963, 7.199961185455322, 0.81367427110672, -2.2340505123138428, -11.167640686035156, -3.1585402488708496, 1.577913761138916, 10.016048431396484, 5.535690784454346, -7.3855061531066895, 6.235346794128418, -9.871620178222656, 6.960589408874512, 1.3042672872543335, -14.391582489013672, 14.28303050994873, -7.306377410888672, 3.303616523742676, -4.100131511688232, 1.4689507484436035, -3.530916929244995, -15.185038566589355, 10.725641250610352, 0.29868555068969727, 0.6507846117019653, -1.6755039691925049, 3.5728275775909424, -8.740633964538574, -2.3962395191192627, -10.846638679504395, -2.8967394828796387, -2.7487926483154297, 7.2147932052612305, 0.5159550309181213, -6.331909656524658, -2.5112433433532715, 9.168251991271973, 11.845894813537598, -8.64599323272705, 13.49328327178955, 12.220446586608887, 8.175196647644043, -0.04157649353146553, -10.76577377319336, -13.122618675231934, 3.6250550746917725, 11.904291152954102, 1.4303219318389893, -10.431671142578125, -5.90521240234375, -0.13886375725269318, 15.290460586547852, -7.166694641113281, -2.2568275928497314, 0.8887178301811218, 14.450220108032227, 7.127048015594482, -9.171489715576172, 9.688943862915039, 13.132440567016602, -8.182230949401855, 12.638854026794434, 6.709958553314209, -2.0771822929382324, -6.722634315490723, -10.52108383178711, -2.3792760372161865, 12.831974029541016, -2.7483720779418945, 8.74242877960205, -8.382132530212402, 12.141364097595215, -6.371586322784424, 15.280664443969727, -12.842405319213867, -5.429560661315918, -15.8534574508667, 8.873821258544922, -7.790168285369873, 13.297835350036621, 1.7028286457061768, 2.923135995864868, -5.089568614959717, -7.4556450843811035, -1.4538769721984863, -11.112872123718262, 2.501364231109619, -8.380057334899902, -1.8831390142440796, -6.415582180023193, -2.353884220123291, -5.451275825500488, -3.289259433746338, 1.636330485343933, -9.432229042053223, 2.5588724613189697, -14.001473426818848], \"z\": [-3.3940389156341553, -5.451228141784668, -1.651016116142273, 5.981407165527344, -10.010669708251953, 6.625559329986572, -1.7504338026046753, -1.2061892747879028, -7.601548194885254, 10.868751525878906, -2.2056198120117188, 3.7229161262512207, 3.3426096439361572, -6.706940174102783, 9.860515594482422, 0.5058963298797607, 5.410688877105713, -6.34042501449585, 6.008306503295898, 7.014814853668213, 4.132057189941406, 0.10617243498563766, -6.289437294006348, -3.180232048034668, -9.193207740783691, -0.47574102878570557, -0.5185838341712952, 8.747563362121582, 2.8757951259613037, -8.357844352722168, 4.669114589691162, 7.243142127990723, 3.9785075187683105, -11.858929634094238, -1.614723563194275, 6.903937816619873, -8.343984603881836, 0.53709477186203, 5.47257661819458, -7.599567890167236, -2.7386465072631836, -12.26466178894043, 7.7279534339904785, -4.512296676635742, -2.001124620437622, -0.7883065342903137, 5.721845626831055, 7.045929431915283, -9.438420295715332, -6.693472385406494, -0.34877246618270874, -3.171534776687622, 0.3272137939929962, -10.983443260192871, 5.318188190460205, 5.926153182983398, 11.702879905700684, 7.111202239990234, -9.843966484069824, -1.367260217666626, -2.9743058681488037, -10.059309959411621, 11.670520782470703, -6.651038646697998, 5.092700958251953, -5.676702976226807, -3.732924699783325, -9.114336013793945, -11.128799438476562, -3.361950159072876, -3.673997402191162, 1.7599643468856812, 0.6146231889724731, 1.1531248092651367, -1.8187463283538818, 4.838895797729492, -6.503594875335693, -5.425576686859131, -1.9480594396591187, -5.642410755157471, -3.887437105178833, 1.6542856693267822, -0.4074973165988922, 4.3363542556762695, 5.409459114074707, 5.952626705169678, -11.319051742553711, 4.507818698883057, -7.744320392608643, -1.7629834413528442, 8.922614097595215, 3.4752278327941895, -6.195519924163818, -2.948932409286499, 5.235111236572266, -3.361387252807617, 8.487570762634277, -11.488566398620605, 1.2215396165847778, -0.9792466163635254, -2.943420171737671, -9.063762664794922, -3.873723030090332, 2.6698460578918457, 4.372077465057373, 2.2100186347961426, -8.937546730041504, 5.612493515014648, -6.5064520835876465, 11.799236297607422, 3.6695187091827393, -1.9336459636688232, 6.378633499145508, -1.9008152484893799, 0.43449676036834717, -4.634675025939941, -10.628482818603516, 5.438244819641113, -11.890213966369629, -9.402888298034668, 5.579063892364502, -8.906673431396484, 1.7216553688049316, -12.997215270996094, -8.584061622619629, 1.7722419500350952, 1.6114897727966309, -10.39249038696289, 2.803142547607422, -6.380761623382568, -11.236435890197754, 3.4126007556915283, -10.531672477722168, 4.440788745880127, -6.874407768249512, -5.853826999664307, -11.890625953674316, -2.161503553390503, -5.664045333862305, 5.0839009284973145, -1.3832767009735107, -11.827268600463867, 11.389053344726562, -11.70186996459961, -11.593423843383789, 5.456673622131348, 6.534626483917236, -3.0929601192474365, 5.367040634155273, 3.976776599884033, 6.074134349822998, -11.327634811401367, 10.884336471557617, -0.5004744529724121, 5.403183460235596, 2.1906018257141113, 5.682000160217285, -10.373713493347168, -2.009711742401123, 4.876094341278076, 11.696871757507324, -7.591030597686768, -2.8079967498779297, 4.279251575469971, 0.5607405304908752, -3.9153857231140137, 5.451955795288086, 1.391822338104248, -2.997520923614502, 7.192762851715088, 6.4124016761779785, -9.576969146728516, -1.1530790328979492, -9.437121391296387, 1.9380533695220947, 1.000565767288208, -2.0730338096618652, -3.3578240871429443, -12.663494110107422, -8.3768949508667, 0.1364750862121582, -10.069385528564453, 0.8725880980491638, -4.916244029998779, -0.47428038716316223, 6.253154277801514, -13.162315368652344, -6.36519193649292, -5.821199893951416, 7.9357008934021, -11.184957504272461, -0.78823322057724, 7.06550407409668, -8.411953926086426, -0.5933781862258911, -10.39567756652832, -3.2383763790130615, 2.769590139389038, 5.571293830871582, 10.63087272644043, -0.5969471335411072, 2.6004605293273926, 8.415865898132324, 3.2932121753692627, -3.840442419052124, -1.1053266525268555, -12.354825973510742, -1.4663417339324951, -3.6270484924316406, 7.038254261016846, -12.868531227111816, 6.090926170349121, 10.212772369384766, -7.824854850769043, 4.889669895172119, -12.305137634277344, 0.2687405049800873, 3.816937208175659, 1.2722171545028687, -1.7815446853637695, 4.87423849105835, 4.0711212158203125, 4.92990779876709, 5.756862640380859, 5.344522476196289, 5.699515342712402, 0.6201944947242737, 6.8093671798706055, 5.811380386352539, -2.7540838718414307, 6.644396781921387, -0.6238876581192017, 2.729829788208008, 4.0853118896484375, -8.969656944274902, 2.76419997215271, -4.3456315994262695, -2.0575132369995117, -0.46806657314300537, -1.5563102960586548, 6.7361884117126465, 3.129939317703247, -6.319852828979492, 5.5530853271484375, -13.627115249633789, -9.349353790283203, 9.332701683044434, 4.2356061935424805, 4.331360340118408, -6.2621636390686035, 8.216228485107422, 5.636098861694336, -3.621830940246582, 5.588164806365967, -2.9928054809570312, -4.202383995056152, 7.135797023773193, 9.599431037902832, 3.891329050064087, 11.314364433288574, 0.7823782563209534, -4.258764266967773, 3.575615882873535, 7.012925148010254, -1.284788727760315, 6.108315944671631, -5.510308742523193, 10.817608833312988, 6.947365760803223, -0.9511116743087769, -13.101129531860352, -10.206424713134766, -1.0303400754928589, 6.479263782501221, 6.487508296966553, -3.5567023754119873, 8.322997093200684, -6.411818981170654, 7.3810248374938965, -2.8009603023529053, 6.873301982879639, -8.924195289611816, -5.949254989624023, -1.8189343214035034, 5.287169933319092, 6.513836860656738, 0.35959357023239136, -0.06014091894030571, 8.3228759765625, 2.989278793334961, 1.5260125398635864, -3.480994701385498, -3.55784010887146, 1.4409666061401367, -9.031975746154785, 4.056694984436035, -2.8709428310394287, -2.63826847076416, 7.372014045715332, 0.8758226037025452, -5.3393964767456055, -3.6720693111419678, 1.3845418691635132, -1.6373271942138672, 10.931357383728027, 9.58008861541748, 3.23698091506958, -8.06267261505127, 9.913135528564453, -6.516046047210693, 0.6168818473815918, 9.672317504882812, 5.79968786239624, 4.9446234703063965, -7.461601257324219, -8.501115798950195, 2.9379823207855225, 3.1963491439819336, -1.6479970216751099, -10.418478965759277, 0.5139409899711609, 2.581789255142212, 5.326516628265381, 5.2420573234558105, -3.278594732284546, -12.364527702331543, -4.643575191497803, -6.563608169555664, -6.703793048858643, 6.584439754486084, 0.8913801908493042, 7.002155303955078, 1.5579026937484741, 11.174408912658691, -6.888216972351074, -9.505143165588379, 0.3148699998855591, -3.772155523300171, -11.449996948242188, -1.0914180278778076, 2.463728427886963, 5.445258140563965, -5.385644912719727, 0.2058599442243576, 1.920174241065979, 5.134912967681885, 6.062955856323242, 5.6473236083984375, -1.6985327005386353, 2.7742621898651123, -0.5886881947517395, -13.40442943572998, 0.4718949496746063, -1.2427120208740234, -9.893260955810547, 10.908458709716797, 6.577891826629639, -4.2643303871154785, -0.8095124959945679, 6.7883830070495605, -2.6437089443206787, 10.87655258178711, 2.3526077270507812, 2.0769758224487305, -8.91819953918457, -3.9673283100128174, 0.05695808678865433, -4.165024280548096, -11.242963790893555, 11.291863441467285, 8.676664352416992, 2.062974214553833, 2.1450047492980957, 11.24982738494873, -12.198530197143555, 0.5992251634597778, 5.679804801940918, -8.389201164245605, -5.33939790725708, -9.167825698852539, -6.030591011047363, -2.4372646808624268, -1.8187206983566284, 0.07095463573932648, -9.613314628601074, 7.697320461273193, -1.4322454929351807, -7.062516689300537, -12.984807014465332, -9.046850204467773, -2.9098503589630127, 11.038982391357422, -5.317121505737305, -5.357202053070068, 1.7620395421981812, 10.933871269226074, -6.722992897033691, 4.104916572570801, 6.338277816772461, -6.423749923706055, 8.375774383544922, 6.468127250671387, -14.61489486694336, 7.83094596862793, -8.49983024597168, 6.374205589294434, 12.354072570800781, 6.184358596801758, 7.205070972442627, -2.381382703781128, -9.057425498962402, -11.589744567871094, 1.4718204736709595, 2.9843077659606934, 6.340641498565674, -11.243040084838867, -8.506813049316406, -4.445727348327637, -1.419203281402588, 4.8198628425598145, -1.8784745931625366, -8.148138999938965, -4.553062915802002, 5.2294697761535645, 3.422060966491699, 4.630681991577148, -0.3232001066207886, -6.320294380187988, 2.1855576038360596, -9.458505630493164, 6.274947643280029, 0.4325352609157562, 4.361977577209473, 3.3678624629974365, -6.681859493255615, 5.727221965789795, 5.436156749725342, 5.005722522735596, -6.1671833992004395, 10.232396125793457, -7.0985002517700195, 11.4395751953125, 12.850814819335938, 3.346243143081665, -3.790037155151367, 9.410358428955078, 6.14927339553833, 7.5043439865112305, -11.436753273010254, 4.1524224281311035, -6.008432388305664, 2.205538034439087, -2.8963589668273926, 5.0277533531188965, -2.7663590908050537, -9.592488288879395, 3.1828744411468506, 10.868640899658203, 7.027345180511475, 4.609015464782715, 2.783076286315918, 3.516964912414551, -2.4340646266937256, -1.0630273818969727, 9.15383243560791, -1.0000532865524292, -11.838987350463867, 8.828076362609863, 1.29702889919281, -0.2045890986919403, -10.324061393737793, 4.594793796539307, 4.897993087768555, -5.699281215667725, 7.804032802581787, 3.813164234161377, -9.933877944946289, 6.279008388519287, -2.63407564163208, 5.3426618576049805, 4.363821506500244, 10.119114875793457, -4.470968246459961, -3.5109338760375977, 1.5774405002593994, -0.4671631157398224, 6.1823811531066895, -1.7952992916107178, -5.546650409698486, -6.49949312210083, -3.1348228454589844, -4.101949214935303, 4.401959419250488, -2.9405529499053955, 1.4270907640457153, -1.305146336555481, -0.8137691020965576, 8.206897735595703, -4.494295597076416, 5.984507083892822, 0.18519911170005798, -9.189973831176758, -11.69821834564209, 0.7089349627494812, 3.7829654216766357, 10.326260566711426, 0.20508620142936707, -6.029279708862305, -9.019351959228516, -6.851484775543213, 4.335725784301758, -6.550265789031982, 5.839200973510742, -7.689195156097412, -0.7819299101829529, 6.807515621185303, -0.7125350832939148, 7.575974941253662, -8.948098182678223, -12.129378318786621, -6.081069469451904, -0.4345303177833557, -2.6841156482696533, -1.0303773880004883, 0.023051850497722626, -5.369608402252197, -8.59184741973877, 9.224618911743164, 7.252804756164551, -0.4947039484977722, -9.646368026733398, -1.3077489137649536, 1.076124906539917, -9.353475570678711, -0.8768452405929565, 5.910539150238037, -1.9737896919250488, -0.7665109038352966, 7.179969787597656, 5.5890583992004395, 1.1960704326629639, -12.357685089111328, 0.06954413652420044, -11.696109771728516, -2.053983211517334, 9.755600929260254, -11.78013801574707, 4.018128395080566, -4.850805282592773, -5.8844780921936035, 9.815422058105469, -7.441464900970459, -10.31287670135498, 10.724075317382812, -3.3262131214141846, -6.905381202697754, 1.547859787940979, 4.309492588043213, 0.3231860399246216, 2.4776248931884766, -5.16419792175293, 5.918213367462158, -1.4899790287017822, 2.858393907546997, 5.719260215759277, 2.8724679946899414, -2.2148730754852295, 10.405526161193848, 9.306788444519043, 0.6003825664520264, 5.899235248565674, -4.306742191314697, 8.820568084716797, 5.320852756500244, -3.8307132720947266, 3.4994146823883057, 4.811322212219238, 11.310822486877441, -4.453015327453613, -5.996972560882568, 3.5679776668548584, -9.72786808013916, -9.174442291259766, 9.323164939880371, -3.673503875732422, 5.765833377838135, -0.04384434223175049, -4.522461414337158, 7.967312812805176, 10.983654022216797, -5.7010178565979, -1.429855227470398, 1.4727576971054077, -14.09281063079834, -1.571679949760437, 4.670441150665283, -7.9484663009643555, -1.444817304611206, -12.05237865447998, 4.879650115966797, -6.451373100280762, 4.591557502746582, -5.821612358093262, -10.287489891052246, -3.5075714588165283, 2.6020350456237793, 5.648903846740723, 0.583507239818573, -11.780797004699707, -14.376660346984863, 10.365015983581543, -5.632478713989258, -5.910751819610596, 6.491066932678223, -0.6568464040756226, 3.6870810985565186, -0.2263796031475067, -0.5822159647941589, -11.648276329040527, 0.7648358345031738, -5.3234076499938965, -2.545565605163574, -3.5073771476745605, -2.800847053527832, 11.210558891296387, -12.60293960571289, 11.216208457946777, 6.993834495544434, 3.4542863368988037, -2.1761395931243896, -9.698740005493164, -0.1431567668914795, 3.788538932800293, 1.7354525327682495, -2.6901073455810547, -0.2684890329837799, 3.417600393295288, 8.250833511352539, -0.3005216121673584, 5.858047962188721, 6.759389400482178, -11.195887565612793, 0.5134155750274658, -4.200323104858398, 7.680262088775635, -8.552206993103027, 6.069788455963135, -2.4397475719451904, 12.027697563171387, -1.664469838142395, -6.095881462097168, 5.261247158050537, 4.883162975311279, 7.448575496673584, 5.748758316040039, 3.1441378593444824, 3.1510605812072754, 6.1691741943359375, 11.396297454833984, 6.234375953674316, 5.540517330169678, -3.5867486000061035, 3.966796636581421, -9.268583297729492, 5.50722074508667, 4.984942436218262, -11.519343376159668, 7.057592391967773, -1.4637216329574585, -0.07767921686172485, 10.16295051574707, 10.877118110656738, 9.714537620544434, -1.3870353698730469, -11.475143432617188, 6.753944396972656, -1.4615232944488525, 0.5809316039085388, 10.931253433227539, -7.768387317657471, -7.969708442687988, -1.6603903770446777, -6.23188591003418, 1.9673447608947754, 7.156472682952881, -9.034602165222168, 4.146466255187988, 7.206057548522949, 11.585472106933594, -0.789329469203949, 5.595078945159912, -0.22391484677791595, 3.499911308288574, 6.863139629364014, -4.01325798034668, -7.070310115814209, -11.13593864440918, -0.6904396414756775, -1.8199076652526855, -10.306211471557617, -12.318864822387695, 1.1657848358154297, -0.9768354296684265, 4.736256122589111, 11.029708862304688, 2.9425785541534424, -3.3873708248138428, -9.797857284545898, -8.356415748596191, -13.156670570373535, 8.74726676940918, 5.612804412841797, -9.171368598937988, -6.159970283508301, 5.559242248535156, -2.438805341720581, -0.2683272659778595, -12.469582557678223, 5.06376314163208, -0.7945714592933655, -4.447226524353027, -14.52667236328125, -12.147005081176758, -9.306594848632812, -6.6791672706604, -6.325859069824219, -4.876028060913086, 5.310471057891846, -2.6478419303894043, -2.7055649757385254, 7.207180500030518, -4.076074123382568, -9.84786605834961, 9.623519897460938, -1.1659938097000122, 5.633425712585449, 6.84251070022583, -10.157220840454102, 8.607934951782227, -9.002909660339355, -7.254614353179932, 6.68934965133667, -2.619986057281494, -3.45046329498291, -2.648625373840332, -0.8357123136520386, -2.578402280807495, -1.783044457435608, -4.4724884033203125, -7.275790691375732, -6.07780122756958, 3.9526021480560303, -5.261608600616455, 7.287769794464111, 0.8170315623283386, -4.792855739593506, -12.871253967285156, -11.749627113342285, -5.672546863555908, -2.779322385787964, -11.828909873962402, 2.3083860874176025, -1.3192024230957031, -2.207160711288452, -9.903521537780762, 0.24837753176689148, -3.333332061767578, 3.093376636505127, 2.8115718364715576, 7.127635955810547, 7.735971450805664, 6.338586807250977, -2.5763285160064697, 5.9717631340026855, -6.1212239265441895, 4.559586524963379, -8.099011421203613, -12.522253036499023, 4.3352885246276855, -3.7198777198791504, -5.68195104598999, 1.8283385038375854, 10.677788734436035, 4.775269031524658, -9.772072792053223, 5.538401126861572, 3.33392333984375, 5.2788166999816895, 4.586295127868652, 7.3382158279418945, 5.2477192878723145, -6.593209266662598, -5.456307411193848, -1.1462924480438232, -2.3189280033111572, 1.8274186849594116, -10.382229804992676, 3.50992488861084, -5.661189556121826, 5.668276786804199, -4.773460388183594, 2.2485291957855225, -0.0427594818174839, -6.611252784729004, 10.258689880371094, -5.398802757263184, -11.667668342590332, 3.5216383934020996, 3.0318593978881836, -4.461491584777832, 8.421247482299805, 5.866635799407959, 3.108035087585449, 4.234827041625977, -6.141231536865234, 6.9648237228393555, -11.55305004119873, 8.086244583129883, -1.3578113317489624, 2.9570086002349854, -2.3204641342163086, 1.9685285091400146, 4.295694828033447, -7.37681770324707, -10.47375202178955, -10.502142906188965, 1.0601305961608887, -13.356141090393066, -10.646650314331055, -5.229562759399414, 4.678900718688965, 2.7593588829040527, -1.1032377481460571, -10.289566993713379, -3.250779867172241, -1.0815715789794922, 2.4669582843780518, 3.61887788772583, 8.672759056091309, -4.289546489715576, 3.028132200241089, -4.581437587738037, 0.3487853407859802, 4.4932684898376465, 2.631727695465088, 4.9212470054626465, 6.095947265625, -1.649610161781311, 5.713623523712158, 2.9128260612487793, -5.990609169006348, 1.580892562866211, 3.245429277420044, 12.953317642211914, 10.130424499511719, 5.217965602874756, 4.738890171051025, -5.410638332366943, 9.94523811340332, -2.2212347984313965, -7.263923168182373, -11.412179946899414, -2.688873052597046, -0.21564394235610962, 10.98828125, -2.1881699562072754, -6.338315486907959, -2.453087568283081, -1.5255718231201172, 11.547805786132812, -0.23985490202903748, -0.44996389746665955, 1.78424072265625, 7.138061046600342, 7.906318664550781, -3.282789945602417, 6.53892183303833, -3.7955374717712402, -0.5448257327079773, -6.060173988342285, 6.151213645935059, 7.639273643493652, 7.507206439971924, 6.254230976104736, 4.954892635345459, 1.934942364692688, -12.49829387664795, 5.497775554656982, -3.500967264175415, 5.726127624511719, 4.470328330993652, 4.420775413513184, -13.164721488952637, 0.23683865368366241, -1.8628848791122437, -6.419922828674316, -9.258732795715332, 10.974886894226074, -9.62642765045166, 8.138090133666992, -3.7893788814544678, 2.656871795654297, -7.154143333435059, -12.0355806350708, 4.987723350524902, -4.435656547546387, 5.94290018081665, -9.852509498596191, 5.767032146453857, 6.281487464904785, -3.284558057785034, -4.419586181640625, 6.897276878356934, 4.721487045288086, -11.633413314819336, 0.5973617434501648, 0.2848520576953888, 10.265369415283203, -1.3631304502487183, -5.204779148101807, -14.14339828491211, 6.8855061531066895, -6.009937286376953, -3.088024139404297, 4.382157802581787, 0.9809208512306213, -1.8409841060638428, -2.934645175933838, -6.103545665740967, -1.4749454259872437, 5.390644550323486, 2.6244781017303467, -2.252256155014038, 1.550399899482727, 6.124722957611084, 12.072714805603027, 6.4185895919799805, 11.530123710632324, -11.03220272064209, 7.0919647216796875, -6.269359111785889, -0.07183176279067993, -1.3998961448669434, -11.143594741821289, 9.699725151062012, -8.491486549377441, -5.397246837615967, 5.531633377075195, -7.381528377532959, -2.6342933177948, -9.079336166381836, 2.4100606441497803, -7.330042362213135, 2.0586650371551514, 2.3183069229125977, 10.838793754577637, 0.8992428779602051, 5.8798980712890625, -6.412978172302246, -3.004119634628296, -7.831452369689941, 7.086252689361572, 1.8936761617660522, -11.347442626953125, -2.8493757247924805, 5.716588020324707, 9.698765754699707, -4.656311511993408, 6.541315078735352, 7.313878059387207, 10.446951866149902, -4.432336330413818, -0.07060045748949051, -10.018585205078125, 4.493275165557861, -3.781064033508301, 2.653510808944702, -1.2691760063171387, -4.077338218688965, -6.341088771820068, 1.2109853029251099, -8.97331714630127, 2.962188959121704, 6.576986312866211, 9.474528312683105, 4.450641632080078, -6.525400638580322, 4.421370506286621, 1.5346243381500244, -9.651832580566406, 6.276519775390625, 3.4870307445526123, -7.512052536010742, -13.306466102600098, -0.4651302695274353, -10.50027084350586, 0.9313096404075623, -6.306340217590332, -0.017998259514570236, -5.900737285614014, 6.075528621673584, -3.4338624477386475, 0.15163785219192505, -0.7340207695960999, -8.018561363220215, -9.579370498657227, 11.256296157836914, -8.512181282043457, 5.309516906738281, -3.8635129928588867, 4.367371082305908, 5.4161248207092285, -11.974405288696289, -3.808415412902832, -10.264004707336426, 9.761576652526855, 2.0675911903381348, -3.0743205547332764, -10.861495018005371, -9.97499942779541, -11.501154899597168, -6.164927005767822, 12.115222930908203, -0.5082606673240662, -1.5761579275131226, -10.833537101745605]}],\n",
       "                        {\"coloraxis\": {\"colorbar\": {\"title\": {\"text\": \"Label\"}}, \"colorscale\": [[0.0, \"#0d0887\"], [0.1111111111111111, \"#46039f\"], [0.2222222222222222, \"#7201a8\"], [0.3333333333333333, \"#9c179e\"], [0.4444444444444444, \"#bd3786\"], [0.5555555555555556, \"#d8576b\"], [0.6666666666666666, \"#ed7953\"], [0.7777777777777778, \"#fb9f3a\"], [0.8888888888888888, \"#fdca26\"], [1.0, \"#f0f921\"]]}, \"height\": 800, \"legend\": {\"tracegroupgap\": 0}, \"scene\": {\"domain\": {\"x\": [0.0, 1.0], \"y\": [0.0, 1.0]}, \"xaxis\": {\"title\": {\"text\": \"0\"}}, \"yaxis\": {\"title\": {\"text\": \"1\"}}, \"zaxis\": {\"title\": {\"text\": \"2\"}}}, \"template\": {\"data\": {\"bar\": [{\"error_x\": {\"color\": \"#2a3f5f\"}, \"error_y\": {\"color\": \"#2a3f5f\"}, \"marker\": {\"line\": {\"color\": \"#E5ECF6\", \"width\": 0.5}}, \"type\": \"bar\"}], \"barpolar\": [{\"marker\": {\"line\": {\"color\": \"#E5ECF6\", \"width\": 0.5}}, \"type\": \"barpolar\"}], \"carpet\": [{\"aaxis\": {\"endlinecolor\": \"#2a3f5f\", \"gridcolor\": \"white\", \"linecolor\": \"white\", \"minorgridcolor\": \"white\", \"startlinecolor\": \"#2a3f5f\"}, \"baxis\": {\"endlinecolor\": \"#2a3f5f\", \"gridcolor\": \"white\", \"linecolor\": \"white\", \"minorgridcolor\": \"white\", \"startlinecolor\": \"#2a3f5f\"}, \"type\": \"carpet\"}], \"choropleth\": [{\"colorbar\": {\"outlinewidth\": 0, \"ticks\": \"\"}, \"type\": \"choropleth\"}], \"contour\": [{\"colorbar\": {\"outlinewidth\": 0, \"ticks\": \"\"}, \"colorscale\": [[0.0, \"#0d0887\"], [0.1111111111111111, \"#46039f\"], [0.2222222222222222, \"#7201a8\"], [0.3333333333333333, \"#9c179e\"], [0.4444444444444444, \"#bd3786\"], [0.5555555555555556, \"#d8576b\"], [0.6666666666666666, \"#ed7953\"], [0.7777777777777778, \"#fb9f3a\"], [0.8888888888888888, \"#fdca26\"], [1.0, \"#f0f921\"]], \"type\": \"contour\"}], \"contourcarpet\": [{\"colorbar\": {\"outlinewidth\": 0, \"ticks\": \"\"}, \"type\": \"contourcarpet\"}], \"heatmap\": [{\"colorbar\": {\"outlinewidth\": 0, \"ticks\": \"\"}, \"colorscale\": [[0.0, \"#0d0887\"], [0.1111111111111111, \"#46039f\"], [0.2222222222222222, \"#7201a8\"], [0.3333333333333333, \"#9c179e\"], [0.4444444444444444, \"#bd3786\"], [0.5555555555555556, \"#d8576b\"], [0.6666666666666666, \"#ed7953\"], [0.7777777777777778, \"#fb9f3a\"], [0.8888888888888888, \"#fdca26\"], [1.0, \"#f0f921\"]], \"type\": \"heatmap\"}], \"heatmapgl\": [{\"colorbar\": {\"outlinewidth\": 0, \"ticks\": \"\"}, \"colorscale\": [[0.0, \"#0d0887\"], [0.1111111111111111, \"#46039f\"], [0.2222222222222222, \"#7201a8\"], [0.3333333333333333, \"#9c179e\"], [0.4444444444444444, \"#bd3786\"], [0.5555555555555556, \"#d8576b\"], [0.6666666666666666, \"#ed7953\"], [0.7777777777777778, \"#fb9f3a\"], [0.8888888888888888, \"#fdca26\"], [1.0, \"#f0f921\"]], \"type\": \"heatmapgl\"}], \"histogram\": [{\"marker\": {\"colorbar\": {\"outlinewidth\": 0, \"ticks\": \"\"}}, \"type\": \"histogram\"}], \"histogram2d\": [{\"colorbar\": {\"outlinewidth\": 0, \"ticks\": \"\"}, \"colorscale\": [[0.0, \"#0d0887\"], [0.1111111111111111, \"#46039f\"], [0.2222222222222222, \"#7201a8\"], [0.3333333333333333, \"#9c179e\"], [0.4444444444444444, \"#bd3786\"], [0.5555555555555556, \"#d8576b\"], [0.6666666666666666, \"#ed7953\"], [0.7777777777777778, \"#fb9f3a\"], [0.8888888888888888, \"#fdca26\"], [1.0, \"#f0f921\"]], \"type\": \"histogram2d\"}], \"histogram2dcontour\": [{\"colorbar\": {\"outlinewidth\": 0, \"ticks\": \"\"}, \"colorscale\": [[0.0, \"#0d0887\"], [0.1111111111111111, \"#46039f\"], [0.2222222222222222, \"#7201a8\"], [0.3333333333333333, \"#9c179e\"], [0.4444444444444444, \"#bd3786\"], [0.5555555555555556, \"#d8576b\"], [0.6666666666666666, \"#ed7953\"], [0.7777777777777778, \"#fb9f3a\"], [0.8888888888888888, \"#fdca26\"], [1.0, \"#f0f921\"]], \"type\": \"histogram2dcontour\"}], \"mesh3d\": [{\"colorbar\": {\"outlinewidth\": 0, \"ticks\": \"\"}, \"type\": \"mesh3d\"}], \"parcoords\": [{\"line\": {\"colorbar\": {\"outlinewidth\": 0, \"ticks\": \"\"}}, \"type\": \"parcoords\"}], \"pie\": [{\"automargin\": true, \"type\": \"pie\"}], \"scatter\": [{\"marker\": {\"colorbar\": {\"outlinewidth\": 0, \"ticks\": \"\"}}, \"type\": \"scatter\"}], \"scatter3d\": [{\"line\": {\"colorbar\": {\"outlinewidth\": 0, \"ticks\": \"\"}}, \"marker\": {\"colorbar\": {\"outlinewidth\": 0, \"ticks\": \"\"}}, \"type\": \"scatter3d\"}], \"scattercarpet\": [{\"marker\": {\"colorbar\": {\"outlinewidth\": 0, \"ticks\": \"\"}}, \"type\": \"scattercarpet\"}], \"scattergeo\": [{\"marker\": {\"colorbar\": {\"outlinewidth\": 0, \"ticks\": \"\"}}, \"type\": \"scattergeo\"}], \"scattergl\": [{\"marker\": {\"colorbar\": {\"outlinewidth\": 0, \"ticks\": \"\"}}, \"type\": \"scattergl\"}], \"scattermapbox\": [{\"marker\": {\"colorbar\": {\"outlinewidth\": 0, \"ticks\": \"\"}}, \"type\": \"scattermapbox\"}], \"scatterpolar\": [{\"marker\": {\"colorbar\": {\"outlinewidth\": 0, \"ticks\": \"\"}}, \"type\": \"scatterpolar\"}], \"scatterpolargl\": [{\"marker\": {\"colorbar\": {\"outlinewidth\": 0, \"ticks\": \"\"}}, \"type\": \"scatterpolargl\"}], \"scatterternary\": [{\"marker\": {\"colorbar\": {\"outlinewidth\": 0, \"ticks\": \"\"}}, \"type\": \"scatterternary\"}], \"surface\": [{\"colorbar\": {\"outlinewidth\": 0, \"ticks\": \"\"}, \"colorscale\": [[0.0, \"#0d0887\"], [0.1111111111111111, \"#46039f\"], [0.2222222222222222, \"#7201a8\"], [0.3333333333333333, \"#9c179e\"], [0.4444444444444444, \"#bd3786\"], [0.5555555555555556, \"#d8576b\"], [0.6666666666666666, \"#ed7953\"], [0.7777777777777778, \"#fb9f3a\"], [0.8888888888888888, \"#fdca26\"], [1.0, \"#f0f921\"]], \"type\": \"surface\"}], \"table\": [{\"cells\": {\"fill\": {\"color\": \"#EBF0F8\"}, \"line\": {\"color\": \"white\"}}, \"header\": {\"fill\": {\"color\": \"#C8D4E3\"}, \"line\": {\"color\": \"white\"}}, \"type\": \"table\"}]}, \"layout\": {\"annotationdefaults\": {\"arrowcolor\": \"#2a3f5f\", \"arrowhead\": 0, \"arrowwidth\": 1}, \"coloraxis\": {\"colorbar\": {\"outlinewidth\": 0, \"ticks\": \"\"}}, \"colorscale\": {\"diverging\": [[0, \"#8e0152\"], [0.1, \"#c51b7d\"], [0.2, \"#de77ae\"], [0.3, \"#f1b6da\"], [0.4, \"#fde0ef\"], [0.5, \"#f7f7f7\"], [0.6, \"#e6f5d0\"], [0.7, \"#b8e186\"], [0.8, \"#7fbc41\"], [0.9, \"#4d9221\"], [1, \"#276419\"]], \"sequential\": [[0.0, \"#0d0887\"], [0.1111111111111111, \"#46039f\"], [0.2222222222222222, \"#7201a8\"], [0.3333333333333333, \"#9c179e\"], [0.4444444444444444, \"#bd3786\"], [0.5555555555555556, \"#d8576b\"], [0.6666666666666666, \"#ed7953\"], [0.7777777777777778, \"#fb9f3a\"], [0.8888888888888888, \"#fdca26\"], [1.0, \"#f0f921\"]], \"sequentialminus\": [[0.0, \"#0d0887\"], [0.1111111111111111, \"#46039f\"], [0.2222222222222222, \"#7201a8\"], [0.3333333333333333, \"#9c179e\"], [0.4444444444444444, \"#bd3786\"], [0.5555555555555556, \"#d8576b\"], [0.6666666666666666, \"#ed7953\"], [0.7777777777777778, \"#fb9f3a\"], [0.8888888888888888, \"#fdca26\"], [1.0, \"#f0f921\"]]}, \"colorway\": [\"#636efa\", \"#EF553B\", \"#00cc96\", \"#ab63fa\", \"#FFA15A\", \"#19d3f3\", \"#FF6692\", \"#B6E880\", \"#FF97FF\", \"#FECB52\"], \"font\": {\"color\": \"#2a3f5f\"}, \"geo\": {\"bgcolor\": \"white\", \"lakecolor\": \"white\", \"landcolor\": \"#E5ECF6\", \"showlakes\": true, \"showland\": true, \"subunitcolor\": \"white\"}, \"hoverlabel\": {\"align\": \"left\"}, \"hovermode\": \"closest\", \"mapbox\": {\"style\": \"light\"}, \"paper_bgcolor\": \"white\", \"plot_bgcolor\": \"#E5ECF6\", \"polar\": {\"angularaxis\": {\"gridcolor\": \"white\", \"linecolor\": \"white\", \"ticks\": \"\"}, \"bgcolor\": \"#E5ECF6\", \"radialaxis\": {\"gridcolor\": \"white\", \"linecolor\": \"white\", \"ticks\": \"\"}}, \"scene\": {\"xaxis\": {\"backgroundcolor\": \"#E5ECF6\", \"gridcolor\": \"white\", \"gridwidth\": 2, \"linecolor\": \"white\", \"showbackground\": true, \"ticks\": \"\", \"zerolinecolor\": \"white\"}, \"yaxis\": {\"backgroundcolor\": \"#E5ECF6\", \"gridcolor\": \"white\", \"gridwidth\": 2, \"linecolor\": \"white\", \"showbackground\": true, \"ticks\": \"\", \"zerolinecolor\": \"white\"}, \"zaxis\": {\"backgroundcolor\": \"#E5ECF6\", \"gridcolor\": \"white\", \"gridwidth\": 2, \"linecolor\": \"white\", \"showbackground\": true, \"ticks\": \"\", \"zerolinecolor\": \"white\"}}, \"shapedefaults\": {\"line\": {\"color\": \"#2a3f5f\"}}, \"ternary\": {\"aaxis\": {\"gridcolor\": \"white\", \"linecolor\": \"white\", \"ticks\": \"\"}, \"baxis\": {\"gridcolor\": \"white\", \"linecolor\": \"white\", \"ticks\": \"\"}, \"bgcolor\": \"#E5ECF6\", \"caxis\": {\"gridcolor\": \"white\", \"linecolor\": \"white\", \"ticks\": \"\"}}, \"title\": {\"x\": 0.05}, \"xaxis\": {\"automargin\": true, \"gridcolor\": \"white\", \"linecolor\": \"white\", \"ticks\": \"\", \"title\": {\"standoff\": 15}, \"zerolinecolor\": \"white\", \"zerolinewidth\": 2}, \"yaxis\": {\"automargin\": true, \"gridcolor\": \"white\", \"linecolor\": \"white\", \"ticks\": \"\", \"title\": {\"standoff\": 15}, \"zerolinecolor\": \"white\", \"zerolinewidth\": 2}}}, \"title\": {\"text\": \"3d TSNE Plot for Outliers\"}, \"width\": 900},\n",
       "                        {\"responsive\": true}\n",
       "                    ).then(function(){\n",
       "                            \n",
       "var gd = document.getElementById('8b12d5c6-dfdb-42c8-952e-6286659744f6');\n",
       "var x = new MutationObserver(function (mutations, observer) {{\n",
       "        var display = window.getComputedStyle(gd).display;\n",
       "        if (!display || display === 'none') {{\n",
       "            console.log([gd, 'removed!']);\n",
       "            Plotly.purge(gd);\n",
       "            observer.disconnect();\n",
       "        }}\n",
       "}});\n",
       "\n",
       "// Listen for the removal of the full notebook cells\n",
       "var notebookContainer = gd.closest('#notebook-container');\n",
       "if (notebookContainer) {{\n",
       "    x.observe(notebookContainer, {childList: true});\n",
       "}}\n",
       "\n",
       "// Listen for the clearing of the current output cell\n",
       "var outputEl = gd.closest('.output');\n",
       "if (outputEl) {{\n",
       "    x.observe(outputEl, {childList: true});\n",
       "}}\n",
       "\n",
       "                        })\n",
       "                };\n",
       "                });\n",
       "            </script>\n",
       "        </div>"
      ]
     },
     "metadata": {},
     "output_type": "display_data"
    }
   ],
   "source": [
    "# t-SNE\n",
    "plot_model(iforest_model)"
   ]
  },
  {
   "cell_type": "code",
   "execution_count": 11,
   "metadata": {},
   "outputs": [
    {
     "data": {
      "text/html": [
       "        <script type=\"text/javascript\">\n",
       "        window.PlotlyConfig = {MathJaxConfig: 'local'};\n",
       "        if (window.MathJax) {MathJax.Hub.Config({SVG: {font: \"STIX-Web\"}});}\n",
       "        if (typeof require !== 'undefined') {\n",
       "        require.undef(\"plotly\");\n",
       "        requirejs.config({\n",
       "            paths: {\n",
       "                'plotly': ['https://cdn.plot.ly/plotly-latest.min']\n",
       "            }\n",
       "        });\n",
       "        require(['plotly'], function(Plotly) {\n",
       "            window._Plotly = Plotly;\n",
       "        });\n",
       "        }\n",
       "        </script>\n",
       "        "
      ]
     },
     "metadata": {},
     "output_type": "display_data"
    },
    {
     "data": {
      "application/vnd.plotly.v1+json": {
       "config": {
        "plotlyServerURL": "https://plot.ly"
       },
       "data": [
        {
         "customdata": [
          [
           "50810F_4"
          ],
          [
           "3516_9"
          ],
          [
           "3411_12"
          ],
          [
           "3416_4"
          ],
          [
           "J1291_2"
          ],
          [
           "3429_2"
          ],
          [
           "3491_2"
          ],
          [
           "3491_4"
          ],
          [
           "J3295_7"
          ],
          [
           "50810C_9"
          ],
          [
           "3525_14"
          ],
          [
           "3414_12"
          ],
          [
           "3504_5"
          ],
          [
           "294_9"
          ],
          [
           "3484_6"
          ],
          [
           "3422_14"
          ],
          [
           "3479_4"
          ],
          [
           "3488_1"
          ],
          [
           "50810B_13"
          ],
          [
           "3498_9"
          ],
          [
           "321_12"
          ],
          [
           "322_11"
          ],
          [
           "3481_6"
          ],
          [
           "3497_14"
          ],
          [
           "3490_4"
          ],
          [
           "3426_13"
          ],
          [
           "3606_13"
          ],
          [
           "3484_12"
          ],
          [
           "3517_10"
          ],
          [
           "3501_11"
          ],
          [
           "3505_12"
          ],
          [
           "361_5"
          ],
          [
           "321_7"
          ],
          [
           "364_8"
          ],
          [
           "3412_10"
          ],
          [
           "3429_3"
          ],
          [
           "3501_12"
          ],
          [
           "3415_12"
          ],
          [
           "3477_10"
          ],
          [
           "J3295_12"
          ],
          [
           "3497_15"
          ],
          [
           "293_2"
          ],
          [
           "361_3"
          ],
          [
           "3421_10"
          ],
          [
           "3491_3"
          ],
          [
           "3507_5"
          ],
          [
           "3415_14"
          ],
          [
           "320_2"
          ],
          [
           "3530_8"
          ],
          [
           "3516_4"
          ],
          [
           "3413_13"
          ],
          [
           "3481_14"
          ],
          [
           "3497_7"
          ],
          [
           "3419_5"
          ],
          [
           "3429_7"
          ],
          [
           "18899_5"
          ],
          [
           "50810E_4"
          ],
          [
           "3522_1"
          ],
          [
           "3423_4"
          ],
          [
           "3483_13"
          ],
          [
           "3422_6"
          ],
          [
           "J1291_13"
          ],
          [
           "363_3"
          ],
          [
           "365_5"
          ],
          [
           "18899_15"
          ],
          [
           "3605_10"
          ],
          [
           "3483_7"
          ],
          [
           "3424_13"
          ],
          [
           "3490_7"
          ],
          [
           "3606_1"
          ],
          [
           "J2292_6"
          ],
          [
           "3513_10"
          ],
          [
           "3416_12"
          ],
          [
           "3497_3"
          ],
          [
           "3507_9"
          ],
          [
           "3414_9"
          ],
          [
           "J3295_10"
          ],
          [
           "3421_5"
          ],
          [
           "3483_12"
          ],
          [
           "3421_1"
          ],
          [
           "362_2"
          ],
          [
           "3417_12"
          ],
          [
           "3507_3"
          ],
          [
           "321_15"
          ],
          [
           "3418_12"
          ],
          [
           "3480_7"
          ],
          [
           "293_14"
          ],
          [
           "50810A_15"
          ],
          [
           "J3295_5"
          ],
          [
           "311_9"
          ],
          [
           "50810B_5"
          ],
          [
           "3521_7"
          ],
          [
           "3488_7"
          ],
          [
           "3422_5"
          ],
          [
           "3480_11"
          ],
          [
           "3525_5"
          ],
          [
           "3498_3"
          ],
          [
           "3423_15"
          ],
          [
           "3499_12"
          ],
          [
           "3412_14"
          ],
          [
           "J2292_7"
          ],
          [
           "3530_9"
          ],
          [
           "3425_1"
          ],
          [
           "3491_10"
          ],
          [
           "3479_7"
          ],
          [
           "3414_15"
          ],
          [
           "3490_3"
          ],
          [
           "321_5"
          ],
          [
           "3605_2"
          ],
          [
           "363_6"
          ],
          [
           "3504_4"
          ],
          [
           "3426_6"
          ],
          [
           "3415_2"
          ],
          [
           "3426_11"
          ],
          [
           "309_11"
          ],
          [
           "3411_1"
          ],
          [
           "3419_4"
          ],
          [
           "3479_5"
          ],
          [
           "3419_14"
          ],
          [
           "365_6"
          ],
          [
           "18899_8"
          ],
          [
           "3420_9"
          ],
          [
           "3503_8"
          ],
          [
           "3489_14"
          ],
          [
           "3424_3"
          ],
          [
           "3499_7"
          ],
          [
           "3415_9"
          ],
          [
           "3423_9"
          ],
          [
           "3517_4"
          ],
          [
           "3605_7"
          ],
          [
           "293_9"
          ],
          [
           "3491_14"
          ],
          [
           "365_8"
          ],
          [
           "3521_5"
          ],
          [
           "3501_9"
          ],
          [
           "3502_10"
          ],
          [
           "293_11"
          ],
          [
           "3525_12"
          ],
          [
           "50810F_13"
          ],
          [
           "3415_4"
          ],
          [
           "3490_14"
          ],
          [
           "3419_15"
          ],
          [
           "50810C_10"
          ],
          [
           "3423_13"
          ],
          [
           "3534_2"
          ],
          [
           "320_10"
          ],
          [
           "320_1"
          ],
          [
           "3525_7"
          ],
          [
           "3521_2"
          ],
          [
           "321_10"
          ],
          [
           "18899_2"
          ],
          [
           "364_4"
          ],
          [
           "50810C_8"
          ],
          [
           "J2292_14"
          ],
          [
           "50810A_9"
          ],
          [
           "309_4"
          ],
          [
           "3477_8"
          ],
          [
           "365_14"
          ],
          [
           "3525_15"
          ],
          [
           "3505_11"
          ],
          [
           "50810E_5"
          ],
          [
           "3501_7"
          ],
          [
           "3488_13"
          ],
          [
           "321_14"
          ],
          [
           "322_4"
          ],
          [
           "3422_1"
          ],
          [
           "3480_8"
          ],
          [
           "3499_11"
          ],
          [
           "3412_4"
          ],
          [
           "3416_3"
          ],
          [
           "3479_3"
          ],
          [
           "J1291_5"
          ],
          [
           "J2292_12"
          ],
          [
           "3490_5"
          ],
          [
           "3503_4"
          ],
          [
           "3503_5"
          ],
          [
           "3422_8"
          ],
          [
           "50810F_1"
          ],
          [
           "3489_4"
          ],
          [
           "3420_1"
          ],
          [
           "322_7"
          ],
          [
           "365_10"
          ],
          [
           "322_8"
          ],
          [
           "3502_13"
          ],
          [
           "309_13"
          ],
          [
           "3479_2"
          ],
          [
           "3489_13"
          ],
          [
           "50810F_11"
          ],
          [
           "3516_15"
          ],
          [
           "50810B_9"
          ],
          [
           "293_12"
          ],
          [
           "3413_5"
          ],
          [
           "3478_5"
          ],
          [
           "3420_6"
          ],
          [
           "3422_11"
          ],
          [
           "365_15"
          ],
          [
           "3525_3"
          ],
          [
           "3517_14"
          ],
          [
           "18899_9"
          ],
          [
           "3476_15"
          ],
          [
           "3500_7"
          ],
          [
           "3517_1"
          ],
          [
           "3480_2"
          ],
          [
           "309_3"
          ],
          [
           "3481_15"
          ],
          [
           "3411_13"
          ],
          [
           "3534_7"
          ],
          [
           "3483_10"
          ],
          [
           "3525_2"
          ],
          [
           "3478_4"
          ],
          [
           "3489_7"
          ],
          [
           "18899_4"
          ],
          [
           "50810C_2"
          ],
          [
           "3501_4"
          ],
          [
           "50810D_5"
          ],
          [
           "364_6"
          ],
          [
           "3513_5"
          ],
          [
           "3429_14"
          ],
          [
           "3504_15"
          ],
          [
           "3483_15"
          ],
          [
           "3416_7"
          ],
          [
           "3479_13"
          ],
          [
           "18899_14"
          ],
          [
           "3477_13"
          ],
          [
           "3477_9"
          ],
          [
           "3418_2"
          ],
          [
           "3500_13"
          ],
          [
           "3478_9"
          ],
          [
           "3477_7"
          ],
          [
           "3425_9"
          ],
          [
           "3480_6"
          ],
          [
           "3507_2"
          ],
          [
           "3417_6"
          ],
          [
           "321_11"
          ],
          [
           "3420_4"
          ],
          [
           "3520_1"
          ],
          [
           "J2292_3"
          ],
          [
           "311_11"
          ],
          [
           "322_13"
          ],
          [
           "3491_1"
          ],
          [
           "320_15"
          ],
          [
           "3417_3"
          ],
          [
           "3488_3"
          ],
          [
           "3418_6"
          ],
          [
           "364_11"
          ],
          [
           "J1291_4"
          ],
          [
           "50810A_1"
          ],
          [
           "50810D_9"
          ],
          [
           "50810D_7"
          ],
          [
           "365_2"
          ],
          [
           "3478_14"
          ],
          [
           "3418_5"
          ],
          [
           "50810F_5"
          ],
          [
           "3418_3"
          ],
          [
           "362_6"
          ],
          [
           "3481_11"
          ],
          [
           "3522_2"
          ],
          [
           "3484_2"
          ],
          [
           "3480_15"
          ],
          [
           "50810E_11"
          ],
          [
           "322_1"
          ],
          [
           "50810F_9"
          ],
          [
           "3499_3"
          ],
          [
           "361_8"
          ],
          [
           "362_11"
          ],
          [
           "3418_11"
          ],
          [
           "3421_15"
          ],
          [
           "50810A_5"
          ],
          [
           "3478_7"
          ],
          [
           "3413_3"
          ],
          [
           "3489_10"
          ],
          [
           "365_12"
          ],
          [
           "3507_6"
          ],
          [
           "50810B_12"
          ],
          [
           "50810B_11"
          ],
          [
           "3488_12"
          ],
          [
           "3498_1"
          ],
          [
           "3605_8"
          ],
          [
           "3416_1"
          ],
          [
           "362_7"
          ],
          [
           "361_14"
          ],
          [
           "3490_1"
          ],
          [
           "3516_2"
          ],
          [
           "3606_8"
          ],
          [
           "3521_3"
          ],
          [
           "50810B_10"
          ],
          [
           "3513_9"
          ],
          [
           "3476_1"
          ],
          [
           "3478_13"
          ],
          [
           "3504_7"
          ],
          [
           "3417_15"
          ],
          [
           "311_15"
          ],
          [
           "3412_1"
          ],
          [
           "3503_9"
          ],
          [
           "3424_14"
          ],
          [
           "3479_15"
          ],
          [
           "3606_4"
          ],
          [
           "3411_9"
          ],
          [
           "3414_3"
          ],
          [
           "3497_6"
          ],
          [
           "3421_9"
          ],
          [
           "J2292_4"
          ],
          [
           "322_6"
          ],
          [
           "3426_8"
          ],
          [
           "50810E_14"
          ],
          [
           "3484_8"
          ],
          [
           "3503_15"
          ],
          [
           "3501_13"
          ],
          [
           "3484_3"
          ],
          [
           "3420_12"
          ],
          [
           "3500_11"
          ],
          [
           "50810D_1"
          ],
          [
           "50810B_14"
          ],
          [
           "3477_6"
          ],
          [
           "3501_8"
          ],
          [
           "3530_11"
          ],
          [
           "3517_7"
          ],
          [
           "3503_10"
          ],
          [
           "3483_14"
          ],
          [
           "3423_8"
          ],
          [
           "322_12"
          ],
          [
           "3499_5"
          ],
          [
           "320_4"
          ],
          [
           "3418_7"
          ],
          [
           "362_5"
          ],
          [
           "3419_10"
          ],
          [
           "50810F_8"
          ],
          [
           "3605_4"
          ],
          [
           "3502_7"
          ],
          [
           "3415_3"
          ],
          [
           "3415_10"
          ],
          [
           "3429_1"
          ],
          [
           "3415_8"
          ],
          [
           "50810E_9"
          ],
          [
           "3481_3"
          ],
          [
           "J1291_1"
          ],
          [
           "3416_10"
          ],
          [
           "3525_1"
          ],
          [
           "3534_15"
          ],
          [
           "3606_10"
          ],
          [
           "309_6"
          ],
          [
           "3477_11"
          ],
          [
           "3605_14"
          ],
          [
           "3499_15"
          ],
          [
           "3499_8"
          ],
          [
           "3480_10"
          ],
          [
           "3429_6"
          ],
          [
           "3477_15"
          ],
          [
           "3426_9"
          ],
          [
           "3417_2"
          ],
          [
           "3426_14"
          ],
          [
           "364_12"
          ],
          [
           "3416_15"
          ],
          [
           "362_12"
          ],
          [
           "3490_12"
          ],
          [
           "50810C_11"
          ],
          [
           "3522_6"
          ],
          [
           "3488_10"
          ],
          [
           "3491_7"
          ],
          [
           "3416_13"
          ],
          [
           "3507_14"
          ],
          [
           "50810C_14"
          ],
          [
           "3503_11"
          ],
          [
           "3417_5"
          ],
          [
           "365_1"
          ],
          [
           "3422_2"
          ],
          [
           "309_10"
          ],
          [
           "50810F_6"
          ],
          [
           "3419_2"
          ],
          [
           "363_5"
          ],
          [
           "3484_11"
          ],
          [
           "3415_7"
          ],
          [
           "3414_14"
          ],
          [
           "50810E_8"
          ],
          [
           "293_7"
          ],
          [
           "3500_15"
          ],
          [
           "18899_7"
          ],
          [
           "3420_2"
          ],
          [
           "3605_11"
          ],
          [
           "3424_11"
          ],
          [
           "3516_12"
          ],
          [
           "3500_3"
          ],
          [
           "3426_2"
          ],
          [
           "3416_11"
          ],
          [
           "3423_2"
          ],
          [
           "50810B_8"
          ],
          [
           "3412_13"
          ],
          [
           "J3295_14"
          ],
          [
           "3489_5"
          ],
          [
           "3424_15"
          ],
          [
           "3525_6"
          ],
          [
           "3476_10"
          ],
          [
           "3488_5"
          ],
          [
           "3481_7"
          ],
          [
           "309_8"
          ],
          [
           "50810C_13"
          ],
          [
           "294_6"
          ],
          [
           "3480_13"
          ],
          [
           "3429_4"
          ],
          [
           "3420_14"
          ],
          [
           "3478_15"
          ],
          [
           "3522_5"
          ],
          [
           "3489_9"
          ],
          [
           "3498_4"
          ],
          [
           "3424_1"
          ],
          [
           "3505_6"
          ],
          [
           "3476_7"
          ],
          [
           "3505_5"
          ],
          [
           "361_10"
          ],
          [
           "3525_9"
          ],
          [
           "3530_6"
          ],
          [
           "3490_9"
          ],
          [
           "3513_11"
          ],
          [
           "3517_9"
          ],
          [
           "3522_9"
          ],
          [
           "3534_14"
          ],
          [
           "3530_14"
          ],
          [
           "294_14"
          ],
          [
           "3500_4"
          ],
          [
           "3416_9"
          ],
          [
           "3606_9"
          ],
          [
           "3420_3"
          ],
          [
           "3483_5"
          ],
          [
           "3415_5"
          ],
          [
           "3521_14"
          ],
          [
           "3477_3"
          ],
          [
           "3422_13"
          ],
          [
           "50810F_10"
          ],
          [
           "3414_13"
          ],
          [
           "3490_6"
          ],
          [
           "320_14"
          ],
          [
           "3422_15"
          ],
          [
           "3520_14"
          ],
          [
           "3429_15"
          ],
          [
           "3481_2"
          ],
          [
           "3414_6"
          ],
          [
           "3477_12"
          ],
          [
           "50810D_4"
          ],
          [
           "3516_6"
          ],
          [
           "363_8"
          ],
          [
           "3516_10"
          ],
          [
           "50810E_1"
          ],
          [
           "3476_5"
          ],
          [
           "309_1"
          ],
          [
           "50810F_3"
          ],
          [
           "3484_1"
          ],
          [
           "3497_8"
          ],
          [
           "3478_2"
          ],
          [
           "3534_13"
          ],
          [
           "3429_12"
          ],
          [
           "3516_13"
          ],
          [
           "3513_13"
          ],
          [
           "3525_8"
          ],
          [
           "3429_8"
          ],
          [
           "3412_8"
          ],
          [
           "3423_1"
          ],
          [
           "3520_6"
          ],
          [
           "50810C_4"
          ],
          [
           "3522_14"
          ],
          [
           "3504_2"
          ],
          [
           "3517_13"
          ],
          [
           "3499_1"
          ],
          [
           "3525_13"
          ],
          [
           "3413_2"
          ],
          [
           "3484_4"
          ],
          [
           "3490_10"
          ],
          [
           "364_5"
          ],
          [
           "50810B_4"
          ],
          [
           "3513_12"
          ],
          [
           "322_10"
          ],
          [
           "365_7"
          ],
          [
           "3520_12"
          ],
          [
           "3477_1"
          ],
          [
           "3516_3"
          ],
          [
           "3478_12"
          ],
          [
           "3521_10"
          ],
          [
           "3490_15"
          ],
          [
           "3522_8"
          ],
          [
           "3425_11"
          ],
          [
           "3521_1"
          ],
          [
           "3479_9"
          ],
          [
           "3476_13"
          ],
          [
           "294_15"
          ],
          [
           "311_14"
          ],
          [
           "3504_14"
          ],
          [
           "3413_14"
          ],
          [
           "3522_7"
          ],
          [
           "3411_11"
          ],
          [
           "50810F_14"
          ],
          [
           "3605_5"
          ],
          [
           "3412_5"
          ],
          [
           "3411_3"
          ],
          [
           "3521_6"
          ],
          [
           "3412_9"
          ],
          [
           "309_7"
          ],
          [
           "3411_15"
          ],
          [
           "J2292_13"
          ],
          [
           "3498_5"
          ],
          [
           "3481_12"
          ],
          [
           "3416_5"
          ],
          [
           "322_14"
          ],
          [
           "3530_2"
          ],
          [
           "3490_8"
          ],
          [
           "3500_14"
          ],
          [
           "3521_11"
          ],
          [
           "50810B_3"
          ],
          [
           "3500_10"
          ],
          [
           "3420_11"
          ],
          [
           "3420_5"
          ],
          [
           "3501_6"
          ],
          [
           "3520_13"
          ],
          [
           "J3295_13"
          ],
          [
           "3416_6"
          ],
          [
           "3501_1"
          ],
          [
           "3413_6"
          ],
          [
           "320_12"
          ],
          [
           "3507_4"
          ],
          [
           "361_1"
          ],
          [
           "3490_2"
          ],
          [
           "3534_4"
          ],
          [
           "3481_4"
          ],
          [
           "3424_4"
          ],
          [
           "311_10"
          ],
          [
           "3490_11"
          ],
          [
           "3416_14"
          ],
          [
           "3483_3"
          ],
          [
           "3530_13"
          ],
          [
           "3484_7"
          ],
          [
           "3522_11"
          ],
          [
           "3497_9"
          ],
          [
           "3423_5"
          ],
          [
           "362_10"
          ],
          [
           "3417_14"
          ],
          [
           "3530_1"
          ],
          [
           "3422_10"
          ],
          [
           "50810A_6"
          ],
          [
           "3412_12"
          ],
          [
           "311_4"
          ],
          [
           "3414_1"
          ],
          [
           "3505_8"
          ],
          [
           "322_2"
          ],
          [
           "364_3"
          ],
          [
           "3513_1"
          ],
          [
           "364_9"
          ],
          [
           "3425_13"
          ],
          [
           "3484_9"
          ],
          [
           "293_3"
          ],
          [
           "3505_13"
          ],
          [
           "3421_8"
          ],
          [
           "3516_8"
          ],
          [
           "363_11"
          ],
          [
           "3501_5"
          ],
          [
           "3423_7"
          ],
          [
           "50810A_4"
          ],
          [
           "3425_5"
          ],
          [
           "3502_3"
          ],
          [
           "3497_1"
          ],
          [
           "50810D_8"
          ],
          [
           "322_15"
          ],
          [
           "3491_12"
          ],
          [
           "3488_6"
          ],
          [
           "18899_12"
          ],
          [
           "3507_10"
          ],
          [
           "50810D_13"
          ],
          [
           "3415_15"
          ],
          [
           "3517_15"
          ],
          [
           "3426_12"
          ],
          [
           "363_7"
          ],
          [
           "363_14"
          ],
          [
           "309_12"
          ],
          [
           "50810A_7"
          ],
          [
           "3483_6"
          ],
          [
           "50810B_6"
          ],
          [
           "320_13"
          ],
          [
           "3412_3"
          ],
          [
           "50810D_12"
          ],
          [
           "3414_7"
          ],
          [
           "50810E_6"
          ],
          [
           "50810F_7"
          ],
          [
           "3516_5"
          ],
          [
           "3491_13"
          ],
          [
           "J1291_11"
          ],
          [
           "3530_3"
          ],
          [
           "363_15"
          ],
          [
           "362_3"
          ],
          [
           "3479_6"
          ],
          [
           "311_1"
          ],
          [
           "3411_2"
          ],
          [
           "3478_10"
          ],
          [
           "3476_11"
          ],
          [
           "3420_13"
          ],
          [
           "3412_15"
          ],
          [
           "3499_10"
          ],
          [
           "3489_12"
          ],
          [
           "311_8"
          ],
          [
           "3480_12"
          ],
          [
           "3501_15"
          ],
          [
           "3426_7"
          ],
          [
           "3534_9"
          ],
          [
           "3479_11"
          ],
          [
           "50810F_12"
          ],
          [
           "3504_1"
          ],
          [
           "3421_6"
          ],
          [
           "3419_9"
          ],
          [
           "3411_4"
          ],
          [
           "3499_4"
          ],
          [
           "3418_9"
          ],
          [
           "322_9"
          ],
          [
           "293_10"
          ],
          [
           "364_15"
          ],
          [
           "50810C_1"
          ],
          [
           "50810F_15"
          ],
          [
           "294_4"
          ],
          [
           "3415_1"
          ],
          [
           "3606_12"
          ],
          [
           "3414_11"
          ],
          [
           "3422_12"
          ],
          [
           "3413_9"
          ],
          [
           "364_2"
          ],
          [
           "3500_12"
          ],
          [
           "3481_8"
          ],
          [
           "3525_11"
          ],
          [
           "J2292_5"
          ],
          [
           "3507_13"
          ],
          [
           "50810E_2"
          ],
          [
           "3489_3"
          ],
          [
           "50810E_10"
          ],
          [
           "361_4"
          ],
          [
           "3520_7"
          ],
          [
           "3507_12"
          ],
          [
           "3424_9"
          ],
          [
           "3513_3"
          ],
          [
           "321_13"
          ],
          [
           "3417_4"
          ],
          [
           "3426_5"
          ],
          [
           "3507_1"
          ],
          [
           "3504_6"
          ],
          [
           "3484_10"
          ],
          [
           "362_14"
          ],
          [
           "321_2"
          ],
          [
           "3480_5"
          ],
          [
           "3419_1"
          ],
          [
           "3499_13"
          ],
          [
           "3421_7"
          ],
          [
           "50810B_7"
          ],
          [
           "3530_10"
          ],
          [
           "18899_3"
          ],
          [
           "362_9"
          ],
          [
           "50810E_12"
          ],
          [
           "3422_9"
          ],
          [
           "3502_9"
          ],
          [
           "3477_5"
          ],
          [
           "3479_12"
          ],
          [
           "361_15"
          ],
          [
           "3477_14"
          ],
          [
           "3521_15"
          ],
          [
           "3520_5"
          ],
          [
           "3498_12"
          ],
          [
           "50810E_7"
          ],
          [
           "321_6"
          ],
          [
           "3480_9"
          ],
          [
           "3525_4"
          ],
          [
           "3521_8"
          ],
          [
           "3424_6"
          ],
          [
           "3505_9"
          ],
          [
           "50810A_10"
          ],
          [
           "293_13"
          ],
          [
           "3478_6"
          ],
          [
           "311_5"
          ],
          [
           "3513_2"
          ],
          [
           "50810B_1"
          ],
          [
           "50810C_6"
          ],
          [
           "50810D_3"
          ],
          [
           "3490_13"
          ],
          [
           "293_8"
          ],
          [
           "320_9"
          ],
          [
           "3412_11"
          ],
          [
           "3503_6"
          ],
          [
           "50810E_15"
          ],
          [
           "3502_1"
          ],
          [
           "J3295_15"
          ],
          [
           "3426_4"
          ],
          [
           "294_5"
          ],
          [
           "3504_9"
          ],
          [
           "3522_3"
          ],
          [
           "365_3"
          ],
          [
           "3429_11"
          ],
          [
           "361_11"
          ],
          [
           "363_4"
          ],
          [
           "J2292_15"
          ],
          [
           "18899_10"
          ],
          [
           "311_3"
          ],
          [
           "3520_8"
          ],
          [
           "3478_8"
          ],
          [
           "362_1"
          ],
          [
           "3501_3"
          ],
          [
           "J1291_14"
          ],
          [
           "3413_11"
          ],
          [
           "3507_11"
          ],
          [
           "J1291_9"
          ],
          [
           "293_4"
          ],
          [
           "3417_7"
          ],
          [
           "3413_1"
          ],
          [
           "3477_2"
          ],
          [
           "3476_12"
          ],
          [
           "3517_12"
          ],
          [
           "3606_3"
          ],
          [
           "3530_4"
          ],
          [
           "3501_10"
          ],
          [
           "3489_8"
          ],
          [
           "3484_13"
          ],
          [
           "321_1"
          ],
          [
           "3424_12"
          ],
          [
           "294_8"
          ],
          [
           "18899_11"
          ],
          [
           "3412_7"
          ],
          [
           "311_2"
          ],
          [
           "3489_2"
          ],
          [
           "321_4"
          ],
          [
           "3413_12"
          ],
          [
           "3421_14"
          ],
          [
           "3489_6"
          ],
          [
           "3534_6"
          ],
          [
           "3530_5"
          ],
          [
           "3481_1"
          ],
          [
           "364_14"
          ],
          [
           "3605_12"
          ],
          [
           "3418_15"
          ],
          [
           "3500_1"
          ],
          [
           "311_12"
          ],
          [
           "3498_8"
          ],
          [
           "3422_3"
          ],
          [
           "J1291_3"
          ],
          [
           "3484_5"
          ],
          [
           "3500_5"
          ],
          [
           "320_8"
          ],
          [
           "3522_10"
          ],
          [
           "J1291_15"
          ],
          [
           "3484_15"
          ],
          [
           "3424_5"
          ],
          [
           "J3295_1"
          ],
          [
           "361_13"
          ],
          [
           "3425_10"
          ],
          [
           "3425_4"
          ],
          [
           "3606_6"
          ],
          [
           "3413_15"
          ],
          [
           "3425_15"
          ],
          [
           "3426_10"
          ],
          [
           "3488_9"
          ],
          [
           "J3295_2"
          ],
          [
           "3421_3"
          ],
          [
           "3414_10"
          ],
          [
           "294_11"
          ],
          [
           "361_6"
          ],
          [
           "3513_8"
          ],
          [
           "294_13"
          ],
          [
           "293_1"
          ],
          [
           "3534_8"
          ],
          [
           "294_3"
          ],
          [
           "3425_12"
          ],
          [
           "3534_5"
          ],
          [
           "3517_3"
          ],
          [
           "3507_7"
          ],
          [
           "3500_2"
          ],
          [
           "3530_7"
          ],
          [
           "3499_14"
          ],
          [
           "50810F_2"
          ],
          [
           "50810D_15"
          ],
          [
           "3517_5"
          ],
          [
           "3416_2"
          ],
          [
           "3498_6"
          ],
          [
           "3522_13"
          ],
          [
           "3507_15"
          ],
          [
           "321_9"
          ],
          [
           "294_2"
          ],
          [
           "50810A_14"
          ],
          [
           "J3295_8"
          ],
          [
           "3419_13"
          ],
          [
           "3505_14"
          ],
          [
           "3425_3"
          ],
          [
           "3421_2"
          ],
          [
           "309_9"
          ],
          [
           "50810C_5"
          ],
          [
           "320_7"
          ],
          [
           "3423_3"
          ],
          [
           "3505_7"
          ],
          [
           "3503_14"
          ],
          [
           "3477_4"
          ],
          [
           "18899_13"
          ],
          [
           "3414_2"
          ],
          [
           "3429_9"
          ],
          [
           "3605_1"
          ],
          [
           "3605_13"
          ],
          [
           "3491_8"
          ],
          [
           "362_8"
          ],
          [
           "3417_11"
          ],
          [
           "365_13"
          ],
          [
           "50810D_10"
          ],
          [
           "294_1"
          ],
          [
           "3498_14"
          ],
          [
           "3502_14"
          ],
          [
           "3504_11"
          ],
          [
           "3513_6"
          ],
          [
           "3516_11"
          ],
          [
           "50810B_2"
          ],
          [
           "3481_9"
          ],
          [
           "293_6"
          ],
          [
           "3521_13"
          ],
          [
           "3521_12"
          ],
          [
           "3605_15"
          ],
          [
           "3480_1"
          ],
          [
           "18899_6"
          ],
          [
           "3491_15"
          ],
          [
           "3505_15"
          ],
          [
           "3502_6"
          ],
          [
           "3480_4"
          ],
          [
           "3423_14"
          ],
          [
           "3478_11"
          ],
          [
           "3413_7"
          ],
          [
           "3520_4"
          ],
          [
           "3425_14"
          ],
          [
           "3417_9"
          ],
          [
           "3521_9"
          ],
          [
           "3501_2"
          ],
          [
           "J1291_10"
          ],
          [
           "3419_3"
          ],
          [
           "3417_10"
          ],
          [
           "364_10"
          ],
          [
           "365_9"
          ],
          [
           "3421_4"
          ],
          [
           "50810A_11"
          ],
          [
           "3520_3"
          ],
          [
           "3413_4"
          ],
          [
           "3419_8"
          ],
          [
           "3422_4"
          ],
          [
           "3606_11"
          ],
          [
           "3503_7"
          ],
          [
           "50810D_11"
          ],
          [
           "3498_2"
          ],
          [
           "3483_4"
          ],
          [
           "3517_8"
          ],
          [
           "3483_8"
          ],
          [
           "3513_4"
          ],
          [
           "3520_10"
          ],
          [
           "3504_8"
          ],
          [
           "50810A_13"
          ],
          [
           "3498_10"
          ],
          [
           "3483_11"
          ],
          [
           "3418_1"
          ],
          [
           "3517_11"
          ],
          [
           "3420_10"
          ],
          [
           "3504_12"
          ],
          [
           "309_2"
          ],
          [
           "3476_4"
          ],
          [
           "50810C_3"
          ],
          [
           "3415_6"
          ],
          [
           "3429_10"
          ],
          [
           "3421_12"
          ],
          [
           "3476_14"
          ],
          [
           "3497_12"
          ],
          [
           "J3295_4"
          ],
          [
           "3534_12"
          ],
          [
           "3488_15"
          ],
          [
           "362_13"
          ],
          [
           "50810E_3"
          ],
          [
           "3422_7"
          ],
          [
           "3488_2"
          ],
          [
           "3606_5"
          ],
          [
           "3507_8"
          ],
          [
           "363_2"
          ],
          [
           "3500_8"
          ],
          [
           "3426_15"
          ],
          [
           "3417_8"
          ],
          [
           "3522_12"
          ],
          [
           "3484_14"
          ],
          [
           "3606_2"
          ],
          [
           "3522_4"
          ],
          [
           "3425_2"
          ],
          [
           "3500_9"
          ],
          [
           "3605_9"
          ],
          [
           "3498_11"
          ],
          [
           "361_2"
          ],
          [
           "3478_3"
          ],
          [
           "3505_4"
          ],
          [
           "50810D_6"
          ],
          [
           "3513_15"
          ],
          [
           "293_5"
          ],
          [
           "3480_14"
          ],
          [
           "362_4"
          ],
          [
           "3418_10"
          ],
          [
           "3429_13"
          ],
          [
           "3504_3"
          ],
          [
           "364_13"
          ],
          [
           "3497_2"
          ],
          [
           "3497_10"
          ],
          [
           "3420_15"
          ],
          [
           "J1291_7"
          ],
          [
           "50810C_12"
          ],
          [
           "3424_8"
          ],
          [
           "3480_3"
          ],
          [
           "3488_11"
          ],
          [
           "3504_10"
          ],
          [
           "J3295_11"
          ],
          [
           "3534_3"
          ],
          [
           "3479_10"
          ],
          [
           "J2292_1"
          ],
          [
           "3429_5"
          ],
          [
           "J1291_8"
          ],
          [
           "50810B_15"
          ],
          [
           "3505_1"
          ],
          [
           "3425_6"
          ],
          [
           "J2292_2"
          ],
          [
           "361_7"
          ],
          [
           "3414_8"
          ],
          [
           "3534_1"
          ],
          [
           "3415_11"
          ],
          [
           "3503_3"
          ],
          [
           "363_9"
          ],
          [
           "3491_5"
          ],
          [
           "294_10"
          ],
          [
           "3489_15"
          ],
          [
           "320_6"
          ],
          [
           "3516_1"
          ],
          [
           "3412_6"
          ],
          [
           "3505_10"
          ],
          [
           "3513_7"
          ],
          [
           "3426_3"
          ],
          [
           "3425_7"
          ],
          [
           "3481_5"
          ],
          [
           "3411_14"
          ],
          [
           "3498_15"
          ],
          [
           "3499_6"
          ],
          [
           "J2292_9"
          ],
          [
           "3503_1"
          ],
          [
           "3418_8"
          ],
          [
           "3476_9"
          ],
          [
           "3414_5"
          ],
          [
           "363_1"
          ],
          [
           "3423_11"
          ],
          [
           "3498_7"
          ],
          [
           "3516_14"
          ],
          [
           "3476_3"
          ],
          [
           "3491_9"
          ],
          [
           "3419_12"
          ],
          [
           "50810A_3"
          ],
          [
           "3530_15"
          ],
          [
           "3483_1"
          ],
          [
           "50810A_8"
          ],
          [
           "3502_2"
          ],
          [
           "3425_8"
          ],
          [
           "3420_8"
          ],
          [
           "309_5"
          ],
          [
           "3502_4"
          ],
          [
           "3504_13"
          ],
          [
           "3513_14"
          ],
          [
           "50810E_13"
          ],
          [
           "3417_13"
          ],
          [
           "3418_4"
          ],
          [
           "3516_7"
          ],
          [
           "3411_6"
          ],
          [
           "J3295_9"
          ],
          [
           "361_9"
          ],
          [
           "3499_9"
          ],
          [
           "3534_10"
          ],
          [
           "3411_8"
          ],
          [
           "3414_4"
          ],
          [
           "50810D_2"
          ],
          [
           "3488_8"
          ],
          [
           "321_3"
          ],
          [
           "320_3"
          ],
          [
           "50810C_15"
          ],
          [
           "3502_15"
          ],
          [
           "3606_15"
          ],
          [
           "3419_6"
          ],
          [
           "3520_15"
          ],
          [
           "311_13"
          ],
          [
           "3491_11"
          ],
          [
           "3500_6"
          ],
          [
           "3481_10"
          ],
          [
           "3502_8"
          ],
          [
           "3497_4"
          ],
          [
           "365_4"
          ],
          [
           "50810D_14"
          ],
          [
           "3522_15"
          ],
          [
           "50810A_2"
          ],
          [
           "3416_8"
          ],
          [
           "3488_4"
          ],
          [
           "3521_4"
          ],
          [
           "322_3"
          ],
          [
           "3424_7"
          ],
          [
           "3505_3"
          ],
          [
           "3520_9"
          ],
          [
           "J3295_6"
          ],
          [
           "3489_11"
          ],
          [
           "3606_14"
          ],
          [
           "J1291_12"
          ],
          [
           "322_5"
          ],
          [
           "3605_3"
          ],
          [
           "309_15"
          ],
          [
           "294_7"
          ],
          [
           "320_11"
          ],
          [
           "3481_13"
          ],
          [
           "3497_5"
          ],
          [
           "3413_8"
          ],
          [
           "3501_14"
          ],
          [
           "3420_7"
          ],
          [
           "50810C_7"
          ],
          [
           "3530_12"
          ],
          [
           "321_8"
          ],
          [
           "3483_9"
          ],
          [
           "3479_8"
          ],
          [
           "3418_14"
          ],
          [
           "293_15"
          ],
          [
           "3411_5"
          ],
          [
           "365_11"
          ],
          [
           "363_12"
          ],
          [
           "3503_12"
          ],
          [
           "3411_7"
          ],
          [
           "3423_12"
          ],
          [
           "3423_6"
          ],
          [
           "364_1"
          ],
          [
           "3605_6"
          ],
          [
           "3476_8"
          ],
          [
           "362_15"
          ],
          [
           "3491_6"
          ],
          [
           "3419_7"
          ]
         ],
         "hoverlabel": {
          "namelength": 0
         },
         "hovertemplate": "0=%{x}<br>1=%{y}<br>Feature=%{customdata[0]}<br>Label=%{marker.color}",
         "legendgroup": "",
         "marker": {
          "color": [
           0,
           0,
           0,
           0,
           0,
           0,
           0,
           0,
           0,
           0,
           0,
           0,
           0,
           0,
           1,
           0,
           0,
           0,
           0,
           0,
           0,
           0,
           0,
           0,
           0,
           0,
           0,
           0,
           1,
           0,
           0,
           0,
           0,
           0,
           0,
           0,
           0,
           0,
           0,
           0,
           0,
           0,
           0,
           1,
           0,
           0,
           1,
           1,
           0,
           0,
           1,
           0,
           0,
           0,
           0,
           0,
           0,
           0,
           0,
           0,
           0,
           0,
           0,
           0,
           1,
           0,
           0,
           0,
           0,
           0,
           0,
           0,
           0,
           0,
           0,
           0,
           0,
           0,
           0,
           0,
           0,
           0,
           0,
           0,
           0,
           0,
           0,
           0,
           0,
           0,
           0,
           0,
           0,
           0,
           0,
           0,
           0,
           0,
           0,
           0,
           0,
           0,
           0,
           0,
           0,
           0,
           0,
           0,
           0,
           0,
           0,
           0,
           0,
           0,
           0,
           0,
           0,
           0,
           0,
           0,
           0,
           0,
           0,
           0,
           0,
           0,
           0,
           0,
           0,
           0,
           0,
           0,
           0,
           0,
           0,
           0,
           0,
           0,
           0,
           0,
           0,
           0,
           0,
           0,
           0,
           0,
           0,
           0,
           0,
           0,
           0,
           0,
           0,
           0,
           0,
           0,
           0,
           0,
           0,
           0,
           0,
           0,
           0,
           0,
           0,
           0,
           0,
           0,
           0,
           0,
           0,
           0,
           0,
           0,
           0,
           0,
           0,
           0,
           0,
           0,
           0,
           0,
           0,
           1,
           0,
           0,
           0,
           0,
           1,
           0,
           0,
           0,
           0,
           0,
           0,
           0,
           1,
           1,
           0,
           0,
           0,
           0,
           0,
           0,
           0,
           0,
           0,
           0,
           1,
           0,
           0,
           0,
           0,
           0,
           0,
           0,
           0,
           0,
           0,
           0,
           0,
           0,
           0,
           0,
           0,
           0,
           0,
           0,
           0,
           0,
           0,
           0,
           0,
           0,
           0,
           0,
           0,
           1,
           0,
           0,
           0,
           0,
           0,
           0,
           0,
           0,
           1,
           0,
           0,
           0,
           0,
           0,
           0,
           0,
           0,
           0,
           0,
           1,
           0,
           0,
           0,
           0,
           0,
           0,
           0,
           0,
           0,
           0,
           0,
           0,
           0,
           0,
           0,
           0,
           1,
           0,
           0,
           0,
           0,
           0,
           0,
           0,
           0,
           0,
           0,
           1,
           0,
           0,
           0,
           0,
           0,
           0,
           0,
           0,
           0,
           0,
           0,
           0,
           0,
           0,
           0,
           0,
           0,
           0,
           0,
           0,
           0,
           0,
           1,
           0,
           0,
           0,
           0,
           0,
           0,
           0,
           1,
           0,
           1,
           0,
           0,
           0,
           0,
           0,
           0,
           0,
           0,
           0,
           0,
           0,
           0,
           0,
           0,
           0,
           0,
           0,
           0,
           0,
           0,
           0,
           0,
           0,
           0,
           0,
           0,
           0,
           0,
           0,
           0,
           0,
           0,
           0,
           0,
           0,
           0,
           0,
           0,
           0,
           0,
           0,
           0,
           0,
           0,
           0,
           0,
           0,
           0,
           0,
           0,
           0,
           0,
           0,
           0,
           0,
           0,
           0,
           0,
           0,
           0,
           0,
           1,
           0,
           0,
           0,
           0,
           0,
           0,
           1,
           0,
           0,
           0,
           0,
           0,
           0,
           0,
           0,
           0,
           0,
           0,
           1,
           0,
           0,
           0,
           0,
           0,
           0,
           0,
           0,
           0,
           0,
           0,
           0,
           0,
           0,
           0,
           0,
           0,
           0,
           0,
           0,
           0,
           0,
           0,
           0,
           0,
           0,
           0,
           0,
           0,
           0,
           0,
           0,
           0,
           0,
           0,
           0,
           0,
           0,
           0,
           0,
           0,
           0,
           0,
           0,
           0,
           1,
           0,
           0,
           0,
           0,
           1,
           0,
           0,
           0,
           0,
           0,
           0,
           0,
           0,
           0,
           1,
           0,
           0,
           0,
           1,
           0,
           0,
           0,
           0,
           0,
           0,
           0,
           0,
           0,
           0,
           0,
           0,
           0,
           0,
           0,
           0,
           0,
           0,
           0,
           0,
           0,
           0,
           0,
           0,
           0,
           0,
           0,
           0,
           0,
           0,
           0,
           0,
           0,
           0,
           0,
           0,
           0,
           0,
           0,
           0,
           0,
           0,
           0,
           0,
           0,
           0,
           1,
           0,
           0,
           0,
           0,
           0,
           0,
           0,
           0,
           0,
           0,
           0,
           0,
           0,
           0,
           0,
           0,
           0,
           0,
           0,
           0,
           0,
           0,
           0,
           0,
           0,
           0,
           0,
           0,
           0,
           0,
           0,
           0,
           0,
           1,
           0,
           0,
           0,
           0,
           0,
           0,
           0,
           0,
           0,
           1,
           1,
           0,
           0,
           0,
           0,
           0,
           0,
           0,
           1,
           0,
           0,
           0,
           0,
           0,
           0,
           0,
           0,
           0,
           0,
           0,
           0,
           0,
           0,
           0,
           0,
           0,
           0,
           0,
           0,
           0,
           0,
           0,
           0,
           0,
           1,
           0,
           0,
           0,
           0,
           0,
           0,
           0,
           0,
           0,
           0,
           0,
           0,
           0,
           0,
           0,
           0,
           0,
           0,
           0,
           0,
           0,
           0,
           0,
           0,
           0,
           0,
           0,
           0,
           0,
           0,
           0,
           0,
           0,
           0,
           0,
           0,
           0,
           0,
           0,
           0,
           0,
           0,
           0,
           0,
           0,
           0,
           1,
           0,
           0,
           0,
           0,
           0,
           0,
           0,
           0,
           0,
           0,
           0,
           0,
           0,
           0,
           0,
           0,
           0,
           0,
           0,
           0,
           0,
           0,
           0,
           0,
           0,
           0,
           0,
           0,
           0,
           0,
           0,
           0,
           0,
           0,
           0,
           0,
           0,
           0,
           0,
           0,
           0,
           0,
           0,
           0,
           0,
           0,
           0,
           0,
           0,
           0,
           0,
           0,
           0,
           0,
           0,
           0,
           0,
           0,
           0,
           0,
           0,
           0,
           0,
           0,
           0,
           0,
           0,
           0,
           0,
           0,
           0,
           0,
           1,
           0,
           0,
           0,
           0,
           0,
           0,
           0,
           0,
           0,
           1,
           0,
           0,
           0,
           0,
           0,
           0,
           0,
           0,
           0,
           0,
           0,
           0,
           0,
           0,
           0,
           0,
           0,
           1,
           0,
           0,
           0,
           0,
           0,
           0,
           0,
           1,
           0,
           0,
           0,
           0,
           0,
           0,
           0,
           0,
           0,
           0,
           0,
           0,
           0,
           0,
           0,
           0,
           0,
           0,
           0,
           0,
           0,
           0,
           0,
           0,
           0,
           0,
           0,
           0,
           0,
           0,
           0,
           0,
           0,
           0,
           0,
           0,
           0,
           0,
           0,
           0,
           0,
           1,
           0,
           0,
           0,
           0,
           0,
           0,
           0,
           0,
           0,
           0,
           0,
           0,
           0,
           0,
           0,
           0,
           0,
           0,
           0,
           0,
           0,
           0,
           0,
           0,
           0,
           0,
           0,
           0,
           0,
           0,
           0,
           0,
           0,
           0,
           0,
           0,
           0,
           0,
           0,
           0,
           0,
           0,
           0,
           0,
           0,
           0,
           0,
           0,
           0,
           0,
           0,
           0,
           0,
           0,
           0,
           0,
           0,
           0,
           0,
           0,
           0,
           0,
           0,
           0,
           0,
           0,
           0,
           0,
           0,
           0,
           0,
           0,
           0,
           0,
           0,
           0,
           0,
           0,
           0,
           0,
           0,
           0,
           0,
           0,
           0,
           1,
           0,
           0,
           0,
           0,
           0,
           0,
           0,
           0,
           0,
           0,
           0,
           0,
           0,
           0,
           1,
           0,
           0,
           0,
           0,
           0,
           1,
           0,
           0,
           0,
           0,
           0,
           0,
           0,
           0,
           0,
           0,
           0,
           0,
           0,
           1,
           0,
           0,
           0,
           0,
           0,
           0,
           0,
           0,
           0,
           0,
           0,
           0,
           0,
           0,
           0,
           0,
           0,
           0,
           0,
           0,
           0,
           0,
           0,
           0,
           0,
           0,
           0,
           0,
           0,
           0,
           1,
           0,
           0,
           0,
           1,
           0,
           1,
           0,
           0,
           0,
           0,
           0,
           0,
           0,
           0,
           0,
           0,
           0,
           0,
           0,
           0,
           0,
           0,
           0,
           0,
           0,
           0,
           0,
           0,
           1,
           0,
           1,
           0,
           0,
           0,
           1,
           0,
           0,
           0,
           0,
           1,
           0,
           0,
           0,
           1,
           0,
           0,
           0,
           0,
           0,
           0,
           0,
           0,
           0,
           0,
           0,
           0,
           0,
           0,
           0,
           0,
           0,
           0,
           0,
           0,
           0,
           0,
           0,
           0,
           0,
           0,
           1,
           0,
           0,
           0,
           0,
           0,
           0,
           0,
           0,
           0,
           0,
           0,
           0,
           0,
           0
          ],
          "coloraxis": "coloraxis",
          "opacity": 0.7,
          "symbol": "circle"
         },
         "mode": "markers",
         "name": "",
         "showlegend": false,
         "type": "scattergl",
         "x": [
          17.78812026977539,
          -5.137739658355713,
          -1.290453314781189,
          14.735477447509766,
          5.916966438293457,
          14.522769927978516,
          5.524381637573242,
          5.587920188903809,
          6.157702445983887,
          12.293066024780273,
          -6.13102388381958,
          15.015644073486328,
          14.56017780303955,
          -1.7377475500106812,
          18.553987503051758,
          1.141297459602356,
          11.745108604431152,
          0.34262800216674805,
          13.932395935058594,
          15.123298645019531,
          10.505180358886719,
          10.769584655761719,
          -1.9766165018081665,
          13.257806777954102,
          -2.4449641704559326,
          5.9759955406188965,
          1.4998210668563843,
          18.61871910095215,
          4.278954982757568,
          -4.706157684326172,
          14.970586776733398,
          11.153433799743652,
          10.4605131149292,
          -2.9193716049194336,
          -0.4359893500804901,
          14.530118942260742,
          -4.73468542098999,
          11.331138610839844,
          12.18171215057373,
          6.2899909019470215,
          13.038439750671387,
          2.436917304992676,
          11.175362586975098,
          6.777999401092529,
          5.558413505554199,
          10.33920955657959,
          13.650930404663086,
          10.810736656188965,
          -3.7325472831726074,
          -5.14133358001709,
          -0.34364762902259827,
          -1.5808671712875366,
          12.690587997436523,
          -1.702135443687439,
          14.221964836120605,
          13.747514724731445,
          12.174129486083984,
          10.969806671142578,
          -2.661357879638672,
          13.422959327697754,
          0.8582919239997864,
          5.848191261291504,
          9.716038703918457,
          -1.9799535274505615,
          13.80819034576416,
          -3.4044950008392334,
          13.25325870513916,
          -2.997081995010376,
          -2.421082019805908,
          1.6636453866958618,
          5.839568138122559,
          5.245264053344727,
          14.118213653564453,
          12.648756980895996,
          10.434274673461914,
          15.047721862792969,
          6.488193035125732,
          6.315062046051025,
          13.45572280883789,
          6.256982803344727,
          1.2590471506118774,
          14.685281753540039,
          10.282748222351074,
          10.40371036529541,
          3.7327210903167725,
          11.444636344909668,
          2.578535795211792,
          10.545181274414062,
          6.02938175201416,
          13.03244400024414,
          13.93031120300293,
          10.4583101272583,
          0.5711719393730164,
          0.9052425026893616,
          11.313179016113281,
          -6.230714321136475,
          15.09156608581543,
          -2.61859393119812,
          11.424149513244629,
          -0.5128800868988037,
          5.724785804748535,
          -3.751011848449707,
          6.141143321990967,
          6.064135551452637,
          11.658825874328613,
          14.923630714416504,
          -2.5700502395629883,
          10.748818397521973,
          -3.837400436401367,
          9.651384353637695,
          14.587406158447266,
          5.6411566734313965,
          11.025386810302734,
          6.004295825958252,
          14.50040054321289,
          -1.5131999254226685,
          -1.7679017782211304,
          11.834178924560547,
          -1.9957996606826782,
          -2.52917218208313,
          13.752721786499023,
          -1.5949875116348267,
          0.5015456080436707,
          -2.8785295486450195,
          -2.3656041622161865,
          11.323894500732422,
          11.266794204711914,
          -2.6613945960998535,
          4.258570671081543,
          -3.7031354904174805,
          2.582732677459717,
          6.110342502593994,
          -2.559089422225952,
          10.640686988830566,
          -4.990451335906982,
          -5.188566207885742,
          2.6164543628692627,
          -6.153223991394043,
          17.68611717224121,
          11.058292388916016,
          -1.7121912240982056,
          -1.975880742073059,
          12.12244987487793,
          -2.641111135482788,
          -4.054436683654785,
          10.467667579650879,
          10.792302131652832,
          -6.21226692199707,
          11.005083084106445,
          10.474164009094238,
          13.707380294799805,
          -2.889403820037842,
          12.264782905578613,
          5.499310493469238,
          10.215723991394043,
          14.59889030456543,
          12.219014167785645,
          -2.449216842651367,
          -6.103122234344482,
          14.929803848266602,
          12.199348449707031,
          -4.844775199890137,
          0.7252718210220337,
          10.434080123901367,
          10.572359085083008,
          0.8353176116943359,
          11.426194190979004,
          11.392071723937988,
          -0.4620908796787262,
          14.751869201660156,
          11.824763298034668,
          5.935359001159668,
          5.561172008514404,
          -2.5113327503204346,
          0.449887752532959,
          0.42126569151878357,
          0.9076084494590759,
          17.703401565551758,
          -2.920194149017334,
          -1.4604636430740356,
          10.73739242553711,
          -2.0491132736206055,
          10.697275161743164,
          -5.276011943817139,
          14.44431209564209,
          11.763816833496094,
          -2.9150238037109375,
          17.661231994628906,
          -5.051900386810303,
          13.960844039916992,
          2.612764358520508,
          -0.43347296118736267,
          11.575358390808105,
          -1.5199388265609741,
          1.1396912336349487,
          -2.3014349937438965,
          -6.3009772300720215,
          4.334410667419434,
          13.770931243896484,
          9.4459867477417,
          0.018827781081199646,
          4.2953619956970215,
          11.519025802612305,
          14.63963794708252,
          -1.5297211408615112,
          -1.2637475728988647,
          -3.754568576812744,
          13.4071044921875,
          -6.35783052444458,
          11.549509048461914,
          -2.9094369411468506,
          13.76073932647705,
          12.231224060058594,
          -5.029333591461182,
          10.294841766357422,
          -3.023155927658081,
          5.229640007019043,
          14.088508605957031,
          14.067073822021484,
          13.397050857543945,
          14.681087493896484,
          11.74466323852539,
          13.816761016845703,
          12.201229095458984,
          12.231486320495605,
          3.8844521045684814,
          -0.1443864107131958,
          11.726271629333496,
          12.206307411193848,
          6.8638596534729,
          11.520910263061523,
          10.306485176086426,
          14.600159645080566,
          10.48598575592041,
          -1.5145491361618042,
          10.527116775512695,
          5.837987899780273,
          12.869694709777832,
          10.788223266601562,
          5.505584239959717,
          10.440810203552246,
          14.60354232788086,
          0.331449031829834,
          3.8810744285583496,
          -3.108168363571167,
          5.9715352058410645,
          10.165648460388184,
          10.501832008361816,
          10.474374771118164,
          -1.825696587562561,
          11.31217098236084,
          3.8648195266723633,
          17.764719009399414,
          3.889765739440918,
          1.1781023740768433,
          -1.6069353818893433,
          10.897994995117188,
          18.54120445251465,
          11.29587459564209,
          11.827202796936035,
          10.535483360290527,
          17.731136322021484,
          11.024673461914062,
          11.057204246520996,
          1.0339692831039429,
          3.734661102294922,
          6.617220878601074,
          10.163436889648438,
          11.462369918823242,
          -0.490132600069046,
          -2.8968801498413086,
          -2.19970440864563,
          10.265817642211914,
          13.830218315124512,
          13.804258346557617,
          0.6082760691642761,
          15.094527244567871,
          -3.651254892349243,
          14.749122619628906,
          1.089461088180542,
          10.609269142150879,
          -2.546386241912842,
          -5.185440540313721,
          1.6269569396972656,
          10.880376815795898,
          13.784497261047363,
          5.312216758728027,
          10.069997787475586,
          11.31078052520752,
          14.441970825195312,
          14.674080848693848,
          13.020612716674805,
          -0.4569796323776245,
          0.4895731210708618,
          -2.9527010917663574,
          11.846843719482422,
          1.6669169664382935,
          -1.3527214527130127,
          14.861282348632812,
          12.722209930419922,
          6.450405597686768,
          5.804988861083984,
          10.591524124145508,
          5.956665515899658,
          11.645952224731445,
          18.604732513427734,
          0.6103552579879761,
          -4.406068801879883,
          18.601280212402344,
          -2.5878918170928955,
          -0.1296088546514511,
          10.307149887084961,
          13.98391342163086,
          12.154909133911133,
          -4.8948469161987305,
          -3.1953659057617188,
          4.249526023864746,
          0.5340363383293152,
          13.442386627197266,
          -2.654369831085205,
          10.782462120056152,
          11.331793785095215,
          10.678796768188477,
          3.852202892303467,
          1.149014949798584,
          -2.0997941493988037,
          17.711143493652344,
          -3.7134878635406494,
          -5.072337627410889,
          10.987542152404785,
          11.350543022155762,
          14.507145881652832,
          11.301108360290527,
          11.968273162841797,
          -2.1850130558013916,
          5.956831455230713,
          14.096885681152344,
          -6.2727460861206055,
          -3.4510607719421387,
          1.6012911796569824,
          14.65883731842041,
          12.20649242401123,
          -3.308924913406372,
          11.601225852966309,
          11.328189849853516,
          11.387682914733887,
          14.386524200439453,
          12.263323783874512,
          5.879544734954834,
          14.574751853942871,
          6.04257869720459,
          -3.1038568019866943,
          14.025588989257812,
          1.1084647178649902,
          -1.975488305091858,
          12.1806640625,
          10.074228286743164,
          0.5993328094482422,
          5.760106563568115,
          10.647037506103516,
          10.498425483703613,
          12.036096572875977,
          0.5818496942520142,
          14.645978927612305,
          -2.554609537124634,
          0.815814197063446,
          14.49509334564209,
          17.69732666015625,
          -1.8458222150802612,
          9.66279125213623,
          18.57525634765625,
          11.293957710266113,
          14.862348556518555,
          11.94109058380127,
          2.528602123260498,
          -0.22928862273693085,
          13.752802848815918,
          -1.510003685951233,
          -3.3332574367523193,
          -2.9989349842071533,
          -5.0708088874816895,
          -0.06523873656988144,
          5.567175388336182,
          14.090919494628906,
          -2.750142812728882,
          13.943299293518066,
          -0.5192719101905823,
          6.474531650543213,
          -2.9208014011383057,
          -2.9935760498046875,
          -6.325081825256348,
          9.346294403076172,
          0.5603749752044678,
          -1.8131414651870728,
          14.55703353881836,
          12.025654792785645,
          -1.5964069366455078,
          11.283280372619629,
          14.362582206726074,
          -2.5923094749450684,
          11.302559852600098,
          10.085566520690918,
          -2.947739839553833,
          15.147002220153809,
          -2.3023784160614014,
          14.769198417663574,
          9.216075897216797,
          14.735489845275879,
          10.76672649383545,
          -6.189851760864258,
          -3.8511667251586914,
          -2.6921496391296387,
          5.2249369621276855,
          4.391069412231445,
          10.145648956298828,
          -3.534109115600586,
          -3.3457906246185303,
          -2.7674455642700195,
          0.0504208579659462,
          14.763062477111816,
          1.645164966583252,
          -1.4972294569015503,
          13.27802562713623,
          11.049322128295898,
          10.320599555969238,
          12.073216438293457,
          1.1492793560028076,
          17.696823120117188,
          14.905259132385254,
          -2.571657180786133,
          10.431599617004395,
          1.1639100313186646,
          10.092585563659668,
          14.125958442687988,
          -2.0657620429992676,
          15.093990325927734,
          12.275413513183594,
          10.289249420166016,
          -5.178274631500244,
          9.711676597595215,
          -5.0828166007995605,
          12.290508270263672,
          9.273193359375,
          14.605098724365234,
          17.669143676757812,
          18.603498458862305,
          13.572582244873047,
          11.569833755493164,
          -3.4799866676330566,
          14.140068054199219,
          -5.049548625946045,
          5.199963092803955,
          -6.216024875640869,
          14.220663070678711,
          -0.4564054310321808,
          -2.718080759048462,
          10.474891662597656,
          12.283496856689453,
          10.284741401672363,
          14.66871166229248,
          4.333715438842773,
          11.074028015136719,
          -6.128322124481201,
          -0.492241770029068,
          18.605060577392578,
          -1.6229990720748901,
          -2.939758062362671,
          13.949821472167969,
          5.258397579193115,
          10.775115966796875,
          -2.5305392742156982,
          10.335460662841797,
          11.972230911254883,
          -5.170761585235596,
          11.330672264099121,
          10.371027946472168,
          -1.947242259979248,
          10.171436309814453,
          6.985433578491211,
          10.949518203735352,
          11.646256446838379,
          9.41629695892334,
          -2.7361092567443848,
          12.922239303588867,
          14.159988403320312,
          -0.3659979999065399,
          10.17702865600586,
          -1.2875417470932007,
          17.686676025390625,
          -3.771169424057007,
          -0.4349920153617859,
          -1.4392765760421753,
          10.633586883544922,
          -0.5045153498649597,
          14.55712890625,
          -1.284761667251587,
          5.533586502075195,
          15.142516136169434,
          -1.6159029006958008,
          14.70412826538086,
          10.78285026550293,
          -3.9369778633117676,
          -2.7683236598968506,
          -0.18449223041534424,
          10.404337882995605,
          13.843878746032715,
          -0.049788687378168106,
          -2.619532346725464,
          -1.5431448221206665,
          -5.027182102203369,
          10.284804344177246,
          6.49923038482666,
          14.71992015838623,
          -5.065340518951416,
          -0.4332745671272278,
          10.479998588562012,
          10.357531547546387,
          11.11385726928711,
          -2.5812017917633057,
          -3.7852182388305664,
          -1.926506757736206,
          -1.3755896091461182,
          12.896787643432617,
          -1.6375648975372314,
          14.046184539794922,
          13.182238578796387,
          -3.304602861404419,
          18.505863189697266,
          10.230300903320312,
          12.989672660827637,
          -2.7244369983673096,
          1.1043614149093628,
          14.6708345413208,
          -3.8901381492614746,
          1.0918177366256714,
          10.141752243041992,
          -0.4379633069038391,
          12.856828689575195,
          14.946938514709473,
          14.812017440795898,
          10.524288177490234,
          -3.1243717670440674,
          5.175817966461182,
          -2.8561551570892334,
          7.070400238037109,
          18.5286865234375,
          2.462904930114746,
          15.027963638305664,
          6.565272808074951,
          -5.14052677154541,
          9.688491821289062,
          -5.040416717529297,
          -2.6714260578155518,
          10.155838012695312,
          6.5374250411987305,
          -5.210637092590332,
          12.49111557006836,
          10.45311450958252,
          10.769707679748535,
          6.063659191131592,
          0.5550497174263,
          13.814750671386719,
          10.485491752624512,
          10.746033668518066,
          13.679339408874512,
          4.419562339782715,
          5.994234085083008,
          9.618210792541504,
          9.72048282623291,
          14.501659393310547,
          10.179720878601074,
          13.24686050415039,
          13.89937973022461,
          10.439437866210938,
          -0.5162604451179504,
          10.66650676727295,
          15.027721405029297,
          12.121307373046875,
          17.71481704711914,
          -5.14417839050293,
          6.085111141204834,
          5.879420280456543,
          -3.9373764991760254,
          9.66386604309082,
          1.2701735496520996,
          11.821722030639648,
          12.79970932006836,
          -1.480590581893921,
          11.355085372924805,
          9.376741409301758,
          -2.6053390502929688,
          -0.5907409191131592,
          11.391636848449707,
          -2.954319477081299,
          12.8606595993042,
          11.353628158569336,
          -4.590145587921143,
          5.864574909210205,
          -3.7320609092712402,
          11.865592956542969,
          17.717771530151367,
          14.677120208740234,
          6.310725212097168,
          -1.7186682224273682,
          -1.4089291095733643,
          11.329240798950195,
          3.9828522205352783,
          10.735832214355469,
          2.6064789295196533,
          -3.158292293548584,
          12.205619812011719,
          17.679737091064453,
          -1.5997058153152466,
          10.999621391296387,
          1.5395556688308716,
          15.025790214538574,
          1.1074142456054688,
          -0.4645259380340576,
          -2.941598415374756,
          -0.1005563959479332,
          -1.803114414215088,
          -6.182557106018066,
          5.780434608459473,
          10.556241989135742,
          12.267226219177246,
          -2.9317102432250977,
          11.801248550415039,
          11.092529296875,
          10.364895820617676,
          10.507294654846191,
          -2.5078647136688232,
          5.253640174865723,
          10.452998161315918,
          14.630594253540039,
          5.768648624420166,
          10.289292335510254,
          14.551058769226074,
          18.618606567382812,
          1.1553986072540283,
          10.779147148132324,
          11.523889541625977,
          -1.825453519821167,
          11.512377738952637,
          6.723353385925293,
          13.996143341064453,
          -3.2386574745178223,
          13.696833610534668,
          1.1034808158874512,
          11.79634952545166,
          0.9645714163780212,
          -5.179357051849365,
          12.105792045593262,
          11.871610641479492,
          10.71399974822998,
          12.24435043334961,
          10.316614151000977,
          10.484670639038086,
          15.126046180725098,
          11.939868927001953,
          10.706291198730469,
          11.397570610046387,
          -6.246715545654297,
          10.46119499206543,
          -2.4640798568725586,
          14.85886001586914,
          10.42052173614502,
          2.548598527908325,
          11.63125228881836,
          13.051872253417969,
          5.188047409057617,
          13.8977632522583,
          12.300834655761719,
          10.271265983581543,
          -1.6683688163757324,
          2.587702512741089,
          10.559879302978516,
          -0.4407103955745697,
          0.3316294550895691,
          11.7094087600708,
          -5.015645503997803,
          6.396613597869873,
          5.654891490936279,
          -1.563477873802185,
          14.305588722229004,
          10.93508529663086,
          -2.6563150882720947,
          14.139726638793945,
          10.821918487548828,
          9.657999992370605,
          5.532305717468262,
          13.7440767288208,
          13.019603729248047,
          10.375483512878418,
          11.661581993103027,
          1.3240184783935547,
          -5.113213539123535,
          5.863864421844482,
          -0.3640724718570709,
          10.495295524597168,
          5.913699150085449,
          2.4072864055633545,
          14.553686141967773,
          -0.5004811882972717,
          12.055692672729492,
          9.325641632080078,
          4.457085609436035,
          1.5967533588409424,
          -3.8845441341400146,
          -4.633710861206055,
          -2.9267354011535645,
          18.5153865814209,
          10.760493278503418,
          -2.965014934539795,
          -1.7792879343032837,
          13.810558319091797,
          -0.41440272331237793,
          12.898847579956055,
          -2.9061014652252197,
          10.712814331054688,
          -0.3895013630390167,
          6.804447650909424,
          -2.9715585708618164,
          -4.027477741241455,
          -3.8991804122924805,
          -2.0694775581359863,
          -1.8029595613479614,
          -3.299593210220337,
          3.732456922531128,
          -0.004503470379859209,
          12.948018074035645,
          15.153653144836426,
          0.8175362348556519,
          5.945288181304932,
          18.5592041015625,
          0.02475617453455925,
          10.527871131896973,
          10.254278182983398,
          5.844244956970215,
          18.54084014892578,
          -2.396838426589966,
          5.980538368225098,
          10.584090232849121,
          6.913529872894287,
          6.387554168701172,
          1.63642418384552,
          -0.35913458466529846,
          6.959388256072998,
          5.974233627319336,
          0.6092623472213745,
          5.985284328460693,
          6.188799858093262,
          14.930728912353516,
          -2.4921305179595947,
          11.114266395568848,
          5.2123942375183105,
          -2.6184394359588623,
          2.428431749343872,
          -3.7940008640289307,
          -1.6472479104995728,
          6.973346710205078,
          -3.9214322566986084,
          4.482850551605225,
          10.449599266052246,
          -0.02541676163673401,
          -3.7437479496002197,
          11.539658546447754,
          17.718595504760742,
          10.819284439086914,
          4.401214122772217,
          14.777981758117676,
          15.124505043029785,
          10.276026725769043,
          10.518511772155762,
          10.5750150680542,
          -1.5167107582092285,
          10.516709327697754,
          6.082092761993408,
          -2.0492050647735596,
          14.959807395935059,
          6.322715759277344,
          6.262897968292236,
          14.568792343139648,
          12.329731941223145,
          10.526449203491211,
          -2.790856122970581,
          14.808680534362793,
          0.5447711944580078,
          12.112482070922852,
          13.847318649291992,
          14.966686248779297,
          14.213179588317871,
          -3.7996387481689453,
          -3.230212926864624,
          5.792707920074463,
          1.072279453277588,
          14.66589641571045,
          -2.233443260192871,
          10.710466384887695,
          -1.5650795698165894,
          15.130565643310547,
          -5.283016204833984,
          14.279603958129883,
          5.357112407684326,
          -5.069546699523926,
          13.902112007141113,
          -1.7613155841827393,
          2.4874935150146484,
          10.300288200378418,
          10.364703178405762,
          -3.242438793182373,
          11.548765182495117,
          13.749744415283203,
          6.109736919403076,
          14.948363304138184,
          -5.164588451385498,
          11.576972961425781,
          -2.6780881881713867,
          11.3377103805542,
          -0.39661115407943726,
          10.436880111694336,
          7.030303001403809,
          14.654119491577148,
          10.490236282348633,
          -5.076159954071045,
          5.844480991363525,
          -1.7451212406158447,
          14.661922454833984,
          -3.004887819290161,
          -2.6352343559265137,
          6.39739465713501,
          10.437154769897461,
          10.561842918395996,
          -0.44137898087501526,
          -1.699220061302185,
          0.8115353584289551,
          1.610514760017395,
          0.47166767716407776,
          10.671399116516113,
          15.153926849365234,
          13.160314559936523,
          4.343223571777344,
          13.235060691833496,
          5.231087684631348,
          10.372197151184082,
          14.416444778442383,
          10.493204116821289,
          15.156018257141113,
          13.410186767578125,
          3.900283098220825,
          4.310503005981445,
          -2.6288790702819824,
          14.293991088867188,
          14.601036071777344,
          9.23422908782959,
          12.229747772216797,
          11.040884017944336,
          14.09726333618164,
          6.583096504211426,
          9.411331176757812,
          12.970978736877441,
          6.0253119468688965,
          -3.5900051593780518,
          0.7920008897781372,
          1.1446973085403442,
          12.289477348327637,
          0.9537715315818787,
          0.34523773193359375,
          1.605478286743164,
          10.478285789489746,
          9.758164405822754,
          -0.018293192610144615,
          5.963905334472656,
          14.627983093261719,
          10.269625663757324,
          18.52776336669922,
          1.6219693422317505,
          10.142622947692871,
          6.288169860839844,
          0.039092712104320526,
          -3.7144620418548584,
          15.154458999633789,
          11.186692237854004,
          11.645495414733887,
          14.718082427978516,
          10.332962989807129,
          5.201963424682617,
          2.4658405780792236,
          11.105853080749512,
          1.0822519063949585,
          3.7158281803131104,
          14.079493522644043,
          14.688008308410645,
          -2.8345487117767334,
          13.3365478515625,
          12.871706008911133,
          -2.6179349422454834,
          5.93727970123291,
          12.134127616882324,
          -2.3907597064971924,
          11.615498542785645,
          0.6301748752593994,
          14.3223876953125,
          6.412746429443359,
          -4.091963291168213,
          11.863125801086426,
          5.827167510986328,
          14.420000076293945,
          5.925014019012451,
          13.948358535766602,
          11.10433292388916,
          6.447970867156982,
          5.86083459854126,
          10.948741912841797,
          15.094239234924316,
          -4.033020973205566,
          11.330137252807617,
          0.29820123314857483,
          9.712074279785156,
          5.5832953453063965,
          -2.542151927947998,
          -2.992110252380371,
          10.722393035888672,
          -5.178132057189941,
          -0.4773573875427246,
          14.948723793029785,
          5.185621738433838,
          5.530149936676025,
          6.687352180480957,
          -1.9410299062728882,
          -1.3096917867660522,
          15.161961555480957,
          11.277059555053711,
          5.680546283721924,
          0.3853176534175873,
          3.856236219406128,
          9.242690086364746,
          15.027064323425293,
          9.73884105682373,
          -2.581714391708374,
          15.106060981750488,
          -5.048848628997803,
          10.081709861755371,
          5.825719833374023,
          -1.8841739892959595,
          10.166959762573242,
          -3.277971029281616,
          13.205110549926758,
          10.172860145568848,
          -5.106501579284668,
          6.844615459442139,
          -1.550815224647522,
          14.612242698669434,
          -5.110024452209473,
          14.174060821533203,
          5.233359336853027,
          11.623947143554688,
          14.683329582214355,
          3.782648801803589,
          -5.119372367858887,
          -1.407155990600586,
          6.083701133728027,
          10.991964340209961,
          11.333584785461426,
          -3.533106803894043,
          -1.3966305255889893,
          15.013911247253418,
          10.30216121673584,
          0.6652073860168457,
          10.743956565856934,
          10.807887077331543,
          12.14467716217041,
          -5.284790515899658,
          1.4871776103973389,
          -1.7132680416107178,
          10.23806381225586,
          12.996200561523438,
          6.10036039352417,
          0.03715011104941368,
          -1.6238633394241333,
          -5.1093878746032715,
          12.56137466430664,
          -2.593690872192383,
          10.788980484008789,
          10.30549430847168,
          10.185997009277344,
          14.745604515075684,
          0.368723601102829,
          10.677543640136719,
          10.56941032409668,
          -2.4795684814453125,
          11.133049011230469,
          10.415924072265625,
          6.006826877593994,
          -2.9462928771972656,
          1.4652637243270874,
          5.892852306365967,
          10.606815338134766,
          -3.810330629348755,
          14.485118865966797,
          -1.8507442474365234,
          10.460164070129395,
          -1.539855718612671,
          13.297069549560547,
          -0.43530091643333435,
          -4.492075443267822,
          -1.610999584197998,
          12.270894050598145,
          -3.2461342811584473,
          10.534074783325195,
          13.227787971496582,
          11.644440650939941,
          3.7198643684387207,
          2.571848154067993,
          -1.4629076719284058,
          -2.257988691329956,
          9.716287612915039,
          0.5299661159515381,
          -1.4157564640045166,
          -2.5750560760498047,
          -2.711420774459839,
          -2.937167167663574,
          -3.7972941398620605,
          9.244081497192383,
          1.1890668869018555,
          5.627514839172363,
          -1.7882028818130493
         ],
         "xaxis": "x",
         "y": [
          10.735587120056152,
          2.321746826171875,
          13.64407730102539,
          8.28396987915039,
          1.9461921453475952,
          11.343037605285645,
          6.089788913726807,
          6.138833999633789,
          2.150754928588867,
          4.67612886428833,
          10.880606651306152,
          7.859702110290527,
          8.855827331542969,
          11.29307746887207,
          8.226191520690918,
          13.390138626098633,
          9.206643104553223,
          13.624897956848145,
          11.091585159301758,
          11.452315330505371,
          13.477713584899902,
          14.635836601257324,
          13.336989402770996,
          11.484085083007812,
          13.34077262878418,
          5.821232318878174,
          14.082791328430176,
          8.294288635253906,
          6.954831600189209,
          10.514979362487793,
          7.383523941040039,
          6.473395824432373,
          13.402361869812012,
          11.8231840133667,
          10.349380493164062,
          11.408404350280762,
          10.490945816040039,
          8.099706649780273,
          6.247653961181641,
          2.123957872390747,
          11.64046573638916,
          -8.62457275390625,
          6.7110066413879395,
          2.7143614292144775,
          6.167912006378174,
          14.853839874267578,
          10.69858455657959,
          12.813563346862793,
          11.02404499053955,
          2.3186402320861816,
          11.862772941589355,
          13.277862548828125,
          12.011014938354492,
          9.743934631347656,
          11.040425300598145,
          5.014809608459473,
          4.771787643432617,
          6.550133228302002,
          13.430316925048828,
          9.137927055358887,
          13.311038970947266,
          1.699869990348816,
          5.100536823272705,
          12.211734771728516,
          4.951610088348389,
          10.331642150878906,
          8.935711860656738,
          11.133543014526367,
          12.358329772949219,
          14.354689598083496,
          7.44394063949585,
          6.917112827301025,
          8.767333030700684,
          12.044961929321289,
          14.976263046264648,
          7.811150550842285,
          2.2823472023010254,
          2.854940176010132,
          9.080534934997559,
          2.8794686794281006,
          14.3895902633667,
          13.623827934265137,
          14.78059196472168,
          13.563931465148926,
          7.332423686981201,
          9.331696510314941,
          -8.765125274658203,
          8.701197624206543,
          2.316077470779419,
          11.683709144592285,
          11.487589836120605,
          6.391291618347168,
          13.884559631347656,
          13.274096488952637,
          9.281784057617188,
          10.82182502746582,
          11.376800537109375,
          12.619386672973633,
          8.437173843383789,
          10.32919692993164,
          7.378252029418945,
          11.037313461303711,
          3.092120885848999,
          6.416260719299316,
          9.27566909790039,
          8.011544227600098,
          13.554817199707031,
          12.87873649597168,
          10.471400260925293,
          5.132752418518066,
          8.814787864685059,
          5.863613605499268,
          7.040561199188232,
          5.747758865356445,
          6.7783002853393555,
          13.945136070251465,
          9.68217658996582,
          9.102910995483398,
          9.991902351379395,
          11.784361839294434,
          5.00693941116333,
          9.843645095825195,
          9.631144523620605,
          12.354475021362305,
          13.2320556640625,
          8.419461250305176,
          7.892351150512695,
          13.218049049377441,
          6.869801044464111,
          10.364603042602539,
          -8.769912719726562,
          6.407276153564453,
          11.853102684020996,
          6.595093727111816,
          10.35082721710205,
          10.821610450744629,
          -8.803122520446777,
          10.892401695251465,
          10.59980583190918,
          7.315150260925293,
          11.878106117248535,
          9.986961364746094,
          4.583873271942139,
          12.596957206726074,
          11.211433410644531,
          13.319706916809082,
          12.835542678833008,
          10.876626968383789,
          6.691667556762695,
          13.4570951461792,
          5.072521209716797,
          11.827712059020996,
          4.690532207489014,
          7.32757568359375,
          8.318342208862305,
          6.916121482849121,
          6.270233631134033,
          11.482563972473145,
          10.87326431274414,
          7.330239295959473,
          4.749119281768799,
          10.476308822631836,
          13.913555145263672,
          13.536291122436523,
          14.51499080657959,
          13.327593803405762,
          9.336607933044434,
          8.462451934814453,
          10.49232292175293,
          8.265987396240234,
          9.249996185302734,
          1.818374514579773,
          7.359033107757568,
          13.358736991882324,
          9.689765930175781,
          9.696331977844238,
          13.310266494750977,
          10.722576141357422,
          12.964502334594727,
          9.872114181518555,
          14.59118366241455,
          11.817989349365234,
          14.520017623901367,
          10.939303398132324,
          6.739218235015869,
          9.199462890625,
          12.498824119567871,
          10.59722900390625,
          2.405463457107544,
          11.438881874084473,
          -8.799571990966797,
          11.652113914489746,
          6.181764602661133,
          9.837225914001465,
          13.360807418823242,
          11.661843299865723,
          10.748205184936523,
          6.9758782386779785,
          4.990275859832764,
          5.93165922164917,
          9.86977767944336,
          6.872155666351318,
          9.45007038116455,
          7.0969038009643555,
          13.261836051940918,
          13.621390342712402,
          11.453705787658691,
          9.192980766296387,
          10.671163558959961,
          6.1697893142700195,
          12.762275695800781,
          4.9927520751953125,
          5.175111293792725,
          10.2863130569458,
          8.295238494873047,
          11.812494277954102,
          6.45061731338501,
          10.85106086730957,
          9.164716720581055,
          9.073793411254883,
          8.234339714050293,
          9.195566177368164,
          4.948122501373291,
          6.179538249969482,
          6.288779258728027,
          7.190512180328369,
          9.798378944396973,
          6.148379802703857,
          6.208238124847412,
          2.9068634510040283,
          9.419984817504883,
          14.783541679382324,
          13.46647834777832,
          13.47126579284668,
          9.827083587646484,
          6.973391056060791,
          7.431860446929932,
          11.811710357666016,
          14.641206741333008,
          6.1537861824035645,
          13.318709373474121,
          13.45184326171875,
          13.598910331726074,
          7.20941162109375,
          11.891141891479492,
          1.878264307975769,
          7.779879570007324,
          8.581147193908691,
          8.464011192321777,
          12.574378967285156,
          5.388408660888672,
          7.208994388580322,
          10.705986976623535,
          7.1919965744018555,
          14.293452262878418,
          13.307202339172363,
          6.588322162628174,
          8.21402359008789,
          9.122673034667969,
          4.6899542808532715,
          14.569799423217773,
          10.630783081054688,
          7.443558692932129,
          6.0554118156433105,
          14.041418075561523,
          7.328647136688232,
          2.5948867797851562,
          7.991520881652832,
          5.843484401702881,
          11.451873779296875,
          12.586404800415039,
          11.832002639770508,
          14.812228202819824,
          11.026649475097656,
          10.897947311401367,
          13.837150573730469,
          11.412196159362793,
          10.358786582946777,
          8.377607345581055,
          14.246784210205078,
          5.628446102142334,
          13.516240119934082,
          2.2766590118408203,
          14.204940795898438,
          6.707770824432373,
          10.896812438964844,
          6.746935844421387,
          7.303075313568115,
          5.367674827575684,
          8.95059871673584,
          13.627232551574707,
          11.6293363571167,
          10.555442810058594,
          9.634671211242676,
          11.08529281616211,
          9.122678756713867,
          14.325448989868164,
          13.910309791564941,
          7.677910804748535,
          12.01456356048584,
          2.766166925430298,
          7.423760414123535,
          14.464574813842773,
          5.715921878814697,
          4.812660217285156,
          8.277810096740723,
          9.544967651367188,
          10.624205589294434,
          8.274246215820312,
          10.32247257232666,
          9.766438484191895,
          7.727415561676025,
          11.117522239685059,
          6.348945140838623,
          10.379602432250977,
          11.021300315856934,
          6.926916599273682,
          9.604499816894531,
          9.102123260498047,
          13.078248977661133,
          14.635056495666504,
          8.015166282653809,
          12.981786727905273,
          7.222752094268799,
          14.314682960510254,
          10.04444408416748,
          10.646254539489746,
          10.353845596313477,
          10.814754486083984,
          7.005863189697266,
          8.192233085632324,
          11.404601097106934,
          7.968427658081055,
          4.62160587310791,
          13.404407501220703,
          1.9376857280731201,
          8.762992858886719,
          10.77341079711914,
          11.369990348815918,
          14.1486234664917,
          6.953530311584473,
          6.223471164703369,
          10.334506034851074,
          8.565957069396973,
          8.370134353637695,
          9.301063537597656,
          11.349832534790039,
          6.210572719573975,
          5.805086135864258,
          13.4207181930542,
          5.753112316131592,
          11.952981948852539,
          8.701837539672852,
          14.13170337677002,
          11.955574989318848,
          4.568878173828125,
          5.226285934448242,
          13.919512748718262,
          6.1738810539245605,
          5.547280788421631,
          14.999873161315918,
          4.535364627838135,
          9.557476043701172,
          13.530487060546875,
          11.798049926757812,
          13.298359870910645,
          6.7845072746276855,
          10.70590591430664,
          9.724625587463379,
          5.122764587402344,
          8.25205135345459,
          7.955285549163818,
          8.031768798828125,
          4.5971150398254395,
          -8.714170455932617,
          9.842735290527344,
          4.988829612731934,
          9.829944610595703,
          10.335250854492188,
          11.25322151184082,
          2.386659860610962,
          10.146381378173828,
          5.940525531768799,
          8.78746509552002,
          13.587517738342285,
          11.3684663772583,
          10.320944786071777,
          2.2759382724761963,
          12.793415069580078,
          11.094611167907715,
          10.728301048278809,
          5.895653247833252,
          13.80615520477295,
          13.182126998901367,
          6.869233131408691,
          4.512948036193848,
          11.22591781616211,
          9.176726341247559,
          11.305540084838867,
          10.329851150512695,
          5.356103420257568,
          5.291371822357178,
          12.74842643737793,
          11.465574264526367,
          13.160911560058594,
          7.405494213104248,
          5.85664701461792,
          7.370574474334717,
          5.678426742553711,
          10.830583572387695,
          10.955814361572266,
          13.036003112792969,
          6.902657508850098,
          6.936856746673584,
          5.258031368255615,
          11.207073211669922,
          10.972538948059082,
          10.636762619018555,
          9.982705116271973,
          8.095475196838379,
          14.183137893676758,
          9.865592956542969,
          8.956140518188477,
          7.2913689613342285,
          6.157547473907471,
          6.41336727142334,
          13.45773696899414,
          10.629071235656738,
          8.041529655456543,
          13.402679443359375,
          13.343265533447266,
          13.387590408325195,
          5.807999610900879,
          10.816316604614258,
          13.36782169342041,
          7.7939605712890625,
          6.188973903656006,
          8.229853630065918,
          2.2818450927734375,
          5.058233261108398,
          2.375314474105835,
          4.977656364440918,
          5.872069835662842,
          7.103679656982422,
          10.710227966308594,
          8.27629280090332,
          11.167874336242676,
          6.41423225402832,
          11.31359577178955,
          10.95339298248291,
          2.4080421924591064,
          6.907857894897461,
          10.843433380126953,
          11.018882751464844,
          10.490448951721191,
          13.573748588562012,
          6.812081813812256,
          4.921136379241943,
          5.0787763595581055,
          8.723100662231445,
          6.971207618713379,
          7.535390377044678,
          10.897994995117188,
          11.466415405273438,
          8.277974128723145,
          11.905158042907715,
          11.7857084274292,
          11.549365043640137,
          6.883752822875977,
          14.649134635925293,
          11.858738899230957,
          5.933376312255859,
          6.480719089508057,
          2.292287826538086,
          5.516867637634277,
          6.284718990325928,
          11.901200294494629,
          5.256669521331787,
          2.9183716773986816,
          6.751319408416748,
          9.279023170471191,
          5.907133102416992,
          10.658418655395508,
          11.693583488464355,
          9.137550354003906,
          11.824662208557129,
          5.274111270904541,
          13.616008758544922,
          10.605557441711426,
          10.370857238769531,
          10.513684272766113,
          13.918307304382324,
          6.512346267700195,
          10.520641326904297,
          6.856174945831299,
          13.621472358703613,
          7.3293280601501465,
          11.429359436035156,
          13.279216766357422,
          8.229341506958008,
          14.641005516052246,
          10.96953296661377,
          12.904359817504883,
          9.842790603637695,
          6.319957256317139,
          11.67186164855957,
          9.78235912322998,
          10.334355354309082,
          9.815536499023438,
          10.360761642456055,
          5.919592380523682,
          2.2616822719573975,
          8.208601951599121,
          10.294136047363281,
          11.651019096374512,
          13.249444007873535,
          14.889989852905273,
          6.633221626281738,
          13.521918296813965,
          11.381678581237793,
          13.31466293334961,
          11.884899139404297,
          11.769493103027344,
          11.909699440002441,
          8.78950023651123,
          8.84141731262207,
          11.004467010498047,
          8.178143501281738,
          5.129465103149414,
          11.839020729064941,
          13.539843559265137,
          14.070209503173828,
          13.619141578674316,
          10.992294311523438,
          13.385924339294434,
          8.201525688171387,
          10.343555450439453,
          11.8934965133667,
          7.936488151550293,
          7.331111907958984,
          14.502412796020508,
          11.804710388183594,
          6.4010467529296875,
          11.889030456542969,
          2.9584617614746094,
          8.208707809448242,
          -8.6506929397583,
          7.434330463409424,
          2.7054433822631836,
          2.319390296936035,
          5.130712032318115,
          10.322284698486328,
          13.200858116149902,
          7.940859317779541,
          3.0360817909240723,
          10.859149932861328,
          12.105315208435059,
          8.485010147094727,
          14.668010711669922,
          6.345222473144531,
          13.77574634552002,
          4.943205833435059,
          14.982549667358398,
          8.675065040588379,
          10.740193367004395,
          6.974935054779053,
          5.765114784240723,
          5.071439743041992,
          5.1598711013793945,
          6.792781352996826,
          8.22413158416748,
          8.940546989440918,
          11.557260513305664,
          13.442270278930664,
          10.593297958374023,
          8.667977333068848,
          7.867241382598877,
          4.640535831451416,
          10.650982856750488,
          2.3116190433502197,
          6.427025318145752,
          1.7320680618286133,
          10.910353660583496,
          5.170239448547363,
          14.38351058959961,
          9.116307258605957,
          11.942594528198242,
          13.908625602722168,
          5.464568138122559,
          5.921335697174072,
          10.306875228881836,
          10.392532348632812,
          8.43798828125,
          12.663787841796875,
          11.8623628616333,
          9.30728816986084,
          10.572407722473145,
          5.834609031677246,
          11.439776420593262,
          8.988892555236816,
          10.639764785766602,
          8.725319862365723,
          2.8422493934631348,
          9.772153854370117,
          13.940488815307617,
          8.072308540344238,
          7.12994909286499,
          14.562435150146484,
          -8.793387413024902,
          11.921332359313965,
          5.20096492767334,
          10.598133087158203,
          11.172039031982422,
          7.017612457275391,
          14.08334732055664,
          7.82771110534668,
          13.333345413208008,
          11.715332984924316,
          11.842494010925293,
          9.768407821655273,
          13.21509838104248,
          10.872282981872559,
          7.404270172119141,
          14.982060432434082,
          4.918410778045654,
          13.05231761932373,
          4.658424377441406,
          6.45441198348999,
          6.483083724975586,
          14.981935501098633,
          12.703250885009766,
          6.333614826202393,
          13.500810623168945,
          13.513935089111328,
          5.797077178955078,
          14.8181791305542,
          8.848149299621582,
          8.291815757751465,
          13.948796272277832,
          12.84302806854248,
          9.424922943115234,
          9.735018730163574,
          8.513137817382812,
          2.717590093612671,
          11.359697341918945,
          10.966733932495117,
          5.094991207122803,
          14.230018615722656,
          4.663619518280029,
          13.32411003112793,
          10.830994606018066,
          6.339545249938965,
          8.9764986038208,
          5.579129219055176,
          6.201809406280518,
          6.19512939453125,
          6.807650089263916,
          11.460186004638672,
          4.589722633361816,
          12.91641616821289,
          9.333941459655762,
          10.845146179199219,
          6.3847880363464355,
          13.027350425720215,
          7.367681503295898,
          8.549385070800781,
          -8.735145568847656,
          6.257098197937012,
          11.678153991699219,
          6.369970798492432,
          11.627310752868652,
          4.792490482330322,
          7.770559787750244,
          11.901098251342773,
          -8.774734497070312,
          13.140358924865723,
          10.320005416870117,
          9.76904296875,
          4.769018173217773,
          10.891077041625977,
          2.195685386657715,
          5.881498336791992,
          11.218218803405762,
          8.97921085357666,
          6.555976390838623,
          11.790606498718262,
          10.90750503540039,
          5.724392414093018,
          5.1229119300842285,
          7.342462062835693,
          4.937978744506836,
          11.868697166442871,
          6.490022659301758,
          6.062609672546387,
          14.401881217956543,
          10.350342750549316,
          1.7221845388412476,
          11.830116271972656,
          15.027012825012207,
          1.7678399085998535,
          -8.595009803771973,
          13.508692741394043,
          11.427410125732422,
          6.412643909454346,
          5.8702712059021,
          7.047762870788574,
          14.353997230529785,
          11.040250778198242,
          10.592482566833496,
          12.758920669555664,
          8.187943458557129,
          12.861883163452148,
          11.19287395477295,
          11.16088581085205,
          4.935427665710449,
          10.420116424560547,
          11.896614074707031,
          13.139871597290039,
          12.923384666442871,
          11.792781829833984,
          2.74462890625,
          12.76912784576416,
          11.289518356323242,
          11.000072479248047,
          13.400335311889648,
          12.502205848693848,
          10.331831932067871,
          7.333298206329346,
          10.070368766784668,
          11.67456340789795,
          11.479640007019043,
          13.322389602661133,
          1.9289058446884155,
          8.231788635253906,
          10.010575294494629,
          13.18904972076416,
          5.0425639152526855,
          1.7051409482955933,
          8.214523315429688,
          13.063684463500977,
          2.31976580619812,
          5.631727695465088,
          2.9374454021453857,
          3.091661214828491,
          14.28880500793457,
          11.830360412597656,
          2.8440964221954346,
          5.7928056716918945,
          13.861074447631836,
          2.3671023845672607,
          2.781174659729004,
          7.973636627197266,
          10.880598068237305,
          6.449836254119873,
          6.669292449951172,
          10.758556365966797,
          -8.61506175994873,
          11.382967948913574,
          11.147489547729492,
          2.8820908069610596,
          11.335461616516113,
          6.815158843994141,
          14.964986801147461,
          10.088123321533203,
          11.132522583007812,
          8.519735336303711,
          10.634298324584961,
          8.768733978271484,
          6.909488201141357,
          8.297019958496094,
          11.413928985595703,
          5.0140252113342285,
          14.988564491271973,
          13.108640670776367,
          11.24104118347168,
          8.679027557373047,
          2.1427905559539795,
          10.021546363830566,
          7.355913162231445,
          3.080650568008423,
          2.8462376594543457,
          6.879312992095947,
          4.967985153198242,
          13.2474365234375,
          13.590401649475098,
          7.340022087097168,
          9.58940315246582,
          6.326249599456787,
          4.931874752044678,
          7.769943714141846,
          11.112078666687012,
          10.421483039855957,
          10.363570213317871,
          6.101564407348633,
          14.186972618103027,
          13.606709480285645,
          11.67444133758545,
          8.640162467956543,
          11.211641311645508,
          11.473041534423828,
          10.905091285705566,
          9.034784317016602,
          6.530185699462891,
          2.3884270191192627,
          11.614871978759766,
          13.241984367370605,
          -8.6751127243042,
          6.1897993087768555,
          6.240377902984619,
          10.368683815002441,
          9.421767234802246,
          5.021389007568359,
          6.415389537811279,
          7.389994144439697,
          10.829967498779297,
          9.390721321105957,
          12.585556030273438,
          5.430485725402832,
          11.770302772521973,
          6.808764934539795,
          2.8862552642822266,
          13.566804885864258,
          6.384119510650635,
          10.309919357299805,
          1.7095632553100586,
          9.71451473236084,
          13.600844383239746,
          11.906250953674316,
          11.83335018157959,
          2.8767693042755127,
          8.608388900756836,
          7.0055413246154785,
          11.660123825073242,
          9.813539505004883,
          13.38031005859375,
          14.161880493164062,
          9.665245056152344,
          8.678550720214844,
          11.41245174407959,
          8.857069969177246,
          6.947514057159424,
          8.950705528259277,
          6.44106388092041,
          6.07019567489624,
          8.942167282104492,
          8.645612716674805,
          11.499922752380371,
          9.116816520690918,
          7.176956653594971,
          6.941202163696289,
          10.349202156066895,
          9.02286148071289,
          7.094310760498047,
          5.851490020751953,
          5.153796672821045,
          7.24785041809082,
          10.92195987701416,
          2.6999409198760986,
          5.898275852203369,
          11.68156909942627,
          2.2768359184265137,
          11.381628036499023,
          13.841694831848145,
          13.939393043518066,
          4.962106227874756,
          13.31601333618164,
          13.635509490966797,
          14.295877456665039,
          14.992915153503418,
          5.1257219314575195,
          9.849892616271973,
          5.796563148498535,
          13.533621788024902,
          5.071235179901123,
          8.201528549194336,
          14.331631660461426,
          5.35847806930542,
          3.12332820892334,
          9.820059776306152,
          10.349381446838379,
          11.495501518249512,
          6.669048309326172,
          6.450344562530518,
          7.3140668869018555,
          8.21554946899414,
          6.934845447540283,
          -8.653512001037598,
          9.1585111618042,
          14.241422653198242,
          7.346541881561279,
          10.877707481384277,
          8.72488784790039,
          12.017067909240723,
          11.778718948364258,
          11.745994567871094,
          10.347249984741211,
          1.804494857788086,
          4.589339733123779,
          12.70757007598877,
          9.416497230529785,
          13.890461921691895,
          9.035845756530762,
          2.183044195175171,
          11.263734817504883,
          8.979121208190918,
          7.398582935333252,
          11.322620391845703,
          1.7996598482131958,
          11.063698768615723,
          6.6179399490356445,
          3.0237131118774414,
          7.466789245605469,
          6.1135711669921875,
          7.791829586029053,
          11.278925895690918,
          8.10975170135498,
          9.804325103759766,
          5.172808647155762,
          6.165764331817627,
          10.85655689239502,
          12.525748252868652,
          12.91486930847168,
          2.285404920578003,
          10.5369234085083,
          7.388136386871338,
          6.637477397918701,
          5.962442874908447,
          2.9515445232391357,
          13.29192066192627,
          13.614387512207031,
          11.505844116210938,
          7.980939865112305,
          7.430123805999756,
          9.744012832641602,
          7.219992160797119,
          5.820615768432617,
          7.8214006423950195,
          5.166201114654541,
          12.682565689086914,
          11.45809268951416,
          2.408264636993408,
          7.241339683532715,
          6.032742500305176,
          9.86870002746582,
          7.777664661407471,
          10.931947708129883,
          8.880393981933594,
          8.33227252960205,
          10.837347984313965,
          2.835301160812378,
          9.876025199890137,
          6.928467273712158,
          10.797757148742676,
          9.17206859588623,
          6.938415050506592,
          4.80409049987793,
          13.634573936462402,
          7.288646221160889,
          2.3401811122894287,
          13.869904518127441,
          2.1825907230377197,
          6.0830183029174805,
          8.324621200561523,
          11.403579711914062,
          13.9014310836792,
          7.862904071807861,
          7.780004978179932,
          13.925135612487793,
          12.874085426330566,
          12.821685791015625,
          4.58160400390625,
          10.903704643249512,
          14.044676780700684,
          9.72410774230957,
          5.845632553100586,
          11.641789436340332,
          6.3700103759765625,
          9.992128372192383,
          13.256669998168945,
          10.857864379882812,
          12.082802772521973,
          11.863950729370117,
          8.723395347595215,
          5.083169937133789,
          7.772792816162109,
          8.149771690368652,
          13.714138984680176,
          6.590708255767822,
          14.516921043395996,
          12.570683479309082,
          6.7235212326049805,
          6.516790390014648,
          2.2937140464782715,
          12.638569831848145,
          14.039865493774414,
          1.7556264400482178,
          14.503350257873535,
          10.436627388000488,
          6.760593414306641,
          11.117228507995605,
          13.28646183013916,
          13.297348976135254,
          11.725878715515137,
          11.752165794372559,
          10.595267295837402,
          9.876399993896484,
          4.717360496520996,
          11.01137638092041,
          13.194578170776367,
          8.920321464538574,
          9.280925750732422,
          7.341291427612305,
          -8.758496284484863,
          13.957481384277344,
          11.818645477294922,
          5.11221170425415,
          9.607298851013184,
          13.923287391662598,
          12.885824203491211,
          13.406700134277344,
          11.865265846252441,
          10.392837524414062,
          5.857998371124268,
          13.949163436889648,
          6.19260835647583,
          9.796881675720215
         ],
         "yaxis": "y"
        }
       ],
       "layout": {
        "coloraxis": {
         "colorbar": {
          "title": {
           "text": "Label"
          }
         },
         "colorscale": [
          [
           0,
           "#0d0887"
          ],
          [
           0.1111111111111111,
           "#46039f"
          ],
          [
           0.2222222222222222,
           "#7201a8"
          ],
          [
           0.3333333333333333,
           "#9c179e"
          ],
          [
           0.4444444444444444,
           "#bd3786"
          ],
          [
           0.5555555555555556,
           "#d8576b"
          ],
          [
           0.6666666666666666,
           "#ed7953"
          ],
          [
           0.7777777777777778,
           "#fb9f3a"
          ],
          [
           0.8888888888888888,
           "#fdca26"
          ],
          [
           1,
           "#f0f921"
          ]
         ]
        },
        "height": 800,
        "legend": {
         "tracegroupgap": 0
        },
        "template": {
         "data": {
          "bar": [
           {
            "error_x": {
             "color": "#2a3f5f"
            },
            "error_y": {
             "color": "#2a3f5f"
            },
            "marker": {
             "line": {
              "color": "#E5ECF6",
              "width": 0.5
             }
            },
            "type": "bar"
           }
          ],
          "barpolar": [
           {
            "marker": {
             "line": {
              "color": "#E5ECF6",
              "width": 0.5
             }
            },
            "type": "barpolar"
           }
          ],
          "carpet": [
           {
            "aaxis": {
             "endlinecolor": "#2a3f5f",
             "gridcolor": "white",
             "linecolor": "white",
             "minorgridcolor": "white",
             "startlinecolor": "#2a3f5f"
            },
            "baxis": {
             "endlinecolor": "#2a3f5f",
             "gridcolor": "white",
             "linecolor": "white",
             "minorgridcolor": "white",
             "startlinecolor": "#2a3f5f"
            },
            "type": "carpet"
           }
          ],
          "choropleth": [
           {
            "colorbar": {
             "outlinewidth": 0,
             "ticks": ""
            },
            "type": "choropleth"
           }
          ],
          "contour": [
           {
            "colorbar": {
             "outlinewidth": 0,
             "ticks": ""
            },
            "colorscale": [
             [
              0,
              "#0d0887"
             ],
             [
              0.1111111111111111,
              "#46039f"
             ],
             [
              0.2222222222222222,
              "#7201a8"
             ],
             [
              0.3333333333333333,
              "#9c179e"
             ],
             [
              0.4444444444444444,
              "#bd3786"
             ],
             [
              0.5555555555555556,
              "#d8576b"
             ],
             [
              0.6666666666666666,
              "#ed7953"
             ],
             [
              0.7777777777777778,
              "#fb9f3a"
             ],
             [
              0.8888888888888888,
              "#fdca26"
             ],
             [
              1,
              "#f0f921"
             ]
            ],
            "type": "contour"
           }
          ],
          "contourcarpet": [
           {
            "colorbar": {
             "outlinewidth": 0,
             "ticks": ""
            },
            "type": "contourcarpet"
           }
          ],
          "heatmap": [
           {
            "colorbar": {
             "outlinewidth": 0,
             "ticks": ""
            },
            "colorscale": [
             [
              0,
              "#0d0887"
             ],
             [
              0.1111111111111111,
              "#46039f"
             ],
             [
              0.2222222222222222,
              "#7201a8"
             ],
             [
              0.3333333333333333,
              "#9c179e"
             ],
             [
              0.4444444444444444,
              "#bd3786"
             ],
             [
              0.5555555555555556,
              "#d8576b"
             ],
             [
              0.6666666666666666,
              "#ed7953"
             ],
             [
              0.7777777777777778,
              "#fb9f3a"
             ],
             [
              0.8888888888888888,
              "#fdca26"
             ],
             [
              1,
              "#f0f921"
             ]
            ],
            "type": "heatmap"
           }
          ],
          "heatmapgl": [
           {
            "colorbar": {
             "outlinewidth": 0,
             "ticks": ""
            },
            "colorscale": [
             [
              0,
              "#0d0887"
             ],
             [
              0.1111111111111111,
              "#46039f"
             ],
             [
              0.2222222222222222,
              "#7201a8"
             ],
             [
              0.3333333333333333,
              "#9c179e"
             ],
             [
              0.4444444444444444,
              "#bd3786"
             ],
             [
              0.5555555555555556,
              "#d8576b"
             ],
             [
              0.6666666666666666,
              "#ed7953"
             ],
             [
              0.7777777777777778,
              "#fb9f3a"
             ],
             [
              0.8888888888888888,
              "#fdca26"
             ],
             [
              1,
              "#f0f921"
             ]
            ],
            "type": "heatmapgl"
           }
          ],
          "histogram": [
           {
            "marker": {
             "colorbar": {
              "outlinewidth": 0,
              "ticks": ""
             }
            },
            "type": "histogram"
           }
          ],
          "histogram2d": [
           {
            "colorbar": {
             "outlinewidth": 0,
             "ticks": ""
            },
            "colorscale": [
             [
              0,
              "#0d0887"
             ],
             [
              0.1111111111111111,
              "#46039f"
             ],
             [
              0.2222222222222222,
              "#7201a8"
             ],
             [
              0.3333333333333333,
              "#9c179e"
             ],
             [
              0.4444444444444444,
              "#bd3786"
             ],
             [
              0.5555555555555556,
              "#d8576b"
             ],
             [
              0.6666666666666666,
              "#ed7953"
             ],
             [
              0.7777777777777778,
              "#fb9f3a"
             ],
             [
              0.8888888888888888,
              "#fdca26"
             ],
             [
              1,
              "#f0f921"
             ]
            ],
            "type": "histogram2d"
           }
          ],
          "histogram2dcontour": [
           {
            "colorbar": {
             "outlinewidth": 0,
             "ticks": ""
            },
            "colorscale": [
             [
              0,
              "#0d0887"
             ],
             [
              0.1111111111111111,
              "#46039f"
             ],
             [
              0.2222222222222222,
              "#7201a8"
             ],
             [
              0.3333333333333333,
              "#9c179e"
             ],
             [
              0.4444444444444444,
              "#bd3786"
             ],
             [
              0.5555555555555556,
              "#d8576b"
             ],
             [
              0.6666666666666666,
              "#ed7953"
             ],
             [
              0.7777777777777778,
              "#fb9f3a"
             ],
             [
              0.8888888888888888,
              "#fdca26"
             ],
             [
              1,
              "#f0f921"
             ]
            ],
            "type": "histogram2dcontour"
           }
          ],
          "mesh3d": [
           {
            "colorbar": {
             "outlinewidth": 0,
             "ticks": ""
            },
            "type": "mesh3d"
           }
          ],
          "parcoords": [
           {
            "line": {
             "colorbar": {
              "outlinewidth": 0,
              "ticks": ""
             }
            },
            "type": "parcoords"
           }
          ],
          "pie": [
           {
            "automargin": true,
            "type": "pie"
           }
          ],
          "scatter": [
           {
            "marker": {
             "colorbar": {
              "outlinewidth": 0,
              "ticks": ""
             }
            },
            "type": "scatter"
           }
          ],
          "scatter3d": [
           {
            "line": {
             "colorbar": {
              "outlinewidth": 0,
              "ticks": ""
             }
            },
            "marker": {
             "colorbar": {
              "outlinewidth": 0,
              "ticks": ""
             }
            },
            "type": "scatter3d"
           }
          ],
          "scattercarpet": [
           {
            "marker": {
             "colorbar": {
              "outlinewidth": 0,
              "ticks": ""
             }
            },
            "type": "scattercarpet"
           }
          ],
          "scattergeo": [
           {
            "marker": {
             "colorbar": {
              "outlinewidth": 0,
              "ticks": ""
             }
            },
            "type": "scattergeo"
           }
          ],
          "scattergl": [
           {
            "marker": {
             "colorbar": {
              "outlinewidth": 0,
              "ticks": ""
             }
            },
            "type": "scattergl"
           }
          ],
          "scattermapbox": [
           {
            "marker": {
             "colorbar": {
              "outlinewidth": 0,
              "ticks": ""
             }
            },
            "type": "scattermapbox"
           }
          ],
          "scatterpolar": [
           {
            "marker": {
             "colorbar": {
              "outlinewidth": 0,
              "ticks": ""
             }
            },
            "type": "scatterpolar"
           }
          ],
          "scatterpolargl": [
           {
            "marker": {
             "colorbar": {
              "outlinewidth": 0,
              "ticks": ""
             }
            },
            "type": "scatterpolargl"
           }
          ],
          "scatterternary": [
           {
            "marker": {
             "colorbar": {
              "outlinewidth": 0,
              "ticks": ""
             }
            },
            "type": "scatterternary"
           }
          ],
          "surface": [
           {
            "colorbar": {
             "outlinewidth": 0,
             "ticks": ""
            },
            "colorscale": [
             [
              0,
              "#0d0887"
             ],
             [
              0.1111111111111111,
              "#46039f"
             ],
             [
              0.2222222222222222,
              "#7201a8"
             ],
             [
              0.3333333333333333,
              "#9c179e"
             ],
             [
              0.4444444444444444,
              "#bd3786"
             ],
             [
              0.5555555555555556,
              "#d8576b"
             ],
             [
              0.6666666666666666,
              "#ed7953"
             ],
             [
              0.7777777777777778,
              "#fb9f3a"
             ],
             [
              0.8888888888888888,
              "#fdca26"
             ],
             [
              1,
              "#f0f921"
             ]
            ],
            "type": "surface"
           }
          ],
          "table": [
           {
            "cells": {
             "fill": {
              "color": "#EBF0F8"
             },
             "line": {
              "color": "white"
             }
            },
            "header": {
             "fill": {
              "color": "#C8D4E3"
             },
             "line": {
              "color": "white"
             }
            },
            "type": "table"
           }
          ]
         },
         "layout": {
          "annotationdefaults": {
           "arrowcolor": "#2a3f5f",
           "arrowhead": 0,
           "arrowwidth": 1
          },
          "coloraxis": {
           "colorbar": {
            "outlinewidth": 0,
            "ticks": ""
           }
          },
          "colorscale": {
           "diverging": [
            [
             0,
             "#8e0152"
            ],
            [
             0.1,
             "#c51b7d"
            ],
            [
             0.2,
             "#de77ae"
            ],
            [
             0.3,
             "#f1b6da"
            ],
            [
             0.4,
             "#fde0ef"
            ],
            [
             0.5,
             "#f7f7f7"
            ],
            [
             0.6,
             "#e6f5d0"
            ],
            [
             0.7,
             "#b8e186"
            ],
            [
             0.8,
             "#7fbc41"
            ],
            [
             0.9,
             "#4d9221"
            ],
            [
             1,
             "#276419"
            ]
           ],
           "sequential": [
            [
             0,
             "#0d0887"
            ],
            [
             0.1111111111111111,
             "#46039f"
            ],
            [
             0.2222222222222222,
             "#7201a8"
            ],
            [
             0.3333333333333333,
             "#9c179e"
            ],
            [
             0.4444444444444444,
             "#bd3786"
            ],
            [
             0.5555555555555556,
             "#d8576b"
            ],
            [
             0.6666666666666666,
             "#ed7953"
            ],
            [
             0.7777777777777778,
             "#fb9f3a"
            ],
            [
             0.8888888888888888,
             "#fdca26"
            ],
            [
             1,
             "#f0f921"
            ]
           ],
           "sequentialminus": [
            [
             0,
             "#0d0887"
            ],
            [
             0.1111111111111111,
             "#46039f"
            ],
            [
             0.2222222222222222,
             "#7201a8"
            ],
            [
             0.3333333333333333,
             "#9c179e"
            ],
            [
             0.4444444444444444,
             "#bd3786"
            ],
            [
             0.5555555555555556,
             "#d8576b"
            ],
            [
             0.6666666666666666,
             "#ed7953"
            ],
            [
             0.7777777777777778,
             "#fb9f3a"
            ],
            [
             0.8888888888888888,
             "#fdca26"
            ],
            [
             1,
             "#f0f921"
            ]
           ]
          },
          "colorway": [
           "#636efa",
           "#EF553B",
           "#00cc96",
           "#ab63fa",
           "#FFA15A",
           "#19d3f3",
           "#FF6692",
           "#B6E880",
           "#FF97FF",
           "#FECB52"
          ],
          "font": {
           "color": "#2a3f5f"
          },
          "geo": {
           "bgcolor": "white",
           "lakecolor": "white",
           "landcolor": "#E5ECF6",
           "showlakes": true,
           "showland": true,
           "subunitcolor": "white"
          },
          "hoverlabel": {
           "align": "left"
          },
          "hovermode": "closest",
          "mapbox": {
           "style": "light"
          },
          "paper_bgcolor": "white",
          "plot_bgcolor": "#E5ECF6",
          "polar": {
           "angularaxis": {
            "gridcolor": "white",
            "linecolor": "white",
            "ticks": ""
           },
           "bgcolor": "#E5ECF6",
           "radialaxis": {
            "gridcolor": "white",
            "linecolor": "white",
            "ticks": ""
           }
          },
          "scene": {
           "xaxis": {
            "backgroundcolor": "#E5ECF6",
            "gridcolor": "white",
            "gridwidth": 2,
            "linecolor": "white",
            "showbackground": true,
            "ticks": "",
            "zerolinecolor": "white"
           },
           "yaxis": {
            "backgroundcolor": "#E5ECF6",
            "gridcolor": "white",
            "gridwidth": 2,
            "linecolor": "white",
            "showbackground": true,
            "ticks": "",
            "zerolinecolor": "white"
           },
           "zaxis": {
            "backgroundcolor": "#E5ECF6",
            "gridcolor": "white",
            "gridwidth": 2,
            "linecolor": "white",
            "showbackground": true,
            "ticks": "",
            "zerolinecolor": "white"
           }
          },
          "shapedefaults": {
           "line": {
            "color": "#2a3f5f"
           }
          },
          "ternary": {
           "aaxis": {
            "gridcolor": "white",
            "linecolor": "white",
            "ticks": ""
           },
           "baxis": {
            "gridcolor": "white",
            "linecolor": "white",
            "ticks": ""
           },
           "bgcolor": "#E5ECF6",
           "caxis": {
            "gridcolor": "white",
            "linecolor": "white",
            "ticks": ""
           }
          },
          "title": {
           "x": 0.05
          },
          "xaxis": {
           "automargin": true,
           "gridcolor": "white",
           "linecolor": "white",
           "ticks": "",
           "title": {
            "standoff": 15
           },
           "zerolinecolor": "white",
           "zerolinewidth": 2
          },
          "yaxis": {
           "automargin": true,
           "gridcolor": "white",
           "linecolor": "white",
           "ticks": "",
           "title": {
            "standoff": 15
           },
           "zerolinecolor": "white",
           "zerolinewidth": 2
          }
         }
        },
        "title": {
         "text": "uMAP Plot for Outliers"
        },
        "width": 900,
        "xaxis": {
         "anchor": "y",
         "domain": [
          0,
          1
         ],
         "title": {
          "text": "0"
         }
        },
        "yaxis": {
         "anchor": "x",
         "domain": [
          0,
          1
         ],
         "title": {
          "text": "1"
         }
        }
       }
      },
      "text/html": [
       "<div>\n",
       "        \n",
       "        \n",
       "            <div id=\"8b718dd6-c71c-45e7-8a97-ca59a2ac4703\" class=\"plotly-graph-div\" style=\"height:800px; width:900px;\"></div>\n",
       "            <script type=\"text/javascript\">\n",
       "                require([\"plotly\"], function(Plotly) {\n",
       "                    window.PLOTLYENV=window.PLOTLYENV || {};\n",
       "                    \n",
       "                if (document.getElementById(\"8b718dd6-c71c-45e7-8a97-ca59a2ac4703\")) {\n",
       "                    Plotly.newPlot(\n",
       "                        '8b718dd6-c71c-45e7-8a97-ca59a2ac4703',\n",
       "                        [{\"customdata\": [[\"50810F_4\"], [\"3516_9\"], [\"3411_12\"], [\"3416_4\"], [\"J1291_2\"], [\"3429_2\"], [\"3491_2\"], [\"3491_4\"], [\"J3295_7\"], [\"50810C_9\"], [\"3525_14\"], [\"3414_12\"], [\"3504_5\"], [\"294_9\"], [\"3484_6\"], [\"3422_14\"], [\"3479_4\"], [\"3488_1\"], [\"50810B_13\"], [\"3498_9\"], [\"321_12\"], [\"322_11\"], [\"3481_6\"], [\"3497_14\"], [\"3490_4\"], [\"3426_13\"], [\"3606_13\"], [\"3484_12\"], [\"3517_10\"], [\"3501_11\"], [\"3505_12\"], [\"361_5\"], [\"321_7\"], [\"364_8\"], [\"3412_10\"], [\"3429_3\"], [\"3501_12\"], [\"3415_12\"], [\"3477_10\"], [\"J3295_12\"], [\"3497_15\"], [\"293_2\"], [\"361_3\"], [\"3421_10\"], [\"3491_3\"], [\"3507_5\"], [\"3415_14\"], [\"320_2\"], [\"3530_8\"], [\"3516_4\"], [\"3413_13\"], [\"3481_14\"], [\"3497_7\"], [\"3419_5\"], [\"3429_7\"], [\"18899_5\"], [\"50810E_4\"], [\"3522_1\"], [\"3423_4\"], [\"3483_13\"], [\"3422_6\"], [\"J1291_13\"], [\"363_3\"], [\"365_5\"], [\"18899_15\"], [\"3605_10\"], [\"3483_7\"], [\"3424_13\"], [\"3490_7\"], [\"3606_1\"], [\"J2292_6\"], [\"3513_10\"], [\"3416_12\"], [\"3497_3\"], [\"3507_9\"], [\"3414_9\"], [\"J3295_10\"], [\"3421_5\"], [\"3483_12\"], [\"3421_1\"], [\"362_2\"], [\"3417_12\"], [\"3507_3\"], [\"321_15\"], [\"3418_12\"], [\"3480_7\"], [\"293_14\"], [\"50810A_15\"], [\"J3295_5\"], [\"311_9\"], [\"50810B_5\"], [\"3521_7\"], [\"3488_7\"], [\"3422_5\"], [\"3480_11\"], [\"3525_5\"], [\"3498_3\"], [\"3423_15\"], [\"3499_12\"], [\"3412_14\"], [\"J2292_7\"], [\"3530_9\"], [\"3425_1\"], [\"3491_10\"], [\"3479_7\"], [\"3414_15\"], [\"3490_3\"], [\"321_5\"], [\"3605_2\"], [\"363_6\"], [\"3504_4\"], [\"3426_6\"], [\"3415_2\"], [\"3426_11\"], [\"309_11\"], [\"3411_1\"], [\"3419_4\"], [\"3479_5\"], [\"3419_14\"], [\"365_6\"], [\"18899_8\"], [\"3420_9\"], [\"3503_8\"], [\"3489_14\"], [\"3424_3\"], [\"3499_7\"], [\"3415_9\"], [\"3423_9\"], [\"3517_4\"], [\"3605_7\"], [\"293_9\"], [\"3491_14\"], [\"365_8\"], [\"3521_5\"], [\"3501_9\"], [\"3502_10\"], [\"293_11\"], [\"3525_12\"], [\"50810F_13\"], [\"3415_4\"], [\"3490_14\"], [\"3419_15\"], [\"50810C_10\"], [\"3423_13\"], [\"3534_2\"], [\"320_10\"], [\"320_1\"], [\"3525_7\"], [\"3521_2\"], [\"321_10\"], [\"18899_2\"], [\"364_4\"], [\"50810C_8\"], [\"J2292_14\"], [\"50810A_9\"], [\"309_4\"], [\"3477_8\"], [\"365_14\"], [\"3525_15\"], [\"3505_11\"], [\"50810E_5\"], [\"3501_7\"], [\"3488_13\"], [\"321_14\"], [\"322_4\"], [\"3422_1\"], [\"3480_8\"], [\"3499_11\"], [\"3412_4\"], [\"3416_3\"], [\"3479_3\"], [\"J1291_5\"], [\"J2292_12\"], [\"3490_5\"], [\"3503_4\"], [\"3503_5\"], [\"3422_8\"], [\"50810F_1\"], [\"3489_4\"], [\"3420_1\"], [\"322_7\"], [\"365_10\"], [\"322_8\"], [\"3502_13\"], [\"309_13\"], [\"3479_2\"], [\"3489_13\"], [\"50810F_11\"], [\"3516_15\"], [\"50810B_9\"], [\"293_12\"], [\"3413_5\"], [\"3478_5\"], [\"3420_6\"], [\"3422_11\"], [\"365_15\"], [\"3525_3\"], [\"3517_14\"], [\"18899_9\"], [\"3476_15\"], [\"3500_7\"], [\"3517_1\"], [\"3480_2\"], [\"309_3\"], [\"3481_15\"], [\"3411_13\"], [\"3534_7\"], [\"3483_10\"], [\"3525_2\"], [\"3478_4\"], [\"3489_7\"], [\"18899_4\"], [\"50810C_2\"], [\"3501_4\"], [\"50810D_5\"], [\"364_6\"], [\"3513_5\"], [\"3429_14\"], [\"3504_15\"], [\"3483_15\"], [\"3416_7\"], [\"3479_13\"], [\"18899_14\"], [\"3477_13\"], [\"3477_9\"], [\"3418_2\"], [\"3500_13\"], [\"3478_9\"], [\"3477_7\"], [\"3425_9\"], [\"3480_6\"], [\"3507_2\"], [\"3417_6\"], [\"321_11\"], [\"3420_4\"], [\"3520_1\"], [\"J2292_3\"], [\"311_11\"], [\"322_13\"], [\"3491_1\"], [\"320_15\"], [\"3417_3\"], [\"3488_3\"], [\"3418_6\"], [\"364_11\"], [\"J1291_4\"], [\"50810A_1\"], [\"50810D_9\"], [\"50810D_7\"], [\"365_2\"], [\"3478_14\"], [\"3418_5\"], [\"50810F_5\"], [\"3418_3\"], [\"362_6\"], [\"3481_11\"], [\"3522_2\"], [\"3484_2\"], [\"3480_15\"], [\"50810E_11\"], [\"322_1\"], [\"50810F_9\"], [\"3499_3\"], [\"361_8\"], [\"362_11\"], [\"3418_11\"], [\"3421_15\"], [\"50810A_5\"], [\"3478_7\"], [\"3413_3\"], [\"3489_10\"], [\"365_12\"], [\"3507_6\"], [\"50810B_12\"], [\"50810B_11\"], [\"3488_12\"], [\"3498_1\"], [\"3605_8\"], [\"3416_1\"], [\"362_7\"], [\"361_14\"], [\"3490_1\"], [\"3516_2\"], [\"3606_8\"], [\"3521_3\"], [\"50810B_10\"], [\"3513_9\"], [\"3476_1\"], [\"3478_13\"], [\"3504_7\"], [\"3417_15\"], [\"311_15\"], [\"3412_1\"], [\"3503_9\"], [\"3424_14\"], [\"3479_15\"], [\"3606_4\"], [\"3411_9\"], [\"3414_3\"], [\"3497_6\"], [\"3421_9\"], [\"J2292_4\"], [\"322_6\"], [\"3426_8\"], [\"50810E_14\"], [\"3484_8\"], [\"3503_15\"], [\"3501_13\"], [\"3484_3\"], [\"3420_12\"], [\"3500_11\"], [\"50810D_1\"], [\"50810B_14\"], [\"3477_6\"], [\"3501_8\"], [\"3530_11\"], [\"3517_7\"], [\"3503_10\"], [\"3483_14\"], [\"3423_8\"], [\"322_12\"], [\"3499_5\"], [\"320_4\"], [\"3418_7\"], [\"362_5\"], [\"3419_10\"], [\"50810F_8\"], [\"3605_4\"], [\"3502_7\"], [\"3415_3\"], [\"3415_10\"], [\"3429_1\"], [\"3415_8\"], [\"50810E_9\"], [\"3481_3\"], [\"J1291_1\"], [\"3416_10\"], [\"3525_1\"], [\"3534_15\"], [\"3606_10\"], [\"309_6\"], [\"3477_11\"], [\"3605_14\"], [\"3499_15\"], [\"3499_8\"], [\"3480_10\"], [\"3429_6\"], [\"3477_15\"], [\"3426_9\"], [\"3417_2\"], [\"3426_14\"], [\"364_12\"], [\"3416_15\"], [\"362_12\"], [\"3490_12\"], [\"50810C_11\"], [\"3522_6\"], [\"3488_10\"], [\"3491_7\"], [\"3416_13\"], [\"3507_14\"], [\"50810C_14\"], [\"3503_11\"], [\"3417_5\"], [\"365_1\"], [\"3422_2\"], [\"309_10\"], [\"50810F_6\"], [\"3419_2\"], [\"363_5\"], [\"3484_11\"], [\"3415_7\"], [\"3414_14\"], [\"50810E_8\"], [\"293_7\"], [\"3500_15\"], [\"18899_7\"], [\"3420_2\"], [\"3605_11\"], [\"3424_11\"], [\"3516_12\"], [\"3500_3\"], [\"3426_2\"], [\"3416_11\"], [\"3423_2\"], [\"50810B_8\"], [\"3412_13\"], [\"J3295_14\"], [\"3489_5\"], [\"3424_15\"], [\"3525_6\"], [\"3476_10\"], [\"3488_5\"], [\"3481_7\"], [\"309_8\"], [\"50810C_13\"], [\"294_6\"], [\"3480_13\"], [\"3429_4\"], [\"3420_14\"], [\"3478_15\"], [\"3522_5\"], [\"3489_9\"], [\"3498_4\"], [\"3424_1\"], [\"3505_6\"], [\"3476_7\"], [\"3505_5\"], [\"361_10\"], [\"3525_9\"], [\"3530_6\"], [\"3490_9\"], [\"3513_11\"], [\"3517_9\"], [\"3522_9\"], [\"3534_14\"], [\"3530_14\"], [\"294_14\"], [\"3500_4\"], [\"3416_9\"], [\"3606_9\"], [\"3420_3\"], [\"3483_5\"], [\"3415_5\"], [\"3521_14\"], [\"3477_3\"], [\"3422_13\"], [\"50810F_10\"], [\"3414_13\"], [\"3490_6\"], [\"320_14\"], [\"3422_15\"], [\"3520_14\"], [\"3429_15\"], [\"3481_2\"], [\"3414_6\"], [\"3477_12\"], [\"50810D_4\"], [\"3516_6\"], [\"363_8\"], [\"3516_10\"], [\"50810E_1\"], [\"3476_5\"], [\"309_1\"], [\"50810F_3\"], [\"3484_1\"], [\"3497_8\"], [\"3478_2\"], [\"3534_13\"], [\"3429_12\"], [\"3516_13\"], [\"3513_13\"], [\"3525_8\"], [\"3429_8\"], [\"3412_8\"], [\"3423_1\"], [\"3520_6\"], [\"50810C_4\"], [\"3522_14\"], [\"3504_2\"], [\"3517_13\"], [\"3499_1\"], [\"3525_13\"], [\"3413_2\"], [\"3484_4\"], [\"3490_10\"], [\"364_5\"], [\"50810B_4\"], [\"3513_12\"], [\"322_10\"], [\"365_7\"], [\"3520_12\"], [\"3477_1\"], [\"3516_3\"], [\"3478_12\"], [\"3521_10\"], [\"3490_15\"], [\"3522_8\"], [\"3425_11\"], [\"3521_1\"], [\"3479_9\"], [\"3476_13\"], [\"294_15\"], [\"311_14\"], [\"3504_14\"], [\"3413_14\"], [\"3522_7\"], [\"3411_11\"], [\"50810F_14\"], [\"3605_5\"], [\"3412_5\"], [\"3411_3\"], [\"3521_6\"], [\"3412_9\"], [\"309_7\"], [\"3411_15\"], [\"J2292_13\"], [\"3498_5\"], [\"3481_12\"], [\"3416_5\"], [\"322_14\"], [\"3530_2\"], [\"3490_8\"], [\"3500_14\"], [\"3521_11\"], [\"50810B_3\"], [\"3500_10\"], [\"3420_11\"], [\"3420_5\"], [\"3501_6\"], [\"3520_13\"], [\"J3295_13\"], [\"3416_6\"], [\"3501_1\"], [\"3413_6\"], [\"320_12\"], [\"3507_4\"], [\"361_1\"], [\"3490_2\"], [\"3534_4\"], [\"3481_4\"], [\"3424_4\"], [\"311_10\"], [\"3490_11\"], [\"3416_14\"], [\"3483_3\"], [\"3530_13\"], [\"3484_7\"], [\"3522_11\"], [\"3497_9\"], [\"3423_5\"], [\"362_10\"], [\"3417_14\"], [\"3530_1\"], [\"3422_10\"], [\"50810A_6\"], [\"3412_12\"], [\"311_4\"], [\"3414_1\"], [\"3505_8\"], [\"322_2\"], [\"364_3\"], [\"3513_1\"], [\"364_9\"], [\"3425_13\"], [\"3484_9\"], [\"293_3\"], [\"3505_13\"], [\"3421_8\"], [\"3516_8\"], [\"363_11\"], [\"3501_5\"], [\"3423_7\"], [\"50810A_4\"], [\"3425_5\"], [\"3502_3\"], [\"3497_1\"], [\"50810D_8\"], [\"322_15\"], [\"3491_12\"], [\"3488_6\"], [\"18899_12\"], [\"3507_10\"], [\"50810D_13\"], [\"3415_15\"], [\"3517_15\"], [\"3426_12\"], [\"363_7\"], [\"363_14\"], [\"309_12\"], [\"50810A_7\"], [\"3483_6\"], [\"50810B_6\"], [\"320_13\"], [\"3412_3\"], [\"50810D_12\"], [\"3414_7\"], [\"50810E_6\"], [\"50810F_7\"], [\"3516_5\"], [\"3491_13\"], [\"J1291_11\"], [\"3530_3\"], [\"363_15\"], [\"362_3\"], [\"3479_6\"], [\"311_1\"], [\"3411_2\"], [\"3478_10\"], [\"3476_11\"], [\"3420_13\"], [\"3412_15\"], [\"3499_10\"], [\"3489_12\"], [\"311_8\"], [\"3480_12\"], [\"3501_15\"], [\"3426_7\"], [\"3534_9\"], [\"3479_11\"], [\"50810F_12\"], [\"3504_1\"], [\"3421_6\"], [\"3419_9\"], [\"3411_4\"], [\"3499_4\"], [\"3418_9\"], [\"322_9\"], [\"293_10\"], [\"364_15\"], [\"50810C_1\"], [\"50810F_15\"], [\"294_4\"], [\"3415_1\"], [\"3606_12\"], [\"3414_11\"], [\"3422_12\"], [\"3413_9\"], [\"364_2\"], [\"3500_12\"], [\"3481_8\"], [\"3525_11\"], [\"J2292_5\"], [\"3507_13\"], [\"50810E_2\"], [\"3489_3\"], [\"50810E_10\"], [\"361_4\"], [\"3520_7\"], [\"3507_12\"], [\"3424_9\"], [\"3513_3\"], [\"321_13\"], [\"3417_4\"], [\"3426_5\"], [\"3507_1\"], [\"3504_6\"], [\"3484_10\"], [\"362_14\"], [\"321_2\"], [\"3480_5\"], [\"3419_1\"], [\"3499_13\"], [\"3421_7\"], [\"50810B_7\"], [\"3530_10\"], [\"18899_3\"], [\"362_9\"], [\"50810E_12\"], [\"3422_9\"], [\"3502_9\"], [\"3477_5\"], [\"3479_12\"], [\"361_15\"], [\"3477_14\"], [\"3521_15\"], [\"3520_5\"], [\"3498_12\"], [\"50810E_7\"], [\"321_6\"], [\"3480_9\"], [\"3525_4\"], [\"3521_8\"], [\"3424_6\"], [\"3505_9\"], [\"50810A_10\"], [\"293_13\"], [\"3478_6\"], [\"311_5\"], [\"3513_2\"], [\"50810B_1\"], [\"50810C_6\"], [\"50810D_3\"], [\"3490_13\"], [\"293_8\"], [\"320_9\"], [\"3412_11\"], [\"3503_6\"], [\"50810E_15\"], [\"3502_1\"], [\"J3295_15\"], [\"3426_4\"], [\"294_5\"], [\"3504_9\"], [\"3522_3\"], [\"365_3\"], [\"3429_11\"], [\"361_11\"], [\"363_4\"], [\"J2292_15\"], [\"18899_10\"], [\"311_3\"], [\"3520_8\"], [\"3478_8\"], [\"362_1\"], [\"3501_3\"], [\"J1291_14\"], [\"3413_11\"], [\"3507_11\"], [\"J1291_9\"], [\"293_4\"], [\"3417_7\"], [\"3413_1\"], [\"3477_2\"], [\"3476_12\"], [\"3517_12\"], [\"3606_3\"], [\"3530_4\"], [\"3501_10\"], [\"3489_8\"], [\"3484_13\"], [\"321_1\"], [\"3424_12\"], [\"294_8\"], [\"18899_11\"], [\"3412_7\"], [\"311_2\"], [\"3489_2\"], [\"321_4\"], [\"3413_12\"], [\"3421_14\"], [\"3489_6\"], [\"3534_6\"], [\"3530_5\"], [\"3481_1\"], [\"364_14\"], [\"3605_12\"], [\"3418_15\"], [\"3500_1\"], [\"311_12\"], [\"3498_8\"], [\"3422_3\"], [\"J1291_3\"], [\"3484_5\"], [\"3500_5\"], [\"320_8\"], [\"3522_10\"], [\"J1291_15\"], [\"3484_15\"], [\"3424_5\"], [\"J3295_1\"], [\"361_13\"], [\"3425_10\"], [\"3425_4\"], [\"3606_6\"], [\"3413_15\"], [\"3425_15\"], [\"3426_10\"], [\"3488_9\"], [\"J3295_2\"], [\"3421_3\"], [\"3414_10\"], [\"294_11\"], [\"361_6\"], [\"3513_8\"], [\"294_13\"], [\"293_1\"], [\"3534_8\"], [\"294_3\"], [\"3425_12\"], [\"3534_5\"], [\"3517_3\"], [\"3507_7\"], [\"3500_2\"], [\"3530_7\"], [\"3499_14\"], [\"50810F_2\"], [\"50810D_15\"], [\"3517_5\"], [\"3416_2\"], [\"3498_6\"], [\"3522_13\"], [\"3507_15\"], [\"321_9\"], [\"294_2\"], [\"50810A_14\"], [\"J3295_8\"], [\"3419_13\"], [\"3505_14\"], [\"3425_3\"], [\"3421_2\"], [\"309_9\"], [\"50810C_5\"], [\"320_7\"], [\"3423_3\"], [\"3505_7\"], [\"3503_14\"], [\"3477_4\"], [\"18899_13\"], [\"3414_2\"], [\"3429_9\"], [\"3605_1\"], [\"3605_13\"], [\"3491_8\"], [\"362_8\"], [\"3417_11\"], [\"365_13\"], [\"50810D_10\"], [\"294_1\"], [\"3498_14\"], [\"3502_14\"], [\"3504_11\"], [\"3513_6\"], [\"3516_11\"], [\"50810B_2\"], [\"3481_9\"], [\"293_6\"], [\"3521_13\"], [\"3521_12\"], [\"3605_15\"], [\"3480_1\"], [\"18899_6\"], [\"3491_15\"], [\"3505_15\"], [\"3502_6\"], [\"3480_4\"], [\"3423_14\"], [\"3478_11\"], [\"3413_7\"], [\"3520_4\"], [\"3425_14\"], [\"3417_9\"], [\"3521_9\"], [\"3501_2\"], [\"J1291_10\"], [\"3419_3\"], [\"3417_10\"], [\"364_10\"], [\"365_9\"], [\"3421_4\"], [\"50810A_11\"], [\"3520_3\"], [\"3413_4\"], [\"3419_8\"], [\"3422_4\"], [\"3606_11\"], [\"3503_7\"], [\"50810D_11\"], [\"3498_2\"], [\"3483_4\"], [\"3517_8\"], [\"3483_8\"], [\"3513_4\"], [\"3520_10\"], [\"3504_8\"], [\"50810A_13\"], [\"3498_10\"], [\"3483_11\"], [\"3418_1\"], [\"3517_11\"], [\"3420_10\"], [\"3504_12\"], [\"309_2\"], [\"3476_4\"], [\"50810C_3\"], [\"3415_6\"], [\"3429_10\"], [\"3421_12\"], [\"3476_14\"], [\"3497_12\"], [\"J3295_4\"], [\"3534_12\"], [\"3488_15\"], [\"362_13\"], [\"50810E_3\"], [\"3422_7\"], [\"3488_2\"], [\"3606_5\"], [\"3507_8\"], [\"363_2\"], [\"3500_8\"], [\"3426_15\"], [\"3417_8\"], [\"3522_12\"], [\"3484_14\"], [\"3606_2\"], [\"3522_4\"], [\"3425_2\"], [\"3500_9\"], [\"3605_9\"], [\"3498_11\"], [\"361_2\"], [\"3478_3\"], [\"3505_4\"], [\"50810D_6\"], [\"3513_15\"], [\"293_5\"], [\"3480_14\"], [\"362_4\"], [\"3418_10\"], [\"3429_13\"], [\"3504_3\"], [\"364_13\"], [\"3497_2\"], [\"3497_10\"], [\"3420_15\"], [\"J1291_7\"], [\"50810C_12\"], [\"3424_8\"], [\"3480_3\"], [\"3488_11\"], [\"3504_10\"], [\"J3295_11\"], [\"3534_3\"], [\"3479_10\"], [\"J2292_1\"], [\"3429_5\"], [\"J1291_8\"], [\"50810B_15\"], [\"3505_1\"], [\"3425_6\"], [\"J2292_2\"], [\"361_7\"], [\"3414_8\"], [\"3534_1\"], [\"3415_11\"], [\"3503_3\"], [\"363_9\"], [\"3491_5\"], [\"294_10\"], [\"3489_15\"], [\"320_6\"], [\"3516_1\"], [\"3412_6\"], [\"3505_10\"], [\"3513_7\"], [\"3426_3\"], [\"3425_7\"], [\"3481_5\"], [\"3411_14\"], [\"3498_15\"], [\"3499_6\"], [\"J2292_9\"], [\"3503_1\"], [\"3418_8\"], [\"3476_9\"], [\"3414_5\"], [\"363_1\"], [\"3423_11\"], [\"3498_7\"], [\"3516_14\"], [\"3476_3\"], [\"3491_9\"], [\"3419_12\"], [\"50810A_3\"], [\"3530_15\"], [\"3483_1\"], [\"50810A_8\"], [\"3502_2\"], [\"3425_8\"], [\"3420_8\"], [\"309_5\"], [\"3502_4\"], [\"3504_13\"], [\"3513_14\"], [\"50810E_13\"], [\"3417_13\"], [\"3418_4\"], [\"3516_7\"], [\"3411_6\"], [\"J3295_9\"], [\"361_9\"], [\"3499_9\"], [\"3534_10\"], [\"3411_8\"], [\"3414_4\"], [\"50810D_2\"], [\"3488_8\"], [\"321_3\"], [\"320_3\"], [\"50810C_15\"], [\"3502_15\"], [\"3606_15\"], [\"3419_6\"], [\"3520_15\"], [\"311_13\"], [\"3491_11\"], [\"3500_6\"], [\"3481_10\"], [\"3502_8\"], [\"3497_4\"], [\"365_4\"], [\"50810D_14\"], [\"3522_15\"], [\"50810A_2\"], [\"3416_8\"], [\"3488_4\"], [\"3521_4\"], [\"322_3\"], [\"3424_7\"], [\"3505_3\"], [\"3520_9\"], [\"J3295_6\"], [\"3489_11\"], [\"3606_14\"], [\"J1291_12\"], [\"322_5\"], [\"3605_3\"], [\"309_15\"], [\"294_7\"], [\"320_11\"], [\"3481_13\"], [\"3497_5\"], [\"3413_8\"], [\"3501_14\"], [\"3420_7\"], [\"50810C_7\"], [\"3530_12\"], [\"321_8\"], [\"3483_9\"], [\"3479_8\"], [\"3418_14\"], [\"293_15\"], [\"3411_5\"], [\"365_11\"], [\"363_12\"], [\"3503_12\"], [\"3411_7\"], [\"3423_12\"], [\"3423_6\"], [\"364_1\"], [\"3605_6\"], [\"3476_8\"], [\"362_15\"], [\"3491_6\"], [\"3419_7\"]], \"hoverlabel\": {\"namelength\": 0}, \"hovertemplate\": \"0=%{x}<br>1=%{y}<br>Feature=%{customdata[0]}<br>Label=%{marker.color}\", \"legendgroup\": \"\", \"marker\": {\"color\": [0, 0, 0, 0, 0, 0, 0, 0, 0, 0, 0, 0, 0, 0, 1, 0, 0, 0, 0, 0, 0, 0, 0, 0, 0, 0, 0, 0, 1, 0, 0, 0, 0, 0, 0, 0, 0, 0, 0, 0, 0, 0, 0, 1, 0, 0, 1, 1, 0, 0, 1, 0, 0, 0, 0, 0, 0, 0, 0, 0, 0, 0, 0, 0, 1, 0, 0, 0, 0, 0, 0, 0, 0, 0, 0, 0, 0, 0, 0, 0, 0, 0, 0, 0, 0, 0, 0, 0, 0, 0, 0, 0, 0, 0, 0, 0, 0, 0, 0, 0, 0, 0, 0, 0, 0, 0, 0, 0, 0, 0, 0, 0, 0, 0, 0, 0, 0, 0, 0, 0, 0, 0, 0, 0, 0, 0, 0, 0, 0, 0, 0, 0, 0, 0, 0, 0, 0, 0, 0, 0, 0, 0, 0, 0, 0, 0, 0, 0, 0, 0, 0, 0, 0, 0, 0, 0, 0, 0, 0, 0, 0, 0, 0, 0, 0, 0, 0, 0, 0, 0, 0, 0, 0, 0, 0, 0, 0, 0, 0, 0, 0, 0, 0, 1, 0, 0, 0, 0, 1, 0, 0, 0, 0, 0, 0, 0, 1, 1, 0, 0, 0, 0, 0, 0, 0, 0, 0, 0, 1, 0, 0, 0, 0, 0, 0, 0, 0, 0, 0, 0, 0, 0, 0, 0, 0, 0, 0, 0, 0, 0, 0, 0, 0, 0, 0, 0, 0, 1, 0, 0, 0, 0, 0, 0, 0, 0, 1, 0, 0, 0, 0, 0, 0, 0, 0, 0, 0, 1, 0, 0, 0, 0, 0, 0, 0, 0, 0, 0, 0, 0, 0, 0, 0, 0, 1, 0, 0, 0, 0, 0, 0, 0, 0, 0, 0, 1, 0, 0, 0, 0, 0, 0, 0, 0, 0, 0, 0, 0, 0, 0, 0, 0, 0, 0, 0, 0, 0, 0, 1, 0, 0, 0, 0, 0, 0, 0, 1, 0, 1, 0, 0, 0, 0, 0, 0, 0, 0, 0, 0, 0, 0, 0, 0, 0, 0, 0, 0, 0, 0, 0, 0, 0, 0, 0, 0, 0, 0, 0, 0, 0, 0, 0, 0, 0, 0, 0, 0, 0, 0, 0, 0, 0, 0, 0, 0, 0, 0, 0, 0, 0, 0, 0, 0, 0, 0, 0, 0, 0, 0, 0, 1, 0, 0, 0, 0, 0, 0, 1, 0, 0, 0, 0, 0, 0, 0, 0, 0, 0, 0, 1, 0, 0, 0, 0, 0, 0, 0, 0, 0, 0, 0, 0, 0, 0, 0, 0, 0, 0, 0, 0, 0, 0, 0, 0, 0, 0, 0, 0, 0, 0, 0, 0, 0, 0, 0, 0, 0, 0, 0, 0, 0, 0, 0, 0, 0, 1, 0, 0, 0, 0, 1, 0, 0, 0, 0, 0, 0, 0, 0, 0, 1, 0, 0, 0, 1, 0, 0, 0, 0, 0, 0, 0, 0, 0, 0, 0, 0, 0, 0, 0, 0, 0, 0, 0, 0, 0, 0, 0, 0, 0, 0, 0, 0, 0, 0, 0, 0, 0, 0, 0, 0, 0, 0, 0, 0, 0, 0, 0, 0, 0, 0, 1, 0, 0, 0, 0, 0, 0, 0, 0, 0, 0, 0, 0, 0, 0, 0, 0, 0, 0, 0, 0, 0, 0, 0, 0, 0, 0, 0, 0, 0, 0, 0, 0, 0, 1, 0, 0, 0, 0, 0, 0, 0, 0, 0, 1, 1, 0, 0, 0, 0, 0, 0, 0, 1, 0, 0, 0, 0, 0, 0, 0, 0, 0, 0, 0, 0, 0, 0, 0, 0, 0, 0, 0, 0, 0, 0, 0, 0, 0, 1, 0, 0, 0, 0, 0, 0, 0, 0, 0, 0, 0, 0, 0, 0, 0, 0, 0, 0, 0, 0, 0, 0, 0, 0, 0, 0, 0, 0, 0, 0, 0, 0, 0, 0, 0, 0, 0, 0, 0, 0, 0, 0, 0, 0, 0, 0, 1, 0, 0, 0, 0, 0, 0, 0, 0, 0, 0, 0, 0, 0, 0, 0, 0, 0, 0, 0, 0, 0, 0, 0, 0, 0, 0, 0, 0, 0, 0, 0, 0, 0, 0, 0, 0, 0, 0, 0, 0, 0, 0, 0, 0, 0, 0, 0, 0, 0, 0, 0, 0, 0, 0, 0, 0, 0, 0, 0, 0, 0, 0, 0, 0, 0, 0, 0, 0, 0, 0, 0, 0, 1, 0, 0, 0, 0, 0, 0, 0, 0, 0, 1, 0, 0, 0, 0, 0, 0, 0, 0, 0, 0, 0, 0, 0, 0, 0, 0, 0, 1, 0, 0, 0, 0, 0, 0, 0, 1, 0, 0, 0, 0, 0, 0, 0, 0, 0, 0, 0, 0, 0, 0, 0, 0, 0, 0, 0, 0, 0, 0, 0, 0, 0, 0, 0, 0, 0, 0, 0, 0, 0, 0, 0, 0, 0, 0, 0, 0, 0, 1, 0, 0, 0, 0, 0, 0, 0, 0, 0, 0, 0, 0, 0, 0, 0, 0, 0, 0, 0, 0, 0, 0, 0, 0, 0, 0, 0, 0, 0, 0, 0, 0, 0, 0, 0, 0, 0, 0, 0, 0, 0, 0, 0, 0, 0, 0, 0, 0, 0, 0, 0, 0, 0, 0, 0, 0, 0, 0, 0, 0, 0, 0, 0, 0, 0, 0, 0, 0, 0, 0, 0, 0, 0, 0, 0, 0, 0, 0, 0, 0, 0, 0, 0, 0, 0, 1, 0, 0, 0, 0, 0, 0, 0, 0, 0, 0, 0, 0, 0, 0, 1, 0, 0, 0, 0, 0, 1, 0, 0, 0, 0, 0, 0, 0, 0, 0, 0, 0, 0, 0, 1, 0, 0, 0, 0, 0, 0, 0, 0, 0, 0, 0, 0, 0, 0, 0, 0, 0, 0, 0, 0, 0, 0, 0, 0, 0, 0, 0, 0, 0, 0, 1, 0, 0, 0, 1, 0, 1, 0, 0, 0, 0, 0, 0, 0, 0, 0, 0, 0, 0, 0, 0, 0, 0, 0, 0, 0, 0, 0, 0, 1, 0, 1, 0, 0, 0, 1, 0, 0, 0, 0, 1, 0, 0, 0, 1, 0, 0, 0, 0, 0, 0, 0, 0, 0, 0, 0, 0, 0, 0, 0, 0, 0, 0, 0, 0, 0, 0, 0, 0, 0, 0, 1, 0, 0, 0, 0, 0, 0, 0, 0, 0, 0, 0, 0, 0, 0], \"coloraxis\": \"coloraxis\", \"opacity\": 0.7, \"symbol\": \"circle\"}, \"mode\": \"markers\", \"name\": \"\", \"showlegend\": false, \"type\": \"scattergl\", \"x\": [17.78812026977539, -5.137739658355713, -1.290453314781189, 14.735477447509766, 5.916966438293457, 14.522769927978516, 5.524381637573242, 5.587920188903809, 6.157702445983887, 12.293066024780273, -6.13102388381958, 15.015644073486328, 14.56017780303955, -1.7377475500106812, 18.553987503051758, 1.141297459602356, 11.745108604431152, 0.34262800216674805, 13.932395935058594, 15.123298645019531, 10.505180358886719, 10.769584655761719, -1.9766165018081665, 13.257806777954102, -2.4449641704559326, 5.9759955406188965, 1.4998210668563843, 18.61871910095215, 4.278954982757568, -4.706157684326172, 14.970586776733398, 11.153433799743652, 10.4605131149292, -2.9193716049194336, -0.4359893500804901, 14.530118942260742, -4.73468542098999, 11.331138610839844, 12.18171215057373, 6.2899909019470215, 13.038439750671387, 2.436917304992676, 11.175362586975098, 6.777999401092529, 5.558413505554199, 10.33920955657959, 13.650930404663086, 10.810736656188965, -3.7325472831726074, -5.14133358001709, -0.34364762902259827, -1.5808671712875366, 12.690587997436523, -1.702135443687439, 14.221964836120605, 13.747514724731445, 12.174129486083984, 10.969806671142578, -2.661357879638672, 13.422959327697754, 0.8582919239997864, 5.848191261291504, 9.716038703918457, -1.9799535274505615, 13.80819034576416, -3.4044950008392334, 13.25325870513916, -2.997081995010376, -2.421082019805908, 1.6636453866958618, 5.839568138122559, 5.245264053344727, 14.118213653564453, 12.648756980895996, 10.434274673461914, 15.047721862792969, 6.488193035125732, 6.315062046051025, 13.45572280883789, 6.256982803344727, 1.2590471506118774, 14.685281753540039, 10.282748222351074, 10.40371036529541, 3.7327210903167725, 11.444636344909668, 2.578535795211792, 10.545181274414062, 6.02938175201416, 13.03244400024414, 13.93031120300293, 10.4583101272583, 0.5711719393730164, 0.9052425026893616, 11.313179016113281, -6.230714321136475, 15.09156608581543, -2.61859393119812, 11.424149513244629, -0.5128800868988037, 5.724785804748535, -3.751011848449707, 6.141143321990967, 6.064135551452637, 11.658825874328613, 14.923630714416504, -2.5700502395629883, 10.748818397521973, -3.837400436401367, 9.651384353637695, 14.587406158447266, 5.6411566734313965, 11.025386810302734, 6.004295825958252, 14.50040054321289, -1.5131999254226685, -1.7679017782211304, 11.834178924560547, -1.9957996606826782, -2.52917218208313, 13.752721786499023, -1.5949875116348267, 0.5015456080436707, -2.8785295486450195, -2.3656041622161865, 11.323894500732422, 11.266794204711914, -2.6613945960998535, 4.258570671081543, -3.7031354904174805, 2.582732677459717, 6.110342502593994, -2.559089422225952, 10.640686988830566, -4.990451335906982, -5.188566207885742, 2.6164543628692627, -6.153223991394043, 17.68611717224121, 11.058292388916016, -1.7121912240982056, -1.975880742073059, 12.12244987487793, -2.641111135482788, -4.054436683654785, 10.467667579650879, 10.792302131652832, -6.21226692199707, 11.005083084106445, 10.474164009094238, 13.707380294799805, -2.889403820037842, 12.264782905578613, 5.499310493469238, 10.215723991394043, 14.59889030456543, 12.219014167785645, -2.449216842651367, -6.103122234344482, 14.929803848266602, 12.199348449707031, -4.844775199890137, 0.7252718210220337, 10.434080123901367, 10.572359085083008, 0.8353176116943359, 11.426194190979004, 11.392071723937988, -0.4620908796787262, 14.751869201660156, 11.824763298034668, 5.935359001159668, 5.561172008514404, -2.5113327503204346, 0.449887752532959, 0.42126569151878357, 0.9076084494590759, 17.703401565551758, -2.920194149017334, -1.4604636430740356, 10.73739242553711, -2.0491132736206055, 10.697275161743164, -5.276011943817139, 14.44431209564209, 11.763816833496094, -2.9150238037109375, 17.661231994628906, -5.051900386810303, 13.960844039916992, 2.612764358520508, -0.43347296118736267, 11.575358390808105, -1.5199388265609741, 1.1396912336349487, -2.3014349937438965, -6.3009772300720215, 4.334410667419434, 13.770931243896484, 9.4459867477417, 0.018827781081199646, 4.2953619956970215, 11.519025802612305, 14.63963794708252, -1.5297211408615112, -1.2637475728988647, -3.754568576812744, 13.4071044921875, -6.35783052444458, 11.549509048461914, -2.9094369411468506, 13.76073932647705, 12.231224060058594, -5.029333591461182, 10.294841766357422, -3.023155927658081, 5.229640007019043, 14.088508605957031, 14.067073822021484, 13.397050857543945, 14.681087493896484, 11.74466323852539, 13.816761016845703, 12.201229095458984, 12.231486320495605, 3.8844521045684814, -0.1443864107131958, 11.726271629333496, 12.206307411193848, 6.8638596534729, 11.520910263061523, 10.306485176086426, 14.600159645080566, 10.48598575592041, -1.5145491361618042, 10.527116775512695, 5.837987899780273, 12.869694709777832, 10.788223266601562, 5.505584239959717, 10.440810203552246, 14.60354232788086, 0.331449031829834, 3.8810744285583496, -3.108168363571167, 5.9715352058410645, 10.165648460388184, 10.501832008361816, 10.474374771118164, -1.825696587562561, 11.31217098236084, 3.8648195266723633, 17.764719009399414, 3.889765739440918, 1.1781023740768433, -1.6069353818893433, 10.897994995117188, 18.54120445251465, 11.29587459564209, 11.827202796936035, 10.535483360290527, 17.731136322021484, 11.024673461914062, 11.057204246520996, 1.0339692831039429, 3.734661102294922, 6.617220878601074, 10.163436889648438, 11.462369918823242, -0.490132600069046, -2.8968801498413086, -2.19970440864563, 10.265817642211914, 13.830218315124512, 13.804258346557617, 0.6082760691642761, 15.094527244567871, -3.651254892349243, 14.749122619628906, 1.089461088180542, 10.609269142150879, -2.546386241912842, -5.185440540313721, 1.6269569396972656, 10.880376815795898, 13.784497261047363, 5.312216758728027, 10.069997787475586, 11.31078052520752, 14.441970825195312, 14.674080848693848, 13.020612716674805, -0.4569796323776245, 0.4895731210708618, -2.9527010917663574, 11.846843719482422, 1.6669169664382935, -1.3527214527130127, 14.861282348632812, 12.722209930419922, 6.450405597686768, 5.804988861083984, 10.591524124145508, 5.956665515899658, 11.645952224731445, 18.604732513427734, 0.6103552579879761, -4.406068801879883, 18.601280212402344, -2.5878918170928955, -0.1296088546514511, 10.307149887084961, 13.98391342163086, 12.154909133911133, -4.8948469161987305, -3.1953659057617188, 4.249526023864746, 0.5340363383293152, 13.442386627197266, -2.654369831085205, 10.782462120056152, 11.331793785095215, 10.678796768188477, 3.852202892303467, 1.149014949798584, -2.0997941493988037, 17.711143493652344, -3.7134878635406494, -5.072337627410889, 10.987542152404785, 11.350543022155762, 14.507145881652832, 11.301108360290527, 11.968273162841797, -2.1850130558013916, 5.956831455230713, 14.096885681152344, -6.2727460861206055, -3.4510607719421387, 1.6012911796569824, 14.65883731842041, 12.20649242401123, -3.308924913406372, 11.601225852966309, 11.328189849853516, 11.387682914733887, 14.386524200439453, 12.263323783874512, 5.879544734954834, 14.574751853942871, 6.04257869720459, -3.1038568019866943, 14.025588989257812, 1.1084647178649902, -1.975488305091858, 12.1806640625, 10.074228286743164, 0.5993328094482422, 5.760106563568115, 10.647037506103516, 10.498425483703613, 12.036096572875977, 0.5818496942520142, 14.645978927612305, -2.554609537124634, 0.815814197063446, 14.49509334564209, 17.69732666015625, -1.8458222150802612, 9.66279125213623, 18.57525634765625, 11.293957710266113, 14.862348556518555, 11.94109058380127, 2.528602123260498, -0.22928862273693085, 13.752802848815918, -1.510003685951233, -3.3332574367523193, -2.9989349842071533, -5.0708088874816895, -0.06523873656988144, 5.567175388336182, 14.090919494628906, -2.750142812728882, 13.943299293518066, -0.5192719101905823, 6.474531650543213, -2.9208014011383057, -2.9935760498046875, -6.325081825256348, 9.346294403076172, 0.5603749752044678, -1.8131414651870728, 14.55703353881836, 12.025654792785645, -1.5964069366455078, 11.283280372619629, 14.362582206726074, -2.5923094749450684, 11.302559852600098, 10.085566520690918, -2.947739839553833, 15.147002220153809, -2.3023784160614014, 14.769198417663574, 9.216075897216797, 14.735489845275879, 10.76672649383545, -6.189851760864258, -3.8511667251586914, -2.6921496391296387, 5.2249369621276855, 4.391069412231445, 10.145648956298828, -3.534109115600586, -3.3457906246185303, -2.7674455642700195, 0.0504208579659462, 14.763062477111816, 1.645164966583252, -1.4972294569015503, 13.27802562713623, 11.049322128295898, 10.320599555969238, 12.073216438293457, 1.1492793560028076, 17.696823120117188, 14.905259132385254, -2.571657180786133, 10.431599617004395, 1.1639100313186646, 10.092585563659668, 14.125958442687988, -2.0657620429992676, 15.093990325927734, 12.275413513183594, 10.289249420166016, -5.178274631500244, 9.711676597595215, -5.0828166007995605, 12.290508270263672, 9.273193359375, 14.605098724365234, 17.669143676757812, 18.603498458862305, 13.572582244873047, 11.569833755493164, -3.4799866676330566, 14.140068054199219, -5.049548625946045, 5.199963092803955, -6.216024875640869, 14.220663070678711, -0.4564054310321808, -2.718080759048462, 10.474891662597656, 12.283496856689453, 10.284741401672363, 14.66871166229248, 4.333715438842773, 11.074028015136719, -6.128322124481201, -0.492241770029068, 18.605060577392578, -1.6229990720748901, -2.939758062362671, 13.949821472167969, 5.258397579193115, 10.775115966796875, -2.5305392742156982, 10.335460662841797, 11.972230911254883, -5.170761585235596, 11.330672264099121, 10.371027946472168, -1.947242259979248, 10.171436309814453, 6.985433578491211, 10.949518203735352, 11.646256446838379, 9.41629695892334, -2.7361092567443848, 12.922239303588867, 14.159988403320312, -0.3659979999065399, 10.17702865600586, -1.2875417470932007, 17.686676025390625, -3.771169424057007, -0.4349920153617859, -1.4392765760421753, 10.633586883544922, -0.5045153498649597, 14.55712890625, -1.284761667251587, 5.533586502075195, 15.142516136169434, -1.6159029006958008, 14.70412826538086, 10.78285026550293, -3.9369778633117676, -2.7683236598968506, -0.18449223041534424, 10.404337882995605, 13.843878746032715, -0.049788687378168106, -2.619532346725464, -1.5431448221206665, -5.027182102203369, 10.284804344177246, 6.49923038482666, 14.71992015838623, -5.065340518951416, -0.4332745671272278, 10.479998588562012, 10.357531547546387, 11.11385726928711, -2.5812017917633057, -3.7852182388305664, -1.926506757736206, -1.3755896091461182, 12.896787643432617, -1.6375648975372314, 14.046184539794922, 13.182238578796387, -3.304602861404419, 18.505863189697266, 10.230300903320312, 12.989672660827637, -2.7244369983673096, 1.1043614149093628, 14.6708345413208, -3.8901381492614746, 1.0918177366256714, 10.141752243041992, -0.4379633069038391, 12.856828689575195, 14.946938514709473, 14.812017440795898, 10.524288177490234, -3.1243717670440674, 5.175817966461182, -2.8561551570892334, 7.070400238037109, 18.5286865234375, 2.462904930114746, 15.027963638305664, 6.565272808074951, -5.14052677154541, 9.688491821289062, -5.040416717529297, -2.6714260578155518, 10.155838012695312, 6.5374250411987305, -5.210637092590332, 12.49111557006836, 10.45311450958252, 10.769707679748535, 6.063659191131592, 0.5550497174263, 13.814750671386719, 10.485491752624512, 10.746033668518066, 13.679339408874512, 4.419562339782715, 5.994234085083008, 9.618210792541504, 9.72048282623291, 14.501659393310547, 10.179720878601074, 13.24686050415039, 13.89937973022461, 10.439437866210938, -0.5162604451179504, 10.66650676727295, 15.027721405029297, 12.121307373046875, 17.71481704711914, -5.14417839050293, 6.085111141204834, 5.879420280456543, -3.9373764991760254, 9.66386604309082, 1.2701735496520996, 11.821722030639648, 12.79970932006836, -1.480590581893921, 11.355085372924805, 9.376741409301758, -2.6053390502929688, -0.5907409191131592, 11.391636848449707, -2.954319477081299, 12.8606595993042, 11.353628158569336, -4.590145587921143, 5.864574909210205, -3.7320609092712402, 11.865592956542969, 17.717771530151367, 14.677120208740234, 6.310725212097168, -1.7186682224273682, -1.4089291095733643, 11.329240798950195, 3.9828522205352783, 10.735832214355469, 2.6064789295196533, -3.158292293548584, 12.205619812011719, 17.679737091064453, -1.5997058153152466, 10.999621391296387, 1.5395556688308716, 15.025790214538574, 1.1074142456054688, -0.4645259380340576, -2.941598415374756, -0.1005563959479332, -1.803114414215088, -6.182557106018066, 5.780434608459473, 10.556241989135742, 12.267226219177246, -2.9317102432250977, 11.801248550415039, 11.092529296875, 10.364895820617676, 10.507294654846191, -2.5078647136688232, 5.253640174865723, 10.452998161315918, 14.630594253540039, 5.768648624420166, 10.289292335510254, 14.551058769226074, 18.618606567382812, 1.1553986072540283, 10.779147148132324, 11.523889541625977, -1.825453519821167, 11.512377738952637, 6.723353385925293, 13.996143341064453, -3.2386574745178223, 13.696833610534668, 1.1034808158874512, 11.79634952545166, 0.9645714163780212, -5.179357051849365, 12.105792045593262, 11.871610641479492, 10.71399974822998, 12.24435043334961, 10.316614151000977, 10.484670639038086, 15.126046180725098, 11.939868927001953, 10.706291198730469, 11.397570610046387, -6.246715545654297, 10.46119499206543, -2.4640798568725586, 14.85886001586914, 10.42052173614502, 2.548598527908325, 11.63125228881836, 13.051872253417969, 5.188047409057617, 13.8977632522583, 12.300834655761719, 10.271265983581543, -1.6683688163757324, 2.587702512741089, 10.559879302978516, -0.4407103955745697, 0.3316294550895691, 11.7094087600708, -5.015645503997803, 6.396613597869873, 5.654891490936279, -1.563477873802185, 14.305588722229004, 10.93508529663086, -2.6563150882720947, 14.139726638793945, 10.821918487548828, 9.657999992370605, 5.532305717468262, 13.7440767288208, 13.019603729248047, 10.375483512878418, 11.661581993103027, 1.3240184783935547, -5.113213539123535, 5.863864421844482, -0.3640724718570709, 10.495295524597168, 5.913699150085449, 2.4072864055633545, 14.553686141967773, -0.5004811882972717, 12.055692672729492, 9.325641632080078, 4.457085609436035, 1.5967533588409424, -3.8845441341400146, -4.633710861206055, -2.9267354011535645, 18.5153865814209, 10.760493278503418, -2.965014934539795, -1.7792879343032837, 13.810558319091797, -0.41440272331237793, 12.898847579956055, -2.9061014652252197, 10.712814331054688, -0.3895013630390167, 6.804447650909424, -2.9715585708618164, -4.027477741241455, -3.8991804122924805, -2.0694775581359863, -1.8029595613479614, -3.299593210220337, 3.732456922531128, -0.004503470379859209, 12.948018074035645, 15.153653144836426, 0.8175362348556519, 5.945288181304932, 18.5592041015625, 0.02475617453455925, 10.527871131896973, 10.254278182983398, 5.844244956970215, 18.54084014892578, -2.396838426589966, 5.980538368225098, 10.584090232849121, 6.913529872894287, 6.387554168701172, 1.63642418384552, -0.35913458466529846, 6.959388256072998, 5.974233627319336, 0.6092623472213745, 5.985284328460693, 6.188799858093262, 14.930728912353516, -2.4921305179595947, 11.114266395568848, 5.2123942375183105, -2.6184394359588623, 2.428431749343872, -3.7940008640289307, -1.6472479104995728, 6.973346710205078, -3.9214322566986084, 4.482850551605225, 10.449599266052246, -0.02541676163673401, -3.7437479496002197, 11.539658546447754, 17.718595504760742, 10.819284439086914, 4.401214122772217, 14.777981758117676, 15.124505043029785, 10.276026725769043, 10.518511772155762, 10.5750150680542, -1.5167107582092285, 10.516709327697754, 6.082092761993408, -2.0492050647735596, 14.959807395935059, 6.322715759277344, 6.262897968292236, 14.568792343139648, 12.329731941223145, 10.526449203491211, -2.790856122970581, 14.808680534362793, 0.5447711944580078, 12.112482070922852, 13.847318649291992, 14.966686248779297, 14.213179588317871, -3.7996387481689453, -3.230212926864624, 5.792707920074463, 1.072279453277588, 14.66589641571045, -2.233443260192871, 10.710466384887695, -1.5650795698165894, 15.130565643310547, -5.283016204833984, 14.279603958129883, 5.357112407684326, -5.069546699523926, 13.902112007141113, -1.7613155841827393, 2.4874935150146484, 10.300288200378418, 10.364703178405762, -3.242438793182373, 11.548765182495117, 13.749744415283203, 6.109736919403076, 14.948363304138184, -5.164588451385498, 11.576972961425781, -2.6780881881713867, 11.3377103805542, -0.39661115407943726, 10.436880111694336, 7.030303001403809, 14.654119491577148, 10.490236282348633, -5.076159954071045, 5.844480991363525, -1.7451212406158447, 14.661922454833984, -3.004887819290161, -2.6352343559265137, 6.39739465713501, 10.437154769897461, 10.561842918395996, -0.44137898087501526, -1.699220061302185, 0.8115353584289551, 1.610514760017395, 0.47166767716407776, 10.671399116516113, 15.153926849365234, 13.160314559936523, 4.343223571777344, 13.235060691833496, 5.231087684631348, 10.372197151184082, 14.416444778442383, 10.493204116821289, 15.156018257141113, 13.410186767578125, 3.900283098220825, 4.310503005981445, -2.6288790702819824, 14.293991088867188, 14.601036071777344, 9.23422908782959, 12.229747772216797, 11.040884017944336, 14.09726333618164, 6.583096504211426, 9.411331176757812, 12.970978736877441, 6.0253119468688965, -3.5900051593780518, 0.7920008897781372, 1.1446973085403442, 12.289477348327637, 0.9537715315818787, 0.34523773193359375, 1.605478286743164, 10.478285789489746, 9.758164405822754, -0.018293192610144615, 5.963905334472656, 14.627983093261719, 10.269625663757324, 18.52776336669922, 1.6219693422317505, 10.142622947692871, 6.288169860839844, 0.039092712104320526, -3.7144620418548584, 15.154458999633789, 11.186692237854004, 11.645495414733887, 14.718082427978516, 10.332962989807129, 5.201963424682617, 2.4658405780792236, 11.105853080749512, 1.0822519063949585, 3.7158281803131104, 14.079493522644043, 14.688008308410645, -2.8345487117767334, 13.3365478515625, 12.871706008911133, -2.6179349422454834, 5.93727970123291, 12.134127616882324, -2.3907597064971924, 11.615498542785645, 0.6301748752593994, 14.3223876953125, 6.412746429443359, -4.091963291168213, 11.863125801086426, 5.827167510986328, 14.420000076293945, 5.925014019012451, 13.948358535766602, 11.10433292388916, 6.447970867156982, 5.86083459854126, 10.948741912841797, 15.094239234924316, -4.033020973205566, 11.330137252807617, 0.29820123314857483, 9.712074279785156, 5.5832953453063965, -2.542151927947998, -2.992110252380371, 10.722393035888672, -5.178132057189941, -0.4773573875427246, 14.948723793029785, 5.185621738433838, 5.530149936676025, 6.687352180480957, -1.9410299062728882, -1.3096917867660522, 15.161961555480957, 11.277059555053711, 5.680546283721924, 0.3853176534175873, 3.856236219406128, 9.242690086364746, 15.027064323425293, 9.73884105682373, -2.581714391708374, 15.106060981750488, -5.048848628997803, 10.081709861755371, 5.825719833374023, -1.8841739892959595, 10.166959762573242, -3.277971029281616, 13.205110549926758, 10.172860145568848, -5.106501579284668, 6.844615459442139, -1.550815224647522, 14.612242698669434, -5.110024452209473, 14.174060821533203, 5.233359336853027, 11.623947143554688, 14.683329582214355, 3.782648801803589, -5.119372367858887, -1.407155990600586, 6.083701133728027, 10.991964340209961, 11.333584785461426, -3.533106803894043, -1.3966305255889893, 15.013911247253418, 10.30216121673584, 0.6652073860168457, 10.743956565856934, 10.807887077331543, 12.14467716217041, -5.284790515899658, 1.4871776103973389, -1.7132680416107178, 10.23806381225586, 12.996200561523438, 6.10036039352417, 0.03715011104941368, -1.6238633394241333, -5.1093878746032715, 12.56137466430664, -2.593690872192383, 10.788980484008789, 10.30549430847168, 10.185997009277344, 14.745604515075684, 0.368723601102829, 10.677543640136719, 10.56941032409668, -2.4795684814453125, 11.133049011230469, 10.415924072265625, 6.006826877593994, -2.9462928771972656, 1.4652637243270874, 5.892852306365967, 10.606815338134766, -3.810330629348755, 14.485118865966797, -1.8507442474365234, 10.460164070129395, -1.539855718612671, 13.297069549560547, -0.43530091643333435, -4.492075443267822, -1.610999584197998, 12.270894050598145, -3.2461342811584473, 10.534074783325195, 13.227787971496582, 11.644440650939941, 3.7198643684387207, 2.571848154067993, -1.4629076719284058, -2.257988691329956, 9.716287612915039, 0.5299661159515381, -1.4157564640045166, -2.5750560760498047, -2.711420774459839, -2.937167167663574, -3.7972941398620605, 9.244081497192383, 1.1890668869018555, 5.627514839172363, -1.7882028818130493], \"xaxis\": \"x\", \"y\": [10.735587120056152, 2.321746826171875, 13.64407730102539, 8.28396987915039, 1.9461921453475952, 11.343037605285645, 6.089788913726807, 6.138833999633789, 2.150754928588867, 4.67612886428833, 10.880606651306152, 7.859702110290527, 8.855827331542969, 11.29307746887207, 8.226191520690918, 13.390138626098633, 9.206643104553223, 13.624897956848145, 11.091585159301758, 11.452315330505371, 13.477713584899902, 14.635836601257324, 13.336989402770996, 11.484085083007812, 13.34077262878418, 5.821232318878174, 14.082791328430176, 8.294288635253906, 6.954831600189209, 10.514979362487793, 7.383523941040039, 6.473395824432373, 13.402361869812012, 11.8231840133667, 10.349380493164062, 11.408404350280762, 10.490945816040039, 8.099706649780273, 6.247653961181641, 2.123957872390747, 11.64046573638916, -8.62457275390625, 6.7110066413879395, 2.7143614292144775, 6.167912006378174, 14.853839874267578, 10.69858455657959, 12.813563346862793, 11.02404499053955, 2.3186402320861816, 11.862772941589355, 13.277862548828125, 12.011014938354492, 9.743934631347656, 11.040425300598145, 5.014809608459473, 4.771787643432617, 6.550133228302002, 13.430316925048828, 9.137927055358887, 13.311038970947266, 1.699869990348816, 5.100536823272705, 12.211734771728516, 4.951610088348389, 10.331642150878906, 8.935711860656738, 11.133543014526367, 12.358329772949219, 14.354689598083496, 7.44394063949585, 6.917112827301025, 8.767333030700684, 12.044961929321289, 14.976263046264648, 7.811150550842285, 2.2823472023010254, 2.854940176010132, 9.080534934997559, 2.8794686794281006, 14.3895902633667, 13.623827934265137, 14.78059196472168, 13.563931465148926, 7.332423686981201, 9.331696510314941, -8.765125274658203, 8.701197624206543, 2.316077470779419, 11.683709144592285, 11.487589836120605, 6.391291618347168, 13.884559631347656, 13.274096488952637, 9.281784057617188, 10.82182502746582, 11.376800537109375, 12.619386672973633, 8.437173843383789, 10.32919692993164, 7.378252029418945, 11.037313461303711, 3.092120885848999, 6.416260719299316, 9.27566909790039, 8.011544227600098, 13.554817199707031, 12.87873649597168, 10.471400260925293, 5.132752418518066, 8.814787864685059, 5.863613605499268, 7.040561199188232, 5.747758865356445, 6.7783002853393555, 13.945136070251465, 9.68217658996582, 9.102910995483398, 9.991902351379395, 11.784361839294434, 5.00693941116333, 9.843645095825195, 9.631144523620605, 12.354475021362305, 13.2320556640625, 8.419461250305176, 7.892351150512695, 13.218049049377441, 6.869801044464111, 10.364603042602539, -8.769912719726562, 6.407276153564453, 11.853102684020996, 6.595093727111816, 10.35082721710205, 10.821610450744629, -8.803122520446777, 10.892401695251465, 10.59980583190918, 7.315150260925293, 11.878106117248535, 9.986961364746094, 4.583873271942139, 12.596957206726074, 11.211433410644531, 13.319706916809082, 12.835542678833008, 10.876626968383789, 6.691667556762695, 13.4570951461792, 5.072521209716797, 11.827712059020996, 4.690532207489014, 7.32757568359375, 8.318342208862305, 6.916121482849121, 6.270233631134033, 11.482563972473145, 10.87326431274414, 7.330239295959473, 4.749119281768799, 10.476308822631836, 13.913555145263672, 13.536291122436523, 14.51499080657959, 13.327593803405762, 9.336607933044434, 8.462451934814453, 10.49232292175293, 8.265987396240234, 9.249996185302734, 1.818374514579773, 7.359033107757568, 13.358736991882324, 9.689765930175781, 9.696331977844238, 13.310266494750977, 10.722576141357422, 12.964502334594727, 9.872114181518555, 14.59118366241455, 11.817989349365234, 14.520017623901367, 10.939303398132324, 6.739218235015869, 9.199462890625, 12.498824119567871, 10.59722900390625, 2.405463457107544, 11.438881874084473, -8.799571990966797, 11.652113914489746, 6.181764602661133, 9.837225914001465, 13.360807418823242, 11.661843299865723, 10.748205184936523, 6.9758782386779785, 4.990275859832764, 5.93165922164917, 9.86977767944336, 6.872155666351318, 9.45007038116455, 7.0969038009643555, 13.261836051940918, 13.621390342712402, 11.453705787658691, 9.192980766296387, 10.671163558959961, 6.1697893142700195, 12.762275695800781, 4.9927520751953125, 5.175111293792725, 10.2863130569458, 8.295238494873047, 11.812494277954102, 6.45061731338501, 10.85106086730957, 9.164716720581055, 9.073793411254883, 8.234339714050293, 9.195566177368164, 4.948122501373291, 6.179538249969482, 6.288779258728027, 7.190512180328369, 9.798378944396973, 6.148379802703857, 6.208238124847412, 2.9068634510040283, 9.419984817504883, 14.783541679382324, 13.46647834777832, 13.47126579284668, 9.827083587646484, 6.973391056060791, 7.431860446929932, 11.811710357666016, 14.641206741333008, 6.1537861824035645, 13.318709373474121, 13.45184326171875, 13.598910331726074, 7.20941162109375, 11.891141891479492, 1.878264307975769, 7.779879570007324, 8.581147193908691, 8.464011192321777, 12.574378967285156, 5.388408660888672, 7.208994388580322, 10.705986976623535, 7.1919965744018555, 14.293452262878418, 13.307202339172363, 6.588322162628174, 8.21402359008789, 9.122673034667969, 4.6899542808532715, 14.569799423217773, 10.630783081054688, 7.443558692932129, 6.0554118156433105, 14.041418075561523, 7.328647136688232, 2.5948867797851562, 7.991520881652832, 5.843484401702881, 11.451873779296875, 12.586404800415039, 11.832002639770508, 14.812228202819824, 11.026649475097656, 10.897947311401367, 13.837150573730469, 11.412196159362793, 10.358786582946777, 8.377607345581055, 14.246784210205078, 5.628446102142334, 13.516240119934082, 2.2766590118408203, 14.204940795898438, 6.707770824432373, 10.896812438964844, 6.746935844421387, 7.303075313568115, 5.367674827575684, 8.95059871673584, 13.627232551574707, 11.6293363571167, 10.555442810058594, 9.634671211242676, 11.08529281616211, 9.122678756713867, 14.325448989868164, 13.910309791564941, 7.677910804748535, 12.01456356048584, 2.766166925430298, 7.423760414123535, 14.464574813842773, 5.715921878814697, 4.812660217285156, 8.277810096740723, 9.544967651367188, 10.624205589294434, 8.274246215820312, 10.32247257232666, 9.766438484191895, 7.727415561676025, 11.117522239685059, 6.348945140838623, 10.379602432250977, 11.021300315856934, 6.926916599273682, 9.604499816894531, 9.102123260498047, 13.078248977661133, 14.635056495666504, 8.015166282653809, 12.981786727905273, 7.222752094268799, 14.314682960510254, 10.04444408416748, 10.646254539489746, 10.353845596313477, 10.814754486083984, 7.005863189697266, 8.192233085632324, 11.404601097106934, 7.968427658081055, 4.62160587310791, 13.404407501220703, 1.9376857280731201, 8.762992858886719, 10.77341079711914, 11.369990348815918, 14.1486234664917, 6.953530311584473, 6.223471164703369, 10.334506034851074, 8.565957069396973, 8.370134353637695, 9.301063537597656, 11.349832534790039, 6.210572719573975, 5.805086135864258, 13.4207181930542, 5.753112316131592, 11.952981948852539, 8.701837539672852, 14.13170337677002, 11.955574989318848, 4.568878173828125, 5.226285934448242, 13.919512748718262, 6.1738810539245605, 5.547280788421631, 14.999873161315918, 4.535364627838135, 9.557476043701172, 13.530487060546875, 11.798049926757812, 13.298359870910645, 6.7845072746276855, 10.70590591430664, 9.724625587463379, 5.122764587402344, 8.25205135345459, 7.955285549163818, 8.031768798828125, 4.5971150398254395, -8.714170455932617, 9.842735290527344, 4.988829612731934, 9.829944610595703, 10.335250854492188, 11.25322151184082, 2.386659860610962, 10.146381378173828, 5.940525531768799, 8.78746509552002, 13.587517738342285, 11.3684663772583, 10.320944786071777, 2.2759382724761963, 12.793415069580078, 11.094611167907715, 10.728301048278809, 5.895653247833252, 13.80615520477295, 13.182126998901367, 6.869233131408691, 4.512948036193848, 11.22591781616211, 9.176726341247559, 11.305540084838867, 10.329851150512695, 5.356103420257568, 5.291371822357178, 12.74842643737793, 11.465574264526367, 13.160911560058594, 7.405494213104248, 5.85664701461792, 7.370574474334717, 5.678426742553711, 10.830583572387695, 10.955814361572266, 13.036003112792969, 6.902657508850098, 6.936856746673584, 5.258031368255615, 11.207073211669922, 10.972538948059082, 10.636762619018555, 9.982705116271973, 8.095475196838379, 14.183137893676758, 9.865592956542969, 8.956140518188477, 7.2913689613342285, 6.157547473907471, 6.41336727142334, 13.45773696899414, 10.629071235656738, 8.041529655456543, 13.402679443359375, 13.343265533447266, 13.387590408325195, 5.807999610900879, 10.816316604614258, 13.36782169342041, 7.7939605712890625, 6.188973903656006, 8.229853630065918, 2.2818450927734375, 5.058233261108398, 2.375314474105835, 4.977656364440918, 5.872069835662842, 7.103679656982422, 10.710227966308594, 8.27629280090332, 11.167874336242676, 6.41423225402832, 11.31359577178955, 10.95339298248291, 2.4080421924591064, 6.907857894897461, 10.843433380126953, 11.018882751464844, 10.490448951721191, 13.573748588562012, 6.812081813812256, 4.921136379241943, 5.0787763595581055, 8.723100662231445, 6.971207618713379, 7.535390377044678, 10.897994995117188, 11.466415405273438, 8.277974128723145, 11.905158042907715, 11.7857084274292, 11.549365043640137, 6.883752822875977, 14.649134635925293, 11.858738899230957, 5.933376312255859, 6.480719089508057, 2.292287826538086, 5.516867637634277, 6.284718990325928, 11.901200294494629, 5.256669521331787, 2.9183716773986816, 6.751319408416748, 9.279023170471191, 5.907133102416992, 10.658418655395508, 11.693583488464355, 9.137550354003906, 11.824662208557129, 5.274111270904541, 13.616008758544922, 10.605557441711426, 10.370857238769531, 10.513684272766113, 13.918307304382324, 6.512346267700195, 10.520641326904297, 6.856174945831299, 13.621472358703613, 7.3293280601501465, 11.429359436035156, 13.279216766357422, 8.229341506958008, 14.641005516052246, 10.96953296661377, 12.904359817504883, 9.842790603637695, 6.319957256317139, 11.67186164855957, 9.78235912322998, 10.334355354309082, 9.815536499023438, 10.360761642456055, 5.919592380523682, 2.2616822719573975, 8.208601951599121, 10.294136047363281, 11.651019096374512, 13.249444007873535, 14.889989852905273, 6.633221626281738, 13.521918296813965, 11.381678581237793, 13.31466293334961, 11.884899139404297, 11.769493103027344, 11.909699440002441, 8.78950023651123, 8.84141731262207, 11.004467010498047, 8.178143501281738, 5.129465103149414, 11.839020729064941, 13.539843559265137, 14.070209503173828, 13.619141578674316, 10.992294311523438, 13.385924339294434, 8.201525688171387, 10.343555450439453, 11.8934965133667, 7.936488151550293, 7.331111907958984, 14.502412796020508, 11.804710388183594, 6.4010467529296875, 11.889030456542969, 2.9584617614746094, 8.208707809448242, -8.6506929397583, 7.434330463409424, 2.7054433822631836, 2.319390296936035, 5.130712032318115, 10.322284698486328, 13.200858116149902, 7.940859317779541, 3.0360817909240723, 10.859149932861328, 12.105315208435059, 8.485010147094727, 14.668010711669922, 6.345222473144531, 13.77574634552002, 4.943205833435059, 14.982549667358398, 8.675065040588379, 10.740193367004395, 6.974935054779053, 5.765114784240723, 5.071439743041992, 5.1598711013793945, 6.792781352996826, 8.22413158416748, 8.940546989440918, 11.557260513305664, 13.442270278930664, 10.593297958374023, 8.667977333068848, 7.867241382598877, 4.640535831451416, 10.650982856750488, 2.3116190433502197, 6.427025318145752, 1.7320680618286133, 10.910353660583496, 5.170239448547363, 14.38351058959961, 9.116307258605957, 11.942594528198242, 13.908625602722168, 5.464568138122559, 5.921335697174072, 10.306875228881836, 10.392532348632812, 8.43798828125, 12.663787841796875, 11.8623628616333, 9.30728816986084, 10.572407722473145, 5.834609031677246, 11.439776420593262, 8.988892555236816, 10.639764785766602, 8.725319862365723, 2.8422493934631348, 9.772153854370117, 13.940488815307617, 8.072308540344238, 7.12994909286499, 14.562435150146484, -8.793387413024902, 11.921332359313965, 5.20096492767334, 10.598133087158203, 11.172039031982422, 7.017612457275391, 14.08334732055664, 7.82771110534668, 13.333345413208008, 11.715332984924316, 11.842494010925293, 9.768407821655273, 13.21509838104248, 10.872282981872559, 7.404270172119141, 14.982060432434082, 4.918410778045654, 13.05231761932373, 4.658424377441406, 6.45441198348999, 6.483083724975586, 14.981935501098633, 12.703250885009766, 6.333614826202393, 13.500810623168945, 13.513935089111328, 5.797077178955078, 14.8181791305542, 8.848149299621582, 8.291815757751465, 13.948796272277832, 12.84302806854248, 9.424922943115234, 9.735018730163574, 8.513137817382812, 2.717590093612671, 11.359697341918945, 10.966733932495117, 5.094991207122803, 14.230018615722656, 4.663619518280029, 13.32411003112793, 10.830994606018066, 6.339545249938965, 8.9764986038208, 5.579129219055176, 6.201809406280518, 6.19512939453125, 6.807650089263916, 11.460186004638672, 4.589722633361816, 12.91641616821289, 9.333941459655762, 10.845146179199219, 6.3847880363464355, 13.027350425720215, 7.367681503295898, 8.549385070800781, -8.735145568847656, 6.257098197937012, 11.678153991699219, 6.369970798492432, 11.627310752868652, 4.792490482330322, 7.770559787750244, 11.901098251342773, -8.774734497070312, 13.140358924865723, 10.320005416870117, 9.76904296875, 4.769018173217773, 10.891077041625977, 2.195685386657715, 5.881498336791992, 11.218218803405762, 8.97921085357666, 6.555976390838623, 11.790606498718262, 10.90750503540039, 5.724392414093018, 5.1229119300842285, 7.342462062835693, 4.937978744506836, 11.868697166442871, 6.490022659301758, 6.062609672546387, 14.401881217956543, 10.350342750549316, 1.7221845388412476, 11.830116271972656, 15.027012825012207, 1.7678399085998535, -8.595009803771973, 13.508692741394043, 11.427410125732422, 6.412643909454346, 5.8702712059021, 7.047762870788574, 14.353997230529785, 11.040250778198242, 10.592482566833496, 12.758920669555664, 8.187943458557129, 12.861883163452148, 11.19287395477295, 11.16088581085205, 4.935427665710449, 10.420116424560547, 11.896614074707031, 13.139871597290039, 12.923384666442871, 11.792781829833984, 2.74462890625, 12.76912784576416, 11.289518356323242, 11.000072479248047, 13.400335311889648, 12.502205848693848, 10.331831932067871, 7.333298206329346, 10.070368766784668, 11.67456340789795, 11.479640007019043, 13.322389602661133, 1.9289058446884155, 8.231788635253906, 10.010575294494629, 13.18904972076416, 5.0425639152526855, 1.7051409482955933, 8.214523315429688, 13.063684463500977, 2.31976580619812, 5.631727695465088, 2.9374454021453857, 3.091661214828491, 14.28880500793457, 11.830360412597656, 2.8440964221954346, 5.7928056716918945, 13.861074447631836, 2.3671023845672607, 2.781174659729004, 7.973636627197266, 10.880598068237305, 6.449836254119873, 6.669292449951172, 10.758556365966797, -8.61506175994873, 11.382967948913574, 11.147489547729492, 2.8820908069610596, 11.335461616516113, 6.815158843994141, 14.964986801147461, 10.088123321533203, 11.132522583007812, 8.519735336303711, 10.634298324584961, 8.768733978271484, 6.909488201141357, 8.297019958496094, 11.413928985595703, 5.0140252113342285, 14.988564491271973, 13.108640670776367, 11.24104118347168, 8.679027557373047, 2.1427905559539795, 10.021546363830566, 7.355913162231445, 3.080650568008423, 2.8462376594543457, 6.879312992095947, 4.967985153198242, 13.2474365234375, 13.590401649475098, 7.340022087097168, 9.58940315246582, 6.326249599456787, 4.931874752044678, 7.769943714141846, 11.112078666687012, 10.421483039855957, 10.363570213317871, 6.101564407348633, 14.186972618103027, 13.606709480285645, 11.67444133758545, 8.640162467956543, 11.211641311645508, 11.473041534423828, 10.905091285705566, 9.034784317016602, 6.530185699462891, 2.3884270191192627, 11.614871978759766, 13.241984367370605, -8.6751127243042, 6.1897993087768555, 6.240377902984619, 10.368683815002441, 9.421767234802246, 5.021389007568359, 6.415389537811279, 7.389994144439697, 10.829967498779297, 9.390721321105957, 12.585556030273438, 5.430485725402832, 11.770302772521973, 6.808764934539795, 2.8862552642822266, 13.566804885864258, 6.384119510650635, 10.309919357299805, 1.7095632553100586, 9.71451473236084, 13.600844383239746, 11.906250953674316, 11.83335018157959, 2.8767693042755127, 8.608388900756836, 7.0055413246154785, 11.660123825073242, 9.813539505004883, 13.38031005859375, 14.161880493164062, 9.665245056152344, 8.678550720214844, 11.41245174407959, 8.857069969177246, 6.947514057159424, 8.950705528259277, 6.44106388092041, 6.07019567489624, 8.942167282104492, 8.645612716674805, 11.499922752380371, 9.116816520690918, 7.176956653594971, 6.941202163696289, 10.349202156066895, 9.02286148071289, 7.094310760498047, 5.851490020751953, 5.153796672821045, 7.24785041809082, 10.92195987701416, 2.6999409198760986, 5.898275852203369, 11.68156909942627, 2.2768359184265137, 11.381628036499023, 13.841694831848145, 13.939393043518066, 4.962106227874756, 13.31601333618164, 13.635509490966797, 14.295877456665039, 14.992915153503418, 5.1257219314575195, 9.849892616271973, 5.796563148498535, 13.533621788024902, 5.071235179901123, 8.201528549194336, 14.331631660461426, 5.35847806930542, 3.12332820892334, 9.820059776306152, 10.349381446838379, 11.495501518249512, 6.669048309326172, 6.450344562530518, 7.3140668869018555, 8.21554946899414, 6.934845447540283, -8.653512001037598, 9.1585111618042, 14.241422653198242, 7.346541881561279, 10.877707481384277, 8.72488784790039, 12.017067909240723, 11.778718948364258, 11.745994567871094, 10.347249984741211, 1.804494857788086, 4.589339733123779, 12.70757007598877, 9.416497230529785, 13.890461921691895, 9.035845756530762, 2.183044195175171, 11.263734817504883, 8.979121208190918, 7.398582935333252, 11.322620391845703, 1.7996598482131958, 11.063698768615723, 6.6179399490356445, 3.0237131118774414, 7.466789245605469, 6.1135711669921875, 7.791829586029053, 11.278925895690918, 8.10975170135498, 9.804325103759766, 5.172808647155762, 6.165764331817627, 10.85655689239502, 12.525748252868652, 12.91486930847168, 2.285404920578003, 10.5369234085083, 7.388136386871338, 6.637477397918701, 5.962442874908447, 2.9515445232391357, 13.29192066192627, 13.614387512207031, 11.505844116210938, 7.980939865112305, 7.430123805999756, 9.744012832641602, 7.219992160797119, 5.820615768432617, 7.8214006423950195, 5.166201114654541, 12.682565689086914, 11.45809268951416, 2.408264636993408, 7.241339683532715, 6.032742500305176, 9.86870002746582, 7.777664661407471, 10.931947708129883, 8.880393981933594, 8.33227252960205, 10.837347984313965, 2.835301160812378, 9.876025199890137, 6.928467273712158, 10.797757148742676, 9.17206859588623, 6.938415050506592, 4.80409049987793, 13.634573936462402, 7.288646221160889, 2.3401811122894287, 13.869904518127441, 2.1825907230377197, 6.0830183029174805, 8.324621200561523, 11.403579711914062, 13.9014310836792, 7.862904071807861, 7.780004978179932, 13.925135612487793, 12.874085426330566, 12.821685791015625, 4.58160400390625, 10.903704643249512, 14.044676780700684, 9.72410774230957, 5.845632553100586, 11.641789436340332, 6.3700103759765625, 9.992128372192383, 13.256669998168945, 10.857864379882812, 12.082802772521973, 11.863950729370117, 8.723395347595215, 5.083169937133789, 7.772792816162109, 8.149771690368652, 13.714138984680176, 6.590708255767822, 14.516921043395996, 12.570683479309082, 6.7235212326049805, 6.516790390014648, 2.2937140464782715, 12.638569831848145, 14.039865493774414, 1.7556264400482178, 14.503350257873535, 10.436627388000488, 6.760593414306641, 11.117228507995605, 13.28646183013916, 13.297348976135254, 11.725878715515137, 11.752165794372559, 10.595267295837402, 9.876399993896484, 4.717360496520996, 11.01137638092041, 13.194578170776367, 8.920321464538574, 9.280925750732422, 7.341291427612305, -8.758496284484863, 13.957481384277344, 11.818645477294922, 5.11221170425415, 9.607298851013184, 13.923287391662598, 12.885824203491211, 13.406700134277344, 11.865265846252441, 10.392837524414062, 5.857998371124268, 13.949163436889648, 6.19260835647583, 9.796881675720215], \"yaxis\": \"y\"}],\n",
       "                        {\"coloraxis\": {\"colorbar\": {\"title\": {\"text\": \"Label\"}}, \"colorscale\": [[0.0, \"#0d0887\"], [0.1111111111111111, \"#46039f\"], [0.2222222222222222, \"#7201a8\"], [0.3333333333333333, \"#9c179e\"], [0.4444444444444444, \"#bd3786\"], [0.5555555555555556, \"#d8576b\"], [0.6666666666666666, \"#ed7953\"], [0.7777777777777778, \"#fb9f3a\"], [0.8888888888888888, \"#fdca26\"], [1.0, \"#f0f921\"]]}, \"height\": 800, \"legend\": {\"tracegroupgap\": 0}, \"template\": {\"data\": {\"bar\": [{\"error_x\": {\"color\": \"#2a3f5f\"}, \"error_y\": {\"color\": \"#2a3f5f\"}, \"marker\": {\"line\": {\"color\": \"#E5ECF6\", \"width\": 0.5}}, \"type\": \"bar\"}], \"barpolar\": [{\"marker\": {\"line\": {\"color\": \"#E5ECF6\", \"width\": 0.5}}, \"type\": \"barpolar\"}], \"carpet\": [{\"aaxis\": {\"endlinecolor\": \"#2a3f5f\", \"gridcolor\": \"white\", \"linecolor\": \"white\", \"minorgridcolor\": \"white\", \"startlinecolor\": \"#2a3f5f\"}, \"baxis\": {\"endlinecolor\": \"#2a3f5f\", \"gridcolor\": \"white\", \"linecolor\": \"white\", \"minorgridcolor\": \"white\", \"startlinecolor\": \"#2a3f5f\"}, \"type\": \"carpet\"}], \"choropleth\": [{\"colorbar\": {\"outlinewidth\": 0, \"ticks\": \"\"}, \"type\": \"choropleth\"}], \"contour\": [{\"colorbar\": {\"outlinewidth\": 0, \"ticks\": \"\"}, \"colorscale\": [[0.0, \"#0d0887\"], [0.1111111111111111, \"#46039f\"], [0.2222222222222222, \"#7201a8\"], [0.3333333333333333, \"#9c179e\"], [0.4444444444444444, \"#bd3786\"], [0.5555555555555556, \"#d8576b\"], [0.6666666666666666, \"#ed7953\"], [0.7777777777777778, \"#fb9f3a\"], [0.8888888888888888, \"#fdca26\"], [1.0, \"#f0f921\"]], \"type\": \"contour\"}], \"contourcarpet\": [{\"colorbar\": {\"outlinewidth\": 0, \"ticks\": \"\"}, \"type\": \"contourcarpet\"}], \"heatmap\": [{\"colorbar\": {\"outlinewidth\": 0, \"ticks\": \"\"}, \"colorscale\": [[0.0, \"#0d0887\"], [0.1111111111111111, \"#46039f\"], [0.2222222222222222, \"#7201a8\"], [0.3333333333333333, \"#9c179e\"], [0.4444444444444444, \"#bd3786\"], [0.5555555555555556, \"#d8576b\"], [0.6666666666666666, \"#ed7953\"], [0.7777777777777778, \"#fb9f3a\"], [0.8888888888888888, \"#fdca26\"], [1.0, \"#f0f921\"]], \"type\": \"heatmap\"}], \"heatmapgl\": [{\"colorbar\": {\"outlinewidth\": 0, \"ticks\": \"\"}, \"colorscale\": [[0.0, \"#0d0887\"], [0.1111111111111111, \"#46039f\"], [0.2222222222222222, \"#7201a8\"], [0.3333333333333333, \"#9c179e\"], [0.4444444444444444, \"#bd3786\"], [0.5555555555555556, \"#d8576b\"], [0.6666666666666666, \"#ed7953\"], [0.7777777777777778, \"#fb9f3a\"], [0.8888888888888888, \"#fdca26\"], [1.0, \"#f0f921\"]], \"type\": \"heatmapgl\"}], \"histogram\": [{\"marker\": {\"colorbar\": {\"outlinewidth\": 0, \"ticks\": \"\"}}, \"type\": \"histogram\"}], \"histogram2d\": [{\"colorbar\": {\"outlinewidth\": 0, \"ticks\": \"\"}, \"colorscale\": [[0.0, \"#0d0887\"], [0.1111111111111111, \"#46039f\"], [0.2222222222222222, \"#7201a8\"], [0.3333333333333333, \"#9c179e\"], [0.4444444444444444, \"#bd3786\"], [0.5555555555555556, \"#d8576b\"], [0.6666666666666666, \"#ed7953\"], [0.7777777777777778, \"#fb9f3a\"], [0.8888888888888888, \"#fdca26\"], [1.0, \"#f0f921\"]], \"type\": \"histogram2d\"}], \"histogram2dcontour\": [{\"colorbar\": {\"outlinewidth\": 0, \"ticks\": \"\"}, \"colorscale\": [[0.0, \"#0d0887\"], [0.1111111111111111, \"#46039f\"], [0.2222222222222222, \"#7201a8\"], [0.3333333333333333, \"#9c179e\"], [0.4444444444444444, \"#bd3786\"], [0.5555555555555556, \"#d8576b\"], [0.6666666666666666, \"#ed7953\"], [0.7777777777777778, \"#fb9f3a\"], [0.8888888888888888, \"#fdca26\"], [1.0, \"#f0f921\"]], \"type\": \"histogram2dcontour\"}], \"mesh3d\": [{\"colorbar\": {\"outlinewidth\": 0, \"ticks\": \"\"}, \"type\": \"mesh3d\"}], \"parcoords\": [{\"line\": {\"colorbar\": {\"outlinewidth\": 0, \"ticks\": \"\"}}, \"type\": \"parcoords\"}], \"pie\": [{\"automargin\": true, \"type\": \"pie\"}], \"scatter\": [{\"marker\": {\"colorbar\": {\"outlinewidth\": 0, \"ticks\": \"\"}}, \"type\": \"scatter\"}], \"scatter3d\": [{\"line\": {\"colorbar\": {\"outlinewidth\": 0, \"ticks\": \"\"}}, \"marker\": {\"colorbar\": {\"outlinewidth\": 0, \"ticks\": \"\"}}, \"type\": \"scatter3d\"}], \"scattercarpet\": [{\"marker\": {\"colorbar\": {\"outlinewidth\": 0, \"ticks\": \"\"}}, \"type\": \"scattercarpet\"}], \"scattergeo\": [{\"marker\": {\"colorbar\": {\"outlinewidth\": 0, \"ticks\": \"\"}}, \"type\": \"scattergeo\"}], \"scattergl\": [{\"marker\": {\"colorbar\": {\"outlinewidth\": 0, \"ticks\": \"\"}}, \"type\": \"scattergl\"}], \"scattermapbox\": [{\"marker\": {\"colorbar\": {\"outlinewidth\": 0, \"ticks\": \"\"}}, \"type\": \"scattermapbox\"}], \"scatterpolar\": [{\"marker\": {\"colorbar\": {\"outlinewidth\": 0, \"ticks\": \"\"}}, \"type\": \"scatterpolar\"}], \"scatterpolargl\": [{\"marker\": {\"colorbar\": {\"outlinewidth\": 0, \"ticks\": \"\"}}, \"type\": \"scatterpolargl\"}], \"scatterternary\": [{\"marker\": {\"colorbar\": {\"outlinewidth\": 0, \"ticks\": \"\"}}, \"type\": \"scatterternary\"}], \"surface\": [{\"colorbar\": {\"outlinewidth\": 0, \"ticks\": \"\"}, \"colorscale\": [[0.0, \"#0d0887\"], [0.1111111111111111, \"#46039f\"], [0.2222222222222222, \"#7201a8\"], [0.3333333333333333, \"#9c179e\"], [0.4444444444444444, \"#bd3786\"], [0.5555555555555556, \"#d8576b\"], [0.6666666666666666, \"#ed7953\"], [0.7777777777777778, \"#fb9f3a\"], [0.8888888888888888, \"#fdca26\"], [1.0, \"#f0f921\"]], \"type\": \"surface\"}], \"table\": [{\"cells\": {\"fill\": {\"color\": \"#EBF0F8\"}, \"line\": {\"color\": \"white\"}}, \"header\": {\"fill\": {\"color\": \"#C8D4E3\"}, \"line\": {\"color\": \"white\"}}, \"type\": \"table\"}]}, \"layout\": {\"annotationdefaults\": {\"arrowcolor\": \"#2a3f5f\", \"arrowhead\": 0, \"arrowwidth\": 1}, \"coloraxis\": {\"colorbar\": {\"outlinewidth\": 0, \"ticks\": \"\"}}, \"colorscale\": {\"diverging\": [[0, \"#8e0152\"], [0.1, \"#c51b7d\"], [0.2, \"#de77ae\"], [0.3, \"#f1b6da\"], [0.4, \"#fde0ef\"], [0.5, \"#f7f7f7\"], [0.6, \"#e6f5d0\"], [0.7, \"#b8e186\"], [0.8, \"#7fbc41\"], [0.9, \"#4d9221\"], [1, \"#276419\"]], \"sequential\": [[0.0, \"#0d0887\"], [0.1111111111111111, \"#46039f\"], [0.2222222222222222, \"#7201a8\"], [0.3333333333333333, \"#9c179e\"], [0.4444444444444444, \"#bd3786\"], [0.5555555555555556, \"#d8576b\"], [0.6666666666666666, \"#ed7953\"], [0.7777777777777778, \"#fb9f3a\"], [0.8888888888888888, \"#fdca26\"], [1.0, \"#f0f921\"]], \"sequentialminus\": [[0.0, \"#0d0887\"], [0.1111111111111111, \"#46039f\"], [0.2222222222222222, \"#7201a8\"], [0.3333333333333333, \"#9c179e\"], [0.4444444444444444, \"#bd3786\"], [0.5555555555555556, \"#d8576b\"], [0.6666666666666666, \"#ed7953\"], [0.7777777777777778, \"#fb9f3a\"], [0.8888888888888888, \"#fdca26\"], [1.0, \"#f0f921\"]]}, \"colorway\": [\"#636efa\", \"#EF553B\", \"#00cc96\", \"#ab63fa\", \"#FFA15A\", \"#19d3f3\", \"#FF6692\", \"#B6E880\", \"#FF97FF\", \"#FECB52\"], \"font\": {\"color\": \"#2a3f5f\"}, \"geo\": {\"bgcolor\": \"white\", \"lakecolor\": \"white\", \"landcolor\": \"#E5ECF6\", \"showlakes\": true, \"showland\": true, \"subunitcolor\": \"white\"}, \"hoverlabel\": {\"align\": \"left\"}, \"hovermode\": \"closest\", \"mapbox\": {\"style\": \"light\"}, \"paper_bgcolor\": \"white\", \"plot_bgcolor\": \"#E5ECF6\", \"polar\": {\"angularaxis\": {\"gridcolor\": \"white\", \"linecolor\": \"white\", \"ticks\": \"\"}, \"bgcolor\": \"#E5ECF6\", \"radialaxis\": {\"gridcolor\": \"white\", \"linecolor\": \"white\", \"ticks\": \"\"}}, \"scene\": {\"xaxis\": {\"backgroundcolor\": \"#E5ECF6\", \"gridcolor\": \"white\", \"gridwidth\": 2, \"linecolor\": \"white\", \"showbackground\": true, \"ticks\": \"\", \"zerolinecolor\": \"white\"}, \"yaxis\": {\"backgroundcolor\": \"#E5ECF6\", \"gridcolor\": \"white\", \"gridwidth\": 2, \"linecolor\": \"white\", \"showbackground\": true, \"ticks\": \"\", \"zerolinecolor\": \"white\"}, \"zaxis\": {\"backgroundcolor\": \"#E5ECF6\", \"gridcolor\": \"white\", \"gridwidth\": 2, \"linecolor\": \"white\", \"showbackground\": true, \"ticks\": \"\", \"zerolinecolor\": \"white\"}}, \"shapedefaults\": {\"line\": {\"color\": \"#2a3f5f\"}}, \"ternary\": {\"aaxis\": {\"gridcolor\": \"white\", \"linecolor\": \"white\", \"ticks\": \"\"}, \"baxis\": {\"gridcolor\": \"white\", \"linecolor\": \"white\", \"ticks\": \"\"}, \"bgcolor\": \"#E5ECF6\", \"caxis\": {\"gridcolor\": \"white\", \"linecolor\": \"white\", \"ticks\": \"\"}}, \"title\": {\"x\": 0.05}, \"xaxis\": {\"automargin\": true, \"gridcolor\": \"white\", \"linecolor\": \"white\", \"ticks\": \"\", \"title\": {\"standoff\": 15}, \"zerolinecolor\": \"white\", \"zerolinewidth\": 2}, \"yaxis\": {\"automargin\": true, \"gridcolor\": \"white\", \"linecolor\": \"white\", \"ticks\": \"\", \"title\": {\"standoff\": 15}, \"zerolinecolor\": \"white\", \"zerolinewidth\": 2}}}, \"title\": {\"text\": \"uMAP Plot for Outliers\"}, \"width\": 900, \"xaxis\": {\"anchor\": \"y\", \"domain\": [0.0, 1.0], \"title\": {\"text\": \"0\"}}, \"yaxis\": {\"anchor\": \"x\", \"domain\": [0.0, 1.0], \"title\": {\"text\": \"1\"}}},\n",
       "                        {\"responsive\": true}\n",
       "                    ).then(function(){\n",
       "                            \n",
       "var gd = document.getElementById('8b718dd6-c71c-45e7-8a97-ca59a2ac4703');\n",
       "var x = new MutationObserver(function (mutations, observer) {{\n",
       "        var display = window.getComputedStyle(gd).display;\n",
       "        if (!display || display === 'none') {{\n",
       "            console.log([gd, 'removed!']);\n",
       "            Plotly.purge(gd);\n",
       "            observer.disconnect();\n",
       "        }}\n",
       "}});\n",
       "\n",
       "// Listen for the removal of the full notebook cells\n",
       "var notebookContainer = gd.closest('#notebook-container');\n",
       "if (notebookContainer) {{\n",
       "    x.observe(notebookContainer, {childList: true});\n",
       "}}\n",
       "\n",
       "// Listen for the clearing of the current output cell\n",
       "var outputEl = gd.closest('.output');\n",
       "if (outputEl) {{\n",
       "    x.observe(outputEl, {childList: true});\n",
       "}}\n",
       "\n",
       "                        })\n",
       "                };\n",
       "                });\n",
       "            </script>\n",
       "        </div>"
      ]
     },
     "metadata": {},
     "output_type": "display_data"
    }
   ],
   "source": [
    "# UMAP\n",
    "plot_model(iforest_model, plot='umap')"
   ]
  },
  {
   "cell_type": "markdown",
   "metadata": {},
   "source": [
    "# 推論"
   ]
  },
  {
   "cell_type": "code",
   "execution_count": 12,
   "metadata": {},
   "outputs": [
    {
     "data": {
      "text/html": [
       "<div>\n",
       "<style scoped>\n",
       "    .dataframe tbody tr th:only-of-type {\n",
       "        vertical-align: middle;\n",
       "    }\n",
       "\n",
       "    .dataframe tbody tr th {\n",
       "        vertical-align: top;\n",
       "    }\n",
       "\n",
       "    .dataframe thead th {\n",
       "        text-align: right;\n",
       "    }\n",
       "</style>\n",
       "<table border=\"1\" class=\"dataframe\">\n",
       "  <thead>\n",
       "    <tr style=\"text-align: right;\">\n",
       "      <th></th>\n",
       "      <th>MouseID</th>\n",
       "      <th>DYRK1A_N</th>\n",
       "      <th>ITSN1_N</th>\n",
       "      <th>BDNF_N</th>\n",
       "      <th>NR1_N</th>\n",
       "      <th>NR2A_N</th>\n",
       "      <th>pAKT_N</th>\n",
       "      <th>pBRAF_N</th>\n",
       "      <th>pCAMKII_N</th>\n",
       "      <th>pCREB_N</th>\n",
       "      <th>...</th>\n",
       "      <th>H3AcK18_N</th>\n",
       "      <th>EGR1_N</th>\n",
       "      <th>H3MeK4_N</th>\n",
       "      <th>CaNA_N</th>\n",
       "      <th>Genotype</th>\n",
       "      <th>Treatment</th>\n",
       "      <th>Behavior</th>\n",
       "      <th>class</th>\n",
       "      <th>Label</th>\n",
       "      <th>Score</th>\n",
       "    </tr>\n",
       "  </thead>\n",
       "  <tbody>\n",
       "    <tr>\n",
       "      <th>0</th>\n",
       "      <td>3517_7</td>\n",
       "      <td>0.361782</td>\n",
       "      <td>0.565987</td>\n",
       "      <td>0.376145</td>\n",
       "      <td>2.774771</td>\n",
       "      <td>4.450250</td>\n",
       "      <td>0.262906</td>\n",
       "      <td>0.238968</td>\n",
       "      <td>6.041007</td>\n",
       "      <td>0.229808</td>\n",
       "      <td>...</td>\n",
       "      <td>0.208611</td>\n",
       "      <td>NaN</td>\n",
       "      <td>0.270820</td>\n",
       "      <td>0.782176</td>\n",
       "      <td>Ts65Dn</td>\n",
       "      <td>Saline</td>\n",
       "      <td>S/C</td>\n",
       "      <td>t-SC-s</td>\n",
       "      <td>1</td>\n",
       "      <td>0.020794</td>\n",
       "    </tr>\n",
       "    <tr>\n",
       "      <th>1</th>\n",
       "      <td>3517_8</td>\n",
       "      <td>0.329361</td>\n",
       "      <td>0.503216</td>\n",
       "      <td>0.326145</td>\n",
       "      <td>2.487893</td>\n",
       "      <td>3.925842</td>\n",
       "      <td>0.231177</td>\n",
       "      <td>0.195611</td>\n",
       "      <td>5.337306</td>\n",
       "      <td>0.210556</td>\n",
       "      <td>...</td>\n",
       "      <td>0.211478</td>\n",
       "      <td>NaN</td>\n",
       "      <td>0.255582</td>\n",
       "      <td>0.882451</td>\n",
       "      <td>Ts65Dn</td>\n",
       "      <td>Saline</td>\n",
       "      <td>S/C</td>\n",
       "      <td>t-SC-s</td>\n",
       "      <td>0</td>\n",
       "      <td>-0.054447</td>\n",
       "    </tr>\n",
       "    <tr>\n",
       "      <th>2</th>\n",
       "      <td>3517_9</td>\n",
       "      <td>0.328314</td>\n",
       "      <td>0.500465</td>\n",
       "      <td>0.363265</td>\n",
       "      <td>2.409370</td>\n",
       "      <td>3.796988</td>\n",
       "      <td>0.226250</td>\n",
       "      <td>0.187024</td>\n",
       "      <td>5.330917</td>\n",
       "      <td>0.203198</td>\n",
       "      <td>...</td>\n",
       "      <td>0.201974</td>\n",
       "      <td>NaN</td>\n",
       "      <td>0.241815</td>\n",
       "      <td>0.881029</td>\n",
       "      <td>Ts65Dn</td>\n",
       "      <td>Saline</td>\n",
       "      <td>S/C</td>\n",
       "      <td>t-SC-s</td>\n",
       "      <td>0</td>\n",
       "      <td>-0.076923</td>\n",
       "    </tr>\n",
       "    <tr>\n",
       "      <th>3</th>\n",
       "      <td>3517_10</td>\n",
       "      <td>0.377490</td>\n",
       "      <td>0.528331</td>\n",
       "      <td>0.379560</td>\n",
       "      <td>2.689263</td>\n",
       "      <td>3.978008</td>\n",
       "      <td>0.266753</td>\n",
       "      <td>0.229495</td>\n",
       "      <td>5.441138</td>\n",
       "      <td>0.227684</td>\n",
       "      <td>...</td>\n",
       "      <td>0.262620</td>\n",
       "      <td>NaN</td>\n",
       "      <td>0.262620</td>\n",
       "      <td>0.781328</td>\n",
       "      <td>Ts65Dn</td>\n",
       "      <td>Saline</td>\n",
       "      <td>S/C</td>\n",
       "      <td>t-SC-s</td>\n",
       "      <td>1</td>\n",
       "      <td>0.040390</td>\n",
       "    </tr>\n",
       "    <tr>\n",
       "      <th>4</th>\n",
       "      <td>3517_11</td>\n",
       "      <td>0.367813</td>\n",
       "      <td>0.478322</td>\n",
       "      <td>0.346371</td>\n",
       "      <td>2.356975</td>\n",
       "      <td>3.561499</td>\n",
       "      <td>0.252121</td>\n",
       "      <td>0.226437</td>\n",
       "      <td>4.868520</td>\n",
       "      <td>0.204288</td>\n",
       "      <td>...</td>\n",
       "      <td>0.264670</td>\n",
       "      <td>NaN</td>\n",
       "      <td>0.247165</td>\n",
       "      <td>0.783654</td>\n",
       "      <td>Ts65Dn</td>\n",
       "      <td>Saline</td>\n",
       "      <td>S/C</td>\n",
       "      <td>t-SC-s</td>\n",
       "      <td>0</td>\n",
       "      <td>-0.045889</td>\n",
       "    </tr>\n",
       "  </tbody>\n",
       "</table>\n",
       "<p>5 rows × 84 columns</p>\n",
       "</div>"
      ],
      "text/plain": [
       "   MouseID  DYRK1A_N   ITSN1_N    BDNF_N     NR1_N    NR2A_N    pAKT_N  \\\n",
       "0   3517_7  0.361782  0.565987  0.376145  2.774771  4.450250  0.262906   \n",
       "1   3517_8  0.329361  0.503216  0.326145  2.487893  3.925842  0.231177   \n",
       "2   3517_9  0.328314  0.500465  0.363265  2.409370  3.796988  0.226250   \n",
       "3  3517_10  0.377490  0.528331  0.379560  2.689263  3.978008  0.266753   \n",
       "4  3517_11  0.367813  0.478322  0.346371  2.356975  3.561499  0.252121   \n",
       "\n",
       "    pBRAF_N  pCAMKII_N   pCREB_N  ...  H3AcK18_N  EGR1_N  H3MeK4_N    CaNA_N  \\\n",
       "0  0.238968   6.041007  0.229808  ...   0.208611     NaN  0.270820  0.782176   \n",
       "1  0.195611   5.337306  0.210556  ...   0.211478     NaN  0.255582  0.882451   \n",
       "2  0.187024   5.330917  0.203198  ...   0.201974     NaN  0.241815  0.881029   \n",
       "3  0.229495   5.441138  0.227684  ...   0.262620     NaN  0.262620  0.781328   \n",
       "4  0.226437   4.868520  0.204288  ...   0.264670     NaN  0.247165  0.783654   \n",
       "\n",
       "   Genotype  Treatment  Behavior   class  Label     Score  \n",
       "0    Ts65Dn     Saline       S/C  t-SC-s      1  0.020794  \n",
       "1    Ts65Dn     Saline       S/C  t-SC-s      0 -0.054447  \n",
       "2    Ts65Dn     Saline       S/C  t-SC-s      0 -0.076923  \n",
       "3    Ts65Dn     Saline       S/C  t-SC-s      1  0.040390  \n",
       "4    Ts65Dn     Saline       S/C  t-SC-s      0 -0.045889  \n",
       "\n",
       "[5 rows x 84 columns]"
      ]
     },
     "execution_count": 12,
     "metadata": {},
     "output_type": "execute_result"
    }
   ],
   "source": [
    "predictions = predict_model(iforest_model, data=test_data)\n",
    "predictions.head()"
   ]
  },
  {
   "cell_type": "markdown",
   "metadata": {},
   "source": [
    "# モデルの保存/読み込み"
   ]
  },
  {
   "cell_type": "code",
   "execution_count": 13,
   "metadata": {},
   "outputs": [
    {
     "name": "stdout",
     "output_type": "stream",
     "text": [
      "Transformation Pipeline and Model Succesfully Saved\n"
     ]
    }
   ],
   "source": [
    "# モデル保存\n",
    "save_model(iforest_model, 'iForestAnomalyDetectionModel')"
   ]
  },
  {
   "cell_type": "code",
   "execution_count": 14,
   "metadata": {},
   "outputs": [
    {
     "name": "stdout",
     "output_type": "stream",
     "text": [
      "Transformation Pipeline and Model Sucessfully Loaded\n"
     ]
    }
   ],
   "source": [
    "# モデル読み込み\n",
    "load_iforest_model = load_model('iForestAnomalyDetectionModel')"
   ]
  },
  {
   "cell_type": "code",
   "execution_count": 15,
   "metadata": {},
   "outputs": [
    {
     "data": {
      "text/html": [
       "<div>\n",
       "<style scoped>\n",
       "    .dataframe tbody tr th:only-of-type {\n",
       "        vertical-align: middle;\n",
       "    }\n",
       "\n",
       "    .dataframe tbody tr th {\n",
       "        vertical-align: top;\n",
       "    }\n",
       "\n",
       "    .dataframe thead th {\n",
       "        text-align: right;\n",
       "    }\n",
       "</style>\n",
       "<table border=\"1\" class=\"dataframe\">\n",
       "  <thead>\n",
       "    <tr style=\"text-align: right;\">\n",
       "      <th></th>\n",
       "      <th>MouseID</th>\n",
       "      <th>DYRK1A_N</th>\n",
       "      <th>ITSN1_N</th>\n",
       "      <th>BDNF_N</th>\n",
       "      <th>NR1_N</th>\n",
       "      <th>NR2A_N</th>\n",
       "      <th>pAKT_N</th>\n",
       "      <th>pBRAF_N</th>\n",
       "      <th>pCAMKII_N</th>\n",
       "      <th>pCREB_N</th>\n",
       "      <th>...</th>\n",
       "      <th>H3AcK18_N</th>\n",
       "      <th>EGR1_N</th>\n",
       "      <th>H3MeK4_N</th>\n",
       "      <th>CaNA_N</th>\n",
       "      <th>Genotype</th>\n",
       "      <th>Treatment</th>\n",
       "      <th>Behavior</th>\n",
       "      <th>class</th>\n",
       "      <th>Label</th>\n",
       "      <th>Score</th>\n",
       "    </tr>\n",
       "  </thead>\n",
       "  <tbody>\n",
       "    <tr>\n",
       "      <th>0</th>\n",
       "      <td>3517_7</td>\n",
       "      <td>0.361782</td>\n",
       "      <td>0.565987</td>\n",
       "      <td>0.376145</td>\n",
       "      <td>2.774771</td>\n",
       "      <td>4.450250</td>\n",
       "      <td>0.262906</td>\n",
       "      <td>0.238968</td>\n",
       "      <td>6.041007</td>\n",
       "      <td>0.229808</td>\n",
       "      <td>...</td>\n",
       "      <td>0.208611</td>\n",
       "      <td>NaN</td>\n",
       "      <td>0.270820</td>\n",
       "      <td>0.782176</td>\n",
       "      <td>Ts65Dn</td>\n",
       "      <td>Saline</td>\n",
       "      <td>S/C</td>\n",
       "      <td>t-SC-s</td>\n",
       "      <td>1</td>\n",
       "      <td>0.020794</td>\n",
       "    </tr>\n",
       "    <tr>\n",
       "      <th>1</th>\n",
       "      <td>3517_8</td>\n",
       "      <td>0.329361</td>\n",
       "      <td>0.503216</td>\n",
       "      <td>0.326145</td>\n",
       "      <td>2.487893</td>\n",
       "      <td>3.925842</td>\n",
       "      <td>0.231177</td>\n",
       "      <td>0.195611</td>\n",
       "      <td>5.337306</td>\n",
       "      <td>0.210556</td>\n",
       "      <td>...</td>\n",
       "      <td>0.211478</td>\n",
       "      <td>NaN</td>\n",
       "      <td>0.255582</td>\n",
       "      <td>0.882451</td>\n",
       "      <td>Ts65Dn</td>\n",
       "      <td>Saline</td>\n",
       "      <td>S/C</td>\n",
       "      <td>t-SC-s</td>\n",
       "      <td>0</td>\n",
       "      <td>-0.054447</td>\n",
       "    </tr>\n",
       "    <tr>\n",
       "      <th>2</th>\n",
       "      <td>3517_9</td>\n",
       "      <td>0.328314</td>\n",
       "      <td>0.500465</td>\n",
       "      <td>0.363265</td>\n",
       "      <td>2.409370</td>\n",
       "      <td>3.796988</td>\n",
       "      <td>0.226250</td>\n",
       "      <td>0.187024</td>\n",
       "      <td>5.330917</td>\n",
       "      <td>0.203198</td>\n",
       "      <td>...</td>\n",
       "      <td>0.201974</td>\n",
       "      <td>NaN</td>\n",
       "      <td>0.241815</td>\n",
       "      <td>0.881029</td>\n",
       "      <td>Ts65Dn</td>\n",
       "      <td>Saline</td>\n",
       "      <td>S/C</td>\n",
       "      <td>t-SC-s</td>\n",
       "      <td>0</td>\n",
       "      <td>-0.076923</td>\n",
       "    </tr>\n",
       "    <tr>\n",
       "      <th>3</th>\n",
       "      <td>3517_10</td>\n",
       "      <td>0.377490</td>\n",
       "      <td>0.528331</td>\n",
       "      <td>0.379560</td>\n",
       "      <td>2.689263</td>\n",
       "      <td>3.978008</td>\n",
       "      <td>0.266753</td>\n",
       "      <td>0.229495</td>\n",
       "      <td>5.441138</td>\n",
       "      <td>0.227684</td>\n",
       "      <td>...</td>\n",
       "      <td>0.262620</td>\n",
       "      <td>NaN</td>\n",
       "      <td>0.262620</td>\n",
       "      <td>0.781328</td>\n",
       "      <td>Ts65Dn</td>\n",
       "      <td>Saline</td>\n",
       "      <td>S/C</td>\n",
       "      <td>t-SC-s</td>\n",
       "      <td>1</td>\n",
       "      <td>0.040390</td>\n",
       "    </tr>\n",
       "    <tr>\n",
       "      <th>4</th>\n",
       "      <td>3517_11</td>\n",
       "      <td>0.367813</td>\n",
       "      <td>0.478322</td>\n",
       "      <td>0.346371</td>\n",
       "      <td>2.356975</td>\n",
       "      <td>3.561499</td>\n",
       "      <td>0.252121</td>\n",
       "      <td>0.226437</td>\n",
       "      <td>4.868520</td>\n",
       "      <td>0.204288</td>\n",
       "      <td>...</td>\n",
       "      <td>0.264670</td>\n",
       "      <td>NaN</td>\n",
       "      <td>0.247165</td>\n",
       "      <td>0.783654</td>\n",
       "      <td>Ts65Dn</td>\n",
       "      <td>Saline</td>\n",
       "      <td>S/C</td>\n",
       "      <td>t-SC-s</td>\n",
       "      <td>0</td>\n",
       "      <td>-0.045889</td>\n",
       "    </tr>\n",
       "  </tbody>\n",
       "</table>\n",
       "<p>5 rows × 84 columns</p>\n",
       "</div>"
      ],
      "text/plain": [
       "   MouseID  DYRK1A_N   ITSN1_N    BDNF_N     NR1_N    NR2A_N    pAKT_N  \\\n",
       "0   3517_7  0.361782  0.565987  0.376145  2.774771  4.450250  0.262906   \n",
       "1   3517_8  0.329361  0.503216  0.326145  2.487893  3.925842  0.231177   \n",
       "2   3517_9  0.328314  0.500465  0.363265  2.409370  3.796988  0.226250   \n",
       "3  3517_10  0.377490  0.528331  0.379560  2.689263  3.978008  0.266753   \n",
       "4  3517_11  0.367813  0.478322  0.346371  2.356975  3.561499  0.252121   \n",
       "\n",
       "    pBRAF_N  pCAMKII_N   pCREB_N  ...  H3AcK18_N  EGR1_N  H3MeK4_N    CaNA_N  \\\n",
       "0  0.238968   6.041007  0.229808  ...   0.208611     NaN  0.270820  0.782176   \n",
       "1  0.195611   5.337306  0.210556  ...   0.211478     NaN  0.255582  0.882451   \n",
       "2  0.187024   5.330917  0.203198  ...   0.201974     NaN  0.241815  0.881029   \n",
       "3  0.229495   5.441138  0.227684  ...   0.262620     NaN  0.262620  0.781328   \n",
       "4  0.226437   4.868520  0.204288  ...   0.264670     NaN  0.247165  0.783654   \n",
       "\n",
       "   Genotype  Treatment  Behavior   class  Label     Score  \n",
       "0    Ts65Dn     Saline       S/C  t-SC-s      1  0.020794  \n",
       "1    Ts65Dn     Saline       S/C  t-SC-s      0 -0.054447  \n",
       "2    Ts65Dn     Saline       S/C  t-SC-s      0 -0.076923  \n",
       "3    Ts65Dn     Saline       S/C  t-SC-s      1  0.040390  \n",
       "4    Ts65Dn     Saline       S/C  t-SC-s      0 -0.045889  \n",
       "\n",
       "[5 rows x 84 columns]"
      ]
     },
     "execution_count": 15,
     "metadata": {},
     "output_type": "execute_result"
    }
   ],
   "source": [
    "# ロードしたモデルでの推論\n",
    "predictions = predict_model(load_iforest_model, data=test_data)\n",
    "predictions.head()"
   ]
  },
  {
   "cell_type": "markdown",
   "metadata": {},
   "source": [
    "# 実験全体の保存/読み込み\n",
    "すべての出力とモデルを含む実験全体を保存可能"
   ]
  },
  {
   "cell_type": "code",
   "execution_count": 16,
   "metadata": {},
   "outputs": [
    {
     "name": "stdout",
     "output_type": "stream",
     "text": [
      "Experiment Succesfully Saved\n"
     ]
    }
   ],
   "source": [
    "# 保存\n",
    "save_experiment('AnomalyDetectionExperiment')"
   ]
  },
  {
   "cell_type": "code",
   "execution_count": 17,
   "metadata": {},
   "outputs": [
    {
     "data": {
      "text/html": [
       "<div>\n",
       "<style scoped>\n",
       "    .dataframe tbody tr th:only-of-type {\n",
       "        vertical-align: middle;\n",
       "    }\n",
       "\n",
       "    .dataframe tbody tr th {\n",
       "        vertical-align: top;\n",
       "    }\n",
       "\n",
       "    .dataframe thead th {\n",
       "        text-align: right;\n",
       "    }\n",
       "</style>\n",
       "<table border=\"1\" class=\"dataframe\">\n",
       "  <thead>\n",
       "    <tr style=\"text-align: right;\">\n",
       "      <th></th>\n",
       "      <th>Object</th>\n",
       "    </tr>\n",
       "  </thead>\n",
       "  <tbody>\n",
       "    <tr>\n",
       "      <th>0</th>\n",
       "      <td>Anomaly Setup Config</td>\n",
       "    </tr>\n",
       "    <tr>\n",
       "      <th>1</th>\n",
       "      <td>Orignal Dataset</td>\n",
       "    </tr>\n",
       "    <tr>\n",
       "      <th>2</th>\n",
       "      <td>Transformed Dataset</td>\n",
       "    </tr>\n",
       "    <tr>\n",
       "      <th>3</th>\n",
       "      <td>Transformation Pipeline</td>\n",
       "    </tr>\n",
       "    <tr>\n",
       "      <th>4</th>\n",
       "      <td>Isolation Forest</td>\n",
       "    </tr>\n",
       "    <tr>\n",
       "      <th>5</th>\n",
       "      <td>Assigned Isolation Forest</td>\n",
       "    </tr>\n",
       "  </tbody>\n",
       "</table>\n",
       "</div>"
      ],
      "text/plain": [
       "                      Object\n",
       "0       Anomaly Setup Config\n",
       "1            Orignal Dataset\n",
       "2        Transformed Dataset\n",
       "3    Transformation Pipeline\n",
       "4           Isolation Forest\n",
       "5  Assigned Isolation Forest"
      ]
     },
     "metadata": {},
     "output_type": "display_data"
    }
   ],
   "source": [
    "# 読み込み\n",
    "experiment = load_experiment('AnomalyDetectionExperiment')"
   ]
  },
  {
   "cell_type": "code",
   "execution_count": 18,
   "metadata": {},
   "outputs": [],
   "source": [
    "# 任意の実行結果を取り出し\n",
    "experiment_loaded_model = experiment[4]  # Isolation Forest"
   ]
  },
  {
   "cell_type": "code",
   "execution_count": 19,
   "metadata": {},
   "outputs": [
    {
     "data": {
      "text/html": [
       "<div>\n",
       "<style scoped>\n",
       "    .dataframe tbody tr th:only-of-type {\n",
       "        vertical-align: middle;\n",
       "    }\n",
       "\n",
       "    .dataframe tbody tr th {\n",
       "        vertical-align: top;\n",
       "    }\n",
       "\n",
       "    .dataframe thead th {\n",
       "        text-align: right;\n",
       "    }\n",
       "</style>\n",
       "<table border=\"1\" class=\"dataframe\">\n",
       "  <thead>\n",
       "    <tr style=\"text-align: right;\">\n",
       "      <th></th>\n",
       "      <th>MouseID</th>\n",
       "      <th>DYRK1A_N</th>\n",
       "      <th>ITSN1_N</th>\n",
       "      <th>BDNF_N</th>\n",
       "      <th>NR1_N</th>\n",
       "      <th>NR2A_N</th>\n",
       "      <th>pAKT_N</th>\n",
       "      <th>pBRAF_N</th>\n",
       "      <th>pCAMKII_N</th>\n",
       "      <th>pCREB_N</th>\n",
       "      <th>...</th>\n",
       "      <th>H3AcK18_N</th>\n",
       "      <th>EGR1_N</th>\n",
       "      <th>H3MeK4_N</th>\n",
       "      <th>CaNA_N</th>\n",
       "      <th>Genotype</th>\n",
       "      <th>Treatment</th>\n",
       "      <th>Behavior</th>\n",
       "      <th>class</th>\n",
       "      <th>Label</th>\n",
       "      <th>Score</th>\n",
       "    </tr>\n",
       "  </thead>\n",
       "  <tbody>\n",
       "    <tr>\n",
       "      <th>0</th>\n",
       "      <td>3517_7</td>\n",
       "      <td>0.361782</td>\n",
       "      <td>0.565987</td>\n",
       "      <td>0.376145</td>\n",
       "      <td>2.774771</td>\n",
       "      <td>4.450250</td>\n",
       "      <td>0.262906</td>\n",
       "      <td>0.238968</td>\n",
       "      <td>6.041007</td>\n",
       "      <td>0.229808</td>\n",
       "      <td>...</td>\n",
       "      <td>0.208611</td>\n",
       "      <td>NaN</td>\n",
       "      <td>0.270820</td>\n",
       "      <td>0.782176</td>\n",
       "      <td>Ts65Dn</td>\n",
       "      <td>Saline</td>\n",
       "      <td>S/C</td>\n",
       "      <td>t-SC-s</td>\n",
       "      <td>1</td>\n",
       "      <td>0.020794</td>\n",
       "    </tr>\n",
       "    <tr>\n",
       "      <th>1</th>\n",
       "      <td>3517_8</td>\n",
       "      <td>0.329361</td>\n",
       "      <td>0.503216</td>\n",
       "      <td>0.326145</td>\n",
       "      <td>2.487893</td>\n",
       "      <td>3.925842</td>\n",
       "      <td>0.231177</td>\n",
       "      <td>0.195611</td>\n",
       "      <td>5.337306</td>\n",
       "      <td>0.210556</td>\n",
       "      <td>...</td>\n",
       "      <td>0.211478</td>\n",
       "      <td>NaN</td>\n",
       "      <td>0.255582</td>\n",
       "      <td>0.882451</td>\n",
       "      <td>Ts65Dn</td>\n",
       "      <td>Saline</td>\n",
       "      <td>S/C</td>\n",
       "      <td>t-SC-s</td>\n",
       "      <td>0</td>\n",
       "      <td>-0.054447</td>\n",
       "    </tr>\n",
       "    <tr>\n",
       "      <th>2</th>\n",
       "      <td>3517_9</td>\n",
       "      <td>0.328314</td>\n",
       "      <td>0.500465</td>\n",
       "      <td>0.363265</td>\n",
       "      <td>2.409370</td>\n",
       "      <td>3.796988</td>\n",
       "      <td>0.226250</td>\n",
       "      <td>0.187024</td>\n",
       "      <td>5.330917</td>\n",
       "      <td>0.203198</td>\n",
       "      <td>...</td>\n",
       "      <td>0.201974</td>\n",
       "      <td>NaN</td>\n",
       "      <td>0.241815</td>\n",
       "      <td>0.881029</td>\n",
       "      <td>Ts65Dn</td>\n",
       "      <td>Saline</td>\n",
       "      <td>S/C</td>\n",
       "      <td>t-SC-s</td>\n",
       "      <td>0</td>\n",
       "      <td>-0.076923</td>\n",
       "    </tr>\n",
       "    <tr>\n",
       "      <th>3</th>\n",
       "      <td>3517_10</td>\n",
       "      <td>0.377490</td>\n",
       "      <td>0.528331</td>\n",
       "      <td>0.379560</td>\n",
       "      <td>2.689263</td>\n",
       "      <td>3.978008</td>\n",
       "      <td>0.266753</td>\n",
       "      <td>0.229495</td>\n",
       "      <td>5.441138</td>\n",
       "      <td>0.227684</td>\n",
       "      <td>...</td>\n",
       "      <td>0.262620</td>\n",
       "      <td>NaN</td>\n",
       "      <td>0.262620</td>\n",
       "      <td>0.781328</td>\n",
       "      <td>Ts65Dn</td>\n",
       "      <td>Saline</td>\n",
       "      <td>S/C</td>\n",
       "      <td>t-SC-s</td>\n",
       "      <td>1</td>\n",
       "      <td>0.040390</td>\n",
       "    </tr>\n",
       "    <tr>\n",
       "      <th>4</th>\n",
       "      <td>3517_11</td>\n",
       "      <td>0.367813</td>\n",
       "      <td>0.478322</td>\n",
       "      <td>0.346371</td>\n",
       "      <td>2.356975</td>\n",
       "      <td>3.561499</td>\n",
       "      <td>0.252121</td>\n",
       "      <td>0.226437</td>\n",
       "      <td>4.868520</td>\n",
       "      <td>0.204288</td>\n",
       "      <td>...</td>\n",
       "      <td>0.264670</td>\n",
       "      <td>NaN</td>\n",
       "      <td>0.247165</td>\n",
       "      <td>0.783654</td>\n",
       "      <td>Ts65Dn</td>\n",
       "      <td>Saline</td>\n",
       "      <td>S/C</td>\n",
       "      <td>t-SC-s</td>\n",
       "      <td>0</td>\n",
       "      <td>-0.045889</td>\n",
       "    </tr>\n",
       "  </tbody>\n",
       "</table>\n",
       "<p>5 rows × 84 columns</p>\n",
       "</div>"
      ],
      "text/plain": [
       "   MouseID  DYRK1A_N   ITSN1_N    BDNF_N     NR1_N    NR2A_N    pAKT_N  \\\n",
       "0   3517_7  0.361782  0.565987  0.376145  2.774771  4.450250  0.262906   \n",
       "1   3517_8  0.329361  0.503216  0.326145  2.487893  3.925842  0.231177   \n",
       "2   3517_9  0.328314  0.500465  0.363265  2.409370  3.796988  0.226250   \n",
       "3  3517_10  0.377490  0.528331  0.379560  2.689263  3.978008  0.266753   \n",
       "4  3517_11  0.367813  0.478322  0.346371  2.356975  3.561499  0.252121   \n",
       "\n",
       "    pBRAF_N  pCAMKII_N   pCREB_N  ...  H3AcK18_N  EGR1_N  H3MeK4_N    CaNA_N  \\\n",
       "0  0.238968   6.041007  0.229808  ...   0.208611     NaN  0.270820  0.782176   \n",
       "1  0.195611   5.337306  0.210556  ...   0.211478     NaN  0.255582  0.882451   \n",
       "2  0.187024   5.330917  0.203198  ...   0.201974     NaN  0.241815  0.881029   \n",
       "3  0.229495   5.441138  0.227684  ...   0.262620     NaN  0.262620  0.781328   \n",
       "4  0.226437   4.868520  0.204288  ...   0.264670     NaN  0.247165  0.783654   \n",
       "\n",
       "   Genotype  Treatment  Behavior   class  Label     Score  \n",
       "0    Ts65Dn     Saline       S/C  t-SC-s      1  0.020794  \n",
       "1    Ts65Dn     Saline       S/C  t-SC-s      0 -0.054447  \n",
       "2    Ts65Dn     Saline       S/C  t-SC-s      0 -0.076923  \n",
       "3    Ts65Dn     Saline       S/C  t-SC-s      1  0.040390  \n",
       "4    Ts65Dn     Saline       S/C  t-SC-s      0 -0.045889  \n",
       "\n",
       "[5 rows x 84 columns]"
      ]
     },
     "execution_count": 19,
     "metadata": {},
     "output_type": "execute_result"
    }
   ],
   "source": [
    "predictions = predict_model(experiment_loaded_model, data=test_data)\n",
    "predictions.head()"
   ]
  },
  {
   "cell_type": "code",
   "execution_count": 20,
   "metadata": {},
   "outputs": [
    {
     "data": {
      "text/html": [
       "<div>\n",
       "<style scoped>\n",
       "    .dataframe tbody tr th:only-of-type {\n",
       "        vertical-align: middle;\n",
       "    }\n",
       "\n",
       "    .dataframe tbody tr th {\n",
       "        vertical-align: top;\n",
       "    }\n",
       "\n",
       "    .dataframe thead th {\n",
       "        text-align: right;\n",
       "    }\n",
       "</style>\n",
       "<table border=\"1\" class=\"dataframe\">\n",
       "  <thead>\n",
       "    <tr style=\"text-align: right;\">\n",
       "      <th></th>\n",
       "      <th>MouseID</th>\n",
       "      <th>DYRK1A_N</th>\n",
       "      <th>ITSN1_N</th>\n",
       "      <th>BDNF_N</th>\n",
       "      <th>NR1_N</th>\n",
       "      <th>NR2A_N</th>\n",
       "      <th>pAKT_N</th>\n",
       "      <th>pBRAF_N</th>\n",
       "      <th>pCAMKII_N</th>\n",
       "      <th>pCREB_N</th>\n",
       "      <th>...</th>\n",
       "      <th>H3AcK18_N</th>\n",
       "      <th>EGR1_N</th>\n",
       "      <th>H3MeK4_N</th>\n",
       "      <th>CaNA_N</th>\n",
       "      <th>Genotype</th>\n",
       "      <th>Treatment</th>\n",
       "      <th>Behavior</th>\n",
       "      <th>class</th>\n",
       "      <th>Label</th>\n",
       "      <th>Score</th>\n",
       "    </tr>\n",
       "  </thead>\n",
       "  <tbody>\n",
       "    <tr>\n",
       "      <th>0</th>\n",
       "      <td>3517_7</td>\n",
       "      <td>0.361782</td>\n",
       "      <td>0.565987</td>\n",
       "      <td>0.376145</td>\n",
       "      <td>2.774771</td>\n",
       "      <td>4.450250</td>\n",
       "      <td>0.262906</td>\n",
       "      <td>0.238968</td>\n",
       "      <td>6.041007</td>\n",
       "      <td>0.229808</td>\n",
       "      <td>...</td>\n",
       "      <td>0.208611</td>\n",
       "      <td>NaN</td>\n",
       "      <td>0.270820</td>\n",
       "      <td>0.782176</td>\n",
       "      <td>Ts65Dn</td>\n",
       "      <td>Saline</td>\n",
       "      <td>S/C</td>\n",
       "      <td>t-SC-s</td>\n",
       "      <td>1</td>\n",
       "      <td>0.020794</td>\n",
       "    </tr>\n",
       "    <tr>\n",
       "      <th>1</th>\n",
       "      <td>3517_8</td>\n",
       "      <td>0.329361</td>\n",
       "      <td>0.503216</td>\n",
       "      <td>0.326145</td>\n",
       "      <td>2.487893</td>\n",
       "      <td>3.925842</td>\n",
       "      <td>0.231177</td>\n",
       "      <td>0.195611</td>\n",
       "      <td>5.337306</td>\n",
       "      <td>0.210556</td>\n",
       "      <td>...</td>\n",
       "      <td>0.211478</td>\n",
       "      <td>NaN</td>\n",
       "      <td>0.255582</td>\n",
       "      <td>0.882451</td>\n",
       "      <td>Ts65Dn</td>\n",
       "      <td>Saline</td>\n",
       "      <td>S/C</td>\n",
       "      <td>t-SC-s</td>\n",
       "      <td>0</td>\n",
       "      <td>-0.054447</td>\n",
       "    </tr>\n",
       "    <tr>\n",
       "      <th>2</th>\n",
       "      <td>3517_9</td>\n",
       "      <td>0.328314</td>\n",
       "      <td>0.500465</td>\n",
       "      <td>0.363265</td>\n",
       "      <td>2.409370</td>\n",
       "      <td>3.796988</td>\n",
       "      <td>0.226250</td>\n",
       "      <td>0.187024</td>\n",
       "      <td>5.330917</td>\n",
       "      <td>0.203198</td>\n",
       "      <td>...</td>\n",
       "      <td>0.201974</td>\n",
       "      <td>NaN</td>\n",
       "      <td>0.241815</td>\n",
       "      <td>0.881029</td>\n",
       "      <td>Ts65Dn</td>\n",
       "      <td>Saline</td>\n",
       "      <td>S/C</td>\n",
       "      <td>t-SC-s</td>\n",
       "      <td>0</td>\n",
       "      <td>-0.076923</td>\n",
       "    </tr>\n",
       "    <tr>\n",
       "      <th>3</th>\n",
       "      <td>3517_10</td>\n",
       "      <td>0.377490</td>\n",
       "      <td>0.528331</td>\n",
       "      <td>0.379560</td>\n",
       "      <td>2.689263</td>\n",
       "      <td>3.978008</td>\n",
       "      <td>0.266753</td>\n",
       "      <td>0.229495</td>\n",
       "      <td>5.441138</td>\n",
       "      <td>0.227684</td>\n",
       "      <td>...</td>\n",
       "      <td>0.262620</td>\n",
       "      <td>NaN</td>\n",
       "      <td>0.262620</td>\n",
       "      <td>0.781328</td>\n",
       "      <td>Ts65Dn</td>\n",
       "      <td>Saline</td>\n",
       "      <td>S/C</td>\n",
       "      <td>t-SC-s</td>\n",
       "      <td>1</td>\n",
       "      <td>0.040390</td>\n",
       "    </tr>\n",
       "    <tr>\n",
       "      <th>4</th>\n",
       "      <td>3517_11</td>\n",
       "      <td>0.367813</td>\n",
       "      <td>0.478322</td>\n",
       "      <td>0.346371</td>\n",
       "      <td>2.356975</td>\n",
       "      <td>3.561499</td>\n",
       "      <td>0.252121</td>\n",
       "      <td>0.226437</td>\n",
       "      <td>4.868520</td>\n",
       "      <td>0.204288</td>\n",
       "      <td>...</td>\n",
       "      <td>0.264670</td>\n",
       "      <td>NaN</td>\n",
       "      <td>0.247165</td>\n",
       "      <td>0.783654</td>\n",
       "      <td>Ts65Dn</td>\n",
       "      <td>Saline</td>\n",
       "      <td>S/C</td>\n",
       "      <td>t-SC-s</td>\n",
       "      <td>0</td>\n",
       "      <td>-0.045889</td>\n",
       "    </tr>\n",
       "  </tbody>\n",
       "</table>\n",
       "<p>5 rows × 84 columns</p>\n",
       "</div>"
      ],
      "text/plain": [
       "   MouseID  DYRK1A_N   ITSN1_N    BDNF_N     NR1_N    NR2A_N    pAKT_N  \\\n",
       "0   3517_7  0.361782  0.565987  0.376145  2.774771  4.450250  0.262906   \n",
       "1   3517_8  0.329361  0.503216  0.326145  2.487893  3.925842  0.231177   \n",
       "2   3517_9  0.328314  0.500465  0.363265  2.409370  3.796988  0.226250   \n",
       "3  3517_10  0.377490  0.528331  0.379560  2.689263  3.978008  0.266753   \n",
       "4  3517_11  0.367813  0.478322  0.346371  2.356975  3.561499  0.252121   \n",
       "\n",
       "    pBRAF_N  pCAMKII_N   pCREB_N  ...  H3AcK18_N  EGR1_N  H3MeK4_N    CaNA_N  \\\n",
       "0  0.238968   6.041007  0.229808  ...   0.208611     NaN  0.270820  0.782176   \n",
       "1  0.195611   5.337306  0.210556  ...   0.211478     NaN  0.255582  0.882451   \n",
       "2  0.187024   5.330917  0.203198  ...   0.201974     NaN  0.241815  0.881029   \n",
       "3  0.229495   5.441138  0.227684  ...   0.262620     NaN  0.262620  0.781328   \n",
       "4  0.226437   4.868520  0.204288  ...   0.264670     NaN  0.247165  0.783654   \n",
       "\n",
       "   Genotype  Treatment  Behavior   class  Label     Score  \n",
       "0    Ts65Dn     Saline       S/C  t-SC-s      1  0.020794  \n",
       "1    Ts65Dn     Saline       S/C  t-SC-s      0 -0.054447  \n",
       "2    Ts65Dn     Saline       S/C  t-SC-s      0 -0.076923  \n",
       "3    Ts65Dn     Saline       S/C  t-SC-s      1  0.040390  \n",
       "4    Ts65Dn     Saline       S/C  t-SC-s      0 -0.045889  \n",
       "\n",
       "[5 rows x 84 columns]"
      ]
     },
     "execution_count": 20,
     "metadata": {},
     "output_type": "execute_result"
    }
   ],
   "source": [
    "predictions = predict_model(iforest_model, data=test_data)\n",
    "predictions.head()"
   ]
  }
 ],
 "metadata": {
  "kernelspec": {
   "display_name": "pycaret",
   "language": "python",
   "name": "pycaret"
  },
  "language_info": {
   "codemirror_mode": {
    "name": "ipython",
    "version": 3
   },
   "file_extension": ".py",
   "mimetype": "text/x-python",
   "name": "python",
   "nbconvert_exporter": "python",
   "pygments_lexer": "ipython3",
   "version": "3.7.7"
  }
 },
 "nbformat": 4,
 "nbformat_minor": 4
}
